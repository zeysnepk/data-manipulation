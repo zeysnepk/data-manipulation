{
 "cells": [
  {
   "cell_type": "markdown",
   "id": "163487cf-e688-41ba-b709-5cea3f4dab27",
   "metadata": {},
   "source": [
    "#### » 👓 Basic Plotting With yfinance"
   ]
  },
  {
   "cell_type": "markdown",
   "id": "c23d6c77-9e14-40ce-bfbf-352d889adc1e",
   "metadata": {},
   "source": [
    "#### » Importing yfinance library"
   ]
  },
  {
   "cell_type": "code",
   "execution_count": 16,
   "id": "1c952e45-69e9-4350-96a9-9a3337b3942f",
   "metadata": {
    "collapsed": true,
    "jupyter": {
     "outputs_hidden": true
    }
   },
   "outputs": [
    {
     "name": "stdout",
     "output_type": "stream",
     "text": [
      "Requirement already satisfied: pandas_datareader in /opt/anaconda3/lib/python3.13/site-packages (0.10.0)\n",
      "Requirement already satisfied: lxml in /opt/anaconda3/lib/python3.13/site-packages (from pandas_datareader) (5.3.0)\n",
      "Requirement already satisfied: pandas>=0.23 in /opt/anaconda3/lib/python3.13/site-packages (from pandas_datareader) (2.2.3)\n",
      "Requirement already satisfied: requests>=2.19.0 in /opt/anaconda3/lib/python3.13/site-packages (from pandas_datareader) (2.32.3)\n",
      "Requirement already satisfied: numpy>=1.26.0 in /opt/anaconda3/lib/python3.13/site-packages (from pandas>=0.23->pandas_datareader) (2.1.3)\n",
      "Requirement already satisfied: python-dateutil>=2.8.2 in /opt/anaconda3/lib/python3.13/site-packages (from pandas>=0.23->pandas_datareader) (2.9.0.post0)\n",
      "Requirement already satisfied: pytz>=2020.1 in /opt/anaconda3/lib/python3.13/site-packages (from pandas>=0.23->pandas_datareader) (2024.1)\n",
      "Requirement already satisfied: tzdata>=2022.7 in /opt/anaconda3/lib/python3.13/site-packages (from pandas>=0.23->pandas_datareader) (2025.2)\n",
      "Requirement already satisfied: six>=1.5 in /opt/anaconda3/lib/python3.13/site-packages (from python-dateutil>=2.8.2->pandas>=0.23->pandas_datareader) (1.17.0)\n",
      "Requirement already satisfied: charset-normalizer<4,>=2 in /opt/anaconda3/lib/python3.13/site-packages (from requests>=2.19.0->pandas_datareader) (3.3.2)\n",
      "Requirement already satisfied: idna<4,>=2.5 in /opt/anaconda3/lib/python3.13/site-packages (from requests>=2.19.0->pandas_datareader) (3.7)\n",
      "Requirement already satisfied: urllib3<3,>=1.21.1 in /opt/anaconda3/lib/python3.13/site-packages (from requests>=2.19.0->pandas_datareader) (2.3.0)\n",
      "Requirement already satisfied: certifi>=2017.4.17 in /opt/anaconda3/lib/python3.13/site-packages (from requests>=2.19.0->pandas_datareader) (2025.6.15)\n"
     ]
    }
   ],
   "source": [
    "!pip install pandas_datareader\n",
    "import yfinance as yf"
   ]
  },
  {
   "cell_type": "markdown",
   "id": "a71723d6-dad2-4fa3-926c-5783c21716ee",
   "metadata": {},
   "source": [
    "#### » Downloading historical stock data for Apple (AAPL) from Yahoo Finance"
   ]
  },
  {
   "cell_type": "code",
   "execution_count": 17,
   "id": "a81700ff-3f6c-4dc9-a683-438b55669314",
   "metadata": {
    "collapsed": true,
    "jupyter": {
     "outputs_hidden": true
    },
    "scrolled": true
   },
   "outputs": [
    {
     "name": "stderr",
     "output_type": "stream",
     "text": [
      "/var/folders/rx/xk61zj3118j0d4ksj4gtp1ym0000gn/T/ipykernel_81863/2862863752.py:1: FutureWarning: YF.download() has changed argument auto_adjust default to True\n",
      "  df = yf.download(\"AAPL\", start=\"2016-01-01\", end=\"2019-08-25\")\n",
      "[*********************100%***********************]  1 of 1 completed\n"
     ]
    }
   ],
   "source": [
    "df = yf.download(\"AAPL\", start=\"2016-01-01\", end=\"2019-08-25\")"
   ]
  },
  {
   "cell_type": "markdown",
   "id": "e5301bcb-1a1c-4d29-84f4-82e3a74e773a",
   "metadata": {},
   "source": [
    "#### » Displaying the first few rows of the DataFrame"
   ]
  },
  {
   "cell_type": "code",
   "execution_count": 24,
   "id": "d1f3a9fa-9c3f-4dfb-ac1e-6b1ab20f0eaa",
   "metadata": {},
   "outputs": [
    {
     "data": {
      "text/html": [
       "<div>\n",
       "<style scoped>\n",
       "    .dataframe tbody tr th:only-of-type {\n",
       "        vertical-align: middle;\n",
       "    }\n",
       "\n",
       "    .dataframe tbody tr th {\n",
       "        vertical-align: top;\n",
       "    }\n",
       "\n",
       "    .dataframe thead tr th {\n",
       "        text-align: left;\n",
       "    }\n",
       "\n",
       "    .dataframe thead tr:last-of-type th {\n",
       "        text-align: right;\n",
       "    }\n",
       "</style>\n",
       "<table border=\"1\" class=\"dataframe\">\n",
       "  <thead>\n",
       "    <tr>\n",
       "      <th>Price</th>\n",
       "      <th>Close</th>\n",
       "      <th>High</th>\n",
       "      <th>Low</th>\n",
       "      <th>Open</th>\n",
       "      <th>Volume</th>\n",
       "    </tr>\n",
       "    <tr>\n",
       "      <th>Ticker</th>\n",
       "      <th>AAPL</th>\n",
       "      <th>AAPL</th>\n",
       "      <th>AAPL</th>\n",
       "      <th>AAPL</th>\n",
       "      <th>AAPL</th>\n",
       "    </tr>\n",
       "    <tr>\n",
       "      <th>Date</th>\n",
       "      <th></th>\n",
       "      <th></th>\n",
       "      <th></th>\n",
       "      <th></th>\n",
       "      <th></th>\n",
       "    </tr>\n",
       "  </thead>\n",
       "  <tbody>\n",
       "    <tr>\n",
       "      <th>2016-01-04</th>\n",
       "      <td>23.803164</td>\n",
       "      <td>23.807683</td>\n",
       "      <td>23.046253</td>\n",
       "      <td>23.184078</td>\n",
       "      <td>270597600</td>\n",
       "    </tr>\n",
       "    <tr>\n",
       "      <th>2016-01-05</th>\n",
       "      <td>23.206673</td>\n",
       "      <td>23.916136</td>\n",
       "      <td>23.138891</td>\n",
       "      <td>23.893542</td>\n",
       "      <td>223164000</td>\n",
       "    </tr>\n",
       "    <tr>\n",
       "      <th>2016-01-06</th>\n",
       "      <td>22.752527</td>\n",
       "      <td>23.129854</td>\n",
       "      <td>22.564995</td>\n",
       "      <td>22.720895</td>\n",
       "      <td>273829600</td>\n",
       "    </tr>\n",
       "    <tr>\n",
       "      <th>2016-01-07</th>\n",
       "      <td>21.792263</td>\n",
       "      <td>22.623736</td>\n",
       "      <td>21.787745</td>\n",
       "      <td>22.296118</td>\n",
       "      <td>324377600</td>\n",
       "    </tr>\n",
       "    <tr>\n",
       "      <th>2016-01-08</th>\n",
       "      <td>21.907499</td>\n",
       "      <td>22.393279</td>\n",
       "      <td>21.862311</td>\n",
       "      <td>22.266751</td>\n",
       "      <td>283192000</td>\n",
       "    </tr>\n",
       "  </tbody>\n",
       "</table>\n",
       "</div>"
      ],
      "text/plain": [
       "Price           Close       High        Low       Open     Volume\n",
       "Ticker           AAPL       AAPL       AAPL       AAPL       AAPL\n",
       "Date                                                             \n",
       "2016-01-04  23.803164  23.807683  23.046253  23.184078  270597600\n",
       "2016-01-05  23.206673  23.916136  23.138891  23.893542  223164000\n",
       "2016-01-06  22.752527  23.129854  22.564995  22.720895  273829600\n",
       "2016-01-07  21.792263  22.623736  21.787745  22.296118  324377600\n",
       "2016-01-08  21.907499  22.393279  21.862311  22.266751  283192000"
      ]
     },
     "execution_count": 24,
     "metadata": {},
     "output_type": "execute_result"
    }
   ],
   "source": [
    "df.head()"
   ]
  },
  {
   "cell_type": "markdown",
   "id": "6b4b0803-e2e8-4825-b3e6-a165fc56d57f",
   "metadata": {},
   "source": [
    "#### » Removing the 'Ticker' level from column MultiIndex"
   ]
  },
  {
   "cell_type": "code",
   "execution_count": 28,
   "id": "d89a6104-f171-4452-acd1-a7ddc92359ac",
   "metadata": {},
   "outputs": [],
   "source": [
    "df=df.droplevel(\"Ticker\", axis=1)"
   ]
  },
  {
   "cell_type": "code",
   "execution_count": 29,
   "id": "8e64c884-d041-44a3-a937-7594df1a2893",
   "metadata": {},
   "outputs": [
    {
     "data": {
      "text/html": [
       "<div>\n",
       "<style scoped>\n",
       "    .dataframe tbody tr th:only-of-type {\n",
       "        vertical-align: middle;\n",
       "    }\n",
       "\n",
       "    .dataframe tbody tr th {\n",
       "        vertical-align: top;\n",
       "    }\n",
       "\n",
       "    .dataframe thead th {\n",
       "        text-align: right;\n",
       "    }\n",
       "</style>\n",
       "<table border=\"1\" class=\"dataframe\">\n",
       "  <thead>\n",
       "    <tr style=\"text-align: right;\">\n",
       "      <th>Price</th>\n",
       "      <th>Close</th>\n",
       "      <th>High</th>\n",
       "      <th>Low</th>\n",
       "      <th>Open</th>\n",
       "      <th>Volume</th>\n",
       "    </tr>\n",
       "    <tr>\n",
       "      <th>Date</th>\n",
       "      <th></th>\n",
       "      <th></th>\n",
       "      <th></th>\n",
       "      <th></th>\n",
       "      <th></th>\n",
       "    </tr>\n",
       "  </thead>\n",
       "  <tbody>\n",
       "    <tr>\n",
       "      <th>2016-01-04</th>\n",
       "      <td>23.803164</td>\n",
       "      <td>23.807683</td>\n",
       "      <td>23.046253</td>\n",
       "      <td>23.184078</td>\n",
       "      <td>270597600</td>\n",
       "    </tr>\n",
       "    <tr>\n",
       "      <th>2016-01-05</th>\n",
       "      <td>23.206673</td>\n",
       "      <td>23.916136</td>\n",
       "      <td>23.138891</td>\n",
       "      <td>23.893542</td>\n",
       "      <td>223164000</td>\n",
       "    </tr>\n",
       "    <tr>\n",
       "      <th>2016-01-06</th>\n",
       "      <td>22.752527</td>\n",
       "      <td>23.129854</td>\n",
       "      <td>22.564995</td>\n",
       "      <td>22.720895</td>\n",
       "      <td>273829600</td>\n",
       "    </tr>\n",
       "    <tr>\n",
       "      <th>2016-01-07</th>\n",
       "      <td>21.792263</td>\n",
       "      <td>22.623736</td>\n",
       "      <td>21.787745</td>\n",
       "      <td>22.296118</td>\n",
       "      <td>324377600</td>\n",
       "    </tr>\n",
       "    <tr>\n",
       "      <th>2016-01-08</th>\n",
       "      <td>21.907499</td>\n",
       "      <td>22.393279</td>\n",
       "      <td>21.862311</td>\n",
       "      <td>22.266751</td>\n",
       "      <td>283192000</td>\n",
       "    </tr>\n",
       "  </tbody>\n",
       "</table>\n",
       "</div>"
      ],
      "text/plain": [
       "Price           Close       High        Low       Open     Volume\n",
       "Date                                                             \n",
       "2016-01-04  23.803164  23.807683  23.046253  23.184078  270597600\n",
       "2016-01-05  23.206673  23.916136  23.138891  23.893542  223164000\n",
       "2016-01-06  22.752527  23.129854  22.564995  22.720895  273829600\n",
       "2016-01-07  21.792263  22.623736  21.787745  22.296118  324377600\n",
       "2016-01-08  21.907499  22.393279  21.862311  22.266751  283192000"
      ]
     },
     "execution_count": 29,
     "metadata": {},
     "output_type": "execute_result"
    }
   ],
   "source": [
    "df.head()"
   ]
  },
  {
   "cell_type": "markdown",
   "id": "ecf1bb4f-3402-4ef2-a465-0da478628b4e",
   "metadata": {},
   "source": [
    "#### » Checking the shape of the DataFrame (rows, columns)"
   ]
  },
  {
   "cell_type": "code",
   "execution_count": 30,
   "id": "e0a97f69-3ce5-4b12-95a2-62dd735085f9",
   "metadata": {},
   "outputs": [
    {
     "data": {
      "text/plain": [
       "(917, 5)"
      ]
     },
     "execution_count": 30,
     "metadata": {},
     "output_type": "execute_result"
    }
   ],
   "source": [
    "df.shape"
   ]
  },
  {
   "cell_type": "markdown",
   "id": "3e2aff6e-e1e9-4a7b-9ee2-6aa231fb6011",
   "metadata": {},
   "source": [
    "#### » Descriptive statistics of the 'Close' price"
   ]
  },
  {
   "cell_type": "code",
   "execution_count": 31,
   "id": "59d27d01-dbb7-415d-a6d2-09603a001d40",
   "metadata": {},
   "outputs": [
    {
     "data": {
      "text/plain": [
       "count    917.000000\n",
       "mean      36.424013\n",
       "std        9.486958\n",
       "min       20.647463\n",
       "25%       26.667234\n",
       "50%       37.244396\n",
       "75%       43.969284\n",
       "max       55.088779\n",
       "Name: Close, dtype: float64"
      ]
     },
     "execution_count": 31,
     "metadata": {},
     "output_type": "execute_result"
    }
   ],
   "source": [
    "df.Close.describe().T"
   ]
  },
  {
   "cell_type": "markdown",
   "id": "63095327-ee1a-47cf-bf05-3c640767a2ad",
   "metadata": {},
   "source": [
    "#### » Line plot of the 'Close' price over time"
   ]
  },
  {
   "cell_type": "code",
   "execution_count": 32,
   "id": "83db7558-9fd3-439e-9d4d-9302ba82d40b",
   "metadata": {},
   "outputs": [
    {
     "data": {
      "text/plain": [
       "<Axes: xlabel='Date'>"
      ]
     },
     "execution_count": 32,
     "metadata": {},
     "output_type": "execute_result"
    },
    {
     "data": {
      "image/png": "[encoded data removed]",
      "text/plain": [
       "<Figure size 640x480 with 1 Axes>"
      ]
     },
     "metadata": {},
     "output_type": "display_data"
    }
   ],
   "source": [
    "df.Close.plot()"
   ]
  },
  {
   "cell_type": "markdown",
   "id": "5d94b77f-9b9c-4e89-b015-9db92ed4373f",
   "metadata": {},
   "source": [
    "#### » Viewing the datetime index of the 'Close' column"
   ]
  },
  {
   "cell_type": "code",
   "execution_count": 33,
   "id": "bfa4ec2a-69b5-4ae8-b0fc-dfee81fe1241",
   "metadata": {},
   "outputs": [
    {
     "data": {
      "text/plain": [
       "DatetimeIndex(['2016-01-04', '2016-01-05', '2016-01-06', '2016-01-07',\n",
       "               '2016-01-08', '2016-01-11', '2016-01-12', '2016-01-13',\n",
       "               '2016-01-14', '2016-01-15',\n",
       "               ...\n",
       "               '2019-08-12', '2019-08-13', '2019-08-14', '2019-08-15',\n",
       "               '2019-08-16', '2019-08-19', '2019-08-20', '2019-08-21',\n",
       "               '2019-08-22', '2019-08-23'],\n",
       "              dtype='datetime64[ns]', name='Date', length=917, freq=None)"
      ]
     },
     "execution_count": 33,
     "metadata": {},
     "output_type": "execute_result"
    }
   ],
   "source": [
    "df.Close.index"
   ]
  }
 ],
 "metadata": {
  "kernelspec": {
   "display_name": "Python [conda env:base] *",
   "language": "python",
   "name": "conda-base-py"
  },
  "language_info": {
   "codemirror_mode": {
    "name": "ipython",
    "version": 3
   },
   "file_extension": ".py",
   "mimetype": "text/x-python",
   "name": "python",
   "nbconvert_exporter": "python",
   "pygments_lexer": "ipython3",
   "version": "3.13.5"
  }
 },
 "nbformat": 4,
 "nbformat_minor": 5
}

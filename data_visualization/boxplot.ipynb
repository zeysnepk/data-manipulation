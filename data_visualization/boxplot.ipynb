{
 "cells": [
  {
   "cell_type": "markdown",
   "id": "cf020d4b-5ee9-4d2f-ab3f-fbd345b88036",
   "metadata": {},
   "source": [
    "# 🎁 BoxPlot\n",
    "##### - A boxplot (also called a whisker plot) is used to display the distribution of a dataset.\n",
    "##### - The box spans the interquartile range (IQR = Q3 − Q1).\n",
    "##### - The line inside the box indicates the median.\n",
    "##### - The \"whiskers\" extend to show the range of most of the data, excluding outliers.\n",
    "##### - Outliers are plotted individually as points beyond the whiskers.\n",
    "##### - Boxplots are useful for detecting skewness, variability, and outliers in different groups.\n",
    "---"
   ]
  },
  {
   "cell_type": "markdown",
   "id": "8a8c2b08-babd-447b-8c5b-ffef1b48af88",
   "metadata": {},
   "source": [
    "#### » Load and preview the 'tips' dataset"
   ]
  },
  {
   "cell_type": "code",
   "execution_count": 3,
   "id": "f940ea0f-7c81-4ec5-a4a4-5026c47d42fe",
   "metadata": {},
   "outputs": [
    {
     "data": {
      "text/html": [
       "<div>\n",
       "<style scoped>\n",
       "    .dataframe tbody tr th:only-of-type {\n",
       "        vertical-align: middle;\n",
       "    }\n",
       "\n",
       "    .dataframe tbody tr th {\n",
       "        vertical-align: top;\n",
       "    }\n",
       "\n",
       "    .dataframe thead th {\n",
       "        text-align: right;\n",
       "    }\n",
       "</style>\n",
       "<table border=\"1\" class=\"dataframe\">\n",
       "  <thead>\n",
       "    <tr style=\"text-align: right;\">\n",
       "      <th></th>\n",
       "      <th>total_bill</th>\n",
       "      <th>tip</th>\n",
       "      <th>sex</th>\n",
       "      <th>smoker</th>\n",
       "      <th>day</th>\n",
       "      <th>time</th>\n",
       "      <th>size</th>\n",
       "    </tr>\n",
       "  </thead>\n",
       "  <tbody>\n",
       "    <tr>\n",
       "      <th>0</th>\n",
       "      <td>16.99</td>\n",
       "      <td>1.01</td>\n",
       "      <td>Female</td>\n",
       "      <td>No</td>\n",
       "      <td>Sun</td>\n",
       "      <td>Dinner</td>\n",
       "      <td>2</td>\n",
       "    </tr>\n",
       "    <tr>\n",
       "      <th>1</th>\n",
       "      <td>10.34</td>\n",
       "      <td>1.66</td>\n",
       "      <td>Male</td>\n",
       "      <td>No</td>\n",
       "      <td>Sun</td>\n",
       "      <td>Dinner</td>\n",
       "      <td>3</td>\n",
       "    </tr>\n",
       "    <tr>\n",
       "      <th>2</th>\n",
       "      <td>21.01</td>\n",
       "      <td>3.50</td>\n",
       "      <td>Male</td>\n",
       "      <td>No</td>\n",
       "      <td>Sun</td>\n",
       "      <td>Dinner</td>\n",
       "      <td>3</td>\n",
       "    </tr>\n",
       "    <tr>\n",
       "      <th>3</th>\n",
       "      <td>23.68</td>\n",
       "      <td>3.31</td>\n",
       "      <td>Male</td>\n",
       "      <td>No</td>\n",
       "      <td>Sun</td>\n",
       "      <td>Dinner</td>\n",
       "      <td>2</td>\n",
       "    </tr>\n",
       "    <tr>\n",
       "      <th>4</th>\n",
       "      <td>24.59</td>\n",
       "      <td>3.61</td>\n",
       "      <td>Female</td>\n",
       "      <td>No</td>\n",
       "      <td>Sun</td>\n",
       "      <td>Dinner</td>\n",
       "      <td>4</td>\n",
       "    </tr>\n",
       "  </tbody>\n",
       "</table>\n",
       "</div>"
      ],
      "text/plain": [
       "   total_bill   tip     sex smoker  day    time  size\n",
       "0       16.99  1.01  Female     No  Sun  Dinner     2\n",
       "1       10.34  1.66    Male     No  Sun  Dinner     3\n",
       "2       21.01  3.50    Male     No  Sun  Dinner     3\n",
       "3       23.68  3.31    Male     No  Sun  Dinner     2\n",
       "4       24.59  3.61  Female     No  Sun  Dinner     4"
      ]
     },
     "execution_count": 3,
     "metadata": {},
     "output_type": "execute_result"
    }
   ],
   "source": [
    "import seaborn as sns\n",
    "tips = sns.load_dataset(\"tips\")\n",
    "df = tips.copy()\n",
    "df.head()"
   ]
  },
  {
   "cell_type": "markdown",
   "id": "eeebdec6-f18c-451b-a921-8d1e0c2ced91",
   "metadata": {},
   "source": [
    "#### » Summary statistics for numerical columns"
   ]
  },
  {
   "cell_type": "code",
   "execution_count": 4,
   "id": "15e1fea3-4468-4e42-95f0-29ef789fbbfd",
   "metadata": {},
   "outputs": [
    {
     "data": {
      "text/html": [
       "<div>\n",
       "<style scoped>\n",
       "    .dataframe tbody tr th:only-of-type {\n",
       "        vertical-align: middle;\n",
       "    }\n",
       "\n",
       "    .dataframe tbody tr th {\n",
       "        vertical-align: top;\n",
       "    }\n",
       "\n",
       "    .dataframe thead th {\n",
       "        text-align: right;\n",
       "    }\n",
       "</style>\n",
       "<table border=\"1\" class=\"dataframe\">\n",
       "  <thead>\n",
       "    <tr style=\"text-align: right;\">\n",
       "      <th></th>\n",
       "      <th>count</th>\n",
       "      <th>mean</th>\n",
       "      <th>std</th>\n",
       "      <th>min</th>\n",
       "      <th>25%</th>\n",
       "      <th>50%</th>\n",
       "      <th>75%</th>\n",
       "      <th>max</th>\n",
       "    </tr>\n",
       "  </thead>\n",
       "  <tbody>\n",
       "    <tr>\n",
       "      <th>total_bill</th>\n",
       "      <td>244.0</td>\n",
       "      <td>19.785943</td>\n",
       "      <td>8.902412</td>\n",
       "      <td>3.07</td>\n",
       "      <td>13.3475</td>\n",
       "      <td>17.795</td>\n",
       "      <td>24.1275</td>\n",
       "      <td>50.81</td>\n",
       "    </tr>\n",
       "    <tr>\n",
       "      <th>tip</th>\n",
       "      <td>244.0</td>\n",
       "      <td>2.998279</td>\n",
       "      <td>1.383638</td>\n",
       "      <td>1.00</td>\n",
       "      <td>2.0000</td>\n",
       "      <td>2.900</td>\n",
       "      <td>3.5625</td>\n",
       "      <td>10.00</td>\n",
       "    </tr>\n",
       "    <tr>\n",
       "      <th>size</th>\n",
       "      <td>244.0</td>\n",
       "      <td>2.569672</td>\n",
       "      <td>0.951100</td>\n",
       "      <td>1.00</td>\n",
       "      <td>2.0000</td>\n",
       "      <td>2.000</td>\n",
       "      <td>3.0000</td>\n",
       "      <td>6.00</td>\n",
       "    </tr>\n",
       "  </tbody>\n",
       "</table>\n",
       "</div>"
      ],
      "text/plain": [
       "            count       mean       std   min      25%     50%      75%    max\n",
       "total_bill  244.0  19.785943  8.902412  3.07  13.3475  17.795  24.1275  50.81\n",
       "tip         244.0   2.998279  1.383638  1.00   2.0000   2.900   3.5625  10.00\n",
       "size        244.0   2.569672  0.951100  1.00   2.0000   2.000   3.0000   6.00"
      ]
     },
     "execution_count": 4,
     "metadata": {},
     "output_type": "execute_result"
    }
   ],
   "source": [
    "df.describe().T"
   ]
  },
  {
   "cell_type": "markdown",
   "id": "65f8327b-53ac-48b8-a52a-42fb8e17be25",
   "metadata": {},
   "source": [
    "#### » Dataset structure, column types, and non-null counts"
   ]
  },
  {
   "cell_type": "code",
   "execution_count": 5,
   "id": "ed1e5276-d205-4330-9fd0-c5db881d37aa",
   "metadata": {},
   "outputs": [
    {
     "name": "stdout",
     "output_type": "stream",
     "text": [
      "<class 'pandas.core.frame.DataFrame'>\n",
      "RangeIndex: 244 entries, 0 to 243\n",
      "Data columns (total 7 columns):\n",
      " #   Column      Non-Null Count  Dtype   \n",
      "---  ------      --------------  -----   \n",
      " 0   total_bill  244 non-null    float64 \n",
      " 1   tip         244 non-null    float64 \n",
      " 2   sex         244 non-null    category\n",
      " 3   smoker      244 non-null    category\n",
      " 4   day         244 non-null    category\n",
      " 5   time        244 non-null    category\n",
      " 6   size        244 non-null    int64   \n",
      "dtypes: category(4), float64(2), int64(1)\n",
      "memory usage: 7.4 KB\n"
     ]
    }
   ],
   "source": [
    "df.info()"
   ]
  },
  {
   "cell_type": "markdown",
   "id": "85cc3c34-bf3d-4f2c-8824-d79541ccc6ee",
   "metadata": {},
   "source": [
    "#### » Count of each category in the specific column"
   ]
  },
  {
   "cell_type": "code",
   "execution_count": 6,
   "id": "421fb3e0-1476-4eab-b418-974f7bfa6583",
   "metadata": {},
   "outputs": [
    {
     "data": {
      "text/plain": [
       "sex\n",
       "Male      157\n",
       "Female     87\n",
       "Name: count, dtype: int64"
      ]
     },
     "execution_count": 6,
     "metadata": {},
     "output_type": "execute_result"
    }
   ],
   "source": [
    "df.sex.value_counts()"
   ]
  },
  {
   "cell_type": "markdown",
   "id": "2c8355c6-83fb-4226-b99c-20162f3844b2",
   "metadata": {},
   "source": [
    "#### » This horizontal boxplot shows distribution of total bill"
   ]
  },
  {
   "cell_type": "code",
   "execution_count": 9,
   "id": "1533cba3-536f-401d-981e-0ede41334439",
   "metadata": {},
   "outputs": [
    {
     "data": {
      "text/plain": [
       "<Axes: xlabel='total_bill'>"
      ]
     },
     "execution_count": 9,
     "metadata": {},
     "output_type": "execute_result"
    },
    {
     "data": {
      "image/png": "[encoded data removed]",
      "text/plain": [
       "<Figure size 640x480 with 1 Axes>"
      ]
     },
     "metadata": {},
     "output_type": "display_data"
    }
   ],
   "source": [
    "sns.boxplot(x=df.total_bill)"
   ]
  },
  {
   "cell_type": "markdown",
   "id": "f9d3e5f1-e84d-4b57-a184-475f3e4f8c35",
   "metadata": {},
   "source": [
    "#### » This vertical boxplot shows distribution of total bill"
   ]
  },
  {
   "cell_type": "code",
   "execution_count": 10,
   "id": "b41f60a4-dc61-4cdc-87c1-60fb0e662dcd",
   "metadata": {},
   "outputs": [
    {
     "data": {
      "text/plain": [
       "<Axes: ylabel='total_bill'>"
      ]
     },
     "execution_count": 10,
     "metadata": {},
     "output_type": "execute_result"
    },
    {
     "data": {
      "image/png": "[encoded data removed]",
      "text/plain": [
       "<Figure size 640x480 with 1 Axes>"
      ]
     },
     "metadata": {},
     "output_type": "display_data"
    }
   ],
   "source": [
    "sns.boxplot(y=df.total_bill,orient=\"v\")"
   ]
  },
  {
   "cell_type": "markdown",
   "id": "b7b7bcea-d5ff-45c8-955f-a1ded86774a1",
   "metadata": {},
   "source": [
    "#### » This boxplot shows total bill distribution by day of the week"
   ]
  },
  {
   "cell_type": "code",
   "execution_count": 11,
   "id": "1503a577-874f-4e2c-8436-6c61380e6fb1",
   "metadata": {},
   "outputs": [],
   "source": [
    "#Which days are more profitable?"
   ]
  },
  {
   "cell_type": "code",
   "execution_count": 59,
   "id": "210d5944-346e-46b7-8c60-09295990b191",
   "metadata": {},
   "outputs": [
    {
     "data": {
      "text/plain": [
       "<Axes: xlabel='day', ylabel='total_bill'>"
      ]
     },
     "execution_count": 59,
     "metadata": {},
     "output_type": "execute_result"
    },
    {
     "data": {
      "image/png": "[encoded data removed]",
      "text/plain": [
       "<Figure size 640x480 with 1 Axes>"
      ]
     },
     "metadata": {},
     "output_type": "display_data"
    }
   ],
   "source": [
    "sns.boxplot(x=\"day\", y=\"total_bill\", data=df, hue=\"day\")"
   ]
  },
  {
   "cell_type": "code",
   "execution_count": null,
   "id": "74c1fea2-fb6e-4cdc-875e-754a1c4caf03",
   "metadata": {},
   "outputs": [],
   "source": [
    "#we can see from the table above that, even if there are more costumer on saturday, sunday is more profitable"
   ]
  },
  {
   "cell_type": "markdown",
   "id": "1552f6c7-b035-4ddb-a4b1-1cf687638583",
   "metadata": {},
   "source": [
    "#### » This boxplot shows total bill distribution by time of day (Lunch vs Dinner)"
   ]
  },
  {
   "cell_type": "code",
   "execution_count": 21,
   "id": "68915509-7703-47de-acde-4fd7848a03c7",
   "metadata": {},
   "outputs": [],
   "source": [
    "#Is dinner or lunch more profitable?"
   ]
  },
  {
   "cell_type": "code",
   "execution_count": 22,
   "id": "b36f780f-89a7-4854-8a8d-6b6485d662c1",
   "metadata": {},
   "outputs": [
    {
     "data": {
      "text/plain": [
       "<Axes: xlabel='time', ylabel='total_bill'>"
      ]
     },
     "execution_count": 22,
     "metadata": {},
     "output_type": "execute_result"
    },
    {
     "data": {
      "image/png": "[encoded data removed]",
      "text/plain": [
       "<Figure size 640x480 with 1 Axes>"
      ]
     },
     "metadata": {},
     "output_type": "display_data"
    }
   ],
   "source": [
    "sns.boxplot(x=df.time, y=df.total_bill)"
   ]
  },
  {
   "cell_type": "markdown",
   "id": "2806ce4e-3628-4a89-bc0a-8a48e6317950",
   "metadata": {},
   "source": [
    "#### » This boxplot shows how total bill varies with person size"
   ]
  },
  {
   "cell_type": "code",
   "execution_count": 23,
   "id": "ae236b87-2036-4605-912e-a5ed56d2d95a",
   "metadata": {},
   "outputs": [],
   "source": [
    "#is there linear relation among the person size and profit?"
   ]
  },
  {
   "cell_type": "code",
   "execution_count": 61,
   "id": "9838d319-fc9b-4795-acda-74444e752bdd",
   "metadata": {},
   "outputs": [
    {
     "data": {
      "text/plain": [
       "<Axes: xlabel='size', ylabel='total_bill'>"
      ]
     },
     "execution_count": 61,
     "metadata": {},
     "output_type": "execute_result"
    },
    {
     "data": {
      "image/png": "[encoded data removed]",
      "text/plain": [
       "<Figure size 640x480 with 1 Axes>"
      ]
     },
     "metadata": {},
     "output_type": "display_data"
    }
   ],
   "source": [
    "sns.boxplot(x=\"size\", y=\"total_bill\", data=df, hue=\"size\")"
   ]
  },
  {
   "cell_type": "markdown",
   "id": "36d846e7-2c36-4ced-93fb-297b361441eb",
   "metadata": {},
   "source": [
    "#### » This boxplot shows total bill by day, separated by sex using color(crossing)\n",
    "##### Compares the distribution of total bills across different days, with separate boxes for male and female customers, highlighting medians, quartiles, and outliers for each group."
   ]
  },
  {
   "cell_type": "code",
   "execution_count": 62,
   "id": "a2bf23f4-a4bc-4146-9124-15fac9f2e14b",
   "metadata": {},
   "outputs": [
    {
     "data": {
      "text/plain": [
       "<Axes: xlabel='day', ylabel='total_bill'>"
      ]
     },
     "execution_count": 62,
     "metadata": {},
     "output_type": "execute_result"
    },
    {
     "data": {
      "image/png": "[encoded data removed]",
      "text/plain": [
       "<Figure size 640x480 with 1 Axes>"
      ]
     },
     "metadata": {},
     "output_type": "display_data"
    }
   ],
   "source": [
    "sns.boxplot(x=\"day\", y=\"total_bill\",hue=\"sex\", data=df)"
   ]
  }
 ],
 "metadata": {
  "kernelspec": {
   "display_name": "Python [conda env:base] *",
   "language": "python",
   "name": "conda-base-py"
  },
  "language_info": {
   "codemirror_mode": {
    "name": "ipython",
    "version": 3
   },
   "file_extension": ".py",
   "mimetype": "text/x-python",
   "name": "python",
   "nbconvert_exporter": "python",
   "pygments_lexer": "ipython3",
   "version": "3.13.5"
  }
 },
 "nbformat": 4,
 "nbformat_minor": 5
}

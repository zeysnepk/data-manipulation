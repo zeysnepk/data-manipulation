{
 "cells": [
  {
   "cell_type": "markdown",
   "id": "bd82acc4-0a88-4e94-a4b9-483d55a7ad82",
   "metadata": {},
   "source": [
    "# 📦 Pandas DataFrame Grouping"
   ]
  },
  {
   "cell_type": "markdown",
   "id": "eac66315-ffad-4fcf-aca2-09b40f00aaf8",
   "metadata": {},
   "source": [
    "#### » Import the Pandas library, usually abbreviated as `pd`"
   ]
  },
  {
   "cell_type": "code",
   "execution_count": 1,
   "id": "872e6556-7477-4c8f-9e5b-e937a7263a61",
   "metadata": {},
   "outputs": [],
   "source": [
    "import pandas as pd"
   ]
  },
  {
   "cell_type": "markdown",
   "id": "912b99cb-1aa7-4d4e-bbcc-2f5a32183fc6",
   "metadata": {},
   "source": [
    "#### » Create a DataFrame with a dictionary"
   ]
  },
  {
   "cell_type": "code",
   "execution_count": 2,
   "id": "4ed29a94-b6e4-409f-a0d7-63b9a3139107",
   "metadata": {},
   "outputs": [
    {
     "data": {
      "text/html": [
       "<div>\n",
       "<style scoped>\n",
       "    .dataframe tbody tr th:only-of-type {\n",
       "        vertical-align: middle;\n",
       "    }\n",
       "\n",
       "    .dataframe tbody tr th {\n",
       "        vertical-align: top;\n",
       "    }\n",
       "\n",
       "    .dataframe thead th {\n",
       "        text-align: right;\n",
       "    }\n",
       "</style>\n",
       "<table border=\"1\" class=\"dataframe\">\n",
       "  <thead>\n",
       "    <tr style=\"text-align: right;\">\n",
       "      <th></th>\n",
       "      <th>groups</th>\n",
       "      <th>data</th>\n",
       "    </tr>\n",
       "  </thead>\n",
       "  <tbody>\n",
       "    <tr>\n",
       "      <th>0</th>\n",
       "      <td>a</td>\n",
       "      <td>1</td>\n",
       "    </tr>\n",
       "    <tr>\n",
       "      <th>1</th>\n",
       "      <td>b</td>\n",
       "      <td>5</td>\n",
       "    </tr>\n",
       "    <tr>\n",
       "      <th>2</th>\n",
       "      <td>c</td>\n",
       "      <td>6</td>\n",
       "    </tr>\n",
       "    <tr>\n",
       "      <th>3</th>\n",
       "      <td>a</td>\n",
       "      <td>8</td>\n",
       "    </tr>\n",
       "    <tr>\n",
       "      <th>4</th>\n",
       "      <td>b</td>\n",
       "      <td>3</td>\n",
       "    </tr>\n",
       "    <tr>\n",
       "      <th>5</th>\n",
       "      <td>c</td>\n",
       "      <td>10</td>\n",
       "    </tr>\n",
       "  </tbody>\n",
       "</table>\n",
       "</div>"
      ],
      "text/plain": [
       "  groups  data\n",
       "0      a     1\n",
       "1      b     5\n",
       "2      c     6\n",
       "3      a     8\n",
       "4      b     3\n",
       "5      c    10"
      ]
     },
     "execution_count": 2,
     "metadata": {},
     "output_type": "execute_result"
    }
   ],
   "source": [
    "df = pd.DataFrame({\"groups\": [\"a\", \"b\", \"c\", \"a\", \"b\", \"c\"],\n",
    "                   \"data\": [1,5,6,8,3,10]})\n",
    "df"
   ]
  },
  {
   "cell_type": "markdown",
   "id": "90a36701-e8b4-40d4-8096-11f5d7892d46",
   "metadata": {},
   "source": [
    "#### » Create a GroupBy object based on the specific column"
   ]
  },
  {
   "cell_type": "code",
   "execution_count": 3,
   "id": "67232205-c929-414a-8367-c79209cd2c8f",
   "metadata": {},
   "outputs": [
    {
     "data": {
      "text/plain": [
       "<pandas.core.groupby.generic.DataFrameGroupBy object at 0x135135a90>"
      ]
     },
     "execution_count": 3,
     "metadata": {},
     "output_type": "execute_result"
    }
   ],
   "source": [
    "df.groupby(\"groups\")"
   ]
  },
  {
   "cell_type": "markdown",
   "id": "86f72a13-3bae-435c-b27e-a99b7429ba32",
   "metadata": {},
   "source": [
    "#### » Access a specific group from the grouped object"
   ]
  },
  {
   "cell_type": "code",
   "execution_count": 4,
   "id": "0638cc42-652d-422b-94fb-3ab932c6d9d7",
   "metadata": {},
   "outputs": [
    {
     "data": {
      "text/html": [
       "<div>\n",
       "<style scoped>\n",
       "    .dataframe tbody tr th:only-of-type {\n",
       "        vertical-align: middle;\n",
       "    }\n",
       "\n",
       "    .dataframe tbody tr th {\n",
       "        vertical-align: top;\n",
       "    }\n",
       "\n",
       "    .dataframe thead th {\n",
       "        text-align: right;\n",
       "    }\n",
       "</style>\n",
       "<table border=\"1\" class=\"dataframe\">\n",
       "  <thead>\n",
       "    <tr style=\"text-align: right;\">\n",
       "      <th></th>\n",
       "      <th>groups</th>\n",
       "      <th>data</th>\n",
       "    </tr>\n",
       "  </thead>\n",
       "  <tbody>\n",
       "    <tr>\n",
       "      <th>0</th>\n",
       "      <td>a</td>\n",
       "      <td>1</td>\n",
       "    </tr>\n",
       "    <tr>\n",
       "      <th>3</th>\n",
       "      <td>a</td>\n",
       "      <td>8</td>\n",
       "    </tr>\n",
       "  </tbody>\n",
       "</table>\n",
       "</div>"
      ],
      "text/plain": [
       "  groups  data\n",
       "0      a     1\n",
       "3      a     8"
      ]
     },
     "execution_count": 4,
     "metadata": {},
     "output_type": "execute_result"
    }
   ],
   "source": [
    "df.groupby(\"groups\").get_group(\"a\")"
   ]
  },
  {
   "cell_type": "markdown",
   "id": "a23e63c6-b8fc-40d0-a6d3-d0c2956d5b2e",
   "metadata": {},
   "source": [
    "#### » Calculate the mean of each group in a specific grouped column"
   ]
  },
  {
   "cell_type": "code",
   "execution_count": 5,
   "id": "5213b1f2-daed-4643-8989-e569055fab1a",
   "metadata": {},
   "outputs": [
    {
     "data": {
      "text/html": [
       "<div>\n",
       "<style scoped>\n",
       "    .dataframe tbody tr th:only-of-type {\n",
       "        vertical-align: middle;\n",
       "    }\n",
       "\n",
       "    .dataframe tbody tr th {\n",
       "        vertical-align: top;\n",
       "    }\n",
       "\n",
       "    .dataframe thead th {\n",
       "        text-align: right;\n",
       "    }\n",
       "</style>\n",
       "<table border=\"1\" class=\"dataframe\">\n",
       "  <thead>\n",
       "    <tr style=\"text-align: right;\">\n",
       "      <th></th>\n",
       "      <th>data</th>\n",
       "    </tr>\n",
       "    <tr>\n",
       "      <th>groups</th>\n",
       "      <th></th>\n",
       "    </tr>\n",
       "  </thead>\n",
       "  <tbody>\n",
       "    <tr>\n",
       "      <th>a</th>\n",
       "      <td>4.5</td>\n",
       "    </tr>\n",
       "    <tr>\n",
       "      <th>b</th>\n",
       "      <td>4.0</td>\n",
       "    </tr>\n",
       "    <tr>\n",
       "      <th>c</th>\n",
       "      <td>8.0</td>\n",
       "    </tr>\n",
       "  </tbody>\n",
       "</table>\n",
       "</div>"
      ],
      "text/plain": [
       "        data\n",
       "groups      \n",
       "a        4.5\n",
       "b        4.0\n",
       "c        8.0"
      ]
     },
     "execution_count": 5,
     "metadata": {},
     "output_type": "execute_result"
    }
   ],
   "source": [
    "df.groupby(\"groups\").mean()"
   ]
  },
  {
   "cell_type": "markdown",
   "id": "e8f146ef-fb45-42aa-be3f-2c01d99974fb",
   "metadata": {},
   "source": [
    "#### » View the size of each group"
   ]
  },
  {
   "cell_type": "code",
   "execution_count": 6,
   "id": "bb96e97f-b821-480b-bea8-57e4e8aaf35e",
   "metadata": {},
   "outputs": [
    {
     "data": {
      "text/html": [
       "<div>\n",
       "<style scoped>\n",
       "    .dataframe tbody tr th:only-of-type {\n",
       "        vertical-align: middle;\n",
       "    }\n",
       "\n",
       "    .dataframe tbody tr th {\n",
       "        vertical-align: top;\n",
       "    }\n",
       "\n",
       "    .dataframe thead th {\n",
       "        text-align: right;\n",
       "    }\n",
       "</style>\n",
       "<table border=\"1\" class=\"dataframe\">\n",
       "  <thead>\n",
       "    <tr style=\"text-align: right;\">\n",
       "      <th></th>\n",
       "      <th>data</th>\n",
       "    </tr>\n",
       "    <tr>\n",
       "      <th>groups</th>\n",
       "      <th></th>\n",
       "    </tr>\n",
       "  </thead>\n",
       "  <tbody>\n",
       "    <tr>\n",
       "      <th>a</th>\n",
       "      <td>9</td>\n",
       "    </tr>\n",
       "    <tr>\n",
       "      <th>b</th>\n",
       "      <td>8</td>\n",
       "    </tr>\n",
       "    <tr>\n",
       "      <th>c</th>\n",
       "      <td>16</td>\n",
       "    </tr>\n",
       "  </tbody>\n",
       "</table>\n",
       "</div>"
      ],
      "text/plain": [
       "        data\n",
       "groups      \n",
       "a          9\n",
       "b          8\n",
       "c         16"
      ]
     },
     "execution_count": 6,
     "metadata": {},
     "output_type": "execute_result"
    }
   ],
   "source": [
    "df.groupby(\"groups\").sum()"
   ]
  },
  {
   "cell_type": "markdown",
   "id": "4d2676e0-0690-4b2d-9ca3-6bedbf47101d",
   "metadata": {},
   "source": [
    "#### » Create a GroupBy object on specific column and selecting a column"
   ]
  },
  {
   "cell_type": "code",
   "execution_count": 7,
   "id": "47fafeb9-f179-4bca-a22a-295a8768014e",
   "metadata": {},
   "outputs": [
    {
     "data": {
      "text/plain": [
       "<pandas.core.groupby.generic.SeriesGroupBy object at 0x135135940>"
      ]
     },
     "execution_count": 7,
     "metadata": {},
     "output_type": "execute_result"
    }
   ],
   "source": [
    "df.groupby(\"groups\")[\"data\"]"
   ]
  },
  {
   "cell_type": "markdown",
   "id": "d32f2b86-abf4-4770-91dd-c9e4e65fb1dc",
   "metadata": {},
   "source": [
    "#### » Calculate the mean of a specific column for each group"
   ]
  },
  {
   "cell_type": "code",
   "execution_count": 8,
   "id": "5f49c3b3-37db-4318-a6a1-e4e89f72f658",
   "metadata": {},
   "outputs": [
    {
     "data": {
      "text/plain": [
       "groups\n",
       "a    4.5\n",
       "b    4.0\n",
       "c    8.0\n",
       "Name: data, dtype: float64"
      ]
     },
     "execution_count": 8,
     "metadata": {},
     "output_type": "execute_result"
    }
   ],
   "source": [
    "df.groupby(\"groups\")[\"data\"].mean()"
   ]
  },
  {
   "cell_type": "code",
   "execution_count": 9,
   "id": "11718f41-fdd1-4861-a77c-46e13d246dcd",
   "metadata": {},
   "outputs": [
    {
     "data": {
      "text/html": [
       "<div>\n",
       "<style scoped>\n",
       "    .dataframe tbody tr th:only-of-type {\n",
       "        vertical-align: middle;\n",
       "    }\n",
       "\n",
       "    .dataframe tbody tr th {\n",
       "        vertical-align: top;\n",
       "    }\n",
       "\n",
       "    .dataframe thead th {\n",
       "        text-align: right;\n",
       "    }\n",
       "</style>\n",
       "<table border=\"1\" class=\"dataframe\">\n",
       "  <thead>\n",
       "    <tr style=\"text-align: right;\">\n",
       "      <th></th>\n",
       "      <th>data</th>\n",
       "    </tr>\n",
       "    <tr>\n",
       "      <th>groups</th>\n",
       "      <th></th>\n",
       "    </tr>\n",
       "  </thead>\n",
       "  <tbody>\n",
       "    <tr>\n",
       "      <th>a</th>\n",
       "      <td>4.5</td>\n",
       "    </tr>\n",
       "    <tr>\n",
       "      <th>b</th>\n",
       "      <td>4.0</td>\n",
       "    </tr>\n",
       "    <tr>\n",
       "      <th>c</th>\n",
       "      <td>8.0</td>\n",
       "    </tr>\n",
       "  </tbody>\n",
       "</table>\n",
       "</div>"
      ],
      "text/plain": [
       "        data\n",
       "groups      \n",
       "a        4.5\n",
       "b        4.0\n",
       "c        8.0"
      ]
     },
     "execution_count": 9,
     "metadata": {},
     "output_type": "execute_result"
    }
   ],
   "source": [
    "df.groupby(\"groups\")[[\"data\"]].mean()"
   ]
  },
  {
   "cell_type": "markdown",
   "id": "29fa4952-7a2d-4cc7-85bc-7ef755b75401",
   "metadata": {},
   "source": [
    "#### » Calculate the mean and sorting descending by group average"
   ]
  },
  {
   "cell_type": "code",
   "execution_count": 10,
   "id": "d1559148-cf27-4a48-9e97-54f57f73096e",
   "metadata": {},
   "outputs": [
    {
     "data": {
      "text/plain": [
       "groups\n",
       "c    8.0\n",
       "a    4.5\n",
       "b    4.0\n",
       "Name: data, dtype: float64"
      ]
     },
     "execution_count": 10,
     "metadata": {},
     "output_type": "execute_result"
    }
   ],
   "source": [
    "df.groupby(\"groups\")[\"data\"].mean().sort_values(ascending=False)"
   ]
  },
  {
   "cell_type": "markdown",
   "id": "26a5d011-183c-4bd5-a308-4961eefab73e",
   "metadata": {},
   "source": [
    "#### » Calculate mean and sorting ascending by group average"
   ]
  },
  {
   "cell_type": "code",
   "execution_count": 11,
   "id": "452d9edb-bb33-460f-b1e8-c6ebf9d4e835",
   "metadata": {},
   "outputs": [
    {
     "data": {
      "text/plain": [
       "groups\n",
       "b    4.0\n",
       "a    4.5\n",
       "c    8.0\n",
       "Name: data, dtype: float64"
      ]
     },
     "execution_count": 11,
     "metadata": {},
     "output_type": "execute_result"
    }
   ],
   "source": [
    "df.groupby(\"groups\")[\"data\"].mean().sort_values(ascending=True)"
   ]
  },
  {
   "cell_type": "markdown",
   "id": "70e41ab8-44aa-4883-a5a1-d8774e6360f9",
   "metadata": {},
   "source": [
    "#### » Get detailed statistics (count, mean, std, min, etc.) for each group of a column"
   ]
  },
  {
   "cell_type": "code",
   "execution_count": 12,
   "id": "f947096f-1f9f-4e95-a8d2-8e780500f11b",
   "metadata": {},
   "outputs": [
    {
     "data": {
      "text/html": [
       "<div>\n",
       "<style scoped>\n",
       "    .dataframe tbody tr th:only-of-type {\n",
       "        vertical-align: middle;\n",
       "    }\n",
       "\n",
       "    .dataframe tbody tr th {\n",
       "        vertical-align: top;\n",
       "    }\n",
       "\n",
       "    .dataframe thead th {\n",
       "        text-align: right;\n",
       "    }\n",
       "</style>\n",
       "<table border=\"1\" class=\"dataframe\">\n",
       "  <thead>\n",
       "    <tr style=\"text-align: right;\">\n",
       "      <th></th>\n",
       "      <th>count</th>\n",
       "      <th>mean</th>\n",
       "      <th>std</th>\n",
       "      <th>min</th>\n",
       "      <th>25%</th>\n",
       "      <th>50%</th>\n",
       "      <th>75%</th>\n",
       "      <th>max</th>\n",
       "    </tr>\n",
       "    <tr>\n",
       "      <th>groups</th>\n",
       "      <th></th>\n",
       "      <th></th>\n",
       "      <th></th>\n",
       "      <th></th>\n",
       "      <th></th>\n",
       "      <th></th>\n",
       "      <th></th>\n",
       "      <th></th>\n",
       "    </tr>\n",
       "  </thead>\n",
       "  <tbody>\n",
       "    <tr>\n",
       "      <th>a</th>\n",
       "      <td>2.0</td>\n",
       "      <td>4.5</td>\n",
       "      <td>4.949747</td>\n",
       "      <td>1.0</td>\n",
       "      <td>2.75</td>\n",
       "      <td>4.5</td>\n",
       "      <td>6.25</td>\n",
       "      <td>8.0</td>\n",
       "    </tr>\n",
       "    <tr>\n",
       "      <th>b</th>\n",
       "      <td>2.0</td>\n",
       "      <td>4.0</td>\n",
       "      <td>1.414214</td>\n",
       "      <td>3.0</td>\n",
       "      <td>3.50</td>\n",
       "      <td>4.0</td>\n",
       "      <td>4.50</td>\n",
       "      <td>5.0</td>\n",
       "    </tr>\n",
       "    <tr>\n",
       "      <th>c</th>\n",
       "      <td>2.0</td>\n",
       "      <td>8.0</td>\n",
       "      <td>2.828427</td>\n",
       "      <td>6.0</td>\n",
       "      <td>7.00</td>\n",
       "      <td>8.0</td>\n",
       "      <td>9.00</td>\n",
       "      <td>10.0</td>\n",
       "    </tr>\n",
       "  </tbody>\n",
       "</table>\n",
       "</div>"
      ],
      "text/plain": [
       "        count  mean       std  min   25%  50%   75%   max\n",
       "groups                                                   \n",
       "a         2.0   4.5  4.949747  1.0  2.75  4.5  6.25   8.0\n",
       "b         2.0   4.0  1.414214  3.0  3.50  4.0  4.50   5.0\n",
       "c         2.0   8.0  2.828427  6.0  7.00  8.0  9.00  10.0"
      ]
     },
     "execution_count": 12,
     "metadata": {},
     "output_type": "execute_result"
    }
   ],
   "source": [
    "df.groupby(\"groups\")[\"data\"].describe()"
   ]
  },
  {
   "cell_type": "markdown",
   "id": "3e32f9b1-1638-4bc6-a3fc-c35abe0bad65",
   "metadata": {},
   "source": [
    "#### » Transpose the result of group-wise describe for better readability"
   ]
  },
  {
   "cell_type": "code",
   "execution_count": 13,
   "id": "e01b879f-564a-4895-860d-1adbfc2ee3f8",
   "metadata": {},
   "outputs": [
    {
     "data": {
      "text/html": [
       "<div>\n",
       "<style scoped>\n",
       "    .dataframe tbody tr th:only-of-type {\n",
       "        vertical-align: middle;\n",
       "    }\n",
       "\n",
       "    .dataframe tbody tr th {\n",
       "        vertical-align: top;\n",
       "    }\n",
       "\n",
       "    .dataframe thead th {\n",
       "        text-align: right;\n",
       "    }\n",
       "</style>\n",
       "<table border=\"1\" class=\"dataframe\">\n",
       "  <thead>\n",
       "    <tr style=\"text-align: right;\">\n",
       "      <th>groups</th>\n",
       "      <th>a</th>\n",
       "      <th>b</th>\n",
       "      <th>c</th>\n",
       "    </tr>\n",
       "  </thead>\n",
       "  <tbody>\n",
       "    <tr>\n",
       "      <th>count</th>\n",
       "      <td>2.000000</td>\n",
       "      <td>2.000000</td>\n",
       "      <td>2.000000</td>\n",
       "    </tr>\n",
       "    <tr>\n",
       "      <th>mean</th>\n",
       "      <td>4.500000</td>\n",
       "      <td>4.000000</td>\n",
       "      <td>8.000000</td>\n",
       "    </tr>\n",
       "    <tr>\n",
       "      <th>std</th>\n",
       "      <td>4.949747</td>\n",
       "      <td>1.414214</td>\n",
       "      <td>2.828427</td>\n",
       "    </tr>\n",
       "    <tr>\n",
       "      <th>min</th>\n",
       "      <td>1.000000</td>\n",
       "      <td>3.000000</td>\n",
       "      <td>6.000000</td>\n",
       "    </tr>\n",
       "    <tr>\n",
       "      <th>25%</th>\n",
       "      <td>2.750000</td>\n",
       "      <td>3.500000</td>\n",
       "      <td>7.000000</td>\n",
       "    </tr>\n",
       "    <tr>\n",
       "      <th>50%</th>\n",
       "      <td>4.500000</td>\n",
       "      <td>4.000000</td>\n",
       "      <td>8.000000</td>\n",
       "    </tr>\n",
       "    <tr>\n",
       "      <th>75%</th>\n",
       "      <td>6.250000</td>\n",
       "      <td>4.500000</td>\n",
       "      <td>9.000000</td>\n",
       "    </tr>\n",
       "    <tr>\n",
       "      <th>max</th>\n",
       "      <td>8.000000</td>\n",
       "      <td>5.000000</td>\n",
       "      <td>10.000000</td>\n",
       "    </tr>\n",
       "  </tbody>\n",
       "</table>\n",
       "</div>"
      ],
      "text/plain": [
       "groups         a         b          c\n",
       "count   2.000000  2.000000   2.000000\n",
       "mean    4.500000  4.000000   8.000000\n",
       "std     4.949747  1.414214   2.828427\n",
       "min     1.000000  3.000000   6.000000\n",
       "25%     2.750000  3.500000   7.000000\n",
       "50%     4.500000  4.000000   8.000000\n",
       "75%     6.250000  4.500000   9.000000\n",
       "max     8.000000  5.000000  10.000000"
      ]
     },
     "execution_count": 13,
     "metadata": {},
     "output_type": "execute_result"
    }
   ],
   "source": [
    "df.groupby(\"groups\")[\"data\"].describe().T"
   ]
  }
 ],
 "metadata": {
  "kernelspec": {
   "display_name": "Python [conda env:base] *",
   "language": "python",
   "name": "conda-base-py"
  },
  "language_info": {
   "codemirror_mode": {
    "name": "ipython",
    "version": 3
   },
   "file_extension": ".py",
   "mimetype": "text/x-python",
   "name": "python",
   "nbconvert_exporter": "python",
   "pygments_lexer": "ipython3",
   "version": "3.13.5"
  }
 },
 "nbformat": 4,
 "nbformat_minor": 5
}

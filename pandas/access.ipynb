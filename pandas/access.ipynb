{
 "cells": [
  {
   "cell_type": "markdown",
   "id": "987b9029-6f91-43a0-9661-02f5fac2498e",
   "metadata": {},
   "source": [
    "# 🎯 Pandas Element Access"
   ]
  },
  {
   "cell_type": "markdown",
   "id": "ce4ed035-58c2-4416-b80a-2717756910a2",
   "metadata": {},
   "source": [
    "#### » Import the Pandas library and create Pandas Series"
   ]
  },
  {
   "cell_type": "code",
   "execution_count": 9,
   "id": "db52f7db-5bd2-4a21-a15f-d7ed06bba5ed",
   "metadata": {},
   "outputs": [
    {
     "data": {
      "text/plain": [
       "a    1\n",
       "b    2\n",
       "c    3\n",
       "d    4\n",
       "dtype: int64"
      ]
     },
     "execution_count": 9,
     "metadata": {},
     "output_type": "execute_result"
    }
   ],
   "source": [
    "import pandas as pd\n",
    "ser = pd.Series([1,2,3,4],\n",
    "                index=[\"a\",\"b\",\"c\",\"d\"])\n",
    "ser"
   ]
  },
  {
   "cell_type": "markdown",
   "id": "5c8a6760-c4cb-4ae5-94c7-ba27571a037c",
   "metadata": {},
   "source": [
    "#### » Check if label exists in Series index "
   ]
  },
  {
   "cell_type": "code",
   "execution_count": 10,
   "id": "f2631527-e790-4bf5-bc3f-6a4a66fb6feb",
   "metadata": {},
   "outputs": [
    {
     "data": {
      "text/plain": [
       "True"
      ]
     },
     "execution_count": 10,
     "metadata": {},
     "output_type": "execute_result"
    }
   ],
   "source": [
    "\"a\" in ser"
   ]
  },
  {
   "cell_type": "code",
   "execution_count": 11,
   "id": "27db2ee0-c640-417f-919a-ddf96c260c44",
   "metadata": {},
   "outputs": [
    {
     "data": {
      "text/plain": [
       "False"
      ]
     },
     "execution_count": 11,
     "metadata": {},
     "output_type": "execute_result"
    }
   ],
   "source": [
    "1 in ser"
   ]
  },
  {
   "cell_type": "markdown",
   "id": "43885098-051d-4052-a5c0-91c1fc0fcbbb",
   "metadata": {},
   "source": [
    "#### » Access value with label"
   ]
  },
  {
   "cell_type": "code",
   "execution_count": 12,
   "id": "01275663-0cbb-4889-bba4-d90fe5d3843f",
   "metadata": {},
   "outputs": [
    {
     "data": {
      "text/plain": [
       "np.int64(1)"
      ]
     },
     "execution_count": 12,
     "metadata": {},
     "output_type": "execute_result"
    }
   ],
   "source": [
    "ser[\"a\"]"
   ]
  },
  {
   "cell_type": "markdown",
   "id": "da755790-fd86-42b8-bf83-117fcedbe8d7",
   "metadata": {},
   "source": [
    "#### » Access multiple values by label (returns Series)"
   ]
  },
  {
   "cell_type": "code",
   "execution_count": 13,
   "id": "69c3c71b-6c23-4791-b7d2-0c6139beb1eb",
   "metadata": {},
   "outputs": [
    {
     "data": {
      "text/plain": [
       "a    1\n",
       "b    2\n",
       "dtype: int64"
      ]
     },
     "execution_count": 13,
     "metadata": {},
     "output_type": "execute_result"
    }
   ],
   "source": [
    "ser[[\"a\", \"b\"]]"
   ]
  },
  {
   "cell_type": "markdown",
   "id": "7ee73313-22b1-4ed6-84be-3ed15b8d2ba7",
   "metadata": {},
   "source": [
    "#### » Modify value at label \"a\""
   ]
  },
  {
   "cell_type": "code",
   "execution_count": 14,
   "id": "105e4c64-c6f1-4558-801e-2c430ad5f117",
   "metadata": {},
   "outputs": [
    {
     "data": {
      "text/plain": [
       "a    0\n",
       "b    2\n",
       "c    3\n",
       "d    4\n",
       "dtype: int64"
      ]
     },
     "execution_count": 14,
     "metadata": {},
     "output_type": "execute_result"
    }
   ],
   "source": [
    "ser[\"a\"] = 0\n",
    "ser"
   ]
  },
  {
   "cell_type": "markdown",
   "id": "72c2f76e-e0ca-4eaf-84c6-0dbbedfc984e",
   "metadata": {},
   "source": [
    "#### » Slicing"
   ]
  },
  {
   "cell_type": "code",
   "execution_count": 15,
   "id": "876371d2-d4b4-49db-a9aa-553d56c873eb",
   "metadata": {},
   "outputs": [
    {
     "data": {
      "text/plain": [
       "a    0\n",
       "b    2\n",
       "c    3\n",
       "dtype: int64"
      ]
     },
     "execution_count": 15,
     "metadata": {},
     "output_type": "execute_result"
    }
   ],
   "source": [
    "ser[\"a\":\"c\"]"
   ]
  },
  {
   "cell_type": "markdown",
   "id": "9b364ec1-33f8-4e26-896a-fd29f229bae4",
   "metadata": {},
   "source": [
    "#### » Get values greater or less than n -> `series[series > n]` or `series[series < n]`"
   ]
  },
  {
   "cell_type": "code",
   "execution_count": 16,
   "id": "8003cc87-f7f3-4ac8-8729-c68778209aaa",
   "metadata": {},
   "outputs": [
    {
     "data": {
      "text/plain": [
       "c    3\n",
       "d    4\n",
       "dtype: int64"
      ]
     },
     "execution_count": 16,
     "metadata": {},
     "output_type": "execute_result"
    }
   ],
   "source": [
    "ser[ser > 2]"
   ]
  },
  {
   "cell_type": "code",
   "execution_count": 17,
   "id": "5e3390d4-bfbf-4c18-ba75-73709da9135e",
   "metadata": {},
   "outputs": [
    {
     "data": {
      "text/plain": [
       "a    0\n",
       "b    2\n",
       "c    3\n",
       "dtype: int64"
      ]
     },
     "execution_count": 17,
     "metadata": {},
     "output_type": "execute_result"
    }
   ],
   "source": [
    "ser[ser <= 3]"
   ]
  },
  {
   "cell_type": "markdown",
   "id": "631609ef-286b-449c-b9d8-27594b61a0ae",
   "metadata": {},
   "source": [
    "#### » Get values equal to n -> `series[series == n]`"
   ]
  },
  {
   "cell_type": "code",
   "execution_count": 18,
   "id": "b0948d39-a4c2-4311-bca8-bab63b4ab144",
   "metadata": {},
   "outputs": [
    {
     "data": {
      "text/plain": [
       "b    2\n",
       "dtype: int64"
      ]
     },
     "execution_count": 18,
     "metadata": {},
     "output_type": "execute_result"
    }
   ],
   "source": [
    "ser[ser == 2]"
   ]
  },
  {
   "cell_type": "markdown",
   "id": "812fd597-19df-41f7-bf16-d47af33bf911",
   "metadata": {},
   "source": [
    "#### » Set values less than 3 to 0"
   ]
  },
  {
   "cell_type": "code",
   "execution_count": 19,
   "id": "615e22cf-d0a4-4adc-b759-594a8a77328d",
   "metadata": {},
   "outputs": [
    {
     "data": {
      "text/plain": [
       "a    0\n",
       "b    0\n",
       "c    3\n",
       "d    4\n",
       "dtype: int64"
      ]
     },
     "execution_count": 19,
     "metadata": {},
     "output_type": "execute_result"
    }
   ],
   "source": [
    "ser[ser < 3] = 0\n",
    "ser"
   ]
  },
  {
   "cell_type": "markdown",
   "id": "d664620a-6fcf-428f-9f58-e1927eb2942c",
   "metadata": {},
   "source": [
    "#### » Access nth element by position -> `series.iloc[n]`"
   ]
  },
  {
   "cell_type": "code",
   "execution_count": 20,
   "id": "545b3e01-44be-4356-a336-c023a30c2964",
   "metadata": {},
   "outputs": [
    {
     "data": {
      "text/plain": [
       "np.int64(3)"
      ]
     },
     "execution_count": 20,
     "metadata": {},
     "output_type": "execute_result"
    }
   ],
   "source": [
    "ser.iloc[2]"
   ]
  },
  {
   "cell_type": "markdown",
   "id": "3cc57f87-db72-4bdb-bba3-a146460000af",
   "metadata": {},
   "source": [
    "#### » Acces multiple by position"
   ]
  },
  {
   "cell_type": "code",
   "execution_count": 21,
   "id": "331cb03e-0cc8-4719-adc8-1c9f04b33179",
   "metadata": {},
   "outputs": [
    {
     "data": {
      "text/plain": [
       "a    0\n",
       "c    3\n",
       "dtype: int64"
      ]
     },
     "execution_count": 21,
     "metadata": {},
     "output_type": "execute_result"
    }
   ],
   "source": [
    "ser.iloc[[0, 2]]"
   ]
  },
  {
   "cell_type": "code",
   "execution_count": 22,
   "id": "a284f0be-d638-4d22-8fa7-7ba9734f8d96",
   "metadata": {},
   "outputs": [
    {
     "data": {
      "text/plain": [
       "a    0\n",
       "b    0\n",
       "c    3\n",
       "dtype: int64"
      ]
     },
     "execution_count": 22,
     "metadata": {},
     "output_type": "execute_result"
    }
   ],
   "source": [
    "ser.iloc[0:3]"
   ]
  }
 ],
 "metadata": {
  "kernelspec": {
   "display_name": "Python [conda env:base] *",
   "language": "python",
   "name": "conda-base-py"
  },
  "language_info": {
   "codemirror_mode": {
    "name": "ipython",
    "version": 3
   },
   "file_extension": ".py",
   "mimetype": "text/x-python",
   "name": "python",
   "nbconvert_exporter": "python",
   "pygments_lexer": "ipython3",
   "version": "3.13.5"
  }
 },
 "nbformat": 4,
 "nbformat_minor": 5
}

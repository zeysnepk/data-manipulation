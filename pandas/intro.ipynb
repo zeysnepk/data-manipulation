{
 "cells": [
  {
   "cell_type": "markdown",
   "id": "73bfcb18-f336-41b4-8fbe-34c7aa966295",
   "metadata": {},
   "source": [
    "# 📘 Pandas Introduction\n",
    "\n",
    "**Pandas Series** is a one-dimensional labeled array capable of holding any data type (integers, strings, floats, Python objects, etc.).  \n",
    "It is built on top of NumPy and is a fundamental building block of the Pandas library, commonly used for labeled data operations and preprocessing tasks."
   ]
  },
  {
   "cell_type": "markdown",
   "id": "763e2942-5cd0-4dc2-a934-5697eb1d5723",
   "metadata": {},
   "source": [
    "#### » Import the Pandas library, usually abbreviated as `pd`"
   ]
  },
  {
   "cell_type": "code",
   "execution_count": 1,
   "id": "00b5394b-ee04-4897-86e6-fcc4032165ea",
   "metadata": {},
   "outputs": [],
   "source": [
    "import pandas as pd"
   ]
  },
  {
   "cell_type": "markdown",
   "id": "6b4b0cdd-4a01-4bb0-84ef-71d30ed083ca",
   "metadata": {},
   "source": [
    "#### » Create a Series from a list"
   ]
  },
  {
   "cell_type": "code",
   "execution_count": 2,
   "id": "6367c9d0-76e7-4df2-8b5d-1bf671d78c33",
   "metadata": {},
   "outputs": [
    {
     "data": {
      "text/plain": [
       "0    10\n",
       "1     2\n",
       "2     3\n",
       "3     5\n",
       "4     1\n",
       "5     2\n",
       "dtype: int64"
      ]
     },
     "execution_count": 2,
     "metadata": {},
     "output_type": "execute_result"
    }
   ],
   "source": [
    "series = pd.Series([10,2,3,5,1,2])\n",
    "series"
   ]
  },
  {
   "cell_type": "markdown",
   "id": "6cf2eb7d-0ab7-4e55-9fe0-51103d051203",
   "metadata": {},
   "source": [
    "#### » View the first few elements"
   ]
  },
  {
   "cell_type": "code",
   "execution_count": 3,
   "id": "f417b0d3-aa69-44d3-8985-9ef42c57e675",
   "metadata": {},
   "outputs": [
    {
     "data": {
      "text/plain": [
       "0    10\n",
       "1     2\n",
       "2     3\n",
       "3     5\n",
       "4     1\n",
       "dtype: int64"
      ]
     },
     "execution_count": 3,
     "metadata": {},
     "output_type": "execute_result"
    }
   ],
   "source": [
    "series.head()"
   ]
  },
  {
   "cell_type": "markdown",
   "id": "9bc8c26f-2b05-479e-93d0-ae5ab6a268e8",
   "metadata": {},
   "source": [
    "#### » View the first n elements -> `series.head(n)`"
   ]
  },
  {
   "cell_type": "code",
   "execution_count": 4,
   "id": "427f9d0a-7684-41cd-820a-ad399b7bee8e",
   "metadata": {},
   "outputs": [
    {
     "data": {
      "text/plain": [
       "0    10\n",
       "1     2\n",
       "dtype: int64"
      ]
     },
     "execution_count": 4,
     "metadata": {},
     "output_type": "execute_result"
    }
   ],
   "source": [
    "series.head(2)"
   ]
  },
  {
   "cell_type": "markdown",
   "id": "d7c3df2b-ab7a-48e6-9e12-d4d5cc706a78",
   "metadata": {},
   "source": [
    "#### » View the last few elements"
   ]
  },
  {
   "cell_type": "code",
   "execution_count": 28,
   "id": "e369f8bf-fdb3-4e6e-9b02-472070cdfaac",
   "metadata": {},
   "outputs": [
    {
     "data": {
      "text/plain": [
       "1    2\n",
       "2    3\n",
       "3    5\n",
       "4    1\n",
       "5    2\n",
       "dtype: int64"
      ]
     },
     "execution_count": 28,
     "metadata": {},
     "output_type": "execute_result"
    }
   ],
   "source": [
    "series.tail()"
   ]
  },
  {
   "cell_type": "markdown",
   "id": "765a69dd-fdaf-4839-91c4-e062f56d493c",
   "metadata": {},
   "source": [
    "#### » View the last n elements -> `series.tail[n]`"
   ]
  },
  {
   "cell_type": "code",
   "execution_count": 6,
   "id": "3629c5aa-0f92-4d67-8cd4-3e3584d36691",
   "metadata": {},
   "outputs": [
    {
     "data": {
      "text/plain": [
       "4    1\n",
       "5    2\n",
       "dtype: int64"
      ]
     },
     "execution_count": 6,
     "metadata": {},
     "output_type": "execute_result"
    }
   ],
   "source": [
    "series.tail(2)"
   ]
  },
  {
   "cell_type": "markdown",
   "id": "14d4e35c-18ac-48b9-99ad-b14f2e8810dc",
   "metadata": {},
   "source": [
    "#### » Add n to each value -> `series + n`"
   ]
  },
  {
   "cell_type": "code",
   "execution_count": 5,
   "id": "65eaa92d-fd6b-4daf-ae29-faa9c8ce78f0",
   "metadata": {},
   "outputs": [
    {
     "data": {
      "text/plain": [
       "0    17\n",
       "1     9\n",
       "2    10\n",
       "3    12\n",
       "4     8\n",
       "5     9\n",
       "dtype: int64"
      ]
     },
     "execution_count": 5,
     "metadata": {},
     "output_type": "execute_result"
    }
   ],
   "source": [
    "series + 7"
   ]
  },
  {
   "cell_type": "markdown",
   "id": "874f085c-f5ae-47c8-a83e-3b73f0cfcb82",
   "metadata": {},
   "source": [
    "#### » Subtract n from each value -> `series - n`"
   ]
  },
  {
   "cell_type": "code",
   "execution_count": 7,
   "id": "4175d43f-2ab2-4428-b4f8-b2bebcd1b263",
   "metadata": {},
   "outputs": [
    {
     "data": {
      "text/plain": [
       "0    8\n",
       "1    0\n",
       "2    1\n",
       "3    3\n",
       "4   -1\n",
       "5    0\n",
       "dtype: int64"
      ]
     },
     "execution_count": 7,
     "metadata": {},
     "output_type": "execute_result"
    }
   ],
   "source": [
    "series - 2"
   ]
  },
  {
   "cell_type": "markdown",
   "id": "11d33777-04c2-404c-b400-82f3d4927ec0",
   "metadata": {},
   "source": [
    "#### » Multiply all values by n  -> `series * n`"
   ]
  },
  {
   "cell_type": "code",
   "execution_count": 8,
   "id": "5efce00b-5b46-44f6-9a2e-caf926af1a4a",
   "metadata": {},
   "outputs": [
    {
     "data": {
      "text/plain": [
       "0    30\n",
       "1     6\n",
       "2     9\n",
       "3    15\n",
       "4     3\n",
       "5     6\n",
       "dtype: int64"
      ]
     },
     "execution_count": 8,
     "metadata": {},
     "output_type": "execute_result"
    }
   ],
   "source": [
    "series * 3"
   ]
  },
  {
   "cell_type": "markdown",
   "id": "dd2bcd28-a1b2-46b9-987a-d3a48eaccf3c",
   "metadata": {},
   "source": [
    "#### » Divide all values by n -> `series / n`"
   ]
  },
  {
   "cell_type": "code",
   "execution_count": 9,
   "id": "cc7d9883-d76b-46ec-bff2-5fff99bd3567",
   "metadata": {},
   "outputs": [
    {
     "data": {
      "text/plain": [
       "0    5\n",
       "1    1\n",
       "2    1\n",
       "3    2\n",
       "4    0\n",
       "5    1\n",
       "dtype: int64"
      ]
     },
     "execution_count": 9,
     "metadata": {},
     "output_type": "execute_result"
    }
   ],
   "source": [
    "(series / 2).astype(int)"
   ]
  },
  {
   "cell_type": "markdown",
   "id": "ee4c919e-dfc9-498a-aad5-958b3db9d5d1",
   "metadata": {},
   "source": [
    "#### » Create a Series with custom labels"
   ]
  },
  {
   "cell_type": "code",
   "execution_count": 10,
   "id": "f6317c04-f34f-48f9-acaf-68ad41930077",
   "metadata": {},
   "outputs": [
    {
     "data": {
      "text/plain": [
       "1    1\n",
       "2    2\n",
       "3    3\n",
       "4    4\n",
       "5    5\n",
       "dtype: int64"
      ]
     },
     "execution_count": 10,
     "metadata": {},
     "output_type": "execute_result"
    }
   ],
   "source": [
    "pd.Series([1,2,3,4,5], index=[1,2,3,4,5])"
   ]
  },
  {
   "cell_type": "code",
   "execution_count": 11,
   "id": "b5935f9c-798b-44e8-bbeb-95a73ed4d49d",
   "metadata": {},
   "outputs": [
    {
     "data": {
      "text/plain": [
       "a    1\n",
       "b    2\n",
       "c    3\n",
       "d    4\n",
       "e    5\n",
       "dtype: int64"
      ]
     },
     "execution_count": 11,
     "metadata": {},
     "output_type": "execute_result"
    }
   ],
   "source": [
    "ser = pd.Series([1,2,3,4,5], index=[\"a\",\"b\",\"c\",\"d\",\"e\"])\n",
    "ser"
   ]
  },
  {
   "cell_type": "markdown",
   "id": "4a4281ba-0e94-4c8e-a691-15d36116e851",
   "metadata": {},
   "source": [
    "#### » Create a Series from a dictionary"
   ]
  },
  {
   "cell_type": "code",
   "execution_count": 12,
   "id": "5b79ee98-d2ea-44cb-a724-0432df16341b",
   "metadata": {},
   "outputs": [
    {
     "data": {
      "text/plain": [
       "a    1\n",
       "b    2\n",
       "c    3\n",
       "dtype: int64"
      ]
     },
     "execution_count": 12,
     "metadata": {},
     "output_type": "execute_result"
    }
   ],
   "source": [
    "dict_ = pd.Series({\"a\": 1, \"b\":2, \"c\":3})\n",
    "dict_"
   ]
  },
  {
   "cell_type": "code",
   "execution_count": 13,
   "id": "cd74e5aa-7373-472f-8e6b-99d570a3192b",
   "metadata": {},
   "outputs": [
    {
     "data": {
      "text/plain": [
       "a    1\n",
       "b    2\n",
       "c    3\n",
       "dtype: int64"
      ]
     },
     "execution_count": 13,
     "metadata": {},
     "output_type": "execute_result"
    }
   ],
   "source": [
    "dic = {\"a\": 1, \"b\":2, \"c\":3}\n",
    "pd.Series(dic)"
   ]
  },
  {
   "cell_type": "markdown",
   "id": "73e5a861-ff17-4581-9fc9-5ce2affbcc54",
   "metadata": {},
   "source": [
    "#### » Get the summary statistics of series"
   ]
  },
  {
   "cell_type": "code",
   "execution_count": 14,
   "id": "61d6e2fd-a550-4544-9442-92a0ccb7df67",
   "metadata": {},
   "outputs": [
    {
     "data": {
      "text/plain": [
       "count    5.000000\n",
       "mean     3.000000\n",
       "std      1.581139\n",
       "min      1.000000\n",
       "25%      2.000000\n",
       "50%      3.000000\n",
       "75%      4.000000\n",
       "max      5.000000\n",
       "dtype: float64"
      ]
     },
     "execution_count": 14,
     "metadata": {},
     "output_type": "execute_result"
    }
   ],
   "source": [
    "ser.describe()"
   ]
  },
  {
   "cell_type": "markdown",
   "id": "a4aa8943-5cf0-4da0-8526-10712086df08",
   "metadata": {},
   "source": [
    "#### » Get the mean of series"
   ]
  },
  {
   "cell_type": "code",
   "execution_count": 15,
   "id": "5f3600de-1824-43ab-b74c-4400071749a9",
   "metadata": {},
   "outputs": [
    {
     "data": {
      "text/plain": [
       "np.float64(3.0)"
      ]
     },
     "execution_count": 15,
     "metadata": {},
     "output_type": "execute_result"
    }
   ],
   "source": [
    "ser.mean()"
   ]
  },
  {
   "cell_type": "markdown",
   "id": "831e0f01-49fa-4b0e-9bcb-b78ff3dec4ce",
   "metadata": {},
   "source": [
    "#### » Get the standard deviation of series"
   ]
  },
  {
   "cell_type": "code",
   "execution_count": 16,
   "id": "86c73b46-346e-42de-9133-902c7e526bec",
   "metadata": {},
   "outputs": [
    {
     "data": {
      "text/plain": [
       "1.5811388300841898"
      ]
     },
     "execution_count": 16,
     "metadata": {},
     "output_type": "execute_result"
    }
   ],
   "source": [
    "ser.std()"
   ]
  },
  {
   "cell_type": "markdown",
   "id": "9fcc4ea0-a3ea-498b-82af-8b8bebc00a31",
   "metadata": {},
   "source": [
    "#### » Concatenate Series objects vertically (default axis=0)"
   ]
  },
  {
   "cell_type": "code",
   "execution_count": 17,
   "id": "bda66087-f90d-47ad-b1d5-a65fcf9098c9",
   "metadata": {},
   "outputs": [
    {
     "data": {
      "text/plain": [
       "a    1\n",
       "b    2\n",
       "c    3\n",
       "d    4\n",
       "e    5\n",
       "a    1\n",
       "b    2\n",
       "c    3\n",
       "d    4\n",
       "e    5\n",
       "dtype: int64"
      ]
     },
     "execution_count": 17,
     "metadata": {},
     "output_type": "execute_result"
    }
   ],
   "source": [
    "pd.concat([ser, ser], axis=0)"
   ]
  },
  {
   "cell_type": "markdown",
   "id": "19b465ad-5942-437b-b323-d20de533f339",
   "metadata": {},
   "source": [
    "#### » Concatenate Series objects horizontally"
   ]
  },
  {
   "cell_type": "code",
   "execution_count": 18,
   "id": "069868c7-c717-40a3-ba7f-91e1e5a6dc87",
   "metadata": {},
   "outputs": [
    {
     "data": {
      "text/html": [
       "<div>\n",
       "<style scoped>\n",
       "    .dataframe tbody tr th:only-of-type {\n",
       "        vertical-align: middle;\n",
       "    }\n",
       "\n",
       "    .dataframe tbody tr th {\n",
       "        vertical-align: top;\n",
       "    }\n",
       "\n",
       "    .dataframe thead th {\n",
       "        text-align: right;\n",
       "    }\n",
       "</style>\n",
       "<table border=\"1\" class=\"dataframe\">\n",
       "  <thead>\n",
       "    <tr style=\"text-align: right;\">\n",
       "      <th></th>\n",
       "      <th>0</th>\n",
       "      <th>1</th>\n",
       "    </tr>\n",
       "  </thead>\n",
       "  <tbody>\n",
       "    <tr>\n",
       "      <th>a</th>\n",
       "      <td>1</td>\n",
       "      <td>1</td>\n",
       "    </tr>\n",
       "    <tr>\n",
       "      <th>b</th>\n",
       "      <td>2</td>\n",
       "      <td>2</td>\n",
       "    </tr>\n",
       "    <tr>\n",
       "      <th>c</th>\n",
       "      <td>3</td>\n",
       "      <td>3</td>\n",
       "    </tr>\n",
       "    <tr>\n",
       "      <th>d</th>\n",
       "      <td>4</td>\n",
       "      <td>4</td>\n",
       "    </tr>\n",
       "    <tr>\n",
       "      <th>e</th>\n",
       "      <td>5</td>\n",
       "      <td>5</td>\n",
       "    </tr>\n",
       "  </tbody>\n",
       "</table>\n",
       "</div>"
      ],
      "text/plain": [
       "   0  1\n",
       "a  1  1\n",
       "b  2  2\n",
       "c  3  3\n",
       "d  4  4\n",
       "e  5  5"
      ]
     },
     "execution_count": 18,
     "metadata": {},
     "output_type": "execute_result"
    }
   ],
   "source": [
    "pd.concat([ser, ser], axis=1)"
   ]
  }
 ],
 "metadata": {
  "kernelspec": {
   "display_name": "Python [conda env:base] *",
   "language": "python",
   "name": "conda-base-py"
  },
  "language_info": {
   "codemirror_mode": {
    "name": "ipython",
    "version": 3
   },
   "file_extension": ".py",
   "mimetype": "text/x-python",
   "name": "python",
   "nbconvert_exporter": "python",
   "pygments_lexer": "ipython3",
   "version": "3.13.5"
  }
 },
 "nbformat": 4,
 "nbformat_minor": 5
}

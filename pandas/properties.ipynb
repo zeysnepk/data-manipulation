{
 "cells": [
  {
   "cell_type": "markdown",
   "id": "f9dc2a4d-9ce4-4086-94cb-7d1fdc0a84d2",
   "metadata": {},
   "source": [
    "# 💫 Pandas Series Properties"
   ]
  },
  {
   "cell_type": "markdown",
   "id": "bf0a2f6d-7dd4-403e-b447-bfe9661f7a37",
   "metadata": {},
   "source": [
    "#### » Importing the Pandas library, usually abbreviated as `pd`"
   ]
  },
  {
   "cell_type": "code",
   "execution_count": 1,
   "id": "6906ecd8-f004-4f37-bdb0-e48618c1772e",
   "metadata": {},
   "outputs": [],
   "source": [
    "import pandas as pd"
   ]
  },
  {
   "cell_type": "markdown",
   "id": "b005b56b-2745-4acf-9270-094038673335",
   "metadata": {},
   "source": [
    "#### » Creating a Series from a list"
   ]
  },
  {
   "cell_type": "code",
   "execution_count": 2,
   "id": "fde4c2eb-ba2f-4f38-b44d-eea9810d6e3c",
   "metadata": {},
   "outputs": [],
   "source": [
    "series= pd.Series([10,2,3,5,1])"
   ]
  },
  {
   "cell_type": "code",
   "execution_count": 4,
   "id": "7a1b1de2-68ca-4206-b922-49b0fcf2e7ed",
   "metadata": {},
   "outputs": [
    {
     "data": {
      "text/plain": [
       "0    10\n",
       "1     2\n",
       "2     3\n",
       "3     5\n",
       "4     1\n",
       "dtype: int64"
      ]
     },
     "execution_count": 4,
     "metadata": {},
     "output_type": "execute_result"
    }
   ],
   "source": [
    "series"
   ]
  },
  {
   "cell_type": "markdown",
   "id": "5d207203-c0ca-40e6-8c96-cc847ce44a9a",
   "metadata": {},
   "source": [
    "#### » Checking the type of the object"
   ]
  },
  {
   "cell_type": "code",
   "execution_count": 3,
   "id": "95fb3900-2b63-4e02-acc9-5159ed240321",
   "metadata": {},
   "outputs": [
    {
     "data": {
      "text/plain": [
       "pandas.core.series.Series"
      ]
     },
     "execution_count": 3,
     "metadata": {},
     "output_type": "execute_result"
    }
   ],
   "source": [
    "type(series)"
   ]
  },
  {
   "cell_type": "markdown",
   "id": "57449f46-7d0f-4dcb-bcaf-12e08d8d9687",
   "metadata": {},
   "source": [
    "#### » Getting axis labels (index) of the Series"
   ]
  },
  {
   "cell_type": "code",
   "execution_count": 5,
   "id": "dc26bf8c-c795-4985-8adf-10fc26b85e41",
   "metadata": {},
   "outputs": [
    {
     "data": {
      "text/plain": [
       "[RangeIndex(start=0, stop=5, step=1)]"
      ]
     },
     "execution_count": 5,
     "metadata": {},
     "output_type": "execute_result"
    }
   ],
   "source": [
    "series.axes"
   ]
  },
  {
   "cell_type": "code",
   "execution_count": 17,
   "id": "25003997-4032-4666-95b4-1e2c82c1a96d",
   "metadata": {},
   "outputs": [
    {
     "data": {
      "text/plain": [
       "RangeIndex(start=0, stop=5, step=1)"
      ]
     },
     "execution_count": 17,
     "metadata": {},
     "output_type": "execute_result"
    }
   ],
   "source": [
    "series.index"
   ]
  },
  {
   "cell_type": "markdown",
   "id": "b852a178-759b-4842-a7d5-f605181c6f70",
   "metadata": {},
   "source": [
    "#### » Checking the `data type` of elements"
   ]
  },
  {
   "cell_type": "code",
   "execution_count": 6,
   "id": "91fd4344-235d-4b30-9be8-1564eb9d4104",
   "metadata": {},
   "outputs": [
    {
     "data": {
      "text/plain": [
       "dtype('int64')"
      ]
     },
     "execution_count": 6,
     "metadata": {},
     "output_type": "execute_result"
    }
   ],
   "source": [
    "series.dtype"
   ]
  },
  {
   "cell_type": "markdown",
   "id": "c051b083-8dee-4f4a-ba91-20faee4844fd",
   "metadata": {},
   "source": [
    "#### » `Total number of elements` in the array"
   ]
  },
  {
   "cell_type": "code",
   "execution_count": 7,
   "id": "95645223-d062-4ab3-8460-0954679f67e3",
   "metadata": {},
   "outputs": [
    {
     "data": {
      "text/plain": [
       "5"
      ]
     },
     "execution_count": 7,
     "metadata": {},
     "output_type": "execute_result"
    }
   ],
   "source": [
    "series.size"
   ]
  },
  {
   "cell_type": "markdown",
   "id": "d2d53fb8-12fe-4ef0-b2fb-3ec3c708be5a",
   "metadata": {},
   "source": [
    "#### » Getting number of dimensions"
   ]
  },
  {
   "cell_type": "code",
   "execution_count": 8,
   "id": "756d8333-b476-46ca-815d-b5705550dfae",
   "metadata": {},
   "outputs": [
    {
     "data": {
      "text/plain": [
       "1"
      ]
     },
     "execution_count": 8,
     "metadata": {},
     "output_type": "execute_result"
    }
   ],
   "source": [
    "series.ndim"
   ]
  },
  {
   "cell_type": "markdown",
   "id": "5076047a-813e-4364-9664-4e3b9bfdbe46",
   "metadata": {},
   "source": [
    "#### » Getting the data values as a NumPy array"
   ]
  },
  {
   "cell_type": "code",
   "execution_count": 9,
   "id": "be33306b-54f0-474b-b339-d2acd99cae89",
   "metadata": {},
   "outputs": [
    {
     "data": {
      "text/plain": [
       "array([10,  2,  3,  5,  1])"
      ]
     },
     "execution_count": 9,
     "metadata": {},
     "output_type": "execute_result"
    }
   ],
   "source": [
    "series.values"
   ]
  },
  {
   "cell_type": "markdown",
   "id": "844b11f0-580e-4618-980c-3081cd5bfddd",
   "metadata": {},
   "source": [
    "#### » Getting `shape` of array"
   ]
  },
  {
   "cell_type": "code",
   "execution_count": 10,
   "id": "cc4fa2b5-34d8-4dce-8913-e09aca838774",
   "metadata": {},
   "outputs": [
    {
     "data": {
      "text/plain": [
       "(5,)"
      ]
     },
     "execution_count": 10,
     "metadata": {},
     "output_type": "execute_result"
    }
   ],
   "source": [
    "series.shape"
   ]
  },
  {
   "cell_type": "markdown",
   "id": "8e65b6ca-3f34-417c-853b-5b7703a54627",
   "metadata": {},
   "source": [
    "#### » Checking if all values in the Series are unique"
   ]
  },
  {
   "cell_type": "code",
   "execution_count": 12,
   "id": "071a5f79-e2b9-4ed0-a87d-61a3026571eb",
   "metadata": {},
   "outputs": [
    {
     "data": {
      "text/plain": [
       "True"
      ]
     },
     "execution_count": 12,
     "metadata": {},
     "output_type": "execute_result"
    }
   ],
   "source": [
    "series.is_unique"
   ]
  },
  {
   "cell_type": "markdown",
   "id": "786c891e-e2c4-4d94-b90a-f9a871629553",
   "metadata": {},
   "source": [
    "#### » Checking if the Series contains any missing (NaN) values"
   ]
  },
  {
   "cell_type": "code",
   "execution_count": 13,
   "id": "6f816c05-f9d1-4c8b-ae42-bc6a60fd7ec4",
   "metadata": {},
   "outputs": [
    {
     "data": {
      "text/plain": [
       "False"
      ]
     },
     "execution_count": 13,
     "metadata": {},
     "output_type": "execute_result"
    }
   ],
   "source": [
    "series.hasnans"
   ]
  },
  {
   "cell_type": "markdown",
   "id": "a6acc7a1-a857-4572-afcf-47dd609d3361",
   "metadata": {},
   "source": [
    "#### » Creating a Series with custom labels"
   ]
  },
  {
   "cell_type": "code",
   "execution_count": 15,
   "id": "793c91fb-3e56-4494-9402-cc477278a985",
   "metadata": {},
   "outputs": [],
   "source": [
    "ser = pd.Series([1,2,3,4],\n",
    "                index=[\"a\",\"b\",\"c\",\"d\"])"
   ]
  },
  {
   "cell_type": "code",
   "execution_count": 16,
   "id": "c144ba72-b9a3-4e48-ac2c-ab06c5ccf9a0",
   "metadata": {},
   "outputs": [
    {
     "data": {
      "text/plain": [
       "Index(['a', 'b', 'c', 'd'], dtype='object')"
      ]
     },
     "execution_count": 16,
     "metadata": {},
     "output_type": "execute_result"
    }
   ],
   "source": [
    "ser.index"
   ]
  },
  {
   "cell_type": "code",
   "execution_count": 25,
   "id": "37e05657-c872-4b44-8862-73c81de18399",
   "metadata": {},
   "outputs": [
    {
     "data": {
      "text/plain": [
       "array([1, 2, 3, 4])"
      ]
     },
     "execution_count": 25,
     "metadata": {},
     "output_type": "execute_result"
    }
   ],
   "source": [
    "ser.values"
   ]
  },
  {
   "cell_type": "markdown",
   "id": "19bc12de-077a-4e47-9192-4cb819720e8d",
   "metadata": {},
   "source": [
    "#### » Getting the index (labels) of the Series"
   ]
  },
  {
   "cell_type": "code",
   "execution_count": 26,
   "id": "6bab2bfc-cb5a-4bc5-a280-6869257c5829",
   "metadata": {},
   "outputs": [
    {
     "data": {
      "text/plain": [
       "<bound method Series.keys of a    1\n",
       "b    2\n",
       "c    3\n",
       "d    4\n",
       "dtype: int64>"
      ]
     },
     "execution_count": 26,
     "metadata": {},
     "output_type": "execute_result"
    }
   ],
   "source": [
    "ser.keys #same as ser.index or ser.axes"
   ]
  },
  {
   "cell_type": "code",
   "execution_count": 20,
   "id": "24bf7508-ce86-4801-8eb6-41fca9a38991",
   "metadata": {},
   "outputs": [
    {
     "data": {
      "text/plain": [
       "['a', 'b', 'c', 'd']"
      ]
     },
     "execution_count": 20,
     "metadata": {},
     "output_type": "execute_result"
    }
   ],
   "source": [
    "list(ser.keys())"
   ]
  },
  {
   "cell_type": "code",
   "execution_count": 27,
   "id": "76d25295-9d4c-4c2a-9ac4-9527a7dda544",
   "metadata": {},
   "outputs": [
    {
     "data": {
      "text/plain": [
       "Index(['a', 'b', 'c', 'd'], dtype='object')"
      ]
     },
     "execution_count": 27,
     "metadata": {},
     "output_type": "execute_result"
    }
   ],
   "source": [
    "ser.index"
   ]
  },
  {
   "cell_type": "code",
   "execution_count": 28,
   "id": "5d0884ad-0769-40e3-96e2-4f04a83298f6",
   "metadata": {},
   "outputs": [
    {
     "data": {
      "text/plain": [
       "[Index(['a', 'b', 'c', 'd'], dtype='object')]"
      ]
     },
     "execution_count": 28,
     "metadata": {},
     "output_type": "execute_result"
    }
   ],
   "source": [
    "ser.axes"
   ]
  },
  {
   "cell_type": "markdown",
   "id": "34cd2d12-c943-4d28-bcc5-e8b7573ff0dc",
   "metadata": {},
   "source": [
    "#### » Getting an iterator of (index, value) pairs"
   ]
  },
  {
   "cell_type": "code",
   "execution_count": 21,
   "id": "2d50d5e7-8488-4bf7-a073-d059dcd12bc8",
   "metadata": {},
   "outputs": [
    {
     "data": {
      "text/plain": [
       "<bound method Series.items of a    1\n",
       "b    2\n",
       "c    3\n",
       "d    4\n",
       "dtype: int64>"
      ]
     },
     "execution_count": 21,
     "metadata": {},
     "output_type": "execute_result"
    }
   ],
   "source": [
    " ser.items"
   ]
  },
  {
   "cell_type": "code",
   "execution_count": 24,
   "id": "bdf4ccb8-c1f1-4a3b-b28c-ef62da949422",
   "metadata": {},
   "outputs": [
    {
     "data": {
      "text/plain": [
       "[('a', 1), ('b', 2), ('c', 3), ('d', 4)]"
      ]
     },
     "execution_count": 24,
     "metadata": {},
     "output_type": "execute_result"
    }
   ],
   "source": [
    "list(ser.items())"
   ]
  }
 ],
 "metadata": {
  "kernelspec": {
   "display_name": "Python [conda env:base] *",
   "language": "python",
   "name": "conda-base-py"
  },
  "language_info": {
   "codemirror_mode": {
    "name": "ipython",
    "version": 3
   },
   "file_extension": ".py",
   "mimetype": "text/x-python",
   "name": "python",
   "nbconvert_exporter": "python",
   "pygments_lexer": "ipython3",
   "version": "3.13.5"
  }
 },
 "nbformat": 4,
 "nbformat_minor": 5
}

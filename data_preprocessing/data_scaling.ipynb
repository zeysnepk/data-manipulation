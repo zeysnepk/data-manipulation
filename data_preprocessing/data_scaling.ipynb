{
 "cells": [
  {
   "cell_type": "markdown",
   "id": "6ab88784-b21b-4e53-99b2-1ec8eb5f3c7b",
   "metadata": {},
   "source": [
    "# ⚖️ Data Scaling: Standardization vs Normalization vs Min–Max Normalization\n",
    "\n",
    "Many machine learning algorithms are sensitive to the **scale of features**.  \n",
    "To ensure fair contribution of each variable, we often apply **scaling techniques**.\n",
    "\n",
    "## 🔹 Standardization (Z-score Normalization)\n",
    "\n",
    "Transforms data so that it has **mean = 0** and **standard deviation = 1**.\n",
    "\n",
    "$z = \\frac{x - \\mu}{\\sigma}$\n",
    "\n",
    "- $\\mu$ → mean of the feature  \n",
    "- $\\sigma$ → standard deviation  \n",
    "\n",
    "**Pros**:\n",
    "- Keeps outliers (not bounded).  \n",
    "- Useful for algorithms assuming Gaussian distribution (e.g., Logistic Regression, Linear Regression, PCA).  \n",
    "\n",
    "## 🔹 Normalization (Vector Norm)\n",
    "\n",
    "Scales data so that the **magnitude of each sample vector** equals 1.\n",
    "\n",
    "For **L2 normalization**:\n",
    "\n",
    "$x_{norm} = \\frac{x}{\\|x\\|_2}$\n",
    "\n",
    "- Ensures each row (sample) has unit length.  \n",
    "- Often used in **text mining** or algorithms relying on cosine similarity (e.g., KNN, SVM).  \n",
    "\n",
    "## 🔹 Min–Max Normalization\n",
    "\n",
    "Scales data to a **fixed range** (usually [0,1]):\n",
    "\n",
    "$x' = \\frac{x - x_{min}}{x_{max} - x_{min}}$\n",
    "\n",
    "- $x_{min}, x_{max}$ → minimum and maximum values of the feature.  \n",
    "\n",
    "**Pros**:\n",
    "- Keeps relationships between values.  \n",
    "- Ideal for algorithms that require bounded input (e.g., Neural Networks, K-Means).  \n",
    "\n",
    "**Cons**:\n",
    "- Sensitive to outliers (they stretch the range).  \n",
    "\n",
    "---\n"
   ]
  },
  {
   "cell_type": "markdown",
   "id": "9272a684-67e0-41f0-b0d5-b3ebd9144bbd",
   "metadata": {},
   "source": [
    "#### » Create a dataframe with vectors and set the type to float"
   ]
  },
  {
   "cell_type": "code",
   "execution_count": 1,
   "id": "517798f8-4e54-4db7-972a-5d73e40932b9",
   "metadata": {},
   "outputs": [
    {
     "data": {
      "text/html": [
       "<div>\n",
       "<style scoped>\n",
       "    .dataframe tbody tr th:only-of-type {\n",
       "        vertical-align: middle;\n",
       "    }\n",
       "\n",
       "    .dataframe tbody tr th {\n",
       "        vertical-align: top;\n",
       "    }\n",
       "\n",
       "    .dataframe thead th {\n",
       "        text-align: right;\n",
       "    }\n",
       "</style>\n",
       "<table border=\"1\" class=\"dataframe\">\n",
       "  <thead>\n",
       "    <tr style=\"text-align: right;\">\n",
       "      <th></th>\n",
       "      <th>V1</th>\n",
       "      <th>V2</th>\n",
       "      <th>V3</th>\n",
       "    </tr>\n",
       "  </thead>\n",
       "  <tbody>\n",
       "    <tr>\n",
       "      <th>0</th>\n",
       "      <td>2.0</td>\n",
       "      <td>4.0</td>\n",
       "      <td>5.0</td>\n",
       "    </tr>\n",
       "    <tr>\n",
       "      <th>1</th>\n",
       "      <td>7.0</td>\n",
       "      <td>2.0</td>\n",
       "      <td>4.0</td>\n",
       "    </tr>\n",
       "    <tr>\n",
       "      <th>2</th>\n",
       "      <td>4.0</td>\n",
       "      <td>7.0</td>\n",
       "      <td>8.0</td>\n",
       "    </tr>\n",
       "    <tr>\n",
       "      <th>3</th>\n",
       "      <td>9.0</td>\n",
       "      <td>8.0</td>\n",
       "      <td>12.0</td>\n",
       "    </tr>\n",
       "    <tr>\n",
       "      <th>4</th>\n",
       "      <td>1.0</td>\n",
       "      <td>7.0</td>\n",
       "      <td>5.0</td>\n",
       "    </tr>\n",
       "  </tbody>\n",
       "</table>\n",
       "</div>"
      ],
      "text/plain": [
       "    V1   V2    V3\n",
       "0  2.0  4.0   5.0\n",
       "1  7.0  2.0   4.0\n",
       "2  4.0  7.0   8.0\n",
       "3  9.0  8.0  12.0\n",
       "4  1.0  7.0   5.0"
      ]
     },
     "execution_count": 1,
     "metadata": {},
     "output_type": "execute_result"
    }
   ],
   "source": [
    "import numpy as np\n",
    "import pandas as pd\n",
    "vector1 = np.array([2,7,4,9,1])\n",
    "vector2 = np.array([4,2,7,8,7])\n",
    "vector3 = np.array([5,4,8,12,5])\n",
    "df = pd.DataFrame({\"V1\":vector1,\"V2\":vector2,\"V3\":vector3})\n",
    "df = df.astype(float)\n",
    "df"
   ]
  },
  {
   "cell_type": "markdown",
   "id": "5dbc48b6-e0ee-4c3f-8e20-0f046cc24de6",
   "metadata": {},
   "source": [
    "## Standardization (Z-score Normalization)"
   ]
  },
  {
   "cell_type": "code",
   "execution_count": 4,
   "id": "16acedb3-662e-426d-b47d-365c2494893b",
   "metadata": {},
   "outputs": [
    {
     "data": {
      "text/plain": [
       "array([[-0.86474714, -0.71269665, -0.61522733],\n",
       "       [ 0.79822813, -1.60356745, -0.9570203 ],\n",
       "       [-0.19955703,  0.62360956,  0.41015156],\n",
       "       [ 1.46341823,  1.06904497,  1.77732341],\n",
       "       [-1.19734219,  0.62360956, -0.61522733]])"
      ]
     },
     "execution_count": 4,
     "metadata": {},
     "output_type": "execute_result"
    }
   ],
   "source": [
    "from sklearn import preprocessing\n",
    "preprocessing.scale(df)"
   ]
  },
  {
   "cell_type": "markdown",
   "id": "97973225-7905-47e8-bed8-a5c8d07c04cd",
   "metadata": {},
   "source": [
    "## Normalization (Vector Norm)"
   ]
  },
  {
   "cell_type": "code",
   "execution_count": 5,
   "id": "b4a389e4-ccef-4792-b6d8-8499e2659a2e",
   "metadata": {},
   "outputs": [
    {
     "data": {
      "text/plain": [
       "array([[0.2981424 , 0.59628479, 0.74535599],\n",
       "       [0.84270097, 0.24077171, 0.48154341],\n",
       "       [0.35218036, 0.61631563, 0.70436073],\n",
       "       [0.52941176, 0.47058824, 0.70588235],\n",
       "       [0.11547005, 0.80829038, 0.57735027]])"
      ]
     },
     "execution_count": 5,
     "metadata": {},
     "output_type": "execute_result"
    }
   ],
   "source": [
    "preprocessing.normalize(df)"
   ]
  },
  {
   "cell_type": "markdown",
   "id": "f2485465-a779-414c-922d-674b25069f81",
   "metadata": {},
   "source": [
    "## Min–Max Normalization"
   ]
  },
  {
   "cell_type": "code",
   "execution_count": 6,
   "id": "78203699-d1e7-4df1-8da6-415a704c4112",
   "metadata": {},
   "outputs": [
    {
     "data": {
      "text/plain": [
       "array([[11.25      , 13.33333333, 11.25      ],\n",
       "       [17.5       , 10.        , 10.        ],\n",
       "       [13.75      , 18.33333333, 15.        ],\n",
       "       [20.        , 20.        , 20.        ],\n",
       "       [10.        , 18.33333333, 11.25      ]])"
      ]
     },
     "execution_count": 6,
     "metadata": {},
     "output_type": "execute_result"
    }
   ],
   "source": [
    "scaler = preprocessing.MinMaxScaler(feature_range=(10,20))\n",
    "scaler.fit_transform(df)"
   ]
  }
 ],
 "metadata": {
  "kernelspec": {
   "display_name": "Python [conda env:base] *",
   "language": "python",
   "name": "conda-base-py"
  },
  "language_info": {
   "codemirror_mode": {
    "name": "ipython",
    "version": 3
   },
   "file_extension": ".py",
   "mimetype": "text/x-python",
   "name": "python",
   "nbconvert_exporter": "python",
   "pygments_lexer": "ipython3",
   "version": "3.13.5"
  }
 },
 "nbformat": 4,
 "nbformat_minor": 5
}

{
 "cells": [
  {
   "cell_type": "code",
   "execution_count": 1,
   "id": "bed02db2-9c00-4a7c-8821-7cd9cb38c46d",
   "metadata": {},
   "outputs": [
    {
     "data": {
      "text/html": [
       "<div>\n",
       "<style scoped>\n",
       "    .dataframe tbody tr th:only-of-type {\n",
       "        vertical-align: middle;\n",
       "    }\n",
       "\n",
       "    .dataframe tbody tr th {\n",
       "        vertical-align: top;\n",
       "    }\n",
       "\n",
       "    .dataframe thead th {\n",
       "        text-align: right;\n",
       "    }\n",
       "</style>\n",
       "<table border=\"1\" class=\"dataframe\">\n",
       "  <thead>\n",
       "    <tr style=\"text-align: right;\">\n",
       "      <th></th>\n",
       "      <th>V1</th>\n",
       "      <th>V2</th>\n",
       "      <th>V3</th>\n",
       "    </tr>\n",
       "  </thead>\n",
       "  <tbody>\n",
       "    <tr>\n",
       "      <th>0</th>\n",
       "      <td>2.0</td>\n",
       "      <td>4.0</td>\n",
       "      <td>5.0</td>\n",
       "    </tr>\n",
       "    <tr>\n",
       "      <th>1</th>\n",
       "      <td>7.0</td>\n",
       "      <td>2.0</td>\n",
       "      <td>4.0</td>\n",
       "    </tr>\n",
       "    <tr>\n",
       "      <th>2</th>\n",
       "      <td>4.0</td>\n",
       "      <td>7.0</td>\n",
       "      <td>8.0</td>\n",
       "    </tr>\n",
       "    <tr>\n",
       "      <th>3</th>\n",
       "      <td>9.0</td>\n",
       "      <td>8.0</td>\n",
       "      <td>12.0</td>\n",
       "    </tr>\n",
       "    <tr>\n",
       "      <th>4</th>\n",
       "      <td>1.0</td>\n",
       "      <td>7.0</td>\n",
       "      <td>5.0</td>\n",
       "    </tr>\n",
       "  </tbody>\n",
       "</table>\n",
       "</div>"
      ],
      "text/plain": [
       "    V1   V2    V3\n",
       "0  2.0  4.0   5.0\n",
       "1  7.0  2.0   4.0\n",
       "2  4.0  7.0   8.0\n",
       "3  9.0  8.0  12.0\n",
       "4  1.0  7.0   5.0"
      ]
     },
     "execution_count": 1,
     "metadata": {},
     "output_type": "execute_result"
    }
   ],
   "source": [
    "import numpy as np\n",
    "import pandas as pd\n",
    "vector1 = np.array([2,7,4,9,1])\n",
    "vector2 = np.array([4,2,7,8,7])\n",
    "vector3 = np.array([5,4,8,12,5])\n",
    "df = pd.DataFrame({\"V1\":vector1,\"V2\":vector2,\"V3\":vector3})\n",
    "df = df.astype(float)\n",
    "df"
   ]
  },
  {
   "cell_type": "code",
   "execution_count": 2,
   "id": "a95b6847-cbb1-4356-bd9c-23f77114a8be",
   "metadata": {},
   "outputs": [],
   "source": [
    "from sklearn import preprocessing"
   ]
  },
  {
   "cell_type": "code",
   "execution_count": 3,
   "id": "c8bec2d9-ca0a-4ca4-b59b-10fb3a4dd938",
   "metadata": {},
   "outputs": [
    {
     "data": {
      "text/plain": [
       "array([[-0.86474714, -0.71269665, -0.61522733],\n",
       "       [ 0.79822813, -1.60356745, -0.9570203 ],\n",
       "       [-0.19955703,  0.62360956,  0.41015156],\n",
       "       [ 1.46341823,  1.06904497,  1.77732341],\n",
       "       [-1.19734219,  0.62360956, -0.61522733]])"
      ]
     },
     "execution_count": 3,
     "metadata": {},
     "output_type": "execute_result"
    }
   ],
   "source": [
    "preprocessing.scale(df) #mean: 0, std var:1"
   ]
  },
  {
   "cell_type": "code",
   "execution_count": 5,
   "id": "9b7d9ce4-bf53-4097-aa73-e09fc07544af",
   "metadata": {},
   "outputs": [
    {
     "data": {
      "text/plain": [
       "array([[0.2981424 , 0.59628479, 0.74535599],\n",
       "       [0.84270097, 0.24077171, 0.48154341],\n",
       "       [0.35218036, 0.61631563, 0.70436073],\n",
       "       [0.52941176, 0.47058824, 0.70588235],\n",
       "       [0.11547005, 0.80829038, 0.57735027]])"
      ]
     },
     "execution_count": 5,
     "metadata": {},
     "output_type": "execute_result"
    }
   ],
   "source": [
    "#normalization\n",
    "preprocessing.normalize(df)"
   ]
  },
  {
   "cell_type": "code",
   "execution_count": 6,
   "id": "7a579599-5d4c-476c-a372-a00e6e64e792",
   "metadata": {},
   "outputs": [],
   "source": [
    "#min-max\n",
    "scaler = preprocessing.MinMaxScaler(feature_range=(10,20))"
   ]
  },
  {
   "cell_type": "code",
   "execution_count": 7,
   "id": "edb04c2e-ac6c-40c2-a21d-272d9d455419",
   "metadata": {},
   "outputs": [
    {
     "data": {
      "text/plain": [
       "array([[11.25      , 13.33333333, 11.25      ],\n",
       "       [17.5       , 10.        , 10.        ],\n",
       "       [13.75      , 18.33333333, 15.        ],\n",
       "       [20.        , 20.        , 20.        ],\n",
       "       [10.        , 18.33333333, 11.25      ]])"
      ]
     },
     "execution_count": 7,
     "metadata": {},
     "output_type": "execute_result"
    }
   ],
   "source": [
    "scaler.fit_transform(df)"
   ]
  },
  {
   "cell_type": "code",
   "execution_count": 8,
   "id": "11e53052-4afc-4dc3-aa33-194bf16bf411",
   "metadata": {},
   "outputs": [],
   "source": [
    "#binarize\n",
    "binarizer = preprocessing.Binarizer(threshold=5).fit(df)"
   ]
  },
  {
   "cell_type": "code",
   "execution_count": 9,
   "id": "0fdd13f2-26aa-483d-8311-b79530937f80",
   "metadata": {},
   "outputs": [
    {
     "data": {
      "text/plain": [
       "array([[0., 0., 0.],\n",
       "       [1., 0., 0.],\n",
       "       [0., 1., 1.],\n",
       "       [1., 1., 1.],\n",
       "       [0., 1., 0.]])"
      ]
     },
     "execution_count": 9,
     "metadata": {},
     "output_type": "execute_result"
    }
   ],
   "source": [
    "binarizer.transform(df)"
   ]
  },
  {
   "cell_type": "code",
   "execution_count": null,
   "id": "4b767c87-73b5-48a3-b3d0-b6ffe67053f3",
   "metadata": {},
   "outputs": [],
   "source": []
  }
 ],
 "metadata": {
  "kernelspec": {
   "display_name": "Python [conda env:base] *",
   "language": "python",
   "name": "conda-base-py"
  },
  "language_info": {
   "codemirror_mode": {
    "name": "ipython",
    "version": 3
   },
   "file_extension": ".py",
   "mimetype": "text/x-python",
   "name": "python",
   "nbconvert_exporter": "python",
   "pygments_lexer": "ipython3",
   "version": "3.13.5"
  }
 },
 "nbformat": 4,
 "nbformat_minor": 5
}

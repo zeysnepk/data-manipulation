{
 "cells": [
  {
   "cell_type": "markdown",
   "id": "c72f672f-aeb2-4763-9282-0efc6884d78b",
   "metadata": {},
   "source": [
    "# 🚀 Solutions for Outliers\n",
    "\n",
    "Once outliers are detected (e.g., using the IQR method), there are several strategies to handle them. The choice depends on the context of the data and the problem you are solving.\n",
    "\n",
    "---"
   ]
  },
  {
   "cell_type": "markdown",
   "id": "8c74bb5e-90e3-4519-9182-593d91841495",
   "metadata": {},
   "source": [
    "#### » Pull the diamonds dataset and assign the boundaries with IQR method"
   ]
  },
  {
   "cell_type": "code",
   "execution_count": 1,
   "id": "dbc59645-614e-4a6d-91ab-e94ef5126a7d",
   "metadata": {},
   "outputs": [
    {
     "data": {
      "text/plain": [
       "1515     51.0\n",
       "3238     50.1\n",
       "3979     51.0\n",
       "4150     51.0\n",
       "5979     49.0\n",
       "7418     50.0\n",
       "8853     51.0\n",
       "11368    43.0\n",
       "22701    49.0\n",
       "25179    50.0\n",
       "26387    51.0\n",
       "33586    51.0\n",
       "35633    44.0\n",
       "45798    51.0\n",
       "46040    51.0\n",
       "47630    51.0\n",
       "Name: table, dtype: float64"
      ]
     },
     "execution_count": 1,
     "metadata": {},
     "output_type": "execute_result"
    }
   ],
   "source": [
    "import seaborn as sns\n",
    "dia = sns.load_dataset(\"diamonds\")\n",
    "df = dia.copy()\n",
    "table = df[\"table\"]\n",
    "Q1 = table.quantile(0.25)\n",
    "Q3 = table.quantile(0.75)\n",
    "IQR = Q3 - Q1 #interquartile\n",
    "low_lim = Q1 - 1.5 * IQR\n",
    "high_lim = Q3 + 1.5 * IQR\n",
    "outlier = table < low_lim\n",
    "table[outlier]"
   ]
  },
  {
   "cell_type": "markdown",
   "id": "be097fa5-f09c-4a92-a877-05d48f9fd29e",
   "metadata": {},
   "source": [
    "## 🔹 1. Directly Removing Outliers\n",
    "- Remove data points that fall outside the acceptable range (below lower bound or above upper bound).\n",
    "- Useful when outliers are due to errors, noise, or irrelevant extreme values.\n",
    "- **Pros**: Simple and effective.  \n",
    "- **Cons**: Risk of losing valuable information if outliers are genuine.\n",
    "\n",
    "---"
   ]
  },
  {
   "cell_type": "markdown",
   "id": "11907ae1-3b2f-452c-9d7e-1db616bd148a",
   "metadata": {},
   "source": [
    "#### » Display the shape before removing outliers"
   ]
  },
  {
   "cell_type": "code",
   "execution_count": 10,
   "id": "17a58737-f6d5-46bf-9f2c-85f13732686a",
   "metadata": {},
   "outputs": [
    {
     "data": {
      "text/plain": [
       "(53940, 1)"
      ]
     },
     "execution_count": 10,
     "metadata": {},
     "output_type": "execute_result"
    }
   ],
   "source": [
    "import pandas as pd\n",
    "table = pd.DataFrame(table)\n",
    "table.shape"
   ]
  },
  {
   "cell_type": "markdown",
   "id": "ed043121-3a5c-4dbb-8ba7-feb2fff95766",
   "metadata": {},
   "source": [
    "#### » Display the shape after removing outliers"
   ]
  },
  {
   "cell_type": "code",
   "execution_count": 11,
   "id": "6e69de5e-ac24-4d53-965a-c5489c44b622",
   "metadata": {},
   "outputs": [
    {
     "data": {
      "text/plain": [
       "(53335, 1)"
      ]
     },
     "execution_count": 11,
     "metadata": {},
     "output_type": "execute_result"
    }
   ],
   "source": [
    "df_pure = table[~( ( table < low_lim ) | ( table > high_lim ) ).any(axis=1)]\n",
    "df_pure.shape"
   ]
  },
  {
   "cell_type": "markdown",
   "id": "e8313d35-b3db-411a-a381-b452d4832d88",
   "metadata": {},
   "source": [
    "After removing the outliers, the number of rows is less than in the previous table, which means that the data frame has outliers and we removed them"
   ]
  },
  {
   "cell_type": "markdown",
   "id": "d6edd227-be44-4ef0-ba86-69034a0fc608",
   "metadata": {},
   "source": [
    "## 🔹 2. Filling with Mean/Median\n",
    "- Replace outlier values with the **mean** or **median** of the dataset/column.\n",
    "- Median is preferred when the distribution is skewed (more robust to outliers).\n",
    "- **Pros**: Keeps dataset size the same.  \n",
    "- **Cons**: May distort variability and reduce natural variance.\n",
    "\n",
    "---"
   ]
  },
  {
   "cell_type": "markdown",
   "id": "ec440687-a8e8-4aad-8364-b3d720aabaad",
   "metadata": {},
   "source": [
    "#### » Copy the dia dataframe not to change previous dataframe"
   ]
  },
  {
   "cell_type": "code",
   "execution_count": 17,
   "id": "34e81d0f-ea8a-435d-a59e-f7e1fb244dd1",
   "metadata": {},
   "outputs": [
    {
     "data": {
      "text/plain": [
       "1515     51.0\n",
       "3238     50.1\n",
       "3979     51.0\n",
       "4150     51.0\n",
       "5979     49.0\n",
       "7418     50.0\n",
       "8853     51.0\n",
       "11368    43.0\n",
       "22701    49.0\n",
       "25179    50.0\n",
       "26387    51.0\n",
       "33586    51.0\n",
       "35633    44.0\n",
       "45798    51.0\n",
       "46040    51.0\n",
       "47630    51.0\n",
       "Name: table, dtype: float64"
      ]
     },
     "execution_count": 17,
     "metadata": {},
     "output_type": "execute_result"
    }
   ],
   "source": [
    "df2 = dia.copy()\n",
    "df2.table[outlier]"
   ]
  },
  {
   "cell_type": "markdown",
   "id": "92acfabb-dcde-48ad-adca-5bd8de72028b",
   "metadata": {},
   "source": [
    "#### » Display the mean of the table column"
   ]
  },
  {
   "cell_type": "code",
   "execution_count": 21,
   "id": "527217d8-9b87-4fb6-973c-56cc400885ed",
   "metadata": {},
   "outputs": [
    {
     "data": {
      "text/plain": [
       "np.float64(57.45950597136711)"
      ]
     },
     "execution_count": 21,
     "metadata": {},
     "output_type": "execute_result"
    }
   ],
   "source": [
    "df2.table.mean()"
   ]
  },
  {
   "cell_type": "markdown",
   "id": "3d1eb409-b822-44bf-be4c-0cb7fa948cf5",
   "metadata": {},
   "source": [
    "#### » Fill the outliers of the table column with the mean "
   ]
  },
  {
   "cell_type": "code",
   "execution_count": 23,
   "id": "a6790e36-a08d-4d28-a023-429db50af73e",
   "metadata": {},
   "outputs": [
    {
     "data": {
      "text/plain": [
       "1515     57.459506\n",
       "3238     57.459506\n",
       "3979     57.459506\n",
       "4150     57.459506\n",
       "5979     57.459506\n",
       "7418     57.459506\n",
       "8853     57.459506\n",
       "11368    57.459506\n",
       "22701    57.459506\n",
       "25179    57.459506\n",
       "26387    57.459506\n",
       "33586    57.459506\n",
       "35633    57.459506\n",
       "45798    57.459506\n",
       "46040    57.459506\n",
       "47630    57.459506\n",
       "Name: table, dtype: float64"
      ]
     },
     "execution_count": 23,
     "metadata": {},
     "output_type": "execute_result"
    }
   ],
   "source": [
    "df2.loc[outlier,\"table\"] = df2.table.mean()\n",
    "df2.table[outlier]"
   ]
  },
  {
   "cell_type": "markdown",
   "id": "a9f82fd3-6203-4aa2-8022-f67dad1acd21",
   "metadata": {},
   "source": [
    "## 🔹 3. Compression (Capping)\n",
    "- Also called **winsorization**: replace outliers with the closest acceptable value (the lower or upper bound).\n",
    "  \n",
    "$x_{new} = \\begin{cases} Q1 - 1.5 \\times IQR & \\text{if } x < \\text{Lower Bound} \\\\Q3 + 1.5 \\times IQR & \\text{if } x > \\text{Upper Bound} \\\\x & \\text{otherwise}\\end{cases}$\n",
    "\n",
    "- **Pros**: Preserves dataset size and limits extreme influence.  \n",
    "- **Cons**: Artificially compresses distribution tails.\n",
    "\n",
    "---"
   ]
  },
  {
   "cell_type": "markdown",
   "id": "4983ac3b-9a36-4213-a2a6-faaafa3ba255",
   "metadata": {},
   "source": [
    "#### » Copy the dia dataframe not to change previous dataframes"
   ]
  },
  {
   "cell_type": "code",
   "execution_count": 24,
   "id": "371b85da-02dc-475c-abbf-ecb7a0608a7a",
   "metadata": {},
   "outputs": [
    {
     "data": {
      "text/plain": [
       "1515     51.0\n",
       "3238     50.1\n",
       "3979     51.0\n",
       "4150     51.0\n",
       "5979     49.0\n",
       "7418     50.0\n",
       "8853     51.0\n",
       "11368    43.0\n",
       "22701    49.0\n",
       "25179    50.0\n",
       "26387    51.0\n",
       "33586    51.0\n",
       "35633    44.0\n",
       "45798    51.0\n",
       "46040    51.0\n",
       "47630    51.0\n",
       "Name: table, dtype: float64"
      ]
     },
     "execution_count": 24,
     "metadata": {},
     "output_type": "execute_result"
    }
   ],
   "source": [
    "df3 = dia.copy()\n",
    "df3.table[outlier]"
   ]
  },
  {
   "cell_type": "markdown",
   "id": "3592c6a8-a5bc-4f64-b258-8e2ef2744dd0",
   "metadata": {},
   "source": [
    "#### » Fill the outliers of the table column with the lower boundary "
   ]
  },
  {
   "cell_type": "code",
   "execution_count": 27,
   "id": "8d2e6c23-416e-467c-91cc-087610883d8f",
   "metadata": {},
   "outputs": [
    {
     "data": {
      "text/plain": [
       "1515     51.5\n",
       "3238     51.5\n",
       "3979     51.5\n",
       "4150     51.5\n",
       "5979     51.5\n",
       "7418     51.5\n",
       "8853     51.5\n",
       "11368    51.5\n",
       "22701    51.5\n",
       "25179    51.5\n",
       "26387    51.5\n",
       "33586    51.5\n",
       "35633    51.5\n",
       "45798    51.5\n",
       "46040    51.5\n",
       "47630    51.5\n",
       "Name: table, dtype: float64"
      ]
     },
     "execution_count": 27,
     "metadata": {},
     "output_type": "execute_result"
    }
   ],
   "source": [
    "df3.loc[outlier,\"table\"] = low_lim\n",
    "df3.table[outlier]"
   ]
  }
 ],
 "metadata": {
  "kernelspec": {
   "display_name": "Python [conda env:base] *",
   "language": "python",
   "name": "conda-base-py"
  },
  "language_info": {
   "codemirror_mode": {
    "name": "ipython",
    "version": 3
   },
   "file_extension": ".py",
   "mimetype": "text/x-python",
   "name": "python",
   "nbconvert_exporter": "python",
   "pygments_lexer": "ipython3",
   "version": "3.13.5"
  }
 },
 "nbformat": 4,
 "nbformat_minor": 5
}

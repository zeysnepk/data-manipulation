{
 "cells": [
  {
   "cell_type": "markdown",
   "id": "a413ae02-f791-4819-98b7-6efdf20ba134",
   "metadata": {},
   "source": [
    "# 🔗 NumPy Array Concatenation"
   ]
  },
  {
   "cell_type": "markdown",
   "id": "10254173-7cc7-40c8-b992-6585d03b7f9f",
   "metadata": {},
   "source": [
    "#### » Import the NumPy library, usually abbreviated as `np`"
   ]
  },
  {
   "cell_type": "code",
   "execution_count": 1,
   "id": "57f57b8c-8bf5-48b2-b36e-c314e099a7b3",
   "metadata": {},
   "outputs": [],
   "source": [
    "import numpy as np"
   ]
  },
  {
   "cell_type": "markdown",
   "id": "822a13c2-8f5b-464e-97a8-e8e9d335be5e",
   "metadata": {},
   "source": [
    "#### » Concatenate 1D arrays"
   ]
  },
  {
   "cell_type": "code",
   "execution_count": 9,
   "id": "9c210e2d-f177-48e5-b443-eb6b8ac558ab",
   "metadata": {},
   "outputs": [
    {
     "data": {
      "text/plain": [
       "array([1, 2, 3, 4, 5, 6])"
      ]
     },
     "execution_count": 9,
     "metadata": {},
     "output_type": "execute_result"
    }
   ],
   "source": [
    "x = np.array([1,2,3])\n",
    "y = np.array([4,5,6])\n",
    "np.concatenate([x,y])"
   ]
  },
  {
   "cell_type": "code",
   "execution_count": 10,
   "id": "5c188c75-3b58-43a2-9409-3f9e54197a44",
   "metadata": {},
   "outputs": [
    {
     "data": {
      "text/plain": [
       "array([1, 2, 3, 4, 5, 6, 7, 8, 9])"
      ]
     },
     "execution_count": 10,
     "metadata": {},
     "output_type": "execute_result"
    }
   ],
   "source": [
    "z = np.array([7,8,9])\n",
    "np.concatenate([x,y,z])"
   ]
  },
  {
   "cell_type": "markdown",
   "id": "54eec272-4395-451f-8ad7-3c40ebf3613a",
   "metadata": {},
   "source": [
    "#### » Concatenate 2D arrays"
   ]
  },
  {
   "cell_type": "code",
   "execution_count": 11,
   "id": "0cb7d6cf-adfb-45ae-9927-fc4dcbcbd5ff",
   "metadata": {},
   "outputs": [
    {
     "data": {
      "text/plain": [
       "array([[1, 2, 3],\n",
       "       [4, 5, 6],\n",
       "       [1, 2, 3],\n",
       "       [4, 5, 6]])"
      ]
     },
     "execution_count": 11,
     "metadata": {},
     "output_type": "execute_result"
    }
   ],
   "source": [
    "a = np.array([[1,2,3],\n",
    "              [4,5,6]])\n",
    "np.concatenate([a,a])"
   ]
  },
  {
   "cell_type": "markdown",
   "id": "8927877c-943e-4eb2-86b1-deab9c9dfb4b",
   "metadata": {},
   "source": [
    "#### » Concatenate 2D arrays along rows (axis=0)"
   ]
  },
  {
   "cell_type": "code",
   "execution_count": 12,
   "id": "6721e0e3-7e60-4a87-a236-ce22407dd709",
   "metadata": {},
   "outputs": [
    {
     "data": {
      "text/plain": [
       "array([[1, 2, 3],\n",
       "       [4, 5, 6],\n",
       "       [1, 2, 3],\n",
       "       [4, 5, 6]])"
      ]
     },
     "execution_count": 12,
     "metadata": {},
     "output_type": "execute_result"
    }
   ],
   "source": [
    "np.concatenate([a,a], axis=0)"
   ]
  },
  {
   "cell_type": "markdown",
   "id": "274d01db-7e19-4904-ada7-039892d85576",
   "metadata": {},
   "source": [
    "#### » Concatenate 2D arrays along columns (axis=1)"
   ]
  },
  {
   "cell_type": "code",
   "execution_count": 13,
   "id": "6a1d4270-d3e7-46f4-8b44-f6a25107ba35",
   "metadata": {},
   "outputs": [
    {
     "data": {
      "text/plain": [
       "array([[1, 2, 3, 1, 2, 3],\n",
       "       [4, 5, 6, 4, 5, 6]])"
      ]
     },
     "execution_count": 13,
     "metadata": {},
     "output_type": "execute_result"
    }
   ],
   "source": [
    "np.concatenate([a,a], axis=1)"
   ]
  },
  {
   "cell_type": "markdown",
   "id": "41d43595-1dab-4fdd-8a18-212ca11d88c8",
   "metadata": {},
   "source": [
    "#### » Stack arrays along a new axis"
   ]
  },
  {
   "cell_type": "code",
   "execution_count": 14,
   "id": "eebb89b1-7bfd-4530-ae43-8e79a748dbc2",
   "metadata": {},
   "outputs": [
    {
     "data": {
      "text/plain": [
       "array([[[1, 2, 3],\n",
       "        [4, 5, 6]],\n",
       "\n",
       "       [[1, 2, 3],\n",
       "        [4, 5, 6]]])"
      ]
     },
     "execution_count": 14,
     "metadata": {},
     "output_type": "execute_result"
    }
   ],
   "source": [
    "np.stack([a, a], axis=0)"
   ]
  },
  {
   "cell_type": "markdown",
   "id": "e29de8d6-d300-4138-b8fb-b0ffa0f6790c",
   "metadata": {},
   "source": [
    "#### » Horizontally stack arrays (columns)"
   ]
  },
  {
   "cell_type": "code",
   "execution_count": 15,
   "id": "cdac219e-e43f-4a80-9a84-a1af0bac449f",
   "metadata": {},
   "outputs": [
    {
     "data": {
      "text/plain": [
       "array([[1, 2, 3, 1, 2, 3],\n",
       "       [4, 5, 6, 4, 5, 6]])"
      ]
     },
     "execution_count": 15,
     "metadata": {},
     "output_type": "execute_result"
    }
   ],
   "source": [
    "np.hstack([a, a])"
   ]
  },
  {
   "cell_type": "markdown",
   "id": "7b8c1566-9366-40b5-9634-ddc01e1e280e",
   "metadata": {},
   "source": [
    "#### » Vertically stack arrays (rows)"
   ]
  },
  {
   "cell_type": "code",
   "execution_count": 18,
   "id": "55c9a92e-f34b-4bea-9b4d-ae139466c932",
   "metadata": {},
   "outputs": [
    {
     "data": {
      "text/plain": [
       "array([[1, 2, 3],\n",
       "       [4, 5, 6],\n",
       "       [1, 2, 3],\n",
       "       [4, 5, 6]])"
      ]
     },
     "execution_count": 18,
     "metadata": {},
     "output_type": "execute_result"
    }
   ],
   "source": [
    "np.vstack([a, a])"
   ]
  }
 ],
 "metadata": {
  "kernelspec": {
   "display_name": "Python [conda env:base] *",
   "language": "python",
   "name": "conda-base-py"
  },
  "language_info": {
   "codemirror_mode": {
    "name": "ipython",
    "version": 3
   },
   "file_extension": ".py",
   "mimetype": "text/x-python",
   "name": "python",
   "nbconvert_exporter": "python",
   "pygments_lexer": "ipython3",
   "version": "3.13.5"
  }
 },
 "nbformat": 4,
 "nbformat_minor": 5
}

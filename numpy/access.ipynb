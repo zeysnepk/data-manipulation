{
 "cells": [
  {
   "cell_type": "markdown",
   "id": "a81857de-f039-4d5e-833d-e6a9e6af46a0",
   "metadata": {},
   "source": [
    "# 🎯 NumPy Element Access"
   ]
  },
  {
   "cell_type": "markdown",
   "id": "39f50277-89b9-4917-8ab5-61c777d908ab",
   "metadata": {},
   "source": [
    "#### » Import the NumPy library, usually abbreviated as `np`"
   ]
  },
  {
   "cell_type": "code",
   "execution_count": 2,
   "id": "f469546b-ad28-4e65-ad3e-e8e60d61f441",
   "metadata": {},
   "outputs": [],
   "source": [
    "import numpy as np"
   ]
  },
  {
   "cell_type": "markdown",
   "id": "e80d0dcf-70f2-40b6-a55f-633be5a76bee",
   "metadata": {},
   "source": [
    "#### » Create 1D array with 10 random integer values"
   ]
  },
  {
   "cell_type": "code",
   "execution_count": 3,
   "id": "7e1e13fc-272b-478a-a113-97b72fdfcfde",
   "metadata": {},
   "outputs": [
    {
     "data": {
      "text/plain": [
       "array([7, 1, 7, 6, 4, 1, 3, 1, 3, 8])"
      ]
     },
     "execution_count": 3,
     "metadata": {},
     "output_type": "execute_result"
    }
   ],
   "source": [
    "a = np.random.randint(10, size=10)\n",
    "a"
   ]
  },
  {
   "cell_type": "markdown",
   "id": "f3294e80-1f93-44db-99a6-ec5c8d0e43c3",
   "metadata": {},
   "source": [
    "#### » Access the nth element of a 1D array -> `array[n]`"
   ]
  },
  {
   "cell_type": "code",
   "execution_count": 4,
   "id": "6a2c3b4f-1912-4d8a-80f5-ed516ad0b7f7",
   "metadata": {},
   "outputs": [
    {
     "data": {
      "text/plain": [
       "np.int64(7)"
      ]
     },
     "execution_count": 4,
     "metadata": {},
     "output_type": "execute_result"
    }
   ],
   "source": [
    "a[2]"
   ]
  },
  {
   "cell_type": "markdown",
   "id": "d2d2961b-4cb2-4f45-9ad1-102ec3187000",
   "metadata": {},
   "source": [
    "#### » Access the last element of a 1D array"
   ]
  },
  {
   "cell_type": "code",
   "execution_count": 5,
   "id": "db891901-5442-4ae6-b0dc-a89ddbfa058b",
   "metadata": {},
   "outputs": [
    {
     "data": {
      "text/plain": [
       "np.int64(8)"
      ]
     },
     "execution_count": 5,
     "metadata": {},
     "output_type": "execute_result"
    }
   ],
   "source": [
    "a[-1]"
   ]
  },
  {
   "cell_type": "markdown",
   "id": "94719867-012f-4122-9898-0e0adb3cfab8",
   "metadata": {},
   "source": [
    "#### » Set the nth element of the array to x -> `array[n]=x`"
   ]
  },
  {
   "cell_type": "code",
   "execution_count": 6,
   "id": "689224aa-12e5-4db4-b27d-9983c65a6d1d",
   "metadata": {},
   "outputs": [
    {
     "data": {
      "text/plain": [
       "array([20,  1,  7,  6,  4,  1,  3,  1,  3,  8])"
      ]
     },
     "execution_count": 6,
     "metadata": {},
     "output_type": "execute_result"
    }
   ],
   "source": [
    "a[0] = 20\n",
    "a"
   ]
  },
  {
   "cell_type": "markdown",
   "id": "d00107f0-1d40-4485-a8a8-ad56e2362d3e",
   "metadata": {},
   "source": [
    "#### » Create 2D array with 4 random integer values"
   ]
  },
  {
   "cell_type": "code",
   "execution_count": 7,
   "id": "6215f89f-22ee-453a-816a-61d0ae808702",
   "metadata": {},
   "outputs": [
    {
     "data": {
      "text/plain": [
       "array([[1, 2],\n",
       "       [5, 4]])"
      ]
     },
     "execution_count": 7,
     "metadata": {},
     "output_type": "execute_result"
    }
   ],
   "source": [
    "b = np.random.randint(10, size=(2,2))\n",
    "b"
   ]
  },
  {
   "cell_type": "markdown",
   "id": "529f99a7-47bb-416a-a951-ef0050e5f633",
   "metadata": {},
   "source": [
    "#### » Access element in xth row, yth column of a 2D array -> `array[x,y]`"
   ]
  },
  {
   "cell_type": "code",
   "execution_count": 8,
   "id": "2f05c562-1bdc-4814-9266-7a34fec1e483",
   "metadata": {},
   "outputs": [
    {
     "data": {
      "text/plain": [
       "np.int64(1)"
      ]
     },
     "execution_count": 8,
     "metadata": {},
     "output_type": "execute_result"
    }
   ],
   "source": [
    "b[0,0]"
   ]
  },
  {
   "cell_type": "markdown",
   "id": "a6c111e4-220f-40d9-80cf-8872a2575646",
   "metadata": {},
   "source": [
    "#### » Set the element in the xth row, yth column of a 2D array to n -> `array[x,y] = n`"
   ]
  },
  {
   "cell_type": "code",
   "execution_count": 9,
   "id": "1d5815af-9140-4abd-a0cb-4f39cd99dd60",
   "metadata": {},
   "outputs": [
    {
     "data": {
      "text/plain": [
       "array([[ 1, 10],\n",
       "       [ 5,  4]])"
      ]
     },
     "execution_count": 9,
     "metadata": {},
     "output_type": "execute_result"
    }
   ],
   "source": [
    "b[0,1] = 10.2\n",
    "b"
   ]
  }
 ],
 "metadata": {
  "kernelspec": {
   "display_name": "Python [conda env:base] *",
   "language": "python",
   "name": "conda-base-py"
  },
  "language_info": {
   "codemirror_mode": {
    "name": "ipython",
    "version": 3
   },
   "file_extension": ".py",
   "mimetype": "text/x-python",
   "name": "python",
   "nbconvert_exporter": "python",
   "pygments_lexer": "ipython3",
   "version": "3.13.5"
  }
 },
 "nbformat": 4,
 "nbformat_minor": 5
}

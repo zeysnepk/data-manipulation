{
 "cells": [
  {
   "cell_type": "markdown",
   "id": "092e7e62-d87f-4dc3-b10a-4ded81bd1e0e",
   "metadata": {},
   "source": [
    "# ✂️ NumPy Array Splitting"
   ]
  },
  {
   "cell_type": "markdown",
   "id": "feffac36-251f-46c4-badf-d97748e29fa8",
   "metadata": {},
   "source": [
    "#### » Importing the NumPy library, usually abbreviated as `np`"
   ]
  },
  {
   "cell_type": "code",
   "execution_count": 6,
   "id": "079415c5-e856-4a07-8fd1-c4d184d2eb3e",
   "metadata": {},
   "outputs": [],
   "source": [
    "import numpy as np"
   ]
  },
  {
   "cell_type": "markdown",
   "id": "bcc72dc8-0e79-4d77-828c-2d10915b9d06",
   "metadata": {},
   "source": [
    "#### » Creating 1D array"
   ]
  },
  {
   "cell_type": "code",
   "execution_count": 7,
   "id": "25f99ad8-36c2-487a-bb7f-8b63359d6360",
   "metadata": {},
   "outputs": [],
   "source": [
    "a = np.array([1,2,3,4,5,6,7,8])"
   ]
  },
  {
   "cell_type": "code",
   "execution_count": 8,
   "id": "cfd0727d-e37d-4293-8328-77cfc052c922",
   "metadata": {},
   "outputs": [
    {
     "data": {
      "text/plain": [
       "array([1, 2, 3, 4, 5, 6, 7, 8])"
      ]
     },
     "execution_count": 8,
     "metadata": {},
     "output_type": "execute_result"
    }
   ],
   "source": [
    "a"
   ]
  },
  {
   "cell_type": "code",
   "execution_count": 9,
   "id": "21764738-c6a7-49a1-8525-0f5f60e1205c",
   "metadata": {},
   "outputs": [],
   "source": [
    "#### » Splitting a 1D array into 3 equal parts"
   ]
  },
  {
   "cell_type": "code",
   "execution_count": 10,
   "id": "1a9f1a96-4d00-478e-ae72-8f0279faeda9",
   "metadata": {},
   "outputs": [
    {
     "data": {
      "text/plain": [
       "[array([1, 2, 3]), array([4, 5]), array([6, 7, 8])]"
      ]
     },
     "execution_count": 10,
     "metadata": {},
     "output_type": "execute_result"
    }
   ],
   "source": [
    "np.split(a, [3,5])"
   ]
  },
  {
   "cell_type": "code",
   "execution_count": 11,
   "id": "0b43e1dd-0da7-475c-b14c-126e72000369",
   "metadata": {},
   "outputs": [],
   "source": [
    "x, y, z = np.split(a, [3,5])"
   ]
  },
  {
   "cell_type": "code",
   "execution_count": 12,
   "id": "d03bc6f4-08e6-49fc-b78b-2fe09e420d9b",
   "metadata": {},
   "outputs": [
    {
     "data": {
      "text/plain": [
       "array([1, 2, 3])"
      ]
     },
     "execution_count": 12,
     "metadata": {},
     "output_type": "execute_result"
    }
   ],
   "source": [
    "x"
   ]
  },
  {
   "cell_type": "code",
   "execution_count": 13,
   "id": "d947575a-4e54-4b82-80cd-b4f8a14aef92",
   "metadata": {},
   "outputs": [
    {
     "data": {
      "text/plain": [
       "array([4, 5])"
      ]
     },
     "execution_count": 13,
     "metadata": {},
     "output_type": "execute_result"
    }
   ],
   "source": [
    "y"
   ]
  },
  {
   "cell_type": "code",
   "execution_count": 14,
   "id": "2d6ecb53-fff6-49db-806b-9735dbe35d3d",
   "metadata": {},
   "outputs": [
    {
     "data": {
      "text/plain": [
       "array([6, 7, 8])"
      ]
     },
     "execution_count": 14,
     "metadata": {},
     "output_type": "execute_result"
    }
   ],
   "source": [
    "z"
   ]
  },
  {
   "cell_type": "markdown",
   "id": "1efa53a3-992e-48fe-80b1-c01726151b3b",
   "metadata": {},
   "source": [
    "#### » Creating a 1D array and reshaping it to 2D"
   ]
  },
  {
   "cell_type": "code",
   "execution_count": 15,
   "id": "c302d099-7851-497c-b493-5d85458c757c",
   "metadata": {},
   "outputs": [],
   "source": [
    "a = np.arange(16).reshape(4,4)"
   ]
  },
  {
   "cell_type": "code",
   "execution_count": 16,
   "id": "90912db3-cf8f-4221-b4b7-67d8371466f5",
   "metadata": {},
   "outputs": [
    {
     "data": {
      "text/plain": [
       "array([[ 0,  1,  2,  3],\n",
       "       [ 4,  5,  6,  7],\n",
       "       [ 8,  9, 10, 11],\n",
       "       [12, 13, 14, 15]])"
      ]
     },
     "execution_count": 16,
     "metadata": {},
     "output_type": "execute_result"
    }
   ],
   "source": [
    "a"
   ]
  },
  {
   "cell_type": "markdown",
   "id": "852871f0-c3cf-4c59-be37-7a9eb1b7288f",
   "metadata": {},
   "source": [
    "#### » Splitting a 2D array into 2 along rows (vertical)"
   ]
  },
  {
   "cell_type": "code",
   "execution_count": 28,
   "id": "0dbbe904-b396-4c4c-97ee-7916a896a086",
   "metadata": {},
   "outputs": [
    {
     "data": {
      "text/plain": [
       "[array([[0, 1, 2, 3],\n",
       "        [4, 5, 6, 7]]),\n",
       " array([[ 8,  9, 10, 11],\n",
       "        [12, 13, 14, 15]])]"
      ]
     },
     "execution_count": 28,
     "metadata": {},
     "output_type": "execute_result"
    }
   ],
   "source": [
    "np.vsplit(a, 2)"
   ]
  },
  {
   "cell_type": "code",
   "execution_count": 29,
   "id": "33cfdf19-f284-447b-b370-d15b0ed95210",
   "metadata": {},
   "outputs": [],
   "source": [
    "top, bottom = np.vsplit(a, 2)"
   ]
  },
  {
   "cell_type": "code",
   "execution_count": 30,
   "id": "43e71bde-5a4a-43b2-93ad-3bd12fef17d3",
   "metadata": {},
   "outputs": [
    {
     "data": {
      "text/plain": [
       "array([[0, 1, 2, 3],\n",
       "       [4, 5, 6, 7]])"
      ]
     },
     "execution_count": 30,
     "metadata": {},
     "output_type": "execute_result"
    }
   ],
   "source": [
    "top"
   ]
  },
  {
   "cell_type": "code",
   "execution_count": 31,
   "id": "c876d41b-fb42-4185-9ed8-360b8b7f441f",
   "metadata": {},
   "outputs": [
    {
     "data": {
      "text/plain": [
       "array([[ 8,  9, 10, 11],\n",
       "       [12, 13, 14, 15]])"
      ]
     },
     "execution_count": 31,
     "metadata": {},
     "output_type": "execute_result"
    }
   ],
   "source": [
    "bottom"
   ]
  },
  {
   "cell_type": "markdown",
   "id": "f07b8f1f-2996-4203-b5ab-0b9a61f6b400",
   "metadata": {},
   "source": [
    "#### » Splitting a 2D array into 2 along columns (horizontal)"
   ]
  },
  {
   "cell_type": "code",
   "execution_count": 26,
   "id": "1f818b2e-bcf0-4686-a435-e2ff4af47ddc",
   "metadata": {},
   "outputs": [
    {
     "data": {
      "text/plain": [
       "[array([[ 0,  1],\n",
       "        [ 4,  5],\n",
       "        [ 8,  9],\n",
       "        [12, 13]]),\n",
       " array([[ 2,  3],\n",
       "        [ 6,  7],\n",
       "        [10, 11],\n",
       "        [14, 15]])]"
      ]
     },
     "execution_count": 26,
     "metadata": {},
     "output_type": "execute_result"
    }
   ],
   "source": [
    "np.hsplit(a, 2)"
   ]
  },
  {
   "cell_type": "code",
   "execution_count": 33,
   "id": "eb5780d4-cfc3-4c5a-bfa8-4667b0adc2f6",
   "metadata": {},
   "outputs": [],
   "source": [
    "right, left = np.hsplit(a, 2)"
   ]
  },
  {
   "cell_type": "code",
   "execution_count": 34,
   "id": "66cb0d1c-dcbb-4f2e-9108-1b876535fffb",
   "metadata": {},
   "outputs": [
    {
     "data": {
      "text/plain": [
       "array([[ 0,  1],\n",
       "       [ 4,  5],\n",
       "       [ 8,  9],\n",
       "       [12, 13]])"
      ]
     },
     "execution_count": 34,
     "metadata": {},
     "output_type": "execute_result"
    }
   ],
   "source": [
    "right"
   ]
  },
  {
   "cell_type": "code",
   "execution_count": 35,
   "id": "f6ff1028-6d23-45e1-8d0f-74298a291848",
   "metadata": {},
   "outputs": [
    {
     "data": {
      "text/plain": [
       "array([[ 2,  3],\n",
       "       [ 6,  7],\n",
       "       [10, 11],\n",
       "       [14, 15]])"
      ]
     },
     "execution_count": 35,
     "metadata": {},
     "output_type": "execute_result"
    }
   ],
   "source": [
    "left"
   ]
  },
  {
   "cell_type": "markdown",
   "id": "c57cc46f-309a-4fd6-9e07-883e8fa11749",
   "metadata": {},
   "source": [
    "#### » Unequal splitting using `array_split`"
   ]
  },
  {
   "cell_type": "code",
   "execution_count": 40,
   "id": "abf70ae0-4b03-43e8-8d0c-f7d19bbced39",
   "metadata": {},
   "outputs": [
    {
     "data": {
      "text/plain": [
       "[array([[0, 1, 2, 3],\n",
       "        [4, 5, 6, 7]]),\n",
       " array([[ 8,  9, 10, 11]]),\n",
       " array([[12, 13, 14, 15]])]"
      ]
     },
     "execution_count": 40,
     "metadata": {},
     "output_type": "execute_result"
    }
   ],
   "source": [
    "np.array_split(a, 3)"
   ]
  }
 ],
 "metadata": {
  "kernelspec": {
   "display_name": "Python [conda env:base] *",
   "language": "python",
   "name": "conda-base-py"
  },
  "language_info": {
   "codemirror_mode": {
    "name": "ipython",
    "version": 3
   },
   "file_extension": ".py",
   "mimetype": "text/x-python",
   "name": "python",
   "nbconvert_exporter": "python",
   "pygments_lexer": "ipython3",
   "version": "3.13.5"
  }
 },
 "nbformat": 4,
 "nbformat_minor": 5
}

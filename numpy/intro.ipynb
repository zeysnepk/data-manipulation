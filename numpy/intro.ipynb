{
 "cells": [
  {
   "cell_type": "markdown",
   "id": "3d4f2d6a-29b0-4681-974f-2b9c9678f7a4",
   "metadata": {},
   "source": [
    "# 📘 NumPy Introduction\n",
    "\n",
    "**NumPy (Numerical Python)** is a powerful Python library for numerical computations. It is used for working with arrays, matrices, and offers a wide variety of mathematical functions."
   ]
  },
  {
   "cell_type": "markdown",
   "id": "93def77d-cf12-43a2-bd78-aa2fe2e050a5",
   "metadata": {},
   "source": [
    "#### » Importing the NumPy library, usually abbreviated as `np`"
   ]
  },
  {
   "cell_type": "code",
   "execution_count": 2,
   "id": "8eee5df8-de4b-412a-9636-f3cfef8e1b8a",
   "metadata": {},
   "outputs": [],
   "source": [
    "import numpy as np"
   ]
  },
  {
   "cell_type": "markdown",
   "id": "261cd738-b1b6-43e5-9555-e2494727a54b",
   "metadata": {},
   "source": [
    " #### » Creating a simple 1D NumPy array of integers"
   ]
  },
  {
   "cell_type": "code",
   "execution_count": 33,
   "id": "d4b28980-6665-4cce-9b93-0939bb8af5d0",
   "metadata": {},
   "outputs": [
    {
     "data": {
      "text/plain": [
       "array([1, 2, 3, 4, 5])"
      ]
     },
     "execution_count": 33,
     "metadata": {},
     "output_type": "execute_result"
    }
   ],
   "source": [
    "np.array([1,2,3,4,5])"
   ]
  },
  {
   "cell_type": "markdown",
   "id": "ae1252db-7132-4b53-8331-ebe21e30f380",
   "metadata": {},
   "source": [
    " #### » Creating a simple 2D NumPy array of integers"
   ]
  },
  {
   "cell_type": "code",
   "execution_count": 36,
   "id": "da232d57-f55a-48a0-8fe4-8a5eb65f75ca",
   "metadata": {},
   "outputs": [
    {
     "data": {
      "text/plain": [
       "array([[1, 2, 3, 4, 5],\n",
       "       [3, 4, 5, 6, 7]])"
      ]
     },
     "execution_count": 36,
     "metadata": {},
     "output_type": "execute_result"
    }
   ],
   "source": [
    "np.array([[1,2,3,4,5],[3,4,5,6,7]])"
   ]
  },
  {
   "cell_type": "markdown",
   "id": "80888534-6148-4615-9ccb-6e1854957185",
   "metadata": {},
   "source": [
    "#### » Creating a NumPy array with mixed integer and float elements. NumPy will upcast them to float"
   ]
  },
  {
   "cell_type": "code",
   "execution_count": 7,
   "id": "98963207-4473-4e9c-8c36-6e7d2afb36ae",
   "metadata": {},
   "outputs": [
    {
     "data": {
      "text/plain": [
       "array([ 3.14,  4.  ,  2.  , 13.  ])"
      ]
     },
     "execution_count": 7,
     "metadata": {},
     "output_type": "execute_result"
    }
   ],
   "source": [
    "np.array([3.14, 4, 2, 13])"
   ]
  },
  {
   "cell_type": "markdown",
   "id": "c6dacdc6-6cd8-4f55-a2f5-777f8323068b",
   "metadata": {},
   "source": [
    "#### » Setting the data type (`dtype`) to float,int,complex etc. when creating the array"
   ]
  },
  {
   "cell_type": "code",
   "execution_count": 10,
   "id": "db504f8b-adc9-429d-aef3-fb765cc8b622",
   "metadata": {},
   "outputs": [
    {
     "data": {
      "text/plain": [
       "array([ 3.14,  4.  ,  2.  , 13.  ])"
      ]
     },
     "execution_count": 10,
     "metadata": {},
     "output_type": "execute_result"
    }
   ],
   "source": [
    "np.array([3.14, 4, 2, 13], dtype=\"float\")"
   ]
  },
  {
   "cell_type": "code",
   "execution_count": 9,
   "id": "a4ebf0ae-1bba-4126-93c9-c91d6a485ed2",
   "metadata": {},
   "outputs": [
    {
     "data": {
      "text/plain": [
       "array([ 3,  4,  2, 13])"
      ]
     },
     "execution_count": 9,
     "metadata": {},
     "output_type": "execute_result"
    }
   ],
   "source": [
    "np.array([3.14, 4, 2, 13], dtype=\"int\")"
   ]
  },
  {
   "cell_type": "markdown",
   "id": "1eabae31-1d08-415b-9e6f-b9645fc622a1",
   "metadata": {},
   "source": [
    "#### » Another way to set array type is using `astype`"
   ]
  },
  {
   "cell_type": "code",
   "execution_count": 5,
   "id": "55a3a27c-8935-4ad3-9142-75acf400f577",
   "metadata": {},
   "outputs": [
    {
     "data": {
      "text/plain": [
       "array([ 3,  4,  2, 13])"
      ]
     },
     "execution_count": 5,
     "metadata": {},
     "output_type": "execute_result"
    }
   ],
   "source": [
    "np.array([3.14, 4, 2, 13]).astype(\"int\")"
   ]
  },
  {
   "cell_type": "markdown",
   "id": "e33fa208-fa65-4cee-9e99-40fb23ee8ad5",
   "metadata": {},
   "source": [
    "#### » Creating a NumPy array filled with 0"
   ]
  },
  {
   "cell_type": "code",
   "execution_count": 12,
   "id": "957b21c0-e55d-4edb-ad50-eb094bb824c7",
   "metadata": {},
   "outputs": [
    {
     "data": {
      "text/plain": [
       "array([0, 0, 0, 0, 0, 0, 0, 0, 0, 0])"
      ]
     },
     "execution_count": 12,
     "metadata": {},
     "output_type": "execute_result"
    }
   ],
   "source": [
    "np.zeros(10, dtype=\"int\")"
   ]
  },
  {
   "cell_type": "markdown",
   "id": "0253a474-c2ee-4d4a-b3f7-54cc40dc581b",
   "metadata": {},
   "source": [
    "#### » Creating a NumPy array filled with 1"
   ]
  },
  {
   "cell_type": "code",
   "execution_count": 13,
   "id": "a6266d2d-325e-4824-99ff-fa6429afd9b3",
   "metadata": {},
   "outputs": [
    {
     "data": {
      "text/plain": [
       "array([[1, 1, 1, 1, 1],\n",
       "       [1, 1, 1, 1, 1],\n",
       "       [1, 1, 1, 1, 1]])"
      ]
     },
     "execution_count": 13,
     "metadata": {},
     "output_type": "execute_result"
    }
   ],
   "source": [
    "np.ones((3,5), dtype=\"int\")"
   ]
  },
  {
   "cell_type": "markdown",
   "id": "05ea5a16-1842-48f0-824a-353bbb7d9709",
   "metadata": {},
   "source": [
    "#### » Creating a NumPy array filled with n -> `np.full(size,n)`"
   ]
  },
  {
   "cell_type": "code",
   "execution_count": 14,
   "id": "1d325f0c-afb5-4489-80de-9f3158bc7eab",
   "metadata": {},
   "outputs": [
    {
     "data": {
      "text/plain": [
       "array([[5, 5, 5, 5, 5],\n",
       "       [5, 5, 5, 5, 5],\n",
       "       [5, 5, 5, 5, 5]])"
      ]
     },
     "execution_count": 14,
     "metadata": {},
     "output_type": "execute_result"
    }
   ],
   "source": [
    "np.full((3,5), 5)"
   ]
  },
  {
   "cell_type": "markdown",
   "id": "9dd67c05-2549-46ad-b288-4a2e1d359443",
   "metadata": {},
   "source": [
    "#### » Creating a NumPy array with a range -> `np.arange(start=0,stop,step=1)`"
   ]
  },
  {
   "cell_type": "code",
   "execution_count": 6,
   "id": "028ea2b2-7b20-4a27-9ce5-471c6e5dfa39",
   "metadata": {},
   "outputs": [
    {
     "data": {
      "text/plain": [
       "array([ 0,  1,  2,  3,  4,  5,  6,  7,  8,  9, 10, 11, 12, 13, 14, 15, 16,\n",
       "       17, 18, 19])"
      ]
     },
     "execution_count": 6,
     "metadata": {},
     "output_type": "execute_result"
    }
   ],
   "source": [
    "np.arange(20)"
   ]
  },
  {
   "cell_type": "code",
   "execution_count": 39,
   "id": "25caca9d-885d-41da-a648-a0c50f5b6030",
   "metadata": {},
   "outputs": [
    {
     "data": {
      "text/plain": [
       "array([2, 4, 6, 8])"
      ]
     },
     "execution_count": 39,
     "metadata": {},
     "output_type": "execute_result"
    }
   ],
   "source": [
    "np.arange(2,10,2)"
   ]
  },
  {
   "cell_type": "markdown",
   "id": "950dec96-9f6e-4f15-9790-6d63a0ca2b27",
   "metadata": {},
   "source": [
    "#### » Creating a NumPy array of evenly spaced values over a specified interval"
   ]
  },
  {
   "cell_type": "code",
   "execution_count": 16,
   "id": "9ffe681b-d2be-4565-979e-2317c39fc030",
   "metadata": {},
   "outputs": [
    {
     "data": {
      "text/plain": [
       "array([0.        , 0.11111111, 0.22222222, 0.33333333, 0.44444444,\n",
       "       0.55555556, 0.66666667, 0.77777778, 0.88888889, 1.        ])"
      ]
     },
     "execution_count": 16,
     "metadata": {},
     "output_type": "execute_result"
    }
   ],
   "source": [
    "np.linspace(0,1,10)"
   ]
  },
  {
   "cell_type": "markdown",
   "id": "695cf92d-dcf0-4196-8272-ccf4e3c0291d",
   "metadata": {},
   "source": [
    "#### » Creating an array with values sampled from a `normal (Gaussian) distribution`"
   ]
  },
  {
   "cell_type": "code",
   "execution_count": 7,
   "id": "9678d138-3798-40d4-9c0e-b3a06629d237",
   "metadata": {},
   "outputs": [
    {
     "data": {
      "text/plain": [
       "array([[ 7.37047629,  8.12608609],\n",
       "       [16.92203076,  9.59512279]])"
      ]
     },
     "execution_count": 7,
     "metadata": {},
     "output_type": "execute_result"
    }
   ],
   "source": [
    "np.random.normal(10, 4, (2,2)) #(mean,std,size)"
   ]
  },
  {
   "cell_type": "markdown",
   "id": "e80462cf-817b-4143-b205-72f3d62c2e7b",
   "metadata": {},
   "source": [
    "#### » Creating an array of random integers from a given range"
   ]
  },
  {
   "cell_type": "code",
   "execution_count": 41,
   "id": "915b25c9-baed-4ae5-ad1e-a7b9162ad85f",
   "metadata": {},
   "outputs": [
    {
     "data": {
      "text/plain": [
       "9"
      ]
     },
     "execution_count": 41,
     "metadata": {},
     "output_type": "execute_result"
    }
   ],
   "source": [
    "np.random.randint(10)"
   ]
  },
  {
   "cell_type": "code",
   "execution_count": 40,
   "id": "e1e96f59-7f27-4efc-8535-3e190996ed9f",
   "metadata": {},
   "outputs": [
    {
     "data": {
      "text/plain": [
       "array([1, 2, 7, 4, 7])"
      ]
     },
     "execution_count": 40,
     "metadata": {},
     "output_type": "execute_result"
    }
   ],
   "source": [
    "np.random.randint(0,10,5) #(start,stop,size)"
   ]
  },
  {
   "cell_type": "code",
   "execution_count": 18,
   "id": "2d677f5c-a446-4488-a5dd-410c5f21c53b",
   "metadata": {},
   "outputs": [
    {
     "data": {
      "text/plain": [
       "array([[9, 4, 3, 2, 1],\n",
       "       [9, 2, 8, 6, 1]])"
      ]
     },
     "execution_count": 18,
     "metadata": {},
     "output_type": "execute_result"
    }
   ],
   "source": [
    "np.random.randint(0,10,(2,5))"
   ]
  },
  {
   "cell_type": "markdown",
   "id": "4e93d845-9264-4a1f-8870-a8821b1ad4e7",
   "metadata": {},
   "source": [
    "#### » Checking if all elements in an array are True"
   ]
  },
  {
   "cell_type": "code",
   "execution_count": 11,
   "id": "d5bc40f7-503f-4e53-a824-25919504179c",
   "metadata": {},
   "outputs": [
    {
     "data": {
      "text/plain": [
       "np.True_"
      ]
     },
     "execution_count": 11,
     "metadata": {},
     "output_type": "execute_result"
    }
   ],
   "source": [
    "np.all([-1, 4, 5]) #is all elemets true?"
   ]
  },
  {
   "cell_type": "code",
   "execution_count": 12,
   "id": "60a8987c-58cd-4cf1-ba28-7ffc7259cbbc",
   "metadata": {},
   "outputs": [
    {
     "data": {
      "text/plain": [
       "np.False_"
      ]
     },
     "execution_count": 12,
     "metadata": {},
     "output_type": "execute_result"
    }
   ],
   "source": [
    "np.all([-1, 0, 5])"
   ]
  },
  {
   "cell_type": "code",
   "execution_count": 13,
   "id": "10291780-94f3-4b8b-96a7-10307b6229d8",
   "metadata": {},
   "outputs": [
    {
     "data": {
      "text/plain": [
       "np.False_"
      ]
     },
     "execution_count": 13,
     "metadata": {},
     "output_type": "execute_result"
    }
   ],
   "source": [
    "np.all([True,False])"
   ]
  },
  {
   "cell_type": "code",
   "execution_count": 14,
   "id": "159cda28-a2b2-4dc7-9384-5ed2ed21feb2",
   "metadata": {},
   "outputs": [
    {
     "data": {
      "text/plain": [
       "np.True_"
      ]
     },
     "execution_count": 14,
     "metadata": {},
     "output_type": "execute_result"
    }
   ],
   "source": [
    "np.all([True,True])"
   ]
  },
  {
   "cell_type": "markdown",
   "id": "e5c9fa1a-08b7-4025-86be-b13725042113",
   "metadata": {},
   "source": [
    "#### » Creating an identity matrix with 1s on the `diagonal`"
   ]
  },
  {
   "cell_type": "code",
   "execution_count": 22,
   "id": "de364330-082c-4e3e-a9e2-777cf153725b",
   "metadata": {},
   "outputs": [
    {
     "data": {
      "text/plain": [
       "array([[1, 0, 0, 0, 0],\n",
       "       [0, 1, 0, 0, 0],\n",
       "       [0, 0, 1, 0, 0],\n",
       "       [0, 0, 0, 1, 0],\n",
       "       [0, 0, 0, 0, 1]])"
      ]
     },
     "execution_count": 22,
     "metadata": {},
     "output_type": "execute_result"
    }
   ],
   "source": [
    "np.eye(5, dtype=int)"
   ]
  },
  {
   "cell_type": "code",
   "execution_count": 25,
   "id": "3d05ff79-4a4e-4521-a1e1-a09e9776f93a",
   "metadata": {},
   "outputs": [
    {
     "data": {
      "text/plain": [
       "array([[0, 0, 0, 0, 0],\n",
       "       [1, 0, 0, 0, 0],\n",
       "       [0, 1, 0, 0, 0],\n",
       "       [0, 0, 1, 0, 0],\n",
       "       [0, 0, 0, 1, 0]])"
      ]
     },
     "execution_count": 25,
     "metadata": {},
     "output_type": "execute_result"
    }
   ],
   "source": [
    "np.eye(5, dtype=int, k=-1)"
   ]
  },
  {
   "cell_type": "code",
   "execution_count": 26,
   "id": "bcc7ef51-094b-4f2b-9e29-f4ae9a39c59a",
   "metadata": {},
   "outputs": [
    {
     "data": {
      "text/plain": [
       "array([[0, 0, 1, 0, 0],\n",
       "       [0, 0, 0, 1, 0],\n",
       "       [0, 0, 0, 0, 1],\n",
       "       [0, 0, 0, 0, 0],\n",
       "       [0, 0, 0, 0, 0]])"
      ]
     },
     "execution_count": 26,
     "metadata": {},
     "output_type": "execute_result"
    }
   ],
   "source": [
    "np.eye(5, dtype=int, k=2)"
   ]
  }
 ],
 "metadata": {
  "kernelspec": {
   "display_name": "Python [conda env:base] *",
   "language": "python",
   "name": "conda-base-py"
  },
  "language_info": {
   "codemirror_mode": {
    "name": "ipython",
    "version": 3
   },
   "file_extension": ".py",
   "mimetype": "text/x-python",
   "name": "python",
   "nbconvert_exporter": "python",
   "pygments_lexer": "ipython3",
   "version": "3.13.5"
  }
 },
 "nbformat": 4,
 "nbformat_minor": 5
}

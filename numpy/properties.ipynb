{
 "cells": [
  {
   "cell_type": "markdown",
   "id": "71fec64b-0efb-4941-a954-352015791152",
   "metadata": {},
   "source": [
    "# 💫 NumPy Array Properties"
   ]
  },
  {
   "cell_type": "markdown",
   "id": "ee05d132-6e0f-47e8-b682-a505cdb15387",
   "metadata": {},
   "source": [
    "#### » Import the NumPy library, usually abbreviated as `np`"
   ]
  },
  {
   "cell_type": "code",
   "execution_count": 1,
   "id": "65a81e27-41ca-47d9-9e8f-80ccd461ee81",
   "metadata": {},
   "outputs": [],
   "source": [
    "import numpy as np"
   ]
  },
  {
   "cell_type": "markdown",
   "id": "c4ec86f2-7433-4564-9002-8b1409bb834d",
   "metadata": {},
   "source": [
    "#### » Create a 1D array of 10 random integers between 0 and 10"
   ]
  },
  {
   "cell_type": "code",
   "execution_count": 2,
   "id": "545665b5-001b-4abd-b438-1cda31fa9fad",
   "metadata": {},
   "outputs": [
    {
     "data": {
      "text/plain": [
       "array([7, 6, 3, 3, 0, 8, 8, 1, 7, 9])"
      ]
     },
     "execution_count": 2,
     "metadata": {},
     "output_type": "execute_result"
    }
   ],
   "source": [
    "a = np.random.randint(10, size=10)\n",
    "a"
   ]
  },
  {
   "cell_type": "markdown",
   "id": "8cf107aa-3814-4567-a3a3-18e9eab307fa",
   "metadata": {},
   "source": [
    "#### » Get number of dimensions"
   ]
  },
  {
   "cell_type": "code",
   "execution_count": 3,
   "id": "932f3612-4e22-4748-8c1d-fedb9ff8a50b",
   "metadata": {},
   "outputs": [
    {
     "data": {
      "text/plain": [
       "1"
      ]
     },
     "execution_count": 3,
     "metadata": {},
     "output_type": "execute_result"
    }
   ],
   "source": [
    "a.ndim #Number of dimensions"
   ]
  },
  {
   "cell_type": "markdown",
   "id": "dcdb0e5f-c14a-434c-bbdb-f15a7dabeefd",
   "metadata": {},
   "source": [
    "#### » Get `shape` of array"
   ]
  },
  {
   "cell_type": "code",
   "execution_count": 4,
   "id": "13bf443b-d650-4c92-a926-8ec1ecd397bc",
   "metadata": {},
   "outputs": [
    {
     "data": {
      "text/plain": [
       "(10,)"
      ]
     },
     "execution_count": 4,
     "metadata": {},
     "output_type": "execute_result"
    }
   ],
   "source": [
    "a.shape"
   ]
  },
  {
   "cell_type": "markdown",
   "id": "97a180f4-9973-40c3-a5a8-8ce4308eda32",
   "metadata": {},
   "source": [
    "#### » `Total number of elements` in the array"
   ]
  },
  {
   "cell_type": "code",
   "execution_count": 5,
   "id": "10f0555c-cd81-4137-adae-0755bb35eca4",
   "metadata": {},
   "outputs": [
    {
     "data": {
      "text/plain": [
       "10"
      ]
     },
     "execution_count": 5,
     "metadata": {},
     "output_type": "execute_result"
    }
   ],
   "source": [
    "a.size"
   ]
  },
  {
   "cell_type": "markdown",
   "id": "8abb13d0-b546-4ef3-82c4-6084522742a4",
   "metadata": {},
   "source": [
    "#### » Check the `data type` of elements"
   ]
  },
  {
   "cell_type": "code",
   "execution_count": 6,
   "id": "40f38c36-0e1e-44c9-91ae-4bae1b10c33b",
   "metadata": {},
   "outputs": [
    {
     "data": {
      "text/plain": [
       "dtype('int64')"
      ]
     },
     "execution_count": 6,
     "metadata": {},
     "output_type": "execute_result"
    }
   ],
   "source": [
    "a.dtype #Data type of element"
   ]
  },
  {
   "cell_type": "markdown",
   "id": "cf2ad287-ecfc-4ffa-b7ea-0fb753580b8c",
   "metadata": {},
   "source": [
    "#### » Create a 2D array of 4 random integers between 0 and 10"
   ]
  },
  {
   "cell_type": "code",
   "execution_count": 7,
   "id": "3c671cb0-6d45-4b70-b68d-f63460f7d9a9",
   "metadata": {},
   "outputs": [
    {
     "data": {
      "text/plain": [
       "array([[1, 9],\n",
       "       [0, 5]])"
      ]
     },
     "execution_count": 7,
     "metadata": {},
     "output_type": "execute_result"
    }
   ],
   "source": [
    "b = np.random.randint(10, size=(2,2))\n",
    "b"
   ]
  },
  {
   "cell_type": "code",
   "execution_count": 8,
   "id": "a1e6e3ba-57db-4534-8904-5e58feca12c2",
   "metadata": {},
   "outputs": [
    {
     "data": {
      "text/plain": [
       "2"
      ]
     },
     "execution_count": 8,
     "metadata": {},
     "output_type": "execute_result"
    }
   ],
   "source": [
    "b.ndim"
   ]
  },
  {
   "cell_type": "code",
   "execution_count": 9,
   "id": "f74b4fde-4bb7-45cd-aaa4-b9eaba8a5aae",
   "metadata": {},
   "outputs": [
    {
     "data": {
      "text/plain": [
       "(2, 2)"
      ]
     },
     "execution_count": 9,
     "metadata": {},
     "output_type": "execute_result"
    }
   ],
   "source": [
    "b.shape"
   ]
  },
  {
   "cell_type": "code",
   "execution_count": 10,
   "id": "65cd6456-1137-4e33-afb7-264d41cfdad0",
   "metadata": {},
   "outputs": [
    {
     "data": {
      "text/plain": [
       "4"
      ]
     },
     "execution_count": 10,
     "metadata": {},
     "output_type": "execute_result"
    }
   ],
   "source": [
    "b.size"
   ]
  },
  {
   "cell_type": "code",
   "execution_count": 16,
   "id": "54e5a8ec-c9ab-4bea-82e1-b960b41d60b5",
   "metadata": {},
   "outputs": [
    {
     "data": {
      "text/plain": [
       "dtype('int64')"
      ]
     },
     "execution_count": 16,
     "metadata": {},
     "output_type": "execute_result"
    }
   ],
   "source": [
    "b.dtype"
   ]
  }
 ],
 "metadata": {
  "kernelspec": {
   "display_name": "Python [conda env:base] *",
   "language": "python",
   "name": "conda-base-py"
  },
  "language_info": {
   "codemirror_mode": {
    "name": "ipython",
    "version": 3
   },
   "file_extension": ".py",
   "mimetype": "text/x-python",
   "name": "python",
   "nbconvert_exporter": "python",
   "pygments_lexer": "ipython3",
   "version": "3.13.5"
  }
 },
 "nbformat": 4,
 "nbformat_minor": 5
}

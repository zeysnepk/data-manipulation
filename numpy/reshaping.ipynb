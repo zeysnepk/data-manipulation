{
 "cells": [
  {
   "cell_type": "markdown",
   "id": "342f4a0d-271a-4fe4-831d-eb6fe0492adc",
   "metadata": {},
   "source": [
    "# 🔄 NumPy Reshaping"
   ]
  },
  {
   "cell_type": "markdown",
   "id": "3265a602-e49d-405f-b971-5558db345848",
   "metadata": {},
   "source": [
    "#### » Importing the NumPy library, usually abbreviated as `np`"
   ]
  },
  {
   "cell_type": "code",
   "execution_count": 3,
   "id": "ca9492be-be9e-4594-9976-bc8ebcad8731",
   "metadata": {},
   "outputs": [],
   "source": [
    "import numpy as np"
   ]
  },
  {
   "cell_type": "markdown",
   "id": "48028bd1-773b-499d-be5d-1a98e25ae258",
   "metadata": {},
   "source": [
    "#### » Creating a 1D array of 9 elements"
   ]
  },
  {
   "cell_type": "code",
   "execution_count": 4,
   "id": "c5cd057c-1d1d-493c-8f1e-59819574cb77",
   "metadata": {},
   "outputs": [
    {
     "data": {
      "text/plain": [
       "array([1, 2, 3, 4, 5, 6, 7, 8, 9])"
      ]
     },
     "execution_count": 4,
     "metadata": {},
     "output_type": "execute_result"
    }
   ],
   "source": [
    "np.arange(1,10)"
   ]
  },
  {
   "cell_type": "markdown",
   "id": "8f75eaa5-72a7-46df-a3dd-095e8e9e4e48",
   "metadata": {},
   "source": [
    "#### » Reshaping to 2D (3 rows, 3 columns)"
   ]
  },
  {
   "cell_type": "code",
   "execution_count": 5,
   "id": "c9a12e86-959c-4a15-ac1c-9544636d4282",
   "metadata": {},
   "outputs": [
    {
     "data": {
      "text/plain": [
       "array([[1, 2, 3],\n",
       "       [4, 5, 6],\n",
       "       [7, 8, 9]])"
      ]
     },
     "execution_count": 5,
     "metadata": {},
     "output_type": "execute_result"
    }
   ],
   "source": [
    "np.arange(1,10).reshape((3,3))"
   ]
  },
  {
   "cell_type": "code",
   "execution_count": 22,
   "id": "2af0bba8-2d0a-4a9b-a65c-af3c7fe384d6",
   "metadata": {},
   "outputs": [],
   "source": [
    "a = np.arange(1,10) #a vector"
   ]
  },
  {
   "cell_type": "code",
   "execution_count": 7,
   "id": "45385339-a614-462f-be6f-648bc4144437",
   "metadata": {},
   "outputs": [
    {
     "data": {
      "text/plain": [
       "array([1, 2, 3, 4, 5, 6, 7, 8, 9])"
      ]
     },
     "execution_count": 7,
     "metadata": {},
     "output_type": "execute_result"
    }
   ],
   "source": [
    "a"
   ]
  },
  {
   "cell_type": "code",
   "execution_count": 8,
   "id": "a445fc93-fb9c-4332-a7fd-51f984faaee9",
   "metadata": {},
   "outputs": [
    {
     "data": {
      "text/plain": [
       "1"
      ]
     },
     "execution_count": 8,
     "metadata": {},
     "output_type": "execute_result"
    }
   ],
   "source": [
    "a.ndim"
   ]
  },
  {
   "cell_type": "code",
   "execution_count": 23,
   "id": "34e6c64d-1682-4b17-b97c-f0314bc2f533",
   "metadata": {},
   "outputs": [],
   "source": [
    "b = a.reshape((1,9)) #a matrix"
   ]
  },
  {
   "cell_type": "code",
   "execution_count": 24,
   "id": "8b99c022-9e97-4902-b700-4a73d75706a3",
   "metadata": {},
   "outputs": [
    {
     "data": {
      "text/plain": [
       "array([[1, 2, 3, 4, 5, 6, 7, 8, 9]])"
      ]
     },
     "execution_count": 24,
     "metadata": {},
     "output_type": "execute_result"
    }
   ],
   "source": [
    "b"
   ]
  },
  {
   "cell_type": "code",
   "execution_count": 11,
   "id": "d2565124-0432-4381-9779-37f1c627d571",
   "metadata": {},
   "outputs": [
    {
     "data": {
      "text/plain": [
       "2"
      ]
     },
     "execution_count": 11,
     "metadata": {},
     "output_type": "execute_result"
    }
   ],
   "source": [
    "b.ndim"
   ]
  },
  {
   "cell_type": "markdown",
   "id": "34edb284-a3ce-4770-8616-2959bac87247",
   "metadata": {},
   "source": [
    "#### » Flattening the array into 1D (returns a copy)"
   ]
  },
  {
   "cell_type": "code",
   "execution_count": 29,
   "id": "d64b4bd0-ac0d-443e-a667-aa8849bfd2f6",
   "metadata": {},
   "outputs": [
    {
     "data": {
      "text/plain": [
       "array([1, 2, 3, 4, 5, 6, 7, 8, 9])"
      ]
     },
     "execution_count": 29,
     "metadata": {},
     "output_type": "execute_result"
    }
   ],
   "source": [
    "b.flatten()"
   ]
  },
  {
   "cell_type": "code",
   "execution_count": 33,
   "id": "983a0ebc-f8b4-473b-91ce-dde34d2be3fc",
   "metadata": {},
   "outputs": [
    {
     "data": {
      "text/plain": [
       "array([[1, 2, 3, 4, 5, 6, 7, 8, 9]])"
      ]
     },
     "execution_count": 33,
     "metadata": {},
     "output_type": "execute_result"
    }
   ],
   "source": [
    "b"
   ]
  }
 ],
 "metadata": {
  "kernelspec": {
   "display_name": "Python [conda env:base] *",
   "language": "python",
   "name": "conda-base-py"
  },
  "language_info": {
   "codemirror_mode": {
    "name": "ipython",
    "version": 3
   },
   "file_extension": ".py",
   "mimetype": "text/x-python",
   "name": "python",
   "nbconvert_exporter": "python",
   "pygments_lexer": "ipython3",
   "version": "3.13.5"
  }
 },
 "nbformat": 4,
 "nbformat_minor": 5
}

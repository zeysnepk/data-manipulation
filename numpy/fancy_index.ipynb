{
 "cells": [
  {
   "cell_type": "code",
   "execution_count": 1,
   "id": "ca0c8441-9a9e-471c-b11f-7fe31c34c260",
   "metadata": {},
   "outputs": [],
   "source": [
    "import numpy as np"
   ]
  },
  {
   "cell_type": "code",
   "execution_count": 2,
   "id": "d757eb7f-af11-4a17-a6d9-1f759564e671",
   "metadata": {},
   "outputs": [],
   "source": [
    "a = np.arange(0,10,2)"
   ]
  },
  {
   "cell_type": "code",
   "execution_count": 3,
   "id": "cc05f051-2433-4ef5-882a-ef7ab015a98a",
   "metadata": {},
   "outputs": [
    {
     "data": {
      "text/plain": [
       "array([0, 2, 4, 6, 8])"
      ]
     },
     "execution_count": 3,
     "metadata": {},
     "output_type": "execute_result"
    }
   ],
   "source": [
    "a"
   ]
  },
  {
   "cell_type": "code",
   "execution_count": 4,
   "id": "aa8e4327-70bf-4d8f-856b-be8e08dfcf8d",
   "metadata": {},
   "outputs": [
    {
     "data": {
      "text/plain": [
       "[np.int64(2), np.int64(6), np.int64(8)]"
      ]
     },
     "execution_count": 4,
     "metadata": {},
     "output_type": "execute_result"
    }
   ],
   "source": [
    "[a[1], a[3], a[4]]"
   ]
  },
  {
   "cell_type": "code",
   "execution_count": 5,
   "id": "aee39dfa-708d-41d7-831a-200c89f6bf02",
   "metadata": {},
   "outputs": [],
   "source": [
    "list_a = [1,3,4]"
   ]
  },
  {
   "cell_type": "code",
   "execution_count": 6,
   "id": "98e6d5a8-2416-4cc3-bdd9-ca7c313832bc",
   "metadata": {},
   "outputs": [
    {
     "data": {
      "text/plain": [
       "array([2, 6, 8])"
      ]
     },
     "execution_count": 6,
     "metadata": {},
     "output_type": "execute_result"
    }
   ],
   "source": [
    "a[list_a]"
   ]
  },
  {
   "cell_type": "code",
   "execution_count": 7,
   "id": "53c21d48-f60f-48fb-9925-749f3d93b5c2",
   "metadata": {},
   "outputs": [],
   "source": [
    "b = np.arange(6).reshape(2,3)"
   ]
  },
  {
   "cell_type": "code",
   "execution_count": 8,
   "id": "d15832b3-6a34-42c5-a5b4-1f21c947f4f0",
   "metadata": {},
   "outputs": [
    {
     "data": {
      "text/plain": [
       "array([[0, 1, 2],\n",
       "       [3, 4, 5]])"
      ]
     },
     "execution_count": 8,
     "metadata": {},
     "output_type": "execute_result"
    }
   ],
   "source": [
    "b"
   ]
  },
  {
   "cell_type": "code",
   "execution_count": 9,
   "id": "ee3406a1-d2f2-469c-a51b-3d60df1294b4",
   "metadata": {},
   "outputs": [],
   "source": [
    "row = np.array([0,1])"
   ]
  },
  {
   "cell_type": "code",
   "execution_count": 10,
   "id": "9217a2d1-26ea-42dc-8417-d782adec7979",
   "metadata": {},
   "outputs": [],
   "source": [
    "column = np.array([1,2])"
   ]
  },
  {
   "cell_type": "code",
   "execution_count": 11,
   "id": "4cb05176-2bea-4b49-8d0b-1dff84c375d6",
   "metadata": {},
   "outputs": [
    {
     "data": {
      "text/plain": [
       "array([1, 5])"
      ]
     },
     "execution_count": 11,
     "metadata": {},
     "output_type": "execute_result"
    }
   ],
   "source": [
    "b[row, column]"
   ]
  },
  {
   "cell_type": "code",
   "execution_count": 12,
   "id": "ecfadc02-ca71-4119-bb09-6ba57dd62610",
   "metadata": {},
   "outputs": [],
   "source": [
    "#Fancy indext with basic index"
   ]
  },
  {
   "cell_type": "code",
   "execution_count": 13,
   "id": "372b2476-1f95-46d8-b766-d9a30f1157cb",
   "metadata": {},
   "outputs": [
    {
     "data": {
      "text/plain": [
       "array([1, 2])"
      ]
     },
     "execution_count": 13,
     "metadata": {},
     "output_type": "execute_result"
    }
   ],
   "source": [
    "b[0, [1,2]]"
   ]
  },
  {
   "cell_type": "code",
   "execution_count": 14,
   "id": "f16f7396-251e-4190-a182-4caa672bbeda",
   "metadata": {},
   "outputs": [],
   "source": [
    "#Fancy indext with slice"
   ]
  },
  {
   "cell_type": "code",
   "execution_count": 16,
   "id": "1fff3241-fab6-4ef9-95e9-14c6dcb7a824",
   "metadata": {},
   "outputs": [
    {
     "data": {
      "text/plain": [
       "array([[1, 2],\n",
       "       [4, 5]])"
      ]
     },
     "execution_count": 16,
     "metadata": {},
     "output_type": "execute_result"
    }
   ],
   "source": [
    "b[0:, [1,2]]"
   ]
  },
  {
   "cell_type": "code",
   "execution_count": null,
   "id": "f6cf3f94-2734-4ba7-b962-b29d2212ef47",
   "metadata": {},
   "outputs": [],
   "source": []
  }
 ],
 "metadata": {
  "kernelspec": {
   "display_name": "Python [conda env:base] *",
   "language": "python",
   "name": "conda-base-py"
  },
  "language_info": {
   "codemirror_mode": {
    "name": "ipython",
    "version": 3
   },
   "file_extension": ".py",
   "mimetype": "text/x-python",
   "name": "python",
   "nbconvert_exporter": "python",
   "pygments_lexer": "ipython3",
   "version": "3.13.5"
  }
 },
 "nbformat": 4,
 "nbformat_minor": 5
}

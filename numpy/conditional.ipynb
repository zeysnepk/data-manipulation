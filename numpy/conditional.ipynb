{
 "cells": [
  {
   "cell_type": "markdown",
   "id": "a053fa23-ee46-4c3f-9d8a-e43e5fa1093e",
   "metadata": {},
   "source": [
    "# ✅ NumPy Conditional Element Selection"
   ]
  },
  {
   "cell_type": "markdown",
   "id": "63f9bc2b-ac27-4212-800e-feb2dc3d2e86",
   "metadata": {},
   "source": [
    "#### » Import the NumPy library, usually abbreviated as `np`"
   ]
  },
  {
   "cell_type": "code",
   "execution_count": 1,
   "id": "2bf2b288-5d6b-4c88-927e-99b4d3218001",
   "metadata": {},
   "outputs": [],
   "source": [
    "import numpy as np"
   ]
  },
  {
   "cell_type": "markdown",
   "id": "591f8ce0-9bb9-4921-9ca1-05819a6986dd",
   "metadata": {},
   "source": [
    "#### » Create 1D array using `arange` "
   ]
  },
  {
   "cell_type": "code",
   "execution_count": 2,
   "id": "5b900014-59f9-4971-b0a1-22e740de807a",
   "metadata": {},
   "outputs": [
    {
     "data": {
      "text/plain": [
       "array([1, 2, 3, 4, 5])"
      ]
     },
     "execution_count": 2,
     "metadata": {},
     "output_type": "execute_result"
    }
   ],
   "source": [
    "v = np.arange(1,6)\n",
    "v"
   ]
  },
  {
   "cell_type": "markdown",
   "id": "cba2a874-af37-4b73-a71e-07892ad01c33",
   "metadata": {},
   "source": [
    "#### » Create a boolean mask where elements are less or greater than n -> `array<n or array>n`"
   ]
  },
  {
   "cell_type": "code",
   "execution_count": 3,
   "id": "8e84d1ec-f698-4965-a2b3-f55c02c02a77",
   "metadata": {},
   "outputs": [
    {
     "data": {
      "text/plain": [
       "array([ True,  True, False, False, False])"
      ]
     },
     "execution_count": 3,
     "metadata": {},
     "output_type": "execute_result"
    }
   ],
   "source": [
    "v < 3"
   ]
  },
  {
   "cell_type": "code",
   "execution_count": 4,
   "id": "a1d25332-1c15-4254-bba0-9850aa26754a",
   "metadata": {},
   "outputs": [
    {
     "data": {
      "text/plain": [
       "array([False, False, False, False,  True])"
      ]
     },
     "execution_count": 4,
     "metadata": {},
     "output_type": "execute_result"
    }
   ],
   "source": [
    "v > 4"
   ]
  },
  {
   "cell_type": "markdown",
   "id": "3d46123c-57bf-4b4a-87b1-f17efa646782",
   "metadata": {},
   "source": [
    "#### » Get elements less or greater than n -> `array[array<n] or array[array>n]`"
   ]
  },
  {
   "cell_type": "code",
   "execution_count": 5,
   "id": "7d0ca1cf-7b26-48cd-b082-c0fdad650f2e",
   "metadata": {},
   "outputs": [
    {
     "data": {
      "text/plain": [
       "array([1, 2])"
      ]
     },
     "execution_count": 5,
     "metadata": {},
     "output_type": "execute_result"
    }
   ],
   "source": [
    "v[v < 3]"
   ]
  },
  {
   "cell_type": "code",
   "execution_count": 6,
   "id": "0ba845b6-9417-458f-97fd-da5329a29168",
   "metadata": {},
   "outputs": [
    {
     "data": {
      "text/plain": [
       "array([3, 4, 5])"
      ]
     },
     "execution_count": 6,
     "metadata": {},
     "output_type": "execute_result"
    }
   ],
   "source": [
    "v[v >= 3]"
   ]
  },
  {
   "cell_type": "markdown",
   "id": "74f36f79-4a2a-4ccd-bd62-a77a5adfcd0c",
   "metadata": {},
   "source": [
    "#### » Select all elements that are not equal to n -> `array[array != n]`"
   ]
  },
  {
   "cell_type": "code",
   "execution_count": 10,
   "id": "0b8e469f-b87d-43da-a4ca-d7f36f9cae92",
   "metadata": {},
   "outputs": [
    {
     "data": {
      "text/plain": [
       "array([1, 2, 4, 5])"
      ]
     },
     "execution_count": 10,
     "metadata": {},
     "output_type": "execute_result"
    }
   ],
   "source": [
    "v[v != 3]"
   ]
  },
  {
   "cell_type": "markdown",
   "id": "bf0dd4d9-f4fa-4bf5-a03d-1fcb3beecbff",
   "metadata": {},
   "source": [
    "#### » Get elements that are even"
   ]
  },
  {
   "cell_type": "code",
   "execution_count": 10,
   "id": "94591a77-4691-4684-ad25-5267f665d1e2",
   "metadata": {},
   "outputs": [
    {
     "data": {
      "text/plain": [
       "array([2, 4])"
      ]
     },
     "execution_count": 10,
     "metadata": {},
     "output_type": "execute_result"
    }
   ],
   "source": [
    "v[v % 2 == 0]"
   ]
  },
  {
   "cell_type": "markdown",
   "id": "0cb77a16-a772-4f31-9c19-2eb757813ded",
   "metadata": {},
   "source": [
    "#### » Combine conditions with `& (and)` "
   ]
  },
  {
   "cell_type": "code",
   "execution_count": 11,
   "id": "d9587286-da12-4368-9d33-dd3a7070b5ab",
   "metadata": {},
   "outputs": [
    {
     "data": {
      "text/plain": [
       "array([3, 4])"
      ]
     },
     "execution_count": 11,
     "metadata": {},
     "output_type": "execute_result"
    }
   ],
   "source": [
    "v[(v > 2) & (v < 5)]"
   ]
  },
  {
   "cell_type": "markdown",
   "id": "e1f49120-c77a-4047-82c1-0bb04cdc1ddd",
   "metadata": {},
   "source": [
    "#### » Use `~`  to invert condition (not)"
   ]
  },
  {
   "cell_type": "code",
   "execution_count": 7,
   "id": "f027061e-3be2-434f-9ff8-a1044a562daf",
   "metadata": {},
   "outputs": [
    {
     "data": {
      "text/plain": [
       "array([1, 2, 3, 4, 5])"
      ]
     },
     "execution_count": 7,
     "metadata": {},
     "output_type": "execute_result"
    }
   ],
   "source": [
    "v[~(v > 5)] #same as v[v <= 5]"
   ]
  },
  {
   "cell_type": "markdown",
   "id": "a4c7fcc9-1baf-4ce2-b4ea-7b503563df84",
   "metadata": {},
   "source": [
    "#### » Modify elements"
   ]
  },
  {
   "cell_type": "code",
   "execution_count": 8,
   "id": "d676b472-99d5-4d9b-b98c-db7ab6affc9b",
   "metadata": {},
   "outputs": [
    {
     "data": {
      "text/plain": [
       "array([0, 0, 3, 4, 5])"
      ]
     },
     "execution_count": 8,
     "metadata": {},
     "output_type": "execute_result"
    }
   ],
   "source": [
    "v[v < 3] = 0\n",
    "v"
   ]
  }
 ],
 "metadata": {
  "kernelspec": {
   "display_name": "Python [conda env:base] *",
   "language": "python",
   "name": "conda-base-py"
  },
  "language_info": {
   "codemirror_mode": {
    "name": "ipython",
    "version": 3
   },
   "file_extension": ".py",
   "mimetype": "text/x-python",
   "name": "python",
   "nbconvert_exporter": "python",
   "pygments_lexer": "ipython3",
   "version": "3.13.5"
  }
 },
 "nbformat": 4,
 "nbformat_minor": 5
}

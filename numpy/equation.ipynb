{
 "cells": [
  {
   "cell_type": "code",
   "execution_count": 1,
   "id": "5a8d6792-b381-4923-bfc5-30f2327b63ac",
   "metadata": {},
   "outputs": [],
   "source": [
    "import numpy as np"
   ]
  },
  {
   "cell_type": "markdown",
   "id": "c0ed2b15-8dc3-4a8c-8777-3042f5e3af6b",
   "metadata": {},
   "source": [
    "5 * x0 + x1 = 12"
   ]
  },
  {
   "cell_type": "markdown",
   "id": "6c6f40a4-23f2-4cb7-9d42-78a20ddcb00a",
   "metadata": {},
   "source": [
    "x0 + 3 * x1 = 10"
   ]
  },
  {
   "cell_type": "code",
   "execution_count": null,
   "id": "35dd2145-ec2a-41eb-b606-214a3293ab54",
   "metadata": {},
   "outputs": [],
   "source": [
    "#multiplier of unknown variables"
   ]
  },
  {
   "cell_type": "code",
   "execution_count": 2,
   "id": "c16058e0-a15e-4930-b0bd-f90dae3d6ccf",
   "metadata": {},
   "outputs": [],
   "source": [
    "a = np.array([[5,1], [1,3]])"
   ]
  },
  {
   "cell_type": "code",
   "execution_count": 3,
   "id": "df0ff6af-7ad7-429c-a37d-bb46f72b892c",
   "metadata": {},
   "outputs": [
    {
     "data": {
      "text/plain": [
       "array([[5, 1],\n",
       "       [1, 3]])"
      ]
     },
     "execution_count": 3,
     "metadata": {},
     "output_type": "execute_result"
    }
   ],
   "source": [
    "a"
   ]
  },
  {
   "cell_type": "code",
   "execution_count": 9,
   "id": "6b60cdef-969b-438d-98f5-83afdd10dff4",
   "metadata": {},
   "outputs": [],
   "source": [
    "#multiplier of results"
   ]
  },
  {
   "cell_type": "code",
   "execution_count": 4,
   "id": "6ffe2460-1583-4313-8f5c-6175bb7d3c79",
   "metadata": {},
   "outputs": [],
   "source": [
    "b = np.array([12,10])"
   ]
  },
  {
   "cell_type": "code",
   "execution_count": 5,
   "id": "73bc53a8-ca52-4dca-a99b-a18ef22c2d6e",
   "metadata": {},
   "outputs": [
    {
     "data": {
      "text/plain": [
       "array([12, 10])"
      ]
     },
     "execution_count": 5,
     "metadata": {},
     "output_type": "execute_result"
    }
   ],
   "source": [
    "b"
   ]
  },
  {
   "cell_type": "code",
   "execution_count": 10,
   "id": "7b7406ff-856a-4e94-806f-a7a076a12878",
   "metadata": {},
   "outputs": [],
   "source": [
    "#Finding values of unknown variables using linear algebra"
   ]
  },
  {
   "cell_type": "code",
   "execution_count": 6,
   "id": "297bbbaa-4803-4ae8-b34a-a5a434dfaf7f",
   "metadata": {},
   "outputs": [],
   "source": [
    "x = np.linalg.solve(a,b)"
   ]
  },
  {
   "cell_type": "code",
   "execution_count": 7,
   "id": "93655f45-f1ac-4938-91da-9c48feaa60e0",
   "metadata": {},
   "outputs": [
    {
     "data": {
      "text/plain": [
       "array([1.85714286, 2.71428571])"
      ]
     },
     "execution_count": 7,
     "metadata": {},
     "output_type": "execute_result"
    }
   ],
   "source": [
    "x"
   ]
  },
  {
   "cell_type": "code",
   "execution_count": null,
   "id": "18afd9ab-d8ea-457f-9508-f5c397d6d705",
   "metadata": {},
   "outputs": [],
   "source": []
  }
 ],
 "metadata": {
  "kernelspec": {
   "display_name": "Python [conda env:base] *",
   "language": "python",
   "name": "conda-base-py"
  },
  "language_info": {
   "codemirror_mode": {
    "name": "ipython",
    "version": 3
   },
   "file_extension": ".py",
   "mimetype": "text/x-python",
   "name": "python",
   "nbconvert_exporter": "python",
   "pygments_lexer": "ipython3",
   "version": "3.13.5"
  }
 },
 "nbformat": 4,
 "nbformat_minor": 5
}

{
 "cells": [
  {
   "cell_type": "markdown",
   "id": "0ce0d4e7-c2e2-4087-83e6-ff2177eeae4b",
   "metadata": {},
   "source": [
    "# ❓ Solving a System of Linear Equations with NumPy"
   ]
  },
  {
   "cell_type": "markdown",
   "id": "c0ed2b15-8dc3-4a8c-8777-3042f5e3af6b",
   "metadata": {},
   "source": [
    "We are solving the following system of equations:\n",
    "\n",
    "5 * x0 + x1 = 12\n",
    "x0 + 3 * x1 = 10\n",
    "\n",
    "We’ll use `np.linalg.solve()` to find values of unknown variables x₀ and x₁"
   ]
  },
  {
   "cell_type": "markdown",
   "id": "06115a45-1fef-46c1-850c-a5c14190b0bf",
   "metadata": {},
   "source": [
    "#### » Import the NumPy library, usually abbreviated as `np`"
   ]
  },
  {
   "cell_type": "code",
   "execution_count": 1,
   "id": "5a8d6792-b381-4923-bfc5-30f2327b63ac",
   "metadata": {},
   "outputs": [],
   "source": [
    "import numpy as np"
   ]
  },
  {
   "cell_type": "markdown",
   "id": "4925e58c-a591-453b-b7b6-1b7b02168929",
   "metadata": {},
   "source": [
    "#### » Coefficient matrix of unknowns (x0 and x1)"
   ]
  },
  {
   "cell_type": "code",
   "execution_count": 2,
   "id": "c16058e0-a15e-4930-b0bd-f90dae3d6ccf",
   "metadata": {},
   "outputs": [
    {
     "data": {
      "text/plain": [
       "array([[5, 1],\n",
       "       [1, 3]])"
      ]
     },
     "execution_count": 2,
     "metadata": {},
     "output_type": "execute_result"
    }
   ],
   "source": [
    "a = np.array([[5,1], [1,3]])\n",
    "a"
   ]
  },
  {
   "cell_type": "markdown",
   "id": "2415a0d6-8802-4694-8061-a6211518d215",
   "metadata": {},
   "source": [
    "#### » Result vector (right-hand side of equations)"
   ]
  },
  {
   "cell_type": "code",
   "execution_count": 3,
   "id": "6ffe2460-1583-4313-8f5c-6175bb7d3c79",
   "metadata": {},
   "outputs": [
    {
     "data": {
      "text/plain": [
       "array([12, 10])"
      ]
     },
     "execution_count": 3,
     "metadata": {},
     "output_type": "execute_result"
    }
   ],
   "source": [
    "b = np.array([12,10])\n",
    "b"
   ]
  },
  {
   "cell_type": "markdown",
   "id": "71f11220-ac8a-43f7-8271-5769f31da132",
   "metadata": {},
   "source": [
    "#### » Finding values of unknown variables using `linear algebra` "
   ]
  },
  {
   "cell_type": "code",
   "execution_count": 4,
   "id": "297bbbaa-4803-4ae8-b34a-a5a434dfaf7f",
   "metadata": {},
   "outputs": [
    {
     "data": {
      "text/plain": [
       "array([1.85714286, 2.71428571])"
      ]
     },
     "execution_count": 4,
     "metadata": {},
     "output_type": "execute_result"
    }
   ],
   "source": [
    "x = np.linalg.solve(a,b)\n",
    "x"
   ]
  }
 ],
 "metadata": {
  "kernelspec": {
   "display_name": "Python [conda env:base] *",
   "language": "python",
   "name": "conda-base-py"
  },
  "language_info": {
   "codemirror_mode": {
    "name": "ipython",
    "version": 3
   },
   "file_extension": ".py",
   "mimetype": "text/x-python",
   "name": "python",
   "nbconvert_exporter": "python",
   "pygments_lexer": "ipython3",
   "version": "3.13.5"
  }
 },
 "nbformat": 4,
 "nbformat_minor": 5
}

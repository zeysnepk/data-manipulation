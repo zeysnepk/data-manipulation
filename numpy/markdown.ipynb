{
 "cells": [
  {
   "cell_type": "markdown",
   "id": "9bdf749d-6686-452e-97bb-949ae93fd9a8",
   "metadata": {},
   "source": [
    "* marking"
   ]
  },
  {
   "cell_type": "markdown",
   "id": "e8dffaee-6dcf-45fd-8926-e4f1a48c5a6f",
   "metadata": {},
   "source": [
    "* **bold** : normal"
   ]
  },
  {
   "cell_type": "markdown",
   "id": "9f5d260d-9f2e-4318-a977-51c9c7b6b576",
   "metadata": {},
   "source": [
    "_italic_"
   ]
  },
  {
   "cell_type": "code",
   "execution_count": null,
   "id": "06787f95-f12d-4b61-8d56-85bddd13702f",
   "metadata": {},
   "outputs": [],
   "source": []
  }
 ],
 "metadata": {
  "kernelspec": {
   "display_name": "Python [conda env:base] *",
   "language": "python",
   "name": "conda-base-py"
  },
  "language_info": {
   "codemirror_mode": {
    "name": "ipython",
    "version": 3
   },
   "file_extension": ".py",
   "mimetype": "text/x-python",
   "name": "python",
   "nbconvert_exporter": "python",
   "pygments_lexer": "ipython3",
   "version": "3.13.5"
  }
 },
 "nbformat": 4,
 "nbformat_minor": 5
}

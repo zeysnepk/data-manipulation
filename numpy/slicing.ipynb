{
 "cells": [
  {
   "cell_type": "code",
   "execution_count": 1,
   "id": "7df5fa70-b496-4efc-91cd-5a49ec872cb2",
   "metadata": {},
   "outputs": [],
   "source": [
    "import numpy as np"
   ]
  },
  {
   "cell_type": "code",
   "execution_count": 2,
   "id": "c2993f87-b912-4985-8439-9b1138be459e",
   "metadata": {},
   "outputs": [],
   "source": [
    "a = np.arange(20,30)"
   ]
  },
  {
   "cell_type": "code",
   "execution_count": 3,
   "id": "80195d37-b805-4408-a0df-f89e77a22ffe",
   "metadata": {},
   "outputs": [
    {
     "data": {
      "text/plain": [
       "array([20, 21, 22, 23, 24, 25, 26, 27, 28, 29])"
      ]
     },
     "execution_count": 3,
     "metadata": {},
     "output_type": "execute_result"
    }
   ],
   "source": [
    "a"
   ]
  },
  {
   "cell_type": "code",
   "execution_count": 4,
   "id": "a4449742-22f1-44d3-ac33-44692be20823",
   "metadata": {},
   "outputs": [
    {
     "data": {
      "text/plain": [
       "array([23, 24, 25, 26, 27, 28, 29])"
      ]
     },
     "execution_count": 4,
     "metadata": {},
     "output_type": "execute_result"
    }
   ],
   "source": [
    "a[3:]"
   ]
  },
  {
   "cell_type": "code",
   "execution_count": 5,
   "id": "49e312cc-be21-46f6-89f8-30bb92c07569",
   "metadata": {},
   "outputs": [
    {
     "data": {
      "text/plain": [
       "array([21])"
      ]
     },
     "execution_count": 5,
     "metadata": {},
     "output_type": "execute_result"
    }
   ],
   "source": [
    "a[1:2]"
   ]
  },
  {
   "cell_type": "code",
   "execution_count": 6,
   "id": "27cdde11-ad42-4cd9-9eda-245af15bfa99",
   "metadata": {},
   "outputs": [
    {
     "data": {
      "text/plain": [
       "array([21, 23, 25, 27, 29])"
      ]
     },
     "execution_count": 6,
     "metadata": {},
     "output_type": "execute_result"
    }
   ],
   "source": [
    "a[1::2]"
   ]
  },
  {
   "cell_type": "code",
   "execution_count": 7,
   "id": "52cea741-6d1b-4072-9cf4-b03c92edb21f",
   "metadata": {},
   "outputs": [],
   "source": [
    "b = np.random.randint(10, size=(5,5))"
   ]
  },
  {
   "cell_type": "code",
   "execution_count": 8,
   "id": "f4e09582-8cbc-49ce-a4a5-ef247b1000f7",
   "metadata": {},
   "outputs": [
    {
     "data": {
      "text/plain": [
       "array([[6, 2, 8, 6, 7],\n",
       "       [0, 1, 5, 2, 6],\n",
       "       [5, 9, 6, 0, 6],\n",
       "       [0, 1, 7, 2, 6],\n",
       "       [3, 4, 4, 7, 7]])"
      ]
     },
     "execution_count": 8,
     "metadata": {},
     "output_type": "execute_result"
    }
   ],
   "source": [
    "b"
   ]
  },
  {
   "cell_type": "code",
   "execution_count": 9,
   "id": "94cc214b-1703-4a74-a17f-9d68e7d427b1",
   "metadata": {},
   "outputs": [
    {
     "data": {
      "text/plain": [
       "array([6, 0, 5, 0, 3])"
      ]
     },
     "execution_count": 9,
     "metadata": {},
     "output_type": "execute_result"
    }
   ],
   "source": [
    "b[:,0]"
   ]
  },
  {
   "cell_type": "code",
   "execution_count": 10,
   "id": "240faed2-8d95-4a1b-a33d-737b3da558cb",
   "metadata": {},
   "outputs": [
    {
     "data": {
      "text/plain": [
       "array([2, 1, 9, 1, 4])"
      ]
     },
     "execution_count": 10,
     "metadata": {},
     "output_type": "execute_result"
    }
   ],
   "source": [
    "b[:,1]"
   ]
  },
  {
   "cell_type": "code",
   "execution_count": 11,
   "id": "adfeaed7-d57c-4329-846a-4c7fd8464b4a",
   "metadata": {},
   "outputs": [
    {
     "data": {
      "text/plain": [
       "array([6, 2, 8, 6, 7])"
      ]
     },
     "execution_count": 11,
     "metadata": {},
     "output_type": "execute_result"
    }
   ],
   "source": [
    "b[0,:]"
   ]
  },
  {
   "cell_type": "code",
   "execution_count": 12,
   "id": "0b823b3b-3e88-4c58-a190-dc6a3d5e790f",
   "metadata": {},
   "outputs": [
    {
     "data": {
      "text/plain": [
       "array([6, 2, 8, 6, 7])"
      ]
     },
     "execution_count": 12,
     "metadata": {},
     "output_type": "execute_result"
    }
   ],
   "source": [
    "b[0]"
   ]
  },
  {
   "cell_type": "code",
   "execution_count": 13,
   "id": "3c5e4260-16fe-4798-8dc5-8629f481ad78",
   "metadata": {},
   "outputs": [
    {
     "data": {
      "text/plain": [
       "array([5, 9, 6, 0, 6])"
      ]
     },
     "execution_count": 13,
     "metadata": {},
     "output_type": "execute_result"
    }
   ],
   "source": [
    "b[2,:]"
   ]
  },
  {
   "cell_type": "code",
   "execution_count": 14,
   "id": "e66eb99d-5246-4e33-9b2d-82049b2b55ad",
   "metadata": {},
   "outputs": [
    {
     "data": {
      "text/plain": [
       "array([[6],\n",
       "       [0]])"
      ]
     },
     "execution_count": 14,
     "metadata": {},
     "output_type": "execute_result"
    }
   ],
   "source": [
    "b[0:2, 0:1]"
   ]
  },
  {
   "cell_type": "code",
   "execution_count": 15,
   "id": "20546f48-256c-4931-b4f3-0d2f9f46a199",
   "metadata": {},
   "outputs": [
    {
     "data": {
      "text/plain": [
       "array([[6, 2],\n",
       "       [0, 1],\n",
       "       [5, 9],\n",
       "       [0, 1],\n",
       "       [3, 4]])"
      ]
     },
     "execution_count": 15,
     "metadata": {},
     "output_type": "execute_result"
    }
   ],
   "source": [
    "b[::, :2]"
   ]
  },
  {
   "cell_type": "code",
   "execution_count": 16,
   "id": "1d8ea6e5-e409-46b3-bc08-425981498846",
   "metadata": {},
   "outputs": [
    {
     "data": {
      "text/plain": [
       "array([[0, 1],\n",
       "       [5, 9]])"
      ]
     },
     "execution_count": 16,
     "metadata": {},
     "output_type": "execute_result"
    }
   ],
   "source": [
    "b[1:3, 0:2]"
   ]
  },
  {
   "cell_type": "code",
   "execution_count": 17,
   "id": "9d3d2197-4d54-449f-a206-852793f3c4fd",
   "metadata": {},
   "outputs": [
    {
     "data": {
      "text/plain": [
       "array([[8, 6],\n",
       "       [5, 2]])"
      ]
     },
     "execution_count": 17,
     "metadata": {},
     "output_type": "execute_result"
    }
   ],
   "source": [
    "b[0:2,2:4]"
   ]
  },
  {
   "cell_type": "code",
   "execution_count": 18,
   "id": "8d96d989-9408-4ba9-98b5-bad7aa20021a",
   "metadata": {},
   "outputs": [],
   "source": [
    "subset_b = b[0:2,2:4]"
   ]
  },
  {
   "cell_type": "code",
   "execution_count": 19,
   "id": "1f71e534-a36a-43b0-b7f7-877c4357e485",
   "metadata": {},
   "outputs": [
    {
     "data": {
      "text/plain": [
       "array([[8, 6],\n",
       "       [5, 2]])"
      ]
     },
     "execution_count": 19,
     "metadata": {},
     "output_type": "execute_result"
    }
   ],
   "source": [
    "subset_b"
   ]
  },
  {
   "cell_type": "code",
   "execution_count": 20,
   "id": "58cddf51-d13e-4aaa-b95c-998ec91bc993",
   "metadata": {},
   "outputs": [],
   "source": [
    "subset_b[0,0] = 99"
   ]
  },
  {
   "cell_type": "code",
   "execution_count": 21,
   "id": "428bb1f4-db13-4d7a-a6b1-8d3af152caea",
   "metadata": {},
   "outputs": [
    {
     "data": {
      "text/plain": [
       "array([[99,  6],\n",
       "       [ 5,  2]])"
      ]
     },
     "execution_count": 21,
     "metadata": {},
     "output_type": "execute_result"
    }
   ],
   "source": [
    "subset_b"
   ]
  },
  {
   "cell_type": "code",
   "execution_count": 22,
   "id": "02063609-b235-4094-8a1b-e7404536f158",
   "metadata": {},
   "outputs": [
    {
     "data": {
      "text/plain": [
       "array([[ 6,  2, 99,  6,  7],\n",
       "       [ 0,  1,  5,  2,  6],\n",
       "       [ 5,  9,  6,  0,  6],\n",
       "       [ 0,  1,  7,  2,  6],\n",
       "       [ 3,  4,  4,  7,  7]])"
      ]
     },
     "execution_count": 22,
     "metadata": {},
     "output_type": "execute_result"
    }
   ],
   "source": [
    "b"
   ]
  },
  {
   "cell_type": "code",
   "execution_count": 23,
   "id": "e5c4ed59-3264-4826-9c63-6b2295725687",
   "metadata": {},
   "outputs": [],
   "source": [
    "c = np.random.randint(10, size=(5,5))"
   ]
  },
  {
   "cell_type": "code",
   "execution_count": 24,
   "id": "5d64dcca-efd6-44c2-90bc-5fb17f15041e",
   "metadata": {},
   "outputs": [
    {
     "data": {
      "text/plain": [
       "array([[6, 9, 7, 8, 9],\n",
       "       [2, 0, 5, 7, 4],\n",
       "       [2, 9, 6, 1, 4],\n",
       "       [5, 3, 3, 9, 5],\n",
       "       [3, 1, 7, 7, 3]])"
      ]
     },
     "execution_count": 24,
     "metadata": {},
     "output_type": "execute_result"
    }
   ],
   "source": [
    "c"
   ]
  },
  {
   "cell_type": "code",
   "execution_count": 25,
   "id": "1427048c-c97f-410d-a3de-2fc6fe8cffd0",
   "metadata": {},
   "outputs": [],
   "source": [
    "alt_c = c[0:3,0:2].copy()"
   ]
  },
  {
   "cell_type": "code",
   "execution_count": 26,
   "id": "46102727-ddc7-461f-8d1a-80f62fd737ba",
   "metadata": {},
   "outputs": [
    {
     "data": {
      "text/plain": [
       "array([[6, 9],\n",
       "       [2, 0],\n",
       "       [2, 9]])"
      ]
     },
     "execution_count": 26,
     "metadata": {},
     "output_type": "execute_result"
    }
   ],
   "source": [
    "alt_c"
   ]
  },
  {
   "cell_type": "code",
   "execution_count": 27,
   "id": "f43f9e58-8ee9-4812-bf40-48f1f03a2cb6",
   "metadata": {},
   "outputs": [],
   "source": [
    "alt_c[0,0] = 99"
   ]
  },
  {
   "cell_type": "code",
   "execution_count": 28,
   "id": "a5f6176d-4dc9-4055-9ddc-896740fa5775",
   "metadata": {},
   "outputs": [
    {
     "data": {
      "text/plain": [
       "array([[99,  9],\n",
       "       [ 2,  0],\n",
       "       [ 2,  9]])"
      ]
     },
     "execution_count": 28,
     "metadata": {},
     "output_type": "execute_result"
    }
   ],
   "source": [
    "alt_c"
   ]
  },
  {
   "cell_type": "code",
   "execution_count": 29,
   "id": "ee5e2392-b4fa-465d-99a3-0aadd590fd9c",
   "metadata": {},
   "outputs": [
    {
     "data": {
      "text/plain": [
       "array([[6, 9, 7, 8, 9],\n",
       "       [2, 0, 5, 7, 4],\n",
       "       [2, 9, 6, 1, 4],\n",
       "       [5, 3, 3, 9, 5],\n",
       "       [3, 1, 7, 7, 3]])"
      ]
     },
     "execution_count": 29,
     "metadata": {},
     "output_type": "execute_result"
    }
   ],
   "source": [
    "c"
   ]
  },
  {
   "cell_type": "code",
   "execution_count": null,
   "id": "a0bef4e2-477e-498f-877c-0036f36b96d0",
   "metadata": {},
   "outputs": [],
   "source": []
  }
 ],
 "metadata": {
  "kernelspec": {
   "display_name": "Python [conda env:base] *",
   "language": "python",
   "name": "conda-base-py"
  },
  "language_info": {
   "codemirror_mode": {
    "name": "ipython",
    "version": 3
   },
   "file_extension": ".py",
   "mimetype": "text/x-python",
   "name": "python",
   "nbconvert_exporter": "python",
   "pygments_lexer": "ipython3",
   "version": "3.13.5"
  }
 },
 "nbformat": 4,
 "nbformat_minor": 5
}

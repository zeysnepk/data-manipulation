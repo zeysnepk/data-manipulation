{
 "cells": [
  {
   "cell_type": "markdown",
   "id": "16ce3829-332b-4922-b0bf-10b88b674966",
   "metadata": {},
   "source": [
    "# ✂️ NumPy Array Slicing"
   ]
  },
  {
   "cell_type": "markdown",
   "id": "9124cadb-7b47-470e-968d-0f46553f7cd8",
   "metadata": {},
   "source": [
    "#### » Import the NumPy library, usually abbreviated as `np`"
   ]
  },
  {
   "cell_type": "code",
   "execution_count": 1,
   "id": "7df5fa70-b496-4efc-91cd-5a49ec872cb2",
   "metadata": {},
   "outputs": [],
   "source": [
    "import numpy as np"
   ]
  },
  {
   "cell_type": "markdown",
   "id": "035f34b0-84de-422e-bc9a-32647ad43f83",
   "metadata": {},
   "source": [
    "#### » Create 1D array using `arange` function"
   ]
  },
  {
   "cell_type": "code",
   "execution_count": 2,
   "id": "c2993f87-b912-4985-8439-9b1138be459e",
   "metadata": {},
   "outputs": [
    {
     "data": {
      "text/plain": [
       "array([20, 21, 22, 23, 24, 25, 26, 27, 28, 29])"
      ]
     },
     "execution_count": 2,
     "metadata": {},
     "output_type": "execute_result"
    }
   ],
   "source": [
    "a = np.arange(20,30)\n",
    "a"
   ]
  },
  {
   "cell_type": "markdown",
   "id": "cfe1375f-61de-4322-8b74-f9875579346c",
   "metadata": {},
   "source": [
    "#### » Get all elements starting from index n to the end -> `array[n:]`"
   ]
  },
  {
   "cell_type": "code",
   "execution_count": 3,
   "id": "a4449742-22f1-44d3-ac33-44692be20823",
   "metadata": {},
   "outputs": [
    {
     "data": {
      "text/plain": [
       "array([23, 24, 25, 26, 27, 28, 29])"
      ]
     },
     "execution_count": 3,
     "metadata": {},
     "output_type": "execute_result"
    }
   ],
   "source": [
    "a[3:]"
   ]
  },
  {
   "cell_type": "markdown",
   "id": "56132f7c-8652-493a-a176-2a327512d8ed",
   "metadata": {},
   "source": [
    "#### » Get elements from start up to (but not including) index n -> `array[:n]`"
   ]
  },
  {
   "cell_type": "code",
   "execution_count": 4,
   "id": "312371b9-7c99-4b64-a3d8-463cd5835119",
   "metadata": {},
   "outputs": [
    {
     "data": {
      "text/plain": [
       "array([20, 21, 22])"
      ]
     },
     "execution_count": 4,
     "metadata": {},
     "output_type": "execute_result"
    }
   ],
   "source": [
    "a[:3]"
   ]
  },
  {
   "cell_type": "markdown",
   "id": "99e6e2f0-28e6-4dc3-9a21-45fba9020c45",
   "metadata": {},
   "source": [
    "#### » Get elements from index x up to (but not including) index y -> `array[x,y]`"
   ]
  },
  {
   "cell_type": "code",
   "execution_count": 5,
   "id": "49e312cc-be21-46f6-89f8-30bb92c07569",
   "metadata": {},
   "outputs": [
    {
     "data": {
      "text/plain": [
       "array([21])"
      ]
     },
     "execution_count": 5,
     "metadata": {},
     "output_type": "execute_result"
    }
   ],
   "source": [
    "a[1:2]"
   ]
  },
  {
   "cell_type": "code",
   "execution_count": 6,
   "id": "04f6d993-28a8-4ce8-aeab-83d7b6270e03",
   "metadata": {},
   "outputs": [
    {
     "data": {
      "text/plain": [
       "array([23, 24, 25])"
      ]
     },
     "execution_count": 6,
     "metadata": {},
     "output_type": "execute_result"
    }
   ],
   "source": [
    "a[3:6]"
   ]
  },
  {
   "cell_type": "markdown",
   "id": "04944791-831a-4bc4-b043-47cd89b657c6",
   "metadata": {},
   "source": [
    "#### » Get every nth element starting from given index -> `array[start,stop,step]`"
   ]
  },
  {
   "cell_type": "code",
   "execution_count": 7,
   "id": "27cdde11-ad42-4cd9-9eda-245af15bfa99",
   "metadata": {},
   "outputs": [
    {
     "data": {
      "text/plain": [
       "array([21, 23, 25, 27, 29])"
      ]
     },
     "execution_count": 7,
     "metadata": {},
     "output_type": "execute_result"
    }
   ],
   "source": [
    "a[1::2]"
   ]
  },
  {
   "cell_type": "markdown",
   "id": "b18644a6-9875-4a6e-aa1f-baa81743a061",
   "metadata": {},
   "source": [
    "#### » Create 2D array of random integers from a given range¶"
   ]
  },
  {
   "cell_type": "code",
   "execution_count": 8,
   "id": "52cea741-6d1b-4072-9cf4-b03c92edb21f",
   "metadata": {},
   "outputs": [
    {
     "data": {
      "text/plain": [
       "array([[6, 8, 6, 6, 1],\n",
       "       [6, 8, 7, 3, 7],\n",
       "       [6, 2, 5, 0, 2],\n",
       "       [4, 0, 0, 9, 0],\n",
       "       [9, 6, 0, 1, 8]])"
      ]
     },
     "execution_count": 8,
     "metadata": {},
     "output_type": "execute_result"
    }
   ],
   "source": [
    "b = np.random.randint(10, size=(5,5))\n",
    "b"
   ]
  },
  {
   "cell_type": "markdown",
   "id": "7ac87071-fb0c-4a18-9e07-8a980139b779",
   "metadata": {},
   "source": [
    "#### » Get all rows from the nth column of a 2D array -> `array[:,n]` "
   ]
  },
  {
   "cell_type": "code",
   "execution_count": 9,
   "id": "94cc214b-1703-4a74-a17f-9d68e7d427b1",
   "metadata": {},
   "outputs": [
    {
     "data": {
      "text/plain": [
       "array([6, 6, 6, 4, 9])"
      ]
     },
     "execution_count": 9,
     "metadata": {},
     "output_type": "execute_result"
    }
   ],
   "source": [
    "b[:,0]"
   ]
  },
  {
   "cell_type": "code",
   "execution_count": 10,
   "id": "51b2456f-758f-40be-9a40-8bfe9051701d",
   "metadata": {},
   "outputs": [
    {
     "data": {
      "text/plain": [
       "array([], shape=(0, 5), dtype=int64)"
      ]
     },
     "execution_count": 10,
     "metadata": {},
     "output_type": "execute_result"
    }
   ],
   "source": [
    "b[:0]"
   ]
  },
  {
   "cell_type": "code",
   "execution_count": 11,
   "id": "240faed2-8d95-4a1b-a33d-737b3da558cb",
   "metadata": {},
   "outputs": [
    {
     "data": {
      "text/plain": [
       "array([8, 8, 2, 0, 6])"
      ]
     },
     "execution_count": 11,
     "metadata": {},
     "output_type": "execute_result"
    }
   ],
   "source": [
    "b[:,1]"
   ]
  },
  {
   "cell_type": "markdown",
   "id": "77a6b539-82d3-40ab-9252-e273503b7229",
   "metadata": {},
   "source": [
    "#### » Get all columns from the nth row of a 2D array -> `array[n,:]` "
   ]
  },
  {
   "cell_type": "code",
   "execution_count": 12,
   "id": "adfeaed7-d57c-4329-846a-4c7fd8464b4a",
   "metadata": {},
   "outputs": [
    {
     "data": {
      "text/plain": [
       "array([6, 8, 6, 6, 1])"
      ]
     },
     "execution_count": 12,
     "metadata": {},
     "output_type": "execute_result"
    }
   ],
   "source": [
    "b[0,:]"
   ]
  },
  {
   "cell_type": "code",
   "execution_count": 13,
   "id": "0b823b3b-3e88-4c58-a190-dc6a3d5e790f",
   "metadata": {},
   "outputs": [
    {
     "data": {
      "text/plain": [
       "array([6, 8, 6, 6, 1])"
      ]
     },
     "execution_count": 13,
     "metadata": {},
     "output_type": "execute_result"
    }
   ],
   "source": [
    "b[0]"
   ]
  },
  {
   "cell_type": "code",
   "execution_count": 14,
   "id": "3c5e4260-16fe-4798-8dc5-8629f481ad78",
   "metadata": {},
   "outputs": [
    {
     "data": {
      "text/plain": [
       "array([6, 2, 5, 0, 2])"
      ]
     },
     "execution_count": 14,
     "metadata": {},
     "output_type": "execute_result"
    }
   ],
   "source": [
    "b[2,:]"
   ]
  },
  {
   "cell_type": "markdown",
   "id": "3cb2f99d-cf7c-4e23-a12e-76f72bdfc538",
   "metadata": {},
   "source": [
    "#### » Get rows 0 and 1, and only column 0 (as 2D subarray)"
   ]
  },
  {
   "cell_type": "code",
   "execution_count": 15,
   "id": "e66eb99d-5246-4e33-9b2d-82049b2b55ad",
   "metadata": {},
   "outputs": [
    {
     "data": {
      "text/plain": [
       "array([[6],\n",
       "       [6]])"
      ]
     },
     "execution_count": 15,
     "metadata": {},
     "output_type": "execute_result"
    }
   ],
   "source": [
    "b[0:2, 0:1]"
   ]
  },
  {
   "cell_type": "markdown",
   "id": "8e31afac-7138-4419-aee1-b4388aa8ef6f",
   "metadata": {},
   "source": [
    "#### » Get rows 1 and 2, and columns 0 and 1"
   ]
  },
  {
   "cell_type": "code",
   "execution_count": 16,
   "id": "1d8ea6e5-e409-46b3-bc08-425981498846",
   "metadata": {},
   "outputs": [
    {
     "data": {
      "text/plain": [
       "array([[6, 8],\n",
       "       [6, 2]])"
      ]
     },
     "execution_count": 16,
     "metadata": {},
     "output_type": "execute_result"
    }
   ],
   "source": [
    "b[1:3, 0:2]"
   ]
  },
  {
   "cell_type": "markdown",
   "id": "a7c8400a-a845-4d9e-a0bf-a21dd5313ac7",
   "metadata": {},
   "source": [
    "#### » Get all rows and columns 0 and 1"
   ]
  },
  {
   "cell_type": "code",
   "execution_count": 17,
   "id": "20546f48-256c-4931-b4f3-0d2f9f46a199",
   "metadata": {},
   "outputs": [
    {
     "data": {
      "text/plain": [
       "array([[6, 8],\n",
       "       [6, 8],\n",
       "       [6, 2],\n",
       "       [4, 0],\n",
       "       [9, 6]])"
      ]
     },
     "execution_count": 17,
     "metadata": {},
     "output_type": "execute_result"
    }
   ],
   "source": [
    "b[::, :2]"
   ]
  },
  {
   "cell_type": "markdown",
   "id": "de971c2e-e3a6-4e98-9b33-959e7afcbc7a",
   "metadata": {},
   "source": [
    "#### » Get all columns and rows 1 and 2"
   ]
  },
  {
   "cell_type": "code",
   "execution_count": 18,
   "id": "6b926caf-f427-4a38-b684-dc71090dfe91",
   "metadata": {},
   "outputs": [
    {
     "data": {
      "text/plain": [
       "array([[6, 8, 7, 3, 7],\n",
       "       [6, 2, 5, 0, 2]])"
      ]
     },
     "execution_count": 18,
     "metadata": {},
     "output_type": "execute_result"
    }
   ],
   "source": [
    "b[1:3, ::]"
   ]
  },
  {
   "cell_type": "markdown",
   "id": "f6f39330-8318-49b0-b375-837c77648c94",
   "metadata": {},
   "source": [
    "### ✶ Slicing returns a view, not a copy — changes affect original array. To prevent this, we can use `.copy()`  to create an independent array"
   ]
  },
  {
   "cell_type": "code",
   "execution_count": 19,
   "id": "8d96d989-9408-4ba9-98b5-bad7aa20021a",
   "metadata": {},
   "outputs": [
    {
     "data": {
      "text/plain": [
       "array([[6, 6],\n",
       "       [7, 3]])"
      ]
     },
     "execution_count": 19,
     "metadata": {},
     "output_type": "execute_result"
    }
   ],
   "source": [
    "subset_b = b[0:2,2:4]\n",
    "subset_b"
   ]
  },
  {
   "cell_type": "code",
   "execution_count": 20,
   "id": "58cddf51-d13e-4aaa-b95c-998ec91bc993",
   "metadata": {},
   "outputs": [
    {
     "data": {
      "text/plain": [
       "array([[99,  6],\n",
       "       [ 7,  3]])"
      ]
     },
     "execution_count": 20,
     "metadata": {},
     "output_type": "execute_result"
    }
   ],
   "source": [
    "subset_b[0,0] = 99\n",
    "subset_b"
   ]
  },
  {
   "cell_type": "code",
   "execution_count": 21,
   "id": "02063609-b235-4094-8a1b-e7404536f158",
   "metadata": {},
   "outputs": [
    {
     "data": {
      "text/plain": [
       "array([[ 6,  8, 99,  6,  1],\n",
       "       [ 6,  8,  7,  3,  7],\n",
       "       [ 6,  2,  5,  0,  2],\n",
       "       [ 4,  0,  0,  9,  0],\n",
       "       [ 9,  6,  0,  1,  8]])"
      ]
     },
     "execution_count": 21,
     "metadata": {},
     "output_type": "execute_result"
    }
   ],
   "source": [
    "b"
   ]
  },
  {
   "cell_type": "code",
   "execution_count": 22,
   "id": "e5c4ed59-3264-4826-9c63-6b2295725687",
   "metadata": {},
   "outputs": [
    {
     "data": {
      "text/plain": [
       "array([[9, 4, 0, 8, 5],\n",
       "       [2, 4, 2, 9, 9],\n",
       "       [8, 1, 8, 0, 6],\n",
       "       [8, 4, 7, 9, 9],\n",
       "       [0, 4, 9, 0, 0]])"
      ]
     },
     "execution_count": 22,
     "metadata": {},
     "output_type": "execute_result"
    }
   ],
   "source": [
    "c = np.random.randint(10, size=(5,5))\n",
    "c"
   ]
  },
  {
   "cell_type": "code",
   "execution_count": 23,
   "id": "1427048c-c97f-410d-a3de-2fc6fe8cffd0",
   "metadata": {},
   "outputs": [
    {
     "data": {
      "text/plain": [
       "array([[9, 4],\n",
       "       [2, 4],\n",
       "       [8, 1]])"
      ]
     },
     "execution_count": 23,
     "metadata": {},
     "output_type": "execute_result"
    }
   ],
   "source": [
    "alt_c = c[0:3,0:2].copy()\n",
    "alt_c"
   ]
  },
  {
   "cell_type": "code",
   "execution_count": 24,
   "id": "f43f9e58-8ee9-4812-bf40-48f1f03a2cb6",
   "metadata": {},
   "outputs": [
    {
     "data": {
      "text/plain": [
       "array([[99,  4],\n",
       "       [ 2,  4],\n",
       "       [ 8,  1]])"
      ]
     },
     "execution_count": 24,
     "metadata": {},
     "output_type": "execute_result"
    }
   ],
   "source": [
    "alt_c[0,0] = 99\n",
    "alt_c"
   ]
  },
  {
   "cell_type": "code",
   "execution_count": 25,
   "id": "ee5e2392-b4fa-465d-99a3-0aadd590fd9c",
   "metadata": {},
   "outputs": [
    {
     "data": {
      "text/plain": [
       "array([[9, 4, 0, 8, 5],\n",
       "       [2, 4, 2, 9, 9],\n",
       "       [8, 1, 8, 0, 6],\n",
       "       [8, 4, 7, 9, 9],\n",
       "       [0, 4, 9, 0, 0]])"
      ]
     },
     "execution_count": 25,
     "metadata": {},
     "output_type": "execute_result"
    }
   ],
   "source": [
    "c"
   ]
  }
 ],
 "metadata": {
  "kernelspec": {
   "display_name": "Python [conda env:base] *",
   "language": "python",
   "name": "conda-base-py"
  },
  "language_info": {
   "codemirror_mode": {
    "name": "ipython",
    "version": 3
   },
   "file_extension": ".py",
   "mimetype": "text/x-python",
   "name": "python",
   "nbconvert_exporter": "python",
   "pygments_lexer": "ipython3",
   "version": "3.13.5"
  }
 },
 "nbformat": 4,
 "nbformat_minor": 5
}

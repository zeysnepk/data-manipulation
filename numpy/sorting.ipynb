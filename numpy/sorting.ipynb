{
 "cells": [
  {
   "cell_type": "markdown",
   "id": "ef7186ff-ade9-46d3-94f8-240ba7efa039",
   "metadata": {},
   "source": [
    "# 🔢 NumPy Array Sorting"
   ]
  },
  {
   "cell_type": "markdown",
   "id": "98a6fc6b-3775-4558-8d95-ffcf0b1c02a2",
   "metadata": {},
   "source": [
    "#### » Importing the NumPy library, usually abbreviated as `np`"
   ]
  },
  {
   "cell_type": "code",
   "execution_count": 3,
   "id": "44b4d03b-4ff1-4df9-9299-dfc663e1df00",
   "metadata": {},
   "outputs": [],
   "source": [
    "import numpy as np"
   ]
  },
  {
   "cell_type": "markdown",
   "id": "292b9632-e26f-4c18-b378-aafa4f29e1fa",
   "metadata": {},
   "source": [
    "#### » Creating a 1D array"
   ]
  },
  {
   "cell_type": "code",
   "execution_count": 4,
   "id": "66755e67-b90d-416c-b782-51272fd5bd4b",
   "metadata": {},
   "outputs": [],
   "source": [
    "a = np.array([1,4,8,2,9])"
   ]
  },
  {
   "cell_type": "code",
   "execution_count": 5,
   "id": "f605078c-8869-4fb9-914c-6bf54cab897e",
   "metadata": {},
   "outputs": [
    {
     "data": {
      "text/plain": [
       "array([1, 4, 8, 2, 9])"
      ]
     },
     "execution_count": 5,
     "metadata": {},
     "output_type": "execute_result"
    }
   ],
   "source": [
    "a"
   ]
  },
  {
   "cell_type": "markdown",
   "id": "420fbfb3-2791-4772-93b7-a2f228052882",
   "metadata": {},
   "source": [
    "#### » Sorting a 1D array in ascending order"
   ]
  },
  {
   "cell_type": "code",
   "execution_count": 6,
   "id": "90d09154-c821-49c4-b172-d60c76a32829",
   "metadata": {},
   "outputs": [
    {
     "data": {
      "text/plain": [
       "array([1, 2, 4, 8, 9])"
      ]
     },
     "execution_count": 6,
     "metadata": {},
     "output_type": "execute_result"
    }
   ],
   "source": [
    "np.sort(a)"
   ]
  },
  {
   "cell_type": "code",
   "execution_count": 6,
   "id": "58935633-ed3c-46ca-afe9-e5a1e4e1069f",
   "metadata": {},
   "outputs": [
    {
     "data": {
      "text/plain": [
       "array([1, 2, 4, 8, 9])"
      ]
     },
     "execution_count": 6,
     "metadata": {},
     "output_type": "execute_result"
    }
   ],
   "source": [
    "a"
   ]
  },
  {
   "cell_type": "code",
   "execution_count": 8,
   "id": "9c721343-e45d-4eb0-a2dd-f5758078ef5e",
   "metadata": {},
   "outputs": [],
   "source": [
    "a.sort()"
   ]
  },
  {
   "cell_type": "code",
   "execution_count": 9,
   "id": "266d6dfd-2eb8-4e1b-97dc-1c8332869b5e",
   "metadata": {},
   "outputs": [
    {
     "data": {
      "text/plain": [
       "array([1, 2, 4, 8, 9])"
      ]
     },
     "execution_count": 9,
     "metadata": {},
     "output_type": "execute_result"
    }
   ],
   "source": [
    "a"
   ]
  },
  {
   "cell_type": "markdown",
   "id": "48d42992-e636-40d8-b150-0dcf5857cb53",
   "metadata": {},
   "source": [
    "#### » Creating an array with values sampled from a `normal (Gaussian) distribution`"
   ]
  },
  {
   "cell_type": "code",
   "execution_count": 12,
   "id": "981a781b-c320-4554-885b-248e3f4c043a",
   "metadata": {},
   "outputs": [],
   "source": [
    "b = np.random.normal(10,5,(2,2))"
   ]
  },
  {
   "cell_type": "code",
   "execution_count": 13,
   "id": "4d438d3c-d52f-48a8-8d43-307d55c13112",
   "metadata": {},
   "outputs": [
    {
     "data": {
      "text/plain": [
       "array([[ 8.26180407, -1.58801288],\n",
       "       [10.0637584 ,  8.18423894]])"
      ]
     },
     "execution_count": 13,
     "metadata": {},
     "output_type": "execute_result"
    }
   ],
   "source": [
    "b"
   ]
  },
  {
   "cell_type": "markdown",
   "id": "d64a43b1-31a3-4635-b024-20678cace8c5",
   "metadata": {},
   "source": [
    "#### » Sorting a 2D array along columns (axis=0)"
   ]
  },
  {
   "cell_type": "code",
   "execution_count": 14,
   "id": "a66f7bb3-8402-4816-badc-91edd760ec16",
   "metadata": {},
   "outputs": [
    {
     "data": {
      "text/plain": [
       "array([[ 8.26180407, -1.58801288],\n",
       "       [10.0637584 ,  8.18423894]])"
      ]
     },
     "execution_count": 14,
     "metadata": {},
     "output_type": "execute_result"
    }
   ],
   "source": [
    "np.sort(b, axis=0)"
   ]
  },
  {
   "cell_type": "markdown",
   "id": "fd098235-be0d-4e53-b1c9-884e9563135f",
   "metadata": {},
   "source": [
    "#### » Sorting a 2D array along rows (axis=1)"
   ]
  },
  {
   "cell_type": "code",
   "execution_count": 18,
   "id": "17eb44db-1181-4a97-93d2-86d5b8e5a20c",
   "metadata": {},
   "outputs": [
    {
     "data": {
      "text/plain": [
       "array([[-1.58801288,  8.26180407],\n",
       "       [ 8.18423894, 10.0637584 ]])"
      ]
     },
     "execution_count": 18,
     "metadata": {},
     "output_type": "execute_result"
    }
   ],
   "source": [
    "np.sort(b, axis=1)"
   ]
  },
  {
   "cell_type": "markdown",
   "id": "1f906f1e-9188-4edd-a921-693746eb337d",
   "metadata": {},
   "source": [
    "#### » Sorting by multiple keys"
   ]
  },
  {
   "cell_type": "code",
   "execution_count": 22,
   "id": "def6a818-b183-4f3e-8d31-5e522a3a6bbf",
   "metadata": {},
   "outputs": [
    {
     "data": {
      "text/plain": [
       "array([['Alice', 'Amanda', 'Joe'],\n",
       "       ['85', '85', '90']], dtype='<U21')"
      ]
     },
     "execution_count": 22,
     "metadata": {},
     "output_type": "execute_result"
    }
   ],
   "source": [
    "names = np.array(['Amanda', 'Alice', 'Joe'])\n",
    "grades = np.array([85, 90, 85])\n",
    "np.sort((names, grades))  "
   ]
  }
 ],
 "metadata": {
  "kernelspec": {
   "display_name": "Python [conda env:base] *",
   "language": "python",
   "name": "conda-base-py"
  },
  "language_info": {
   "codemirror_mode": {
    "name": "ipython",
    "version": 3
   },
   "file_extension": ".py",
   "mimetype": "text/x-python",
   "name": "python",
   "nbconvert_exporter": "python",
   "pygments_lexer": "ipython3",
   "version": "3.13.5"
  }
 },
 "nbformat": 4,
 "nbformat_minor": 5
}

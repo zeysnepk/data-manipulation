{
 "cells": [
  {
   "cell_type": "markdown",
   "id": "2093aa95-c00e-4e0b-b18e-c6abfa31aaa4",
   "metadata": {},
   "source": [
    "# ✨ NumPy Fancy Indexing"
   ]
  },
  {
   "cell_type": "markdown",
   "id": "1cb0df6d-1b5c-409c-aadd-16012d4ddfa4",
   "metadata": {},
   "source": [
    "#### » Import the NumPy library, usually abbreviated as `np`"
   ]
  },
  {
   "cell_type": "code",
   "execution_count": 1,
   "id": "ca0c8441-9a9e-471c-b11f-7fe31c34c260",
   "metadata": {},
   "outputs": [],
   "source": [
    "import numpy as np"
   ]
  },
  {
   "cell_type": "markdown",
   "id": "6019cdd5-d032-4ed4-bf62-f304d6fea6bf",
   "metadata": {},
   "source": [
    "#### » Create 1D array using `arange` "
   ]
  },
  {
   "cell_type": "code",
   "execution_count": 2,
   "id": "d757eb7f-af11-4a17-a6d9-1f759564e671",
   "metadata": {},
   "outputs": [
    {
     "data": {
      "text/plain": [
       "array([0, 2, 4, 6, 8])"
      ]
     },
     "execution_count": 2,
     "metadata": {},
     "output_type": "execute_result"
    }
   ],
   "source": [
    "a = np.arange(0,10,2)\n",
    "a"
   ]
  },
  {
   "cell_type": "markdown",
   "id": "a4683fec-2efb-4f25-9940-d10740e29809",
   "metadata": {},
   "source": [
    "#### » Select elements at index 1, 3, and 4"
   ]
  },
  {
   "cell_type": "code",
   "execution_count": 3,
   "id": "aa8e4327-70bf-4d8f-856b-be8e08dfcf8d",
   "metadata": {},
   "outputs": [
    {
     "data": {
      "text/plain": [
       "[np.int64(2), np.int64(6), np.int64(8)]"
      ]
     },
     "execution_count": 3,
     "metadata": {},
     "output_type": "execute_result"
    }
   ],
   "source": [
    "[a[1], a[3], a[4]]"
   ]
  },
  {
   "cell_type": "code",
   "execution_count": 4,
   "id": "91e6d8d6-4c15-4f1c-92ec-134c58bd3e4e",
   "metadata": {},
   "outputs": [
    {
     "data": {
      "text/plain": [
       "array([2, 6, 8])"
      ]
     },
     "execution_count": 4,
     "metadata": {},
     "output_type": "execute_result"
    }
   ],
   "source": [
    "a[[1,3,4]]"
   ]
  },
  {
   "cell_type": "code",
   "execution_count": 5,
   "id": "aee39dfa-708d-41d7-831a-200c89f6bf02",
   "metadata": {},
   "outputs": [
    {
     "data": {
      "text/plain": [
       "array([2, 6, 8])"
      ]
     },
     "execution_count": 5,
     "metadata": {},
     "output_type": "execute_result"
    }
   ],
   "source": [
    "list_a = [1,3,4]\n",
    "a[list_a]"
   ]
  },
  {
   "cell_type": "markdown",
   "id": "32293ebf-3320-4fea-b9f6-50c8fe1a4daa",
   "metadata": {},
   "source": [
    "#### » Create 1D array using `arange` and reshaping it to 2D "
   ]
  },
  {
   "cell_type": "code",
   "execution_count": 6,
   "id": "53c21d48-f60f-48fb-9925-749f3d93b5c2",
   "metadata": {},
   "outputs": [
    {
     "data": {
      "text/plain": [
       "array([[0, 1, 2],\n",
       "       [3, 4, 5]])"
      ]
     },
     "execution_count": 6,
     "metadata": {},
     "output_type": "execute_result"
    }
   ],
   "source": [
    "b = np.arange(6).reshape(2,3)\n",
    "b"
   ]
  },
  {
   "cell_type": "code",
   "execution_count": 7,
   "id": "ee3406a1-d2f2-469c-a51b-3d60df1294b4",
   "metadata": {},
   "outputs": [],
   "source": [
    "row = np.array([0,1])\n",
    "column = np.array([1,2])"
   ]
  },
  {
   "cell_type": "markdown",
   "id": "15d961a3-50e2-4796-bfe0-c987bfd31701",
   "metadata": {},
   "source": [
    "#### » Select specific elements by row and column"
   ]
  },
  {
   "cell_type": "code",
   "execution_count": 8,
   "id": "4cb05176-2bea-4b49-8d0b-1dff84c375d6",
   "metadata": {},
   "outputs": [
    {
     "data": {
      "text/plain": [
       "array([1, 5])"
      ]
     },
     "execution_count": 8,
     "metadata": {},
     "output_type": "execute_result"
    }
   ],
   "source": [
    "b[row, column]"
   ]
  },
  {
   "cell_type": "markdown",
   "id": "33bb4913-d037-4b58-a8b9-a5aaa73b6d72",
   "metadata": {},
   "source": [
    "#### » Fancy indexing with `basic index` "
   ]
  },
  {
   "cell_type": "code",
   "execution_count": 13,
   "id": "372b2476-1f95-46d8-b766-d9a30f1157cb",
   "metadata": {},
   "outputs": [
    {
     "data": {
      "text/plain": [
       "array([1, 2])"
      ]
     },
     "execution_count": 13,
     "metadata": {},
     "output_type": "execute_result"
    }
   ],
   "source": [
    "b[0, [1,2]]"
   ]
  },
  {
   "cell_type": "markdown",
   "id": "06bb0f41-3898-4c2b-b9c4-19a5573ae467",
   "metadata": {},
   "source": [
    "#### » Fancy indexing with `slicing` "
   ]
  },
  {
   "cell_type": "code",
   "execution_count": 16,
   "id": "1fff3241-fab6-4ef9-95e9-14c6dcb7a824",
   "metadata": {},
   "outputs": [
    {
     "data": {
      "text/plain": [
       "array([[1, 2],\n",
       "       [4, 5]])"
      ]
     },
     "execution_count": 16,
     "metadata": {},
     "output_type": "execute_result"
    }
   ],
   "source": [
    "b[0:, [1,2]]"
   ]
  }
 ],
 "metadata": {
  "kernelspec": {
   "display_name": "Python [conda env:base] *",
   "language": "python",
   "name": "conda-base-py"
  },
  "language_info": {
   "codemirror_mode": {
    "name": "ipython",
    "version": 3
   },
   "file_extension": ".py",
   "mimetype": "text/x-python",
   "name": "python",
   "nbconvert_exporter": "python",
   "pygments_lexer": "ipython3",
   "version": "3.13.5"
  }
 },
 "nbformat": 4,
 "nbformat_minor": 5
}

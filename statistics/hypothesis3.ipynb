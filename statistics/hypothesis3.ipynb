{
 "cells": [
  {
   "cell_type": "code",
   "execution_count": 1,
   "id": "e18e4da8-6ca9-45af-800d-d599e99b7653",
   "metadata": {},
   "outputs": [],
   "source": [
    "import numpy as np\n",
    "import pandas as pd"
   ]
  },
  {
   "cell_type": "code",
   "execution_count": 68,
   "id": "bcadd91b-2807-46c0-9eab-110e8a8afe69",
   "metadata": {},
   "outputs": [],
   "source": [
    "before = pd.DataFrame(np.random.normal(loc=118, scale=10, size=30).astype(int))\n",
    "after = pd.DataFrame(np.random.normal(loc=130, scale=20, size=30).astype(int))"
   ]
  },
  {
   "cell_type": "code",
   "execution_count": 72,
   "id": "1a68c76e-dce1-4898-9fc5-2a083a29aae0",
   "metadata": {},
   "outputs": [],
   "source": [
    "#Data Type 1\n",
    "AB = pd.concat([before, after], axis=1)\n",
    "AB.columns = [\"A\",\"B\"]"
   ]
  },
  {
   "cell_type": "code",
   "execution_count": 73,
   "id": "ecd030a8-c1d3-425b-8517-ec40d9223cdf",
   "metadata": {},
   "outputs": [
    {
     "data": {
      "text/html": [
       "<div>\n",
       "<style scoped>\n",
       "    .dataframe tbody tr th:only-of-type {\n",
       "        vertical-align: middle;\n",
       "    }\n",
       "\n",
       "    .dataframe tbody tr th {\n",
       "        vertical-align: top;\n",
       "    }\n",
       "\n",
       "    .dataframe thead th {\n",
       "        text-align: right;\n",
       "    }\n",
       "</style>\n",
       "<table border=\"1\" class=\"dataframe\">\n",
       "  <thead>\n",
       "    <tr style=\"text-align: right;\">\n",
       "      <th></th>\n",
       "      <th>A</th>\n",
       "      <th>B</th>\n",
       "    </tr>\n",
       "  </thead>\n",
       "  <tbody>\n",
       "    <tr>\n",
       "      <th>0</th>\n",
       "      <td>124</td>\n",
       "      <td>124</td>\n",
       "    </tr>\n",
       "    <tr>\n",
       "      <th>1</th>\n",
       "      <td>122</td>\n",
       "      <td>113</td>\n",
       "    </tr>\n",
       "    <tr>\n",
       "      <th>2</th>\n",
       "      <td>128</td>\n",
       "      <td>125</td>\n",
       "    </tr>\n",
       "    <tr>\n",
       "      <th>3</th>\n",
       "      <td>95</td>\n",
       "      <td>115</td>\n",
       "    </tr>\n",
       "    <tr>\n",
       "      <th>4</th>\n",
       "      <td>111</td>\n",
       "      <td>145</td>\n",
       "    </tr>\n",
       "  </tbody>\n",
       "</table>\n",
       "</div>"
      ],
      "text/plain": [
       "     A    B\n",
       "0  124  124\n",
       "1  122  113\n",
       "2  128  125\n",
       "3   95  115\n",
       "4  111  145"
      ]
     },
     "execution_count": 73,
     "metadata": {},
     "output_type": "execute_result"
    }
   ],
   "source": [
    "AB.head()"
   ]
  },
  {
   "cell_type": "code",
   "execution_count": 74,
   "id": "e8cc2839-7c54-49bf-89ad-194bdae32268",
   "metadata": {},
   "outputs": [],
   "source": [
    "#Data Type 2\n",
    "group_A = pd.DataFrame(np.arange(len(before)))\n",
    "group_B = pd.DataFrame(np.arange(len(after)))\n",
    "group_A[group_A.columns] = \"oncesi\"\n",
    "group_B[group_B.columns] = \"sonrası\"\n",
    "A = pd.concat([before, group_A], axis=1)\n",
    "B = pd.concat([after, group_B], axis=1)\n",
    "A_B = pd.concat([A,B])"
   ]
  },
  {
   "cell_type": "code",
   "execution_count": 75,
   "id": "652321b3-f85f-47f7-b09a-4673d2b4aa05",
   "metadata": {},
   "outputs": [
    {
     "data": {
      "text/html": [
       "<div>\n",
       "<style scoped>\n",
       "    .dataframe tbody tr th:only-of-type {\n",
       "        vertical-align: middle;\n",
       "    }\n",
       "\n",
       "    .dataframe tbody tr th {\n",
       "        vertical-align: top;\n",
       "    }\n",
       "\n",
       "    .dataframe thead th {\n",
       "        text-align: right;\n",
       "    }\n",
       "</style>\n",
       "<table border=\"1\" class=\"dataframe\">\n",
       "  <thead>\n",
       "    <tr style=\"text-align: right;\">\n",
       "      <th></th>\n",
       "      <th>0</th>\n",
       "      <th>0</th>\n",
       "    </tr>\n",
       "  </thead>\n",
       "  <tbody>\n",
       "    <tr>\n",
       "      <th>0</th>\n",
       "      <td>124</td>\n",
       "      <td>oncesi</td>\n",
       "    </tr>\n",
       "    <tr>\n",
       "      <th>1</th>\n",
       "      <td>122</td>\n",
       "      <td>oncesi</td>\n",
       "    </tr>\n",
       "    <tr>\n",
       "      <th>2</th>\n",
       "      <td>128</td>\n",
       "      <td>oncesi</td>\n",
       "    </tr>\n",
       "    <tr>\n",
       "      <th>3</th>\n",
       "      <td>95</td>\n",
       "      <td>oncesi</td>\n",
       "    </tr>\n",
       "    <tr>\n",
       "      <th>4</th>\n",
       "      <td>111</td>\n",
       "      <td>oncesi</td>\n",
       "    </tr>\n",
       "  </tbody>\n",
       "</table>\n",
       "</div>"
      ],
      "text/plain": [
       "     0       0\n",
       "0  124  oncesi\n",
       "1  122  oncesi\n",
       "2  128  oncesi\n",
       "3   95  oncesi\n",
       "4  111  oncesi"
      ]
     },
     "execution_count": 75,
     "metadata": {},
     "output_type": "execute_result"
    }
   ],
   "source": [
    "A_B.head()"
   ]
  },
  {
   "cell_type": "code",
   "execution_count": 76,
   "id": "6ddccb77-784c-4330-aa4c-a636d558da2e",
   "metadata": {},
   "outputs": [
    {
     "data": {
      "text/html": [
       "<div>\n",
       "<style scoped>\n",
       "    .dataframe tbody tr th:only-of-type {\n",
       "        vertical-align: middle;\n",
       "    }\n",
       "\n",
       "    .dataframe tbody tr th {\n",
       "        vertical-align: top;\n",
       "    }\n",
       "\n",
       "    .dataframe thead th {\n",
       "        text-align: right;\n",
       "    }\n",
       "</style>\n",
       "<table border=\"1\" class=\"dataframe\">\n",
       "  <thead>\n",
       "    <tr style=\"text-align: right;\">\n",
       "      <th></th>\n",
       "      <th>0</th>\n",
       "      <th>0</th>\n",
       "    </tr>\n",
       "  </thead>\n",
       "  <tbody>\n",
       "    <tr>\n",
       "      <th>25</th>\n",
       "      <td>110</td>\n",
       "      <td>sonrası</td>\n",
       "    </tr>\n",
       "    <tr>\n",
       "      <th>26</th>\n",
       "      <td>135</td>\n",
       "      <td>sonrası</td>\n",
       "    </tr>\n",
       "    <tr>\n",
       "      <th>27</th>\n",
       "      <td>116</td>\n",
       "      <td>sonrası</td>\n",
       "    </tr>\n",
       "    <tr>\n",
       "      <th>28</th>\n",
       "      <td>129</td>\n",
       "      <td>sonrası</td>\n",
       "    </tr>\n",
       "    <tr>\n",
       "      <th>29</th>\n",
       "      <td>152</td>\n",
       "      <td>sonrası</td>\n",
       "    </tr>\n",
       "  </tbody>\n",
       "</table>\n",
       "</div>"
      ],
      "text/plain": [
       "      0        0\n",
       "25  110  sonrası\n",
       "26  135  sonrası\n",
       "27  116  sonrası\n",
       "28  129  sonrası\n",
       "29  152  sonrası"
      ]
     },
     "execution_count": 76,
     "metadata": {},
     "output_type": "execute_result"
    }
   ],
   "source": [
    "A_B.tail()"
   ]
  },
  {
   "cell_type": "code",
   "execution_count": 77,
   "id": "7c864488-51ee-4bdc-bee4-c5ad740befa0",
   "metadata": {},
   "outputs": [],
   "source": [
    "import seaborn as sns"
   ]
  },
  {
   "cell_type": "code",
   "execution_count": 78,
   "id": "fe10595a-e9d1-4553-8693-d8fd87196ddf",
   "metadata": {},
   "outputs": [
    {
     "data": {
      "text/plain": [
       "<Axes: >"
      ]
     },
     "execution_count": 78,
     "metadata": {},
     "output_type": "execute_result"
    },
    {
     "data": {
      "image/png": "[encoded data removed]",
      "text/plain": [
       "<Figure size 640x480 with 1 Axes>"
      ]
     },
     "metadata": {},
     "output_type": "display_data"
    }
   ],
   "source": [
    "sns.boxplot(AB)"
   ]
  },
  {
   "cell_type": "code",
   "execution_count": 79,
   "id": "e9648715-1b09-4d7b-809d-e25de578c387",
   "metadata": {},
   "outputs": [],
   "source": [
    "#Depentend Two Sample T Test"
   ]
  },
  {
   "cell_type": "code",
   "execution_count": 83,
   "id": "f60ae509-88f5-4a58-ab33-fa48d8316512",
   "metadata": {},
   "outputs": [],
   "source": [
    "#Normality Test\n",
    "from scipy.stats import shapiro"
   ]
  },
  {
   "cell_type": "code",
   "execution_count": 81,
   "id": "5a3340e2-bfa6-4b7c-993a-3596a6921a9b",
   "metadata": {},
   "outputs": [
    {
     "data": {
      "text/plain": [
       "ShapiroResult(statistic=np.float64(0.9464650130669873), pvalue=np.float64(0.13585433642948383))"
      ]
     },
     "execution_count": 81,
     "metadata": {},
     "output_type": "execute_result"
    }
   ],
   "source": [
    "shapiro(AB.A)"
   ]
  },
  {
   "cell_type": "code",
   "execution_count": 82,
   "id": "80ff787f-120b-43c3-84f1-7a134fff045d",
   "metadata": {},
   "outputs": [
    {
     "data": {
      "text/plain": [
       "ShapiroResult(statistic=np.float64(0.9743755498921008), pvalue=np.float64(0.6643379641035694))"
      ]
     },
     "execution_count": 82,
     "metadata": {},
     "output_type": "execute_result"
    }
   ],
   "source": [
    "shapiro(AB.B)"
   ]
  },
  {
   "cell_type": "code",
   "execution_count": 85,
   "id": "674e3e33-5869-49bc-861f-1a14536b46dc",
   "metadata": {},
   "outputs": [
    {
     "data": {
      "text/plain": [
       "LeveneResult(statistic=np.float64(8.34524480169507), pvalue=np.float64(0.005428918976737239))"
      ]
     },
     "execution_count": 85,
     "metadata": {},
     "output_type": "execute_result"
    }
   ],
   "source": [
    "#Variance Homogenity Test\n",
    "from scipy.stats import levene\n",
    "levene(AB.A, AB.B)"
   ]
  },
  {
   "cell_type": "code",
   "execution_count": 86,
   "id": "3e7d000e-660a-4b65-9aee-dda7717ddf7d",
   "metadata": {},
   "outputs": [
    {
     "data": {
      "text/plain": [
       "TtestResult(statistic=np.float64(-2.731254473523053), pvalue=np.float64(0.010623663333749686), df=np.int64(29))"
      ]
     },
     "execution_count": 86,
     "metadata": {},
     "output_type": "execute_result"
    }
   ],
   "source": [
    "#hypothesis test\n",
    "from scipy.stats import ttest_rel\n",
    "ttest_rel(AB.A, AB.B)"
   ]
  },
  {
   "cell_type": "code",
   "execution_count": 88,
   "id": "716c7b57-75b6-4180-bfa1-d8a27364acf9",
   "metadata": {},
   "outputs": [
    {
     "data": {
      "text/plain": [
       "WilcoxonResult(statistic=np.float64(95.0), pvalue=np.float64(0.013895575428624242))"
      ]
     },
     "execution_count": 88,
     "metadata": {},
     "output_type": "execute_result"
    }
   ],
   "source": [
    "#Nonparametric Dependent Two Sample Test\n",
    "from scipy.stats import wilcoxon\n",
    "wilcoxon(AB.A, AB.B)"
   ]
  },
  {
   "cell_type": "code",
   "execution_count": null,
   "id": "c0099d8d-f8aa-4fd9-8977-02c24459839e",
   "metadata": {},
   "outputs": [],
   "source": []
  }
 ],
 "metadata": {
  "kernelspec": {
   "display_name": "Python [conda env:base] *",
   "language": "python",
   "name": "conda-base-py"
  },
  "language_info": {
   "codemirror_mode": {
    "name": "ipython",
    "version": 3
   },
   "file_extension": ".py",
   "mimetype": "text/x-python",
   "name": "python",
   "nbconvert_exporter": "python",
   "pygments_lexer": "ipython3",
   "version": "3.13.5"
  }
 },
 "nbformat": 4,
 "nbformat_minor": 5
}

{
 "cells": [
  {
   "cell_type": "markdown",
   "id": "84204ee7-489c-45ad-842f-90565a6df831",
   "metadata": {},
   "source": [
    "# 💊 Two Sample Proportion Test\n",
    "This hypothesis is used to test the comparison between two proportion.\n",
    "\n",
    "**Hypotheses**\n",
    "\n",
    "$H0 : P = P_0 \\quad|\\quad H1 : P \\neq P_0$\n",
    "\n",
    "$H0 : P >= P_0 \\quad |\\quad H_1 : P < P_0$\n",
    "\n",
    "$H0 : P <= P_0 \\quad |\\quad H_1 : P > P_0$\n",
    "\n",
    "\n",
    "**Test Statistic:**\n",
    "  \n",
    "$z = \\frac{\\hat{p}_1 - \\hat{p}_2}{\\sqrt{\\hat{p}(1 - \\hat{p})\\left(\\frac{1}{n_1} + \\frac{1}{n_2}\\right)}}$\n",
    "\n",
    "where the pooled proportion is:  \n",
    "$\\hat{p} = \\frac{x_1 + x_2}{n_1 + n_2}$\n",
    "\n",
    "- $\\hat{p}_1 = \\frac{x_1}{n_1}$ : Sample proportion in group 1  \n",
    "- $\\hat{p}_2 = \\frac{x_2}{n_2}$ : Sample proportion in group 2  \n",
    "- $x_1, x_2$ : Number of successes in each group  \n",
    "- $n_1, n_2$ : Sample sizes  \n",
    "\n",
    "**Assumptions:**\n",
    "- $n_1$ > 30\n",
    "- $n_2$ > 30\n",
    "\n",
    "---\n"
   ]
  },
  {
   "cell_type": "markdown",
   "id": "7e31f09c-a145-422d-9a1e-0e5cc4540f32",
   "metadata": {},
   "source": [
    "**Problem**: The graphical user interface(GUI) of a website needs to be changed. To do this, they want us to test the comparison before and after the update. The data before the update is 1000 views and 300 clicks. The data after the update is 1100 views and 250 clicks."
   ]
  },
  {
   "cell_type": "markdown",
   "id": "4f4a1be6-87dd-4791-9c26-4d48aab72cdc",
   "metadata": {},
   "source": [
    "#### » Import Numpy and create arrays to save the statistic of website"
   ]
  },
  {
   "cell_type": "code",
   "execution_count": 2,
   "id": "8dbbdec7-a4c5-4757-9797-3698beaea5b2",
   "metadata": {},
   "outputs": [],
   "source": [
    "import numpy as np\n",
    "number_success = np.array([300,250])\n",
    "number_observation = np.array([1000,1100])"
   ]
  },
  {
   "cell_type": "markdown",
   "id": "f0162dff-8704-4cba-97a9-f6ec028a9602",
   "metadata": {},
   "source": [
    "#### » Import \"proportion_ztest\" to perform two sample proportion test"
   ]
  },
  {
   "cell_type": "code",
   "execution_count": 4,
   "id": "20cba25c-ac75-47e1-85c5-6f85b36add49",
   "metadata": {},
   "outputs": [
    {
     "data": {
      "text/plain": [
       "(np.float64(3.7857863233209255), np.float64(0.00015322329577722207))"
      ]
     },
     "execution_count": 4,
     "metadata": {},
     "output_type": "execute_result"
    }
   ],
   "source": [
    "from statsmodels.stats.proportion import proportions_ztest\n",
    "proportions_ztest(count=number_success, nobs=number_observation)"
   ]
  },
  {
   "cell_type": "markdown",
   "id": "6f4e3772-d60d-4ee4-a672-55d2292d6f22",
   "metadata": {},
   "source": [
    "since pvalue is lower than 0.05, H0 is rejected so there is a difference caused by the GUI"
   ]
  }
 ],
 "metadata": {
  "kernelspec": {
   "display_name": "Python [conda env:base] *",
   "language": "python",
   "name": "conda-base-py"
  },
  "language_info": {
   "codemirror_mode": {
    "name": "ipython",
    "version": 3
   },
   "file_extension": ".py",
   "mimetype": "text/x-python",
   "name": "python",
   "nbconvert_exporter": "python",
   "pygments_lexer": "ipython3",
   "version": "3.13.5"
  }
 },
 "nbformat": 4,
 "nbformat_minor": 5
}

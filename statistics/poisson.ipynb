{
 "cells": [
  {
   "cell_type": "markdown",
   "id": "199b7a9c-2020-46df-8c33-0e2bf41c011f",
   "metadata": {},
   "source": [
    "# 🍵 Poisson Distribution\n",
    "It is used for calculating the probability of the rarely happening stats at the specific time domain.\n",
    "\n",
    "\n",
    "$P(X = k) = \\frac{\\lambda^k e^{-\\lambda}}{k!}, \\quad \\text{where } k = 0,1,2,\\dots$\n",
    "\n",
    "**Expected Value (Mean)**\n",
    "\n",
    "$E[X] = \\lambda$\n",
    "\n",
    "**Variance**\n",
    "\n",
    "$\\sigma^2 = Var(X) = \\lambda$\n",
    "\n",
    "---"
   ]
  },
  {
   "cell_type": "markdown",
   "id": "f2cc00f7-495b-4281-98c7-817c9091b5e6",
   "metadata": {},
   "source": [
    "**Problem**: It is wanted to calculate the probability of entering an incorrect advertisement. It is knowns as Poisson distribution and lambda(average number of errors) is 0.1. What are the probabilities no error, 3 error and 5 error?"
   ]
  },
  {
   "cell_type": "markdown",
   "id": "2100b218-1a17-48d0-bae1-c40e70305e1f",
   "metadata": {},
   "source": [
    "#### » Import \"poisson\" from \"scipy\" library"
   ]
  },
  {
   "cell_type": "code",
   "execution_count": 1,
   "id": "417c1360-95a8-4df6-86cf-5c0375b2f99f",
   "metadata": {},
   "outputs": [],
   "source": [
    "from scipy.stats import poisson"
   ]
  },
  {
   "cell_type": "markdown",
   "id": "02f5de7a-340b-460a-82ce-8653b621ac98",
   "metadata": {},
   "source": [
    "#### » Assign the lambda value and create poisson module with it"
   ]
  },
  {
   "cell_type": "code",
   "execution_count": 2,
   "id": "96bbdbd3-b893-466d-85d0-3bb659cd3670",
   "metadata": {},
   "outputs": [],
   "source": [
    "lambda_ = 0.1\n",
    "poisson = poisson(mu=lambda_)"
   ]
  },
  {
   "cell_type": "markdown",
   "id": "0e467451-ca68-4472-b9bb-d252980c11ee",
   "metadata": {},
   "source": [
    "#### » Calculate the probability of 0 fault"
   ]
  },
  {
   "cell_type": "code",
   "execution_count": 6,
   "id": "e23807a2-fb90-4cb0-9484-78b127d5823e",
   "metadata": {},
   "outputs": [
    {
     "data": {
      "text/plain": [
       "np.float64(0.9048374180359595)"
      ]
     },
     "execution_count": 6,
     "metadata": {},
     "output_type": "execute_result"
    }
   ],
   "source": [
    "poisson.pmf(k=0) # pmf -> probability mass function"
   ]
  },
  {
   "cell_type": "markdown",
   "id": "24c537e6-b78c-4aa4-9937-7491a35ab52b",
   "metadata": {},
   "source": [
    "#### » Calculate the probability of 3 faults"
   ]
  },
  {
   "cell_type": "code",
   "execution_count": 4,
   "id": "30ffda35-0580-434f-98f3-c943e04c25c7",
   "metadata": {},
   "outputs": [
    {
     "data": {
      "text/plain": [
       "np.float64(0.00015080623633932676)"
      ]
     },
     "execution_count": 4,
     "metadata": {},
     "output_type": "execute_result"
    }
   ],
   "source": [
    "poisson.pmf(k=3) "
   ]
  },
  {
   "cell_type": "markdown",
   "id": "f276f8b7-443b-4aa7-a889-1d72ebf0542d",
   "metadata": {},
   "source": [
    "#### » Calculate the probability of 5 faults"
   ]
  },
  {
   "cell_type": "code",
   "execution_count": 5,
   "id": "e465113e-c474-4ff0-8a26-082022fa8dae",
   "metadata": {},
   "outputs": [
    {
     "data": {
      "text/plain": [
       "np.float64(7.54031181696634e-08)"
      ]
     },
     "execution_count": 5,
     "metadata": {},
     "output_type": "execute_result"
    }
   ],
   "source": [
    "poisson.pmf(k=5) "
   ]
  }
 ],
 "metadata": {
  "kernelspec": {
   "display_name": "Python [conda env:base] *",
   "language": "python",
   "name": "conda-base-py"
  },
  "language_info": {
   "codemirror_mode": {
    "name": "ipython",
    "version": 3
   },
   "file_extension": ".py",
   "mimetype": "text/x-python",
   "name": "python",
   "nbconvert_exporter": "python",
   "pygments_lexer": "ipython3",
   "version": "3.13.5"
  }
 },
 "nbformat": 4,
 "nbformat_minor": 5
}

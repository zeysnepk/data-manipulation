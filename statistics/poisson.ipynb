{
 "cells": [
  {
   "cell_type": "code",
   "execution_count": 3,
   "id": "417c1360-95a8-4df6-86cf-5c0375b2f99f",
   "metadata": {},
   "outputs": [],
   "source": [
    "from scipy.stats import poisson"
   ]
  },
  {
   "cell_type": "code",
   "execution_count": 4,
   "id": "96bbdbd3-b893-466d-85d0-3bb659cd3670",
   "metadata": {},
   "outputs": [],
   "source": [
    "lambda_ = 0.1 #mean of faults"
   ]
  },
  {
   "cell_type": "code",
   "execution_count": 6,
   "id": "df83971a-8aa2-4d2e-baf1-4c17dd68b27e",
   "metadata": {},
   "outputs": [],
   "source": [
    "poisson = poisson(mu=lambda_)"
   ]
  },
  {
   "cell_type": "code",
   "execution_count": 7,
   "id": "e23807a2-fb90-4cb0-9484-78b127d5823e",
   "metadata": {},
   "outputs": [
    {
     "data": {
      "text/plain": [
       "np.float64(0.9048374180359595)"
      ]
     },
     "execution_count": 7,
     "metadata": {},
     "output_type": "execute_result"
    }
   ],
   "source": [
    "poisson.pmf(k=0) #probability of 0 fault"
   ]
  },
  {
   "cell_type": "code",
   "execution_count": 8,
   "id": "30ffda35-0580-434f-98f3-c943e04c25c7",
   "metadata": {},
   "outputs": [
    {
     "data": {
      "text/plain": [
       "np.float64(0.00015080623633932676)"
      ]
     },
     "execution_count": 8,
     "metadata": {},
     "output_type": "execute_result"
    }
   ],
   "source": [
    "poisson.pmf(k=3) #probability of 3 faults"
   ]
  },
  {
   "cell_type": "code",
   "execution_count": 9,
   "id": "e465113e-c474-4ff0-8a26-082022fa8dae",
   "metadata": {},
   "outputs": [
    {
     "data": {
      "text/plain": [
       "np.float64(7.54031181696634e-08)"
      ]
     },
     "execution_count": 9,
     "metadata": {},
     "output_type": "execute_result"
    }
   ],
   "source": [
    "poisson.pmf(k=5) #probability of 5 faults"
   ]
  },
  {
   "cell_type": "code",
   "execution_count": null,
   "id": "0534a213-f4f4-4cdd-9b04-19f759186ae2",
   "metadata": {},
   "outputs": [],
   "source": []
  }
 ],
 "metadata": {
  "kernelspec": {
   "display_name": "Python [conda env:base] *",
   "language": "python",
   "name": "conda-base-py"
  },
  "language_info": {
   "codemirror_mode": {
    "name": "ipython",
    "version": 3
   },
   "file_extension": ".py",
   "mimetype": "text/x-python",
   "name": "python",
   "nbconvert_exporter": "python",
   "pygments_lexer": "ipython3",
   "version": "3.13.5"
  }
 },
 "nbformat": 4,
 "nbformat_minor": 5
}

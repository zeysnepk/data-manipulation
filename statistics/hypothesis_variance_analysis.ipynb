{
 "cells": [
  {
   "cell_type": "markdown",
   "id": "a563c77e-c18b-41e4-8338-9981c0f8f1ca",
   "metadata": {},
   "source": [
    "# 🧚🏻‍♂️ Variance Analysis / One-Way ANOVA\n",
    "This hypothesis is used to test whether there is a statistically significant difference between the averages of two or more groups.\n",
    "\n",
    "**Hypotheses**\n",
    "\n",
    "$H0 : \\mu_1 = \\mu_2 = \\dots = \\mu_k$ (all group means are equal)  \n",
    "$H1 : \\text{At least one group mean is different}$\n",
    "\n",
    "**Test Statistic (F-ratio)**\n",
    "  \n",
    "$F = \\frac{\\text{Mean Square Between Groups (MSB)}}{\\text{Mean Square Within Groups (MSW)}}$\n",
    "\n",
    "where:\n",
    "\n",
    "- $\\text{MSB} = \\frac{\\text{Sum of Squares Between Groups (SSB)}}{k - 1}$  \n",
    "- $\\text{MSW} = \\frac{\\text{Sum of Squares Within Groups (SSW)}}{N - k}$\n",
    "\n",
    "and:\n",
    "\n",
    "- $\\text{SSB} = \\sum_{i=1}^{k} n_i (\\bar{X}_i - \\bar{X})^2$  \n",
    "- $\\text{SSW} = \\sum_{i=1}^{k} \\sum_{j=1}^{n_i} (X_{ij} - \\bar{X}_i)^2$\n",
    "\n",
    "**Assumptions:**\n",
    "- Independence: Observations are independent.  \n",
    "- Normality: Each group is approximately normally distributed.  \n",
    "- Homogeneity of variances: Variances across groups are approximately equal. \n",
    "\n",
    "---\n"
   ]
  },
  {
   "cell_type": "markdown",
   "id": "0bf9c5be-47d2-496b-a03a-af136010162b",
   "metadata": {},
   "source": [
    "**Problem**: A news site has three different types of news articles: A (Natural), B (Manipulative), and C (Attention-Grabbing). Success factors include average visit duration, bounce rate, etc. Based on this, they want us to test which news type is more successful in terms of success factors."
   ]
  },
  {
   "cell_type": "markdown",
   "id": "25871965-5981-40ed-a2b7-e1ba5be7a422",
   "metadata": {},
   "source": [
    "#### » Import the necessary data libraries and create arrays to simulate the problem"
   ]
  },
  {
   "cell_type": "code",
   "execution_count": 1,
   "id": "a2becb16-2f0b-4e32-b9f4-2c55d68826db",
   "metadata": {},
   "outputs": [],
   "source": [
    "import numpy as np\n",
    "import pandas as pd\n",
    "A = pd.DataFrame(np.random.normal(loc=30,scale=10,size=20).astype(int))\n",
    "B = pd.DataFrame(np.random.normal(loc=38,scale=5,size=20).astype(int))\n",
    "C = pd.DataFrame(np.random.normal(loc=35,scale=10,size=20).astype(int))"
   ]
  },
  {
   "cell_type": "markdown",
   "id": "32ef27e4-2121-4253-913d-84785de48536",
   "metadata": {},
   "source": [
    "#### » Combine all groups for easy testing"
   ]
  },
  {
   "cell_type": "code",
   "execution_count": 2,
   "id": "ec32435c-b9a6-4c37-87f4-6be0544df81d",
   "metadata": {},
   "outputs": [
    {
     "data": {
      "text/html": [
       "<div>\n",
       "<style scoped>\n",
       "    .dataframe tbody tr th:only-of-type {\n",
       "        vertical-align: middle;\n",
       "    }\n",
       "\n",
       "    .dataframe tbody tr th {\n",
       "        vertical-align: top;\n",
       "    }\n",
       "\n",
       "    .dataframe thead th {\n",
       "        text-align: right;\n",
       "    }\n",
       "</style>\n",
       "<table border=\"1\" class=\"dataframe\">\n",
       "  <thead>\n",
       "    <tr style=\"text-align: right;\">\n",
       "      <th></th>\n",
       "      <th>group_A</th>\n",
       "      <th>group_B</th>\n",
       "      <th>group_C</th>\n",
       "    </tr>\n",
       "  </thead>\n",
       "  <tbody>\n",
       "    <tr>\n",
       "      <th>0</th>\n",
       "      <td>37</td>\n",
       "      <td>38</td>\n",
       "      <td>34</td>\n",
       "    </tr>\n",
       "    <tr>\n",
       "      <th>1</th>\n",
       "      <td>35</td>\n",
       "      <td>36</td>\n",
       "      <td>33</td>\n",
       "    </tr>\n",
       "    <tr>\n",
       "      <th>2</th>\n",
       "      <td>29</td>\n",
       "      <td>41</td>\n",
       "      <td>27</td>\n",
       "    </tr>\n",
       "    <tr>\n",
       "      <th>3</th>\n",
       "      <td>25</td>\n",
       "      <td>45</td>\n",
       "      <td>27</td>\n",
       "    </tr>\n",
       "    <tr>\n",
       "      <th>4</th>\n",
       "      <td>29</td>\n",
       "      <td>42</td>\n",
       "      <td>36</td>\n",
       "    </tr>\n",
       "  </tbody>\n",
       "</table>\n",
       "</div>"
      ],
      "text/plain": [
       "   group_A  group_B  group_C\n",
       "0       37       38       34\n",
       "1       35       36       33\n",
       "2       29       41       27\n",
       "3       25       45       27\n",
       "4       29       42       36"
      ]
     },
     "execution_count": 2,
     "metadata": {},
     "output_type": "execute_result"
    }
   ],
   "source": [
    "ABC = pd.concat([A,B,C], axis=1)\n",
    "ABC.columns = [\"group_A\", \"group_B\", \"group_C\"]\n",
    "ABC.head()"
   ]
  },
  {
   "cell_type": "markdown",
   "id": "787a69a7-aaef-4058-a651-844a6744a9bd",
   "metadata": {},
   "source": [
    "### Normality Assumption\n",
    "##### H0: There is no difference between the sample distribution and the theoretical normal distribution.(Normally distributed)\n",
    "##### H1: There is difference \""
   ]
  },
  {
   "cell_type": "code",
   "execution_count": 3,
   "id": "7d10f8cc-16f2-4a4c-ab11-e997e07e2ae3",
   "metadata": {},
   "outputs": [
    {
     "data": {
      "text/plain": [
       "ShapiroResult(statistic=np.float64(0.9616385155082497), pvalue=np.float64(0.5770795079448837))"
      ]
     },
     "execution_count": 3,
     "metadata": {},
     "output_type": "execute_result"
    }
   ],
   "source": [
    "from scipy.stats import shapiro\n",
    "shapiro(ABC.group_A)"
   ]
  },
  {
   "cell_type": "code",
   "execution_count": 4,
   "id": "a6309da7-5884-4812-913d-10649136f8d6",
   "metadata": {},
   "outputs": [
    {
     "data": {
      "text/plain": [
       "ShapiroResult(statistic=np.float64(0.9599339261651165), pvalue=np.float64(0.5425299202266034))"
      ]
     },
     "execution_count": 4,
     "metadata": {},
     "output_type": "execute_result"
    }
   ],
   "source": [
    "shapiro(ABC.group_B)"
   ]
  },
  {
   "cell_type": "code",
   "execution_count": 5,
   "id": "8f6bbd0f-700a-47e7-a715-2ded8f7363e6",
   "metadata": {},
   "outputs": [
    {
     "data": {
      "text/plain": [
       "ShapiroResult(statistic=np.float64(0.9556537280034006), pvalue=np.float64(0.46106797250962933))"
      ]
     },
     "execution_count": 5,
     "metadata": {},
     "output_type": "execute_result"
    }
   ],
   "source": [
    "shapiro(ABC.group_C)"
   ]
  },
  {
   "cell_type": "markdown",
   "id": "3cc3b6ec-f432-4af9-98da-951324b7e70e",
   "metadata": {},
   "source": [
    "Based on the results above, all pvalues are greater than 0.05 so H0 can not be rejected. The assumption has been confirmed."
   ]
  },
  {
   "cell_type": "markdown",
   "id": "eb1e7c28-aa54-4c19-a272-87e4d641ea92",
   "metadata": {},
   "source": [
    "### Variance Homogenity Assumption\n",
    "##### H0: Variances are homogen\n",
    "##### H1: Variances is not homogen"
   ]
  },
  {
   "cell_type": "code",
   "execution_count": 7,
   "id": "c495855e-2262-445a-b6c8-3ad8596fcf2c",
   "metadata": {},
   "outputs": [
    {
     "data": {
      "text/plain": [
       "LeveneResult(statistic=np.float64(3.0118395088796337), pvalue=np.float64(0.05709215896212818))"
      ]
     },
     "execution_count": 7,
     "metadata": {},
     "output_type": "execute_result"
    }
   ],
   "source": [
    "from scipy.stats import levene\n",
    "levene(ABC.group_A, ABC.group_B, ABC.group_C)"
   ]
  },
  {
   "cell_type": "markdown",
   "id": "fa752f84-3f6a-422b-a2f0-3138561960af",
   "metadata": {},
   "source": [
    "Based on the results above, since the pvalue is greater than 0.05, H0 can not rejected. The assumption has been confirmed."
   ]
  },
  {
   "cell_type": "markdown",
   "id": "6bac6019-d1d9-44b2-b1d8-1bd8c9f2962c",
   "metadata": {},
   "source": [
    "### Hypothesis Test\n",
    "##### $H0 : \\mu_1 = \\mu_2 = \\dots = \\mu_k$ (all group means are equal)  \n",
    "##### $H1 : \\text{At least one group mean is different}$"
   ]
  },
  {
   "cell_type": "code",
   "execution_count": 9,
   "id": "73cf06f3-1f14-4c94-b655-1e44bf6546eb",
   "metadata": {},
   "outputs": [
    {
     "data": {
      "text/plain": [
       "F_onewayResult(statistic=np.float64(4.877405667525383), pvalue=np.float64(0.011083580023243273))"
      ]
     },
     "execution_count": 9,
     "metadata": {},
     "output_type": "execute_result"
    }
   ],
   "source": [
    "from scipy.stats import f_oneway\n",
    "f_oneway(ABC.group_A, ABC.group_B, ABC.group_C)"
   ]
  },
  {
   "cell_type": "markdown",
   "id": "6af7dfe4-d336-4d9a-961c-b9b4bee100aa",
   "metadata": {},
   "source": [
    "Based on the results above, since the pvalue lower than 0.05, H0 is rejected and thats mean there is at least one difference between all three types we can draw a boxplot to observe the more succesful type."
   ]
  },
  {
   "cell_type": "markdown",
   "id": "1a04a042-9de7-44ad-87d2-f14410ff21de",
   "metadata": {},
   "source": [
    "#### » Visualize the data with boxplot to see the overall observation"
   ]
  },
  {
   "cell_type": "code",
   "execution_count": 10,
   "id": "985f31da-95a7-43a9-97ab-28a6d338d18f",
   "metadata": {},
   "outputs": [
    {
     "data": {
      "text/plain": [
       "<Axes: >"
      ]
     },
     "execution_count": 10,
     "metadata": {},
     "output_type": "execute_result"
    },
    {
     "data": {
      "image/png": "[encoded data removed]",
      "text/plain": [
       "<Figure size 640x480 with 1 Axes>"
      ]
     },
     "metadata": {},
     "output_type": "display_data"
    }
   ],
   "source": [
    "import seaborn as sns\n",
    "sns.boxplot(ABC)"
   ]
  },
  {
   "cell_type": "markdown",
   "id": "726ebf1c-40cc-4779-b57b-6600c5f50117",
   "metadata": {},
   "source": [
    "#### » Show the statisctic of data to see the more detailed information about the types"
   ]
  },
  {
   "cell_type": "code",
   "execution_count": 125,
   "id": "5775c5db-416f-42b6-bda2-168a3956748b",
   "metadata": {},
   "outputs": [
    {
     "data": {
      "text/html": [
       "<div>\n",
       "<style scoped>\n",
       "    .dataframe tbody tr th:only-of-type {\n",
       "        vertical-align: middle;\n",
       "    }\n",
       "\n",
       "    .dataframe tbody tr th {\n",
       "        vertical-align: top;\n",
       "    }\n",
       "\n",
       "    .dataframe thead th {\n",
       "        text-align: right;\n",
       "    }\n",
       "</style>\n",
       "<table border=\"1\" class=\"dataframe\">\n",
       "  <thead>\n",
       "    <tr style=\"text-align: right;\">\n",
       "      <th></th>\n",
       "      <th>count</th>\n",
       "      <th>mean</th>\n",
       "      <th>std</th>\n",
       "      <th>min</th>\n",
       "      <th>25%</th>\n",
       "      <th>50%</th>\n",
       "      <th>75%</th>\n",
       "      <th>max</th>\n",
       "    </tr>\n",
       "  </thead>\n",
       "  <tbody>\n",
       "    <tr>\n",
       "      <th>group_A</th>\n",
       "      <td>20.0</td>\n",
       "      <td>25.45</td>\n",
       "      <td>9.046517</td>\n",
       "      <td>12.0</td>\n",
       "      <td>18.75</td>\n",
       "      <td>24.5</td>\n",
       "      <td>30.75</td>\n",
       "      <td>49.0</td>\n",
       "    </tr>\n",
       "    <tr>\n",
       "      <th>group_B</th>\n",
       "      <td>20.0</td>\n",
       "      <td>39.15</td>\n",
       "      <td>4.637093</td>\n",
       "      <td>32.0</td>\n",
       "      <td>35.75</td>\n",
       "      <td>39.0</td>\n",
       "      <td>43.00</td>\n",
       "      <td>49.0</td>\n",
       "    </tr>\n",
       "    <tr>\n",
       "      <th>group_C</th>\n",
       "      <td>20.0</td>\n",
       "      <td>32.20</td>\n",
       "      <td>11.678140</td>\n",
       "      <td>7.0</td>\n",
       "      <td>28.75</td>\n",
       "      <td>33.5</td>\n",
       "      <td>38.00</td>\n",
       "      <td>55.0</td>\n",
       "    </tr>\n",
       "  </tbody>\n",
       "</table>\n",
       "</div>"
      ],
      "text/plain": [
       "         count   mean        std   min    25%   50%    75%   max\n",
       "group_A   20.0  25.45   9.046517  12.0  18.75  24.5  30.75  49.0\n",
       "group_B   20.0  39.15   4.637093  32.0  35.75  39.0  43.00  49.0\n",
       "group_C   20.0  32.20  11.678140   7.0  28.75  33.5  38.00  55.0"
      ]
     },
     "execution_count": 125,
     "metadata": {},
     "output_type": "execute_result"
    }
   ],
   "source": [
    "ABC.describe().T"
   ]
  },
  {
   "cell_type": "markdown",
   "id": "d35f9a9d-7c42-44a4-a5c1-0e3baf816f2f",
   "metadata": {},
   "source": [
    "### ! If assumptions hadn't been confirmed, Non-parametric Hypothesis Test would have been used. "
   ]
  },
  {
   "cell_type": "markdown",
   "id": "91ee7967-186e-46ab-b4c4-8bfa538dc202",
   "metadata": {},
   "source": [
    "#### » Import \"kruskal\" which used for a non-parametric hypothesis test"
   ]
  },
  {
   "cell_type": "code",
   "execution_count": 12,
   "id": "5dec142c-5c80-48d8-9bf4-5eaa7fd8ecfc",
   "metadata": {},
   "outputs": [
    {
     "data": {
      "text/plain": [
       "KruskalResult(statistic=np.float64(9.274240055826937), pvalue=np.float64(0.00968555161722935))"
      ]
     },
     "execution_count": 12,
     "metadata": {},
     "output_type": "execute_result"
    }
   ],
   "source": [
    "from scipy.stats import kruskal\n",
    "kruskal(ABC.group_A, ABC.group_B, ABC.group_C)"
   ]
  }
 ],
 "metadata": {
  "kernelspec": {
   "display_name": "Python [conda env:base] *",
   "language": "python",
   "name": "conda-base-py"
  },
  "language_info": {
   "codemirror_mode": {
    "name": "ipython",
    "version": 3
   },
   "file_extension": ".py",
   "mimetype": "text/x-python",
   "name": "python",
   "nbconvert_exporter": "python",
   "pygments_lexer": "ipython3",
   "version": "3.13.5"
  }
 },
 "nbformat": 4,
 "nbformat_minor": 5
}

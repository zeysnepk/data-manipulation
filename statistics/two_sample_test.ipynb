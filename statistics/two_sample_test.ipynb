{
 "cells": [
  {
   "cell_type": "code",
   "execution_count": 2,
   "id": "f3b86142-52b1-4f85-a847-890619712441",
   "metadata": {},
   "outputs": [],
   "source": [
    "import pandas as pd\n",
    "import numpy as np"
   ]
  },
  {
   "cell_type": "code",
   "execution_count": 20,
   "id": "41310720-c1ff-49af-aafd-5a0afb3e47df",
   "metadata": {},
   "outputs": [],
   "source": [
    "group_A = pd.DataFrame(np.random.randint(19,36,30))\n",
    "group_B = pd.DataFrame(np.random.randint(19,36,30))"
   ]
  },
  {
   "cell_type": "code",
   "execution_count": 21,
   "id": "b51d378b-b12a-4373-9713-7e28db67969a",
   "metadata": {},
   "outputs": [],
   "source": [
    "#Data Type 1\n",
    "groups = pd.concat([group_A, group_B], axis=1)\n",
    "groups.columns = [\"A\",\"B\"]"
   ]
  },
  {
   "cell_type": "code",
   "execution_count": 22,
   "id": "08d83001-0710-4078-98af-d578dc686b8d",
   "metadata": {},
   "outputs": [
    {
     "data": {
      "text/html": [
       "<div>\n",
       "<style scoped>\n",
       "    .dataframe tbody tr th:only-of-type {\n",
       "        vertical-align: middle;\n",
       "    }\n",
       "\n",
       "    .dataframe tbody tr th {\n",
       "        vertical-align: top;\n",
       "    }\n",
       "\n",
       "    .dataframe thead th {\n",
       "        text-align: right;\n",
       "    }\n",
       "</style>\n",
       "<table border=\"1\" class=\"dataframe\">\n",
       "  <thead>\n",
       "    <tr style=\"text-align: right;\">\n",
       "      <th></th>\n",
       "      <th>A</th>\n",
       "      <th>B</th>\n",
       "    </tr>\n",
       "  </thead>\n",
       "  <tbody>\n",
       "    <tr>\n",
       "      <th>0</th>\n",
       "      <td>23</td>\n",
       "      <td>21</td>\n",
       "    </tr>\n",
       "    <tr>\n",
       "      <th>1</th>\n",
       "      <td>32</td>\n",
       "      <td>28</td>\n",
       "    </tr>\n",
       "    <tr>\n",
       "      <th>2</th>\n",
       "      <td>24</td>\n",
       "      <td>26</td>\n",
       "    </tr>\n",
       "    <tr>\n",
       "      <th>3</th>\n",
       "      <td>19</td>\n",
       "      <td>19</td>\n",
       "    </tr>\n",
       "    <tr>\n",
       "      <th>4</th>\n",
       "      <td>30</td>\n",
       "      <td>24</td>\n",
       "    </tr>\n",
       "  </tbody>\n",
       "</table>\n",
       "</div>"
      ],
      "text/plain": [
       "    A   B\n",
       "0  23  21\n",
       "1  32  28\n",
       "2  24  26\n",
       "3  19  19\n",
       "4  30  24"
      ]
     },
     "execution_count": 22,
     "metadata": {},
     "output_type": "execute_result"
    }
   ],
   "source": [
    "groups.head()"
   ]
  },
  {
   "cell_type": "code",
   "execution_count": 53,
   "id": "92572dc3-333c-4ddf-b005-efd362aaa5f8",
   "metadata": {},
   "outputs": [],
   "source": [
    "#Data Type 2\n",
    "groupA = pd.DataFrame(np.arange(len(group_A)))\n",
    "groupA[groupA.columns] = \"A\"\n",
    "A = pd.concat([group_A, groupA],axis=1)\n",
    "\n",
    "groupB = pd.DataFrame(np.arange(len(group_B)))\n",
    "groupB[groupB.columns] = \"B\"\n",
    "B = pd.concat([group_B, groupB],axis=1)\n",
    "\n",
    "AB = pd.concat([A,B])\n",
    "AB.columns = [\"income\", \"group\"]"
   ]
  },
  {
   "cell_type": "code",
   "execution_count": 54,
   "id": "86ba01f5-1dfb-4bcd-a52b-617258e19a68",
   "metadata": {},
   "outputs": [
    {
     "data": {
      "text/html": [
       "<div>\n",
       "<style scoped>\n",
       "    .dataframe tbody tr th:only-of-type {\n",
       "        vertical-align: middle;\n",
       "    }\n",
       "\n",
       "    .dataframe tbody tr th {\n",
       "        vertical-align: top;\n",
       "    }\n",
       "\n",
       "    .dataframe thead th {\n",
       "        text-align: right;\n",
       "    }\n",
       "</style>\n",
       "<table border=\"1\" class=\"dataframe\">\n",
       "  <thead>\n",
       "    <tr style=\"text-align: right;\">\n",
       "      <th></th>\n",
       "      <th>income</th>\n",
       "      <th>group</th>\n",
       "    </tr>\n",
       "  </thead>\n",
       "  <tbody>\n",
       "    <tr>\n",
       "      <th>0</th>\n",
       "      <td>23</td>\n",
       "      <td>A</td>\n",
       "    </tr>\n",
       "    <tr>\n",
       "      <th>1</th>\n",
       "      <td>32</td>\n",
       "      <td>A</td>\n",
       "    </tr>\n",
       "    <tr>\n",
       "      <th>2</th>\n",
       "      <td>24</td>\n",
       "      <td>A</td>\n",
       "    </tr>\n",
       "    <tr>\n",
       "      <th>3</th>\n",
       "      <td>19</td>\n",
       "      <td>A</td>\n",
       "    </tr>\n",
       "    <tr>\n",
       "      <th>4</th>\n",
       "      <td>30</td>\n",
       "      <td>A</td>\n",
       "    </tr>\n",
       "  </tbody>\n",
       "</table>\n",
       "</div>"
      ],
      "text/plain": [
       "   income group\n",
       "0      23     A\n",
       "1      32     A\n",
       "2      24     A\n",
       "3      19     A\n",
       "4      30     A"
      ]
     },
     "execution_count": 54,
     "metadata": {},
     "output_type": "execute_result"
    }
   ],
   "source": [
    "AB.head()"
   ]
  },
  {
   "cell_type": "code",
   "execution_count": 55,
   "id": "78776944-e5f9-4e70-9f84-6f1d676a21b9",
   "metadata": {},
   "outputs": [
    {
     "data": {
      "text/html": [
       "<div>\n",
       "<style scoped>\n",
       "    .dataframe tbody tr th:only-of-type {\n",
       "        vertical-align: middle;\n",
       "    }\n",
       "\n",
       "    .dataframe tbody tr th {\n",
       "        vertical-align: top;\n",
       "    }\n",
       "\n",
       "    .dataframe thead th {\n",
       "        text-align: right;\n",
       "    }\n",
       "</style>\n",
       "<table border=\"1\" class=\"dataframe\">\n",
       "  <thead>\n",
       "    <tr style=\"text-align: right;\">\n",
       "      <th></th>\n",
       "      <th>income</th>\n",
       "      <th>group</th>\n",
       "    </tr>\n",
       "  </thead>\n",
       "  <tbody>\n",
       "    <tr>\n",
       "      <th>25</th>\n",
       "      <td>30</td>\n",
       "      <td>B</td>\n",
       "    </tr>\n",
       "    <tr>\n",
       "      <th>26</th>\n",
       "      <td>35</td>\n",
       "      <td>B</td>\n",
       "    </tr>\n",
       "    <tr>\n",
       "      <th>27</th>\n",
       "      <td>22</td>\n",
       "      <td>B</td>\n",
       "    </tr>\n",
       "    <tr>\n",
       "      <th>28</th>\n",
       "      <td>34</td>\n",
       "      <td>B</td>\n",
       "    </tr>\n",
       "    <tr>\n",
       "      <th>29</th>\n",
       "      <td>35</td>\n",
       "      <td>B</td>\n",
       "    </tr>\n",
       "  </tbody>\n",
       "</table>\n",
       "</div>"
      ],
      "text/plain": [
       "    income group\n",
       "25      30     B\n",
       "26      35     B\n",
       "27      22     B\n",
       "28      34     B\n",
       "29      35     B"
      ]
     },
     "execution_count": 55,
     "metadata": {},
     "output_type": "execute_result"
    }
   ],
   "source": [
    "AB.tail()"
   ]
  },
  {
   "cell_type": "code",
   "execution_count": 56,
   "id": "30b18a0c-9aa8-4bf1-acf5-209da1723fff",
   "metadata": {},
   "outputs": [],
   "source": [
    "#############################################"
   ]
  },
  {
   "cell_type": "code",
   "execution_count": 57,
   "id": "f919f889-202b-4065-949d-0bf63921b707",
   "metadata": {},
   "outputs": [],
   "source": [
    "import seaborn as sns"
   ]
  },
  {
   "cell_type": "code",
   "execution_count": 58,
   "id": "1e991331-2e17-4350-b5d0-ec7cc3c87c76",
   "metadata": {},
   "outputs": [
    {
     "data": {
      "text/plain": [
       "<Axes: xlabel='group', ylabel='income'>"
      ]
     },
     "execution_count": 58,
     "metadata": {},
     "output_type": "execute_result"
    },
    {
     "data": {
      "image/png": "[encoded data removed]",
      "text/plain": [
       "<Figure size 640x480 with 1 Axes>"
      ]
     },
     "metadata": {},
     "output_type": "display_data"
    }
   ],
   "source": [
    "sns.boxplot(x=\"group\", y=\"income\",data=AB)"
   ]
  },
  {
   "cell_type": "code",
   "execution_count": 59,
   "id": "cf004356-1f9c-404c-986e-71f4e558b49d",
   "metadata": {},
   "outputs": [],
   "source": [
    "#normality assumption"
   ]
  },
  {
   "cell_type": "code",
   "execution_count": 74,
   "id": "71d1d90b-f46d-45cb-bcfa-8dc758fbd5b9",
   "metadata": {},
   "outputs": [],
   "source": [
    "from scipy.stats import shapiro, levene, ttest_ind"
   ]
  },
  {
   "cell_type": "code",
   "execution_count": 63,
   "id": "3792b26d-9bbd-4422-b7b1-21afc8ec8bf5",
   "metadata": {},
   "outputs": [
    {
     "data": {
      "text/plain": [
       "ShapiroResult(statistic=np.float64(0.9340416855777345), pvalue=np.float64(0.06292890975281083))"
      ]
     },
     "execution_count": 63,
     "metadata": {},
     "output_type": "execute_result"
    }
   ],
   "source": [
    "shapiro(groups.A)"
   ]
  },
  {
   "cell_type": "code",
   "execution_count": 65,
   "id": "8e41ef48-dde4-4064-ac03-9f751d4fd7e2",
   "metadata": {},
   "outputs": [
    {
     "data": {
      "text/plain": [
       "ShapiroResult(statistic=np.float64(0.9116271264657703), pvalue=np.float64(0.016358637969770832))"
      ]
     },
     "execution_count": 65,
     "metadata": {},
     "output_type": "execute_result"
    }
   ],
   "source": [
    "shapiro(groups.B)"
   ]
  },
  {
   "cell_type": "code",
   "execution_count": 71,
   "id": "3785229b-b3f5-4164-9d65-b3c52dad7eb7",
   "metadata": {},
   "outputs": [],
   "source": [
    "# variance homogeneity assumption \n",
    "#(H0:variances are homogen,\n",
    "#(H1:variances are not homogen)"
   ]
  },
  {
   "cell_type": "code",
   "execution_count": 70,
   "id": "dd8fd51e-4985-4ded-9958-30727a30d97c",
   "metadata": {},
   "outputs": [
    {
     "data": {
      "text/plain": [
       "LeveneResult(statistic=np.float64(1.2346938775510177), pvalue=np.float64(0.2710812316900987))"
      ]
     },
     "execution_count": 70,
     "metadata": {},
     "output_type": "execute_result"
    }
   ],
   "source": [
    "levene(groups.A, groups.B)"
   ]
  },
  {
   "cell_type": "code",
   "execution_count": 72,
   "id": "d80fe30e-bdec-4aed-b76e-8a8cca239401",
   "metadata": {},
   "outputs": [],
   "source": [
    "#pvalue > 0.05 so h0 cannot be rejected"
   ]
  },
  {
   "cell_type": "code",
   "execution_count": 73,
   "id": "f49b7230-e641-4758-aeda-a175bed2d006",
   "metadata": {},
   "outputs": [],
   "source": [
    "#hypothesis test"
   ]
  },
  {
   "cell_type": "code",
   "execution_count": 77,
   "id": "e8450a86-3615-4ef6-a899-6d689d1c623a",
   "metadata": {},
   "outputs": [
    {
     "data": {
      "text/plain": [
       "TtestResult(statistic=np.float64(-0.9359844793620767), pvalue=np.float64(0.35316212530862445), df=np.float64(58.0))"
      ]
     },
     "execution_count": 77,
     "metadata": {},
     "output_type": "execute_result"
    }
   ],
   "source": [
    "ttest_ind(groups[\"A\"], groups[\"B\"], equal_var=True)"
   ]
  },
  {
   "cell_type": "code",
   "execution_count": null,
   "id": "57a0500a-d8a7-4f7f-b231-31f63b1c69b8",
   "metadata": {},
   "outputs": [],
   "source": []
  }
 ],
 "metadata": {
  "kernelspec": {
   "display_name": "Python [conda env:base] *",
   "language": "python",
   "name": "conda-base-py"
  },
  "language_info": {
   "codemirror_mode": {
    "name": "ipython",
    "version": 3
   },
   "file_extension": ".py",
   "mimetype": "text/x-python",
   "name": "python",
   "nbconvert_exporter": "python",
   "pygments_lexer": "ipython3",
   "version": "3.13.5"
  }
 },
 "nbformat": 4,
 "nbformat_minor": 5
}

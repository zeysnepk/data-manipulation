{
 "cells": [
  {
   "cell_type": "markdown",
   "id": "e699c4bd-4ea7-49ed-bab8-621fcaa24de6",
   "metadata": {},
   "source": [
    "# 🌊  Two-Sample Dependent t-Test | Dependent Samples t-Test\n",
    "This hypothesis is used to test the comparison between the averages of two dependent groups.\n",
    "\n",
    "**Hypotheses**\n",
    "\n",
    "$H0 : \\mu_1 = \\mu_2 \\quad|\\quad H1 : \\mu_1 \\neq \\mu_2$\n",
    "\n",
    "$H0 : \\mu_1 >= \\mu_2 \\quad |\\quad H_1 : \\mu_1 < \\mu_2$\n",
    "\n",
    "$H0 : \\mu_1 <= \\mu_2 \\quad |\\quad H_1 : \\mu_1 > \\mu_2$\n",
    "\n",
    "\n",
    "**Test Statistics**\n",
    "\n",
    "$t = \\frac{\\bar{d}}{s_d / \\sqrt{n}}$\n",
    "\n",
    "- $\\bar{d}$: Mean of the differences  \n",
    "- $s_d$: Standard deviation of the differences  \n",
    "- $n$: Number of pairs  \n",
    "\n",
    "**Assumptions:**\n",
    "- Normality\n",
    "- Homogeneity of variances\n",
    "\n",
    "---\n"
   ]
  },
  {
   "cell_type": "markdown",
   "id": "37023df6-d81d-4a47-ae5b-aa9c3f5c20b8",
   "metadata": {},
   "source": [
    "**Problem:** A manager is providing training to department employees. They want us to analyze whether the training is beneficial."
   ]
  },
  {
   "cell_type": "markdown",
   "id": "f09ac899-b41b-4bd2-8658-02b2fb2d0430",
   "metadata": {},
   "source": [
    "#### » Import the necessary data libraries and create arrays for pre-training and post-training simulations"
   ]
  },
  {
   "cell_type": "code",
   "execution_count": 3,
   "id": "e18e4da8-6ca9-45af-800d-d599e99b7653",
   "metadata": {},
   "outputs": [],
   "source": [
    "import numpy as np\n",
    "import pandas as pd\n",
    "before = pd.DataFrame(np.random.normal(loc=118, scale=10, size=30).astype(int))\n",
    "after = pd.DataFrame(np.random.normal(loc=130, scale=20, size=30).astype(int))"
   ]
  },
  {
   "cell_type": "markdown",
   "id": "673db2bd-c410-46fd-889b-9158844d5c6b",
   "metadata": {},
   "source": [
    "### ! Data is generally provided in two types:"
   ]
  },
  {
   "cell_type": "markdown",
   "id": "298f07e5-8b25-4470-baa2-06c93238cae4",
   "metadata": {},
   "source": [
    "#### Data Type 1"
   ]
  },
  {
   "cell_type": "code",
   "execution_count": 12,
   "id": "1a68c76e-dce1-4898-9fc5-2a083a29aae0",
   "metadata": {},
   "outputs": [
    {
     "data": {
      "text/html": [
       "<div>\n",
       "<style scoped>\n",
       "    .dataframe tbody tr th:only-of-type {\n",
       "        vertical-align: middle;\n",
       "    }\n",
       "\n",
       "    .dataframe tbody tr th {\n",
       "        vertical-align: top;\n",
       "    }\n",
       "\n",
       "    .dataframe thead th {\n",
       "        text-align: right;\n",
       "    }\n",
       "</style>\n",
       "<table border=\"1\" class=\"dataframe\">\n",
       "  <thead>\n",
       "    <tr style=\"text-align: right;\">\n",
       "      <th></th>\n",
       "      <th>A</th>\n",
       "      <th>B</th>\n",
       "    </tr>\n",
       "  </thead>\n",
       "  <tbody>\n",
       "    <tr>\n",
       "      <th>0</th>\n",
       "      <td>118</td>\n",
       "      <td>129</td>\n",
       "    </tr>\n",
       "    <tr>\n",
       "      <th>1</th>\n",
       "      <td>129</td>\n",
       "      <td>130</td>\n",
       "    </tr>\n",
       "    <tr>\n",
       "      <th>2</th>\n",
       "      <td>119</td>\n",
       "      <td>160</td>\n",
       "    </tr>\n",
       "    <tr>\n",
       "      <th>3</th>\n",
       "      <td>120</td>\n",
       "      <td>106</td>\n",
       "    </tr>\n",
       "    <tr>\n",
       "      <th>4</th>\n",
       "      <td>98</td>\n",
       "      <td>153</td>\n",
       "    </tr>\n",
       "  </tbody>\n",
       "</table>\n",
       "</div>"
      ],
      "text/plain": [
       "     A    B\n",
       "0  118  129\n",
       "1  129  130\n",
       "2  119  160\n",
       "3  120  106\n",
       "4   98  153"
      ]
     },
     "execution_count": 12,
     "metadata": {},
     "output_type": "execute_result"
    }
   ],
   "source": [
    "AB = pd.concat([before, after], axis=1)\n",
    "AB.columns = [\"A\",\"B\"]\n",
    "AB.head()"
   ]
  },
  {
   "cell_type": "markdown",
   "id": "87248119-74d2-4197-a074-158cb08f1b21",
   "metadata": {},
   "source": [
    "#### Data Type 2"
   ]
  },
  {
   "cell_type": "code",
   "execution_count": 13,
   "id": "e8cc2839-7c54-49bf-89ad-194bdae32268",
   "metadata": {},
   "outputs": [
    {
     "data": {
      "text/html": [
       "<div>\n",
       "<style scoped>\n",
       "    .dataframe tbody tr th:only-of-type {\n",
       "        vertical-align: middle;\n",
       "    }\n",
       "\n",
       "    .dataframe tbody tr th {\n",
       "        vertical-align: top;\n",
       "    }\n",
       "\n",
       "    .dataframe thead th {\n",
       "        text-align: right;\n",
       "    }\n",
       "</style>\n",
       "<table border=\"1\" class=\"dataframe\">\n",
       "  <thead>\n",
       "    <tr style=\"text-align: right;\">\n",
       "      <th></th>\n",
       "      <th>0</th>\n",
       "      <th>0</th>\n",
       "    </tr>\n",
       "  </thead>\n",
       "  <tbody>\n",
       "    <tr>\n",
       "      <th>0</th>\n",
       "      <td>118</td>\n",
       "      <td>oncesi</td>\n",
       "    </tr>\n",
       "    <tr>\n",
       "      <th>1</th>\n",
       "      <td>129</td>\n",
       "      <td>oncesi</td>\n",
       "    </tr>\n",
       "    <tr>\n",
       "      <th>2</th>\n",
       "      <td>119</td>\n",
       "      <td>oncesi</td>\n",
       "    </tr>\n",
       "    <tr>\n",
       "      <th>3</th>\n",
       "      <td>120</td>\n",
       "      <td>oncesi</td>\n",
       "    </tr>\n",
       "    <tr>\n",
       "      <th>4</th>\n",
       "      <td>98</td>\n",
       "      <td>oncesi</td>\n",
       "    </tr>\n",
       "  </tbody>\n",
       "</table>\n",
       "</div>"
      ],
      "text/plain": [
       "     0       0\n",
       "0  118  oncesi\n",
       "1  129  oncesi\n",
       "2  119  oncesi\n",
       "3  120  oncesi\n",
       "4   98  oncesi"
      ]
     },
     "execution_count": 13,
     "metadata": {},
     "output_type": "execute_result"
    }
   ],
   "source": [
    "group_A = pd.DataFrame(np.arange(len(before)))\n",
    "group_B = pd.DataFrame(np.arange(len(after)))\n",
    "group_A[group_A.columns] = \"oncesi\"\n",
    "group_B[group_B.columns] = \"sonrası\"\n",
    "A = pd.concat([before, group_A], axis=1)\n",
    "B = pd.concat([after, group_B], axis=1)\n",
    "A_B = pd.concat([A,B])\n",
    "A_B.head()"
   ]
  },
  {
   "cell_type": "code",
   "execution_count": 14,
   "id": "6ddccb77-784c-4330-aa4c-a636d558da2e",
   "metadata": {},
   "outputs": [
    {
     "data": {
      "text/html": [
       "<div>\n",
       "<style scoped>\n",
       "    .dataframe tbody tr th:only-of-type {\n",
       "        vertical-align: middle;\n",
       "    }\n",
       "\n",
       "    .dataframe tbody tr th {\n",
       "        vertical-align: top;\n",
       "    }\n",
       "\n",
       "    .dataframe thead th {\n",
       "        text-align: right;\n",
       "    }\n",
       "</style>\n",
       "<table border=\"1\" class=\"dataframe\">\n",
       "  <thead>\n",
       "    <tr style=\"text-align: right;\">\n",
       "      <th></th>\n",
       "      <th>0</th>\n",
       "      <th>0</th>\n",
       "    </tr>\n",
       "  </thead>\n",
       "  <tbody>\n",
       "    <tr>\n",
       "      <th>25</th>\n",
       "      <td>141</td>\n",
       "      <td>sonrası</td>\n",
       "    </tr>\n",
       "    <tr>\n",
       "      <th>26</th>\n",
       "      <td>144</td>\n",
       "      <td>sonrası</td>\n",
       "    </tr>\n",
       "    <tr>\n",
       "      <th>27</th>\n",
       "      <td>128</td>\n",
       "      <td>sonrası</td>\n",
       "    </tr>\n",
       "    <tr>\n",
       "      <th>28</th>\n",
       "      <td>126</td>\n",
       "      <td>sonrası</td>\n",
       "    </tr>\n",
       "    <tr>\n",
       "      <th>29</th>\n",
       "      <td>147</td>\n",
       "      <td>sonrası</td>\n",
       "    </tr>\n",
       "  </tbody>\n",
       "</table>\n",
       "</div>"
      ],
      "text/plain": [
       "      0        0\n",
       "25  141  sonrası\n",
       "26  144  sonrası\n",
       "27  128  sonrası\n",
       "28  126  sonrası\n",
       "29  147  sonrası"
      ]
     },
     "execution_count": 14,
     "metadata": {},
     "output_type": "execute_result"
    }
   ],
   "source": [
    "A_B.tail()"
   ]
  },
  {
   "cell_type": "markdown",
   "id": "fbadef2e-7475-48a4-a94e-6f7e38995e30",
   "metadata": {},
   "source": [
    "#### » Visualize the data with boxplot to see the overall observation"
   ]
  },
  {
   "cell_type": "code",
   "execution_count": 10,
   "id": "7c864488-51ee-4bdc-bee4-c5ad740befa0",
   "metadata": {},
   "outputs": [
    {
     "data": {
      "text/plain": [
       "<Axes: >"
      ]
     },
     "execution_count": 10,
     "metadata": {},
     "output_type": "execute_result"
    },
    {
     "data": {
      "image/png": "[encoded data removed]",
      "text/plain": [
       "<Figure size 640x480 with 1 Axes>"
      ]
     },
     "metadata": {},
     "output_type": "display_data"
    }
   ],
   "source": [
    "import seaborn as sns\n",
    "sns.boxplot(AB)"
   ]
  },
  {
   "cell_type": "markdown",
   "id": "ef591316-eec5-4429-8a8d-70ea255d134e",
   "metadata": {},
   "source": [
    "### Normality Assumption\n",
    "##### H0: There is no difference between the sample distribution and the theoretical normal distribution.(Normally distributed)\n",
    "##### H1: There is difference \""
   ]
  },
  {
   "cell_type": "code",
   "execution_count": 16,
   "id": "f60ae509-88f5-4a58-ab33-fa48d8316512",
   "metadata": {},
   "outputs": [
    {
     "data": {
      "text/plain": [
       "ShapiroResult(statistic=np.float64(0.979095849812336), pvalue=np.float64(0.8010329327996366))"
      ]
     },
     "execution_count": 16,
     "metadata": {},
     "output_type": "execute_result"
    }
   ],
   "source": [
    "from scipy.stats import shapiro\n",
    "shapiro(AB.A)"
   ]
  },
  {
   "cell_type": "code",
   "execution_count": 17,
   "id": "80ff787f-120b-43c3-84f1-7a134fff045d",
   "metadata": {},
   "outputs": [
    {
     "data": {
      "text/plain": [
       "ShapiroResult(statistic=np.float64(0.9594913198874845), pvalue=np.float64(0.30062005983156154))"
      ]
     },
     "execution_count": 17,
     "metadata": {},
     "output_type": "execute_result"
    }
   ],
   "source": [
    "shapiro(AB.B)"
   ]
  },
  {
   "cell_type": "markdown",
   "id": "76ec30b3-ebe3-482c-86e2-57f0a42db37b",
   "metadata": {},
   "source": [
    "Based on the results above, both A and B group's p values are greater than 0.05 so H0 can not rejected. All groups distributed normally, the assumption has been confirmed."
   ]
  },
  {
   "cell_type": "markdown",
   "id": "546c8542-d14c-4798-9243-3b5e9152788a",
   "metadata": {},
   "source": [
    "### Variance Homogenity Assumption\n",
    "##### H0: Variances are homogen\n",
    "##### H1: Variances is not homogen"
   ]
  },
  {
   "cell_type": "code",
   "execution_count": 20,
   "id": "674e3e33-5869-49bc-861f-1a14536b46dc",
   "metadata": {},
   "outputs": [
    {
     "data": {
      "text/plain": [
       "LeveneResult(statistic=np.float64(3.90941099021399), pvalue=np.float64(0.05277600351680727))"
      ]
     },
     "execution_count": 20,
     "metadata": {},
     "output_type": "execute_result"
    }
   ],
   "source": [
    "from scipy.stats import levene\n",
    "levene(AB.A, AB.B)"
   ]
  },
  {
   "cell_type": "markdown",
   "id": "b107db71-f4f4-49ee-bb7a-2e4464867e37",
   "metadata": {},
   "source": [
    "Based on the results above, since the pvalue is greater than 0.05, H0 can not rejected. The assumption has been confirmed."
   ]
  },
  {
   "cell_type": "markdown",
   "id": "428823ad-6316-4b03-83a0-bb43e5b5cef8",
   "metadata": {},
   "source": [
    "### Hypothesis Test\n",
    "##### $H0 : \\mu_1 = \\mu_2$ (There is no difference between pre-taining and post-training)\n",
    "##### $H1 : \\mu_1 \\neq \\mu_2$ (There is ..)"
   ]
  },
  {
   "cell_type": "code",
   "execution_count": 23,
   "id": "3e7d000e-660a-4b65-9aee-dda7717ddf7d",
   "metadata": {},
   "outputs": [
    {
     "data": {
      "text/plain": [
       "TtestResult(statistic=np.float64(-4.854085663938524), pvalue=np.float64(3.805052090214106e-05), df=np.int64(29))"
      ]
     },
     "execution_count": 23,
     "metadata": {},
     "output_type": "execute_result"
    }
   ],
   "source": [
    "from scipy.stats import ttest_rel\n",
    "ttest_rel(AB.A, AB.B)"
   ]
  },
  {
   "cell_type": "markdown",
   "id": "e4ad6e05-45d2-4014-bfb5-44eef7161819",
   "metadata": {},
   "source": [
    "Based on the results above, since the pvalue lower than 0.05, H0 is rejected and thats mean There is the difference between pre-training and post-training we can say that the post-training is more useful by looking the boxplot graphs because on that graph the B's box is higher."
   ]
  },
  {
   "cell_type": "markdown",
   "id": "18f5ac6a-cfc7-45fb-8cc5-b25b98051392",
   "metadata": {},
   "source": [
    "### ! If assumptions hadn't been confirmed, Non-parametric Two Sample Dependent Test would have been used. "
   ]
  },
  {
   "cell_type": "markdown",
   "id": "8d899a9b-600a-4ce3-b68a-2f1a467a3eb2",
   "metadata": {},
   "source": [
    "#### » Import \"wilcoxon\" which used for a non-parametric two sample dependent test"
   ]
  },
  {
   "cell_type": "code",
   "execution_count": 24,
   "id": "716c7b57-75b6-4180-bfa1-d8a27364acf9",
   "metadata": {},
   "outputs": [
    {
     "data": {
      "text/plain": [
       "WilcoxonResult(statistic=np.float64(50.0), pvalue=np.float64(0.0001736766107530094))"
      ]
     },
     "execution_count": 24,
     "metadata": {},
     "output_type": "execute_result"
    }
   ],
   "source": [
    "from scipy.stats import wilcoxon\n",
    "wilcoxon(AB.A, AB.B)"
   ]
  }
 ],
 "metadata": {
  "kernelspec": {
   "display_name": "Python [conda env:base] *",
   "language": "python",
   "name": "conda-base-py"
  },
  "language_info": {
   "codemirror_mode": {
    "name": "ipython",
    "version": 3
   },
   "file_extension": ".py",
   "mimetype": "text/x-python",
   "name": "python",
   "nbconvert_exporter": "python",
   "pygments_lexer": "ipython3",
   "version": "3.13.5"
  }
 },
 "nbformat": 4,
 "nbformat_minor": 5
}

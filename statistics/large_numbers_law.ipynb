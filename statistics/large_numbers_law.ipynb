{
 "cells": [
  {
   "cell_type": "markdown",
   "id": "3852f966-ba49-4490-9f45-2bb14e3fdf3e",
   "metadata": {},
   "source": [
    "# 🔢 Large Numbers Law\n",
    "It is a probability theorem that defines the long-term stability of a random variable.\n",
    "\n",
    "---"
   ]
  },
  {
   "cell_type": "markdown",
   "id": "31f95a9a-9a12-457e-8aad-d0ba77299a45",
   "metadata": {},
   "source": [
    "#### » Import Numpy library"
   ]
  },
  {
   "cell_type": "code",
   "execution_count": 1,
   "id": "114ce53c-5026-4069-b172-d85cc4960924",
   "metadata": {},
   "outputs": [],
   "source": [
    "import numpy as np"
   ]
  },
  {
   "cell_type": "markdown",
   "id": "314ee2c3-212f-4f0b-a31a-15eb8ad0e268",
   "metadata": {},
   "source": [
    "#### » Create a random number generator with seed=123 for reproducible results"
   ]
  },
  {
   "cell_type": "code",
   "execution_count": 2,
   "id": "aa587332-fc47-4fe8-92f0-b6018af7ae8d",
   "metadata": {},
   "outputs": [],
   "source": [
    "range_ = np.random.RandomState(123)"
   ]
  },
  {
   "cell_type": "markdown",
   "id": "bb37703b-e062-4d3f-864c-c3220a63f5c1",
   "metadata": {},
   "source": [
    "#### » Perform repeated coin-flip simulations with increasing trials, calculate the mean probability of heads, and display how it converges to 50% as the number of experiments grows"
   ]
  },
  {
   "cell_type": "code",
   "execution_count": 14,
   "id": "baea45d1-feea-4259-af71-38716035255f",
   "metadata": {},
   "outputs": [
    {
     "name": "stdout",
     "output_type": "stream",
     "text": [
      "Number of shout: 2            --->    Probability: %0.00\n",
      "Number of shout: 4            --->    Probability: %50.00\n",
      "Number of shout: 8            --->    Probability: %37.50\n",
      "Number of shout: 16           --->    Probability: %50.00\n",
      "Number of shout: 32           --->    Probability: %59.38\n",
      "Number of shout: 64           --->    Probability: %57.81\n",
      "Number of shout: 128          --->    Probability: %55.47\n",
      "Number of shout: 256          --->    Probability: %54.69\n",
      "Number of shout: 512          --->    Probability: %51.76\n",
      "Number of shout: 1024         --->    Probability: %49.12\n",
      "Number of shout: 2048         --->    Probability: %50.44\n",
      "Number of shout: 4096         --->    Probability: %49.85\n",
      "Number of shout: 8192         --->    Probability: %50.63\n",
      "Number of shout: 16384        --->    Probability: %50.18\n",
      "Number of shout: 32768        --->    Probability: %49.66\n",
      "Number of shout: 65536        --->    Probability: %49.84\n",
      "Number of shout: 131072       --->    Probability: %49.88\n",
      "Number of shout: 262144       --->    Probability: %50.14\n",
      "Number of shout: 524288       --->    Probability: %50.01\n",
      "Number of shout: 1048576      --->    Probability: %50.01\n",
      "Number of shout: 2097152      --->    Probability: %50.00\n",
      "Number of shout: 4194304      --->    Probability: %50.00\n",
      "Number of shout: 8388608      --->    Probability: %50.01\n",
      "Number of shout: 16777216     --->    Probability: %49.99\n",
      "Number of shout: 33554432     --->    Probability: %49.99\n",
      "Number of shout: 67108864     --->    Probability: %50.00\n",
      "Number of shout: 134217728    --->    Probability: %50.01\n",
      "Number of shout: 268435456    --->    Probability: %50.00\n",
      "Number of shout: 536870912    --->    Probability: %50.00\n",
      "Number of shout: 1073741824   --->    Probability: %50.00\n"
     ]
    }
   ],
   "source": [
    "for i in range(1,31):\n",
    "    num_exp = 2 ** i\n",
    "    list_probability = range_.randint(0,2,size=num_exp)\n",
    "    mean_probability = np.mean(list_probability)\n",
    "    print(\"Number of shout: {:<12} --->    Probability: %{:.2f}\".format(num_exp, mean_probability * 100))"
   ]
  }
 ],
 "metadata": {
  "kernelspec": {
   "display_name": "Python [conda env:base] *",
   "language": "python",
   "name": "conda-base-py"
  },
  "language_info": {
   "codemirror_mode": {
    "name": "ipython",
    "version": 3
   },
   "file_extension": ".py",
   "mimetype": "text/x-python",
   "name": "python",
   "nbconvert_exporter": "python",
   "pygments_lexer": "ipython3",
   "version": "3.13.5"
  }
 },
 "nbformat": 4,
 "nbformat_minor": 5
}

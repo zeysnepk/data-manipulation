{
 "cells": [
  {
   "cell_type": "code",
   "execution_count": 2,
   "id": "36e8ea4e-03c6-4580-904f-6c2b5733e39c",
   "metadata": {},
   "outputs": [],
   "source": [
    "from scipy.stats import bernoulli"
   ]
  },
  {
   "cell_type": "code",
   "execution_count": 3,
   "id": "0db5c1f4-5b41-4b02-a174-7ec64228e6b6",
   "metadata": {},
   "outputs": [],
   "source": [
    "p = 0.6 #probability"
   ]
  },
  {
   "cell_type": "code",
   "execution_count": 7,
   "id": "12f4eae4-1264-4f21-b2e4-01513f3b38b0",
   "metadata": {},
   "outputs": [],
   "source": [
    "ber = bernoulli(p)"
   ]
  },
  {
   "cell_type": "code",
   "execution_count": 8,
   "id": "ff1f3dc1-2b61-4363-a286-00933cb7b8f3",
   "metadata": {},
   "outputs": [
    {
     "data": {
      "text/plain": [
       "np.float64(0.6)"
      ]
     },
     "execution_count": 8,
     "metadata": {},
     "output_type": "execute_result"
    }
   ],
   "source": [
    "ber.pmf(k=1) #probability mass function"
   ]
  },
  {
   "cell_type": "code",
   "execution_count": 10,
   "id": "247298c4-5818-415e-b8a7-72a3f77704c5",
   "metadata": {},
   "outputs": [
    {
     "data": {
      "text/plain": [
       "np.float64(0.3999999999999999)"
      ]
     },
     "execution_count": 10,
     "metadata": {},
     "output_type": "execute_result"
    }
   ],
   "source": [
    "ber.pmf(k=0) #0.4 "
   ]
  },
  {
   "cell_type": "code",
   "execution_count": null,
   "id": "2a5a908e-67b7-4ea1-abdc-e2694d6cf991",
   "metadata": {},
   "outputs": [],
   "source": []
  }
 ],
 "metadata": {
  "kernelspec": {
   "display_name": "Python [conda env:base] *",
   "language": "python",
   "name": "conda-base-py"
  },
  "language_info": {
   "codemirror_mode": {
    "name": "ipython",
    "version": 3
   },
   "file_extension": ".py",
   "mimetype": "text/x-python",
   "name": "python",
   "nbconvert_exporter": "python",
   "pygments_lexer": "ipython3",
   "version": "3.13.5"
  }
 },
 "nbformat": 4,
 "nbformat_minor": 5
}

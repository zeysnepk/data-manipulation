{
 "cells": [
  {
   "cell_type": "markdown",
   "id": "8efe5086-cb27-468f-b320-673faefb56a6",
   "metadata": {},
   "source": [
    "# 🦚 Bernoulli Distibution\n",
    "A discrete probability distribution used for two-outcome events.\n",
    "\n",
    "$P(X = x) = p^x (1-p)^{1-x}, \\quad x \\in \\{0,1\\}$\n",
    "\n",
    "- $p$ : probability of success ($0 \\leq p \\leq 1$)  \n",
    "- $1-p$ : probability of failure  \n",
    "- $x$ : outcome (1 = success, 0 = failure)  \n",
    "\n",
    "**Expected Value (Mean)**\n",
    "\n",
    "$E[X] = p$\n",
    "\n",
    "**Variance**\n",
    "\n",
    "$Var(X) = p(1-p)$\n",
    "\n",
    "---\n"
   ]
  },
  {
   "cell_type": "markdown",
   "id": "57bd754f-61d9-443e-8e9e-a6457f03204f",
   "metadata": {},
   "source": [
    "#### » Import \"bernoulli\" of the \"scipy\" library "
   ]
  },
  {
   "cell_type": "code",
   "execution_count": 5,
   "id": "36e8ea4e-03c6-4580-904f-6c2b5733e39c",
   "metadata": {},
   "outputs": [],
   "source": [
    "from scipy.stats import bernoulli"
   ]
  },
  {
   "cell_type": "markdown",
   "id": "a9c0e15b-a855-40b2-9f31-14446d1504e9",
   "metadata": {},
   "source": [
    "#### » Assign a value to probability variable"
   ]
  },
  {
   "cell_type": "code",
   "execution_count": 6,
   "id": "0db5c1f4-5b41-4b02-a174-7ec64228e6b6",
   "metadata": {},
   "outputs": [],
   "source": [
    "p = 0.6 # probability"
   ]
  },
  {
   "cell_type": "markdown",
   "id": "e164f84f-7030-41a2-9c80-e2650fb4752a",
   "metadata": {},
   "source": [
    "#### » Assign the p to bernoulli module which imported above"
   ]
  },
  {
   "cell_type": "code",
   "execution_count": 7,
   "id": "12f4eae4-1264-4f21-b2e4-01513f3b38b0",
   "metadata": {},
   "outputs": [],
   "source": [
    "ber = bernoulli(p)"
   ]
  },
  {
   "cell_type": "markdown",
   "id": "e613d618-3977-4208-8f2a-3e4afaf7055d",
   "metadata": {},
   "source": [
    "#### » Calculate the probability mass function"
   ]
  },
  {
   "cell_type": "code",
   "execution_count": 10,
   "id": "ff1f3dc1-2b61-4363-a286-00933cb7b8f3",
   "metadata": {},
   "outputs": [
    {
     "data": {
      "text/plain": [
       "np.float64(0.6)"
      ]
     },
     "execution_count": 10,
     "metadata": {},
     "output_type": "execute_result"
    }
   ],
   "source": [
    "ber.pmf(k=1) "
   ]
  },
  {
   "cell_type": "code",
   "execution_count": 11,
   "id": "247298c4-5818-415e-b8a7-72a3f77704c5",
   "metadata": {},
   "outputs": [
    {
     "data": {
      "text/plain": [
       "np.float64(0.3999999999999999)"
      ]
     },
     "execution_count": 11,
     "metadata": {},
     "output_type": "execute_result"
    }
   ],
   "source": [
    "ber.pmf(k=0) # 1-p"
   ]
  }
 ],
 "metadata": {
  "kernelspec": {
   "display_name": "Python [conda env:base] *",
   "language": "python",
   "name": "conda-base-py"
  },
  "language_info": {
   "codemirror_mode": {
    "name": "ipython",
    "version": 3
   },
   "file_extension": ".py",
   "mimetype": "text/x-python",
   "name": "python",
   "nbconvert_exporter": "python",
   "pygments_lexer": "ipython3",
   "version": "3.13.5"
  }
 },
 "nbformat": 4,
 "nbformat_minor": 5
}

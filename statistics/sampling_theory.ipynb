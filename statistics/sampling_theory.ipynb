{
 "cells": [
  {
   "cell_type": "markdown",
   "id": "8a31b03d-6c5e-452d-beb4-6d9152eca88a",
   "metadata": {},
   "source": [
    "# 👯‍♂️ Sampling Theory"
   ]
  },
  {
   "cell_type": "markdown",
   "id": "dfb1be78-3bef-4938-86a4-dcdf93186b5f",
   "metadata": {},
   "source": [
    "Application: Select a sample of 100 people from a population of 100,000 and find the population mean.\n",
    "\n",
    "---"
   ]
  },
  {
   "cell_type": "markdown",
   "id": "abd5e0a7-0ad4-4a05-89a4-bac015df591c",
   "metadata": {},
   "source": [
    "#### » Generate a array of 100,000 random integers between 0 and 80 to simulate ages of a population and display the first 10 values to preview the data"
   ]
  },
  {
   "cell_type": "code",
   "execution_count": 3,
   "id": "24cecc81-79b4-44d9-9224-665b5efbcd57",
   "metadata": {},
   "outputs": [],
   "source": [
    "import numpy as np\n",
    "population = np.random.randint(0,80,100000) # the ages of a population\n",
    "population[0:10]"
   ]
  },
  {
   "cell_type": "markdown",
   "id": "8351715a-661d-4835-ab6e-cdfcebc11d48",
   "metadata": {},
   "source": [
    "#### » Take a reproducible random sample of 100 ages from the population and previews the first 10 values.  "
   ]
  },
  {
   "cell_type": "code",
   "execution_count": null,
   "id": "46635f01-7c90-4cae-bdaf-17e60aaffd4e",
   "metadata": {},
   "outputs": [],
   "source": [
    "np.random.seed(115) # it provides the unchancing random values for every call\n",
    "sample = np.random.choice(a=population,size=100)\n",
    "sample[0:10]"
   ]
  },
  {
   "cell_type": "markdown",
   "id": "809eef20-23fc-4050-8833-8f49b2866325",
   "metadata": {},
   "source": [
    "#### » The mean age of the sample that consists of 100 ages"
   ]
  },
  {
   "cell_type": "code",
   "execution_count": 20,
   "id": "907a365b-b58f-4bcf-b001-21e5a7b119dc",
   "metadata": {},
   "outputs": [
    {
     "data": {
      "text/plain": [
       "np.float64(39.96)"
      ]
     },
     "execution_count": 20,
     "metadata": {},
     "output_type": "execute_result"
    }
   ],
   "source": [
    "sample.mean()"
   ]
  },
  {
   "cell_type": "markdown",
   "id": "3a5af69c-dee5-4ee4-9391-35fc982f88b1",
   "metadata": {},
   "source": [
    "#### » The mean age of a population of 100,000 "
   ]
  },
  {
   "cell_type": "code",
   "execution_count": 21,
   "id": "81a308db-b3dc-45ce-9c0b-fe73ea0fdc5f",
   "metadata": {},
   "outputs": [
    {
     "data": {
      "text/plain": [
       "np.float64(39.46728)"
      ]
     },
     "execution_count": 21,
     "metadata": {},
     "output_type": "execute_result"
    }
   ],
   "source": [
    "population.mean()"
   ]
  },
  {
   "cell_type": "markdown",
   "id": "2f34c61e-f58a-4c93-a4a0-8062344ee67b",
   "metadata": {},
   "source": [
    "#### » A function to create random samples with a given sample count"
   ]
  },
  {
   "cell_type": "code",
   "execution_count": 26,
   "id": "2a6934ba-cc6a-4c6f-a5dd-e482f2eeedd3",
   "metadata": {
    "scrolled": true
   },
   "outputs": [],
   "source": [
    "np.random.seed(10)\n",
    "def random_samples(size=10):\n",
    "    s = []\n",
    "    for i in range(size):\n",
    "        s.append(np.random.choice(a=population, size=size))\n",
    "    return s"
   ]
  },
  {
   "cell_type": "markdown",
   "id": "e897377f-9053-4e89-8979-dfe0f597b387",
   "metadata": {},
   "source": [
    "#### » The mean of the first sample"
   ]
  },
  {
   "cell_type": "code",
   "execution_count": 30,
   "id": "54d0a24f-26eb-4ab2-bbea-8fa0760138a3",
   "metadata": {},
   "outputs": [
    {
     "data": {
      "text/plain": [
       "np.float64(45.1)"
      ]
     },
     "execution_count": 30,
     "metadata": {},
     "output_type": "execute_result"
    }
   ],
   "source": [
    "samples = random_samples()\n",
    "samples[0].mean()"
   ]
  },
  {
   "cell_type": "markdown",
   "id": "8298efea-14ab-4c35-aea9-62bda83462e2",
   "metadata": {},
   "source": [
    "#### » The mean of the third sample"
   ]
  },
  {
   "cell_type": "code",
   "execution_count": 31,
   "id": "30b97b8c-76b6-418c-bdc7-764f72dc8484",
   "metadata": {},
   "outputs": [
    {
     "data": {
      "text/plain": [
       "np.float64(37.7)"
      ]
     },
     "execution_count": 31,
     "metadata": {},
     "output_type": "execute_result"
    }
   ],
   "source": [
    "samples[2].mean()"
   ]
  },
  {
   "cell_type": "markdown",
   "id": "9030cb57-7446-4bb0-a22d-415d9cd409c9",
   "metadata": {},
   "source": [
    "#### » The more precisesly mean value can obtain with overall means of all "
   ]
  },
  {
   "cell_type": "code",
   "execution_count": 32,
   "id": "cbfa34ea-c122-4c49-93a6-b3558854ae8c",
   "metadata": {},
   "outputs": [
    {
     "data": {
      "text/plain": [
       "np.float64(36.64)"
      ]
     },
     "execution_count": 32,
     "metadata": {},
     "output_type": "execute_result"
    }
   ],
   "source": [
    "sum_of_mean=0\n",
    "for i in samples:\n",
    "    sum_of_mean += i.mean()\n",
    "sum_of_mean / 10"
   ]
  },
  {
   "cell_type": "markdown",
   "id": "d0f3d76d-3b1e-49f4-9af9-2c9faad71396",
   "metadata": {},
   "source": [
    "#### » If the sample is getting bigger, mean value can be more close to population mean"
   ]
  },
  {
   "cell_type": "code",
   "execution_count": 34,
   "id": "248f21a3-a7b2-4f8f-9761-0f22bb214225",
   "metadata": {},
   "outputs": [
    {
     "data": {
      "text/plain": [
       "np.float64(39.9212)"
      ]
     },
     "execution_count": 34,
     "metadata": {},
     "output_type": "execute_result"
    }
   ],
   "source": [
    "samples = random_samples(100)\n",
    "sum_of_mean=0\n",
    "for i in samples:\n",
    "    sum_of_mean += i.mean()\n",
    "sum_of_mean / 100"
   ]
  }
 ],
 "metadata": {
  "kernelspec": {
   "display_name": "Python [conda env:base] *",
   "language": "python",
   "name": "conda-base-py"
  },
  "language_info": {
   "codemirror_mode": {
    "name": "ipython",
    "version": 3
   },
   "file_extension": ".py",
   "mimetype": "text/x-python",
   "name": "python",
   "nbconvert_exporter": "python",
   "pygments_lexer": "ipython3",
   "version": "3.13.5"
  }
 },
 "nbformat": 4,
 "nbformat_minor": 5
}

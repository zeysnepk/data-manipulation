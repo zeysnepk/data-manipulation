{
 "cells": [
  {
   "cell_type": "markdown",
   "id": "7c1bdc6d-e17d-4329-b8be-e6bfe88c149e",
   "metadata": {},
   "source": [
    "# 🪙 Normal / Gaussian Distribution\n",
    "It is used to calculate the probability of the continuous random variables which distributes normal.\n",
    "\n",
    "$f(x) = \\frac{1}{\\sigma \\sqrt{2\\pi}} \\; e^{ -\\frac{(x - \\mu)^2}{2\\sigma^2} }, \\quad \\text{where } -\\infty < x < \\infty$\n",
    "\n",
    "- $x$ : continuous random variable\n",
    "- $\\mu$ : mean  \n",
    "- $\\sigma^2$ : variance  \n",
    "- $\\sigma$ : standard deviation\n",
    "- $\\pi$ : Pi value $( \\pi \\approx 3.1416)$\n",
    "- $e$ : Euler constant $( e \\approx 2.718)$\n",
    "- $X$ : continuous random variable which distributes normal\n",
    "---"
   ]
  },
  {
   "cell_type": "markdown",
   "id": "4e2d1bb9-cd12-4958-8e1a-82fcf02d3d48",
   "metadata": {},
   "source": [
    "**Problem**:  It is wanted to determine the probability of achieving specific sales targets before the meeting. The distribution is knowned as normal. The monthly average of sales count is 80k and standard deaviation is 5k. Based on these values, what is the probability of making sales greater than 90k?"
   ]
  },
  {
   "cell_type": "code",
   "execution_count": 5,
   "id": "d5ed8422-5a7f-4b45-ad4f-665dcdeec6f5",
   "metadata": {},
   "outputs": [],
   "source": [
    "from scipy.stats import norm"
   ]
  },
  {
   "cell_type": "markdown",
   "id": "833d1b66-de8b-4675-a3dc-17e945971011",
   "metadata": {},
   "source": [
    "#### » Probability of being greater than 90"
   ]
  },
  {
   "cell_type": "code",
   "execution_count": 10,
   "id": "4b5ec8d0-01f3-435e-8e32-789f5fdcbffe",
   "metadata": {},
   "outputs": [
    {
     "data": {
      "text/plain": [
       "np.float64(0.02275013194817921)"
      ]
     },
     "execution_count": 10,
     "metadata": {},
     "output_type": "execute_result"
    }
   ],
   "source": [
    "1-norm.cdf(90, 80, 5) # Cumulative distribution function, x=90, mean=80, standard deviation=5"
   ]
  },
  {
   "cell_type": "markdown",
   "id": "f8956789-ba14-43ed-a020-2e7baf381dfb",
   "metadata": {},
   "source": [
    "#### » Probability of being greater than 70"
   ]
  },
  {
   "cell_type": "code",
   "execution_count": 7,
   "id": "ce9c2642-ab9e-4f16-9ae9-bbadebd2c8bc",
   "metadata": {},
   "outputs": [
    {
     "data": {
      "text/plain": [
       "np.float64(0.9772498680518208)"
      ]
     },
     "execution_count": 7,
     "metadata": {},
     "output_type": "execute_result"
    }
   ],
   "source": [
    "1-norm.cdf(70, 80, 5)"
   ]
  },
  {
   "cell_type": "markdown",
   "id": "8f8767a3-fe5a-4609-bf8f-2e6506b24796",
   "metadata": {},
   "source": [
    "#### » Probability of being less than 73"
   ]
  },
  {
   "cell_type": "code",
   "execution_count": 8,
   "id": "f87e811a-c874-45a3-91a1-1c8e142d6d89",
   "metadata": {},
   "outputs": [
    {
     "data": {
      "text/plain": [
       "np.float64(0.08075665923377107)"
      ]
     },
     "execution_count": 8,
     "metadata": {},
     "output_type": "execute_result"
    }
   ],
   "source": [
    "norm.cdf(73, 80, 5)"
   ]
  },
  {
   "cell_type": "markdown",
   "id": "e4fa49dd-35e5-42d9-a7ed-31720e4e21ed",
   "metadata": {},
   "source": [
    "#### » Probability of being less than 90 and greater than 85"
   ]
  },
  {
   "cell_type": "code",
   "execution_count": 9,
   "id": "3962ad7e-96c5-4b98-9757-00aa7539bc65",
   "metadata": {},
   "outputs": [
    {
     "data": {
      "text/plain": [
       "np.float64(0.13590512198327787)"
      ]
     },
     "execution_count": 9,
     "metadata": {},
     "output_type": "execute_result"
    }
   ],
   "source": [
    "norm.cdf(90, 80, 5) - norm.cdf(85, 80, 5) "
   ]
  }
 ],
 "metadata": {
  "kernelspec": {
   "display_name": "Python [conda env:base] *",
   "language": "python",
   "name": "conda-base-py"
  },
  "language_info": {
   "codemirror_mode": {
    "name": "ipython",
    "version": 3
   },
   "file_extension": ".py",
   "mimetype": "text/x-python",
   "name": "python",
   "nbconvert_exporter": "python",
   "pygments_lexer": "ipython3",
   "version": "3.13.5"
  }
 },
 "nbformat": 4,
 "nbformat_minor": 5
}

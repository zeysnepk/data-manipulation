{
 "cells": [
  {
   "cell_type": "code",
   "execution_count": 1,
   "id": "a2becb16-2f0b-4e32-b9f4-2c55d68826db",
   "metadata": {},
   "outputs": [],
   "source": [
    "import numpy as np\n",
    "import pandas as pd"
   ]
  },
  {
   "cell_type": "code",
   "execution_count": 73,
   "id": "8c59e56d-c238-4084-b33c-285ac35f9877",
   "metadata": {},
   "outputs": [],
   "source": [
    "A = pd.DataFrame(np.random.normal(loc=30,scale=10,size=20).astype(int))"
   ]
  },
  {
   "cell_type": "code",
   "execution_count": 113,
   "id": "0aaf4b1e-44d8-42ac-8dad-11a91f0b3180",
   "metadata": {},
   "outputs": [],
   "source": [
    "B = pd.DataFrame(np.random.normal(loc=38,scale=5,size=20).astype(int))"
   ]
  },
  {
   "cell_type": "code",
   "execution_count": 109,
   "id": "53136fe7-0470-4bae-90e5-9c9dec97bde5",
   "metadata": {},
   "outputs": [],
   "source": [
    "C = pd.DataFrame(np.random.normal(loc=35,scale=10,size=20).astype(int))"
   ]
  },
  {
   "cell_type": "code",
   "execution_count": 114,
   "id": "ec32435c-b9a6-4c37-87f4-6be0544df81d",
   "metadata": {},
   "outputs": [],
   "source": [
    "ABC = pd.concat([A,B,C], axis=1)\n",
    "ABC.columns = [\"group_A\", \"group_B\", \"group_C\"]"
   ]
  },
  {
   "cell_type": "code",
   "execution_count": 105,
   "id": "4cedcf1b-4240-4b0f-9d42-4f079b007dfb",
   "metadata": {},
   "outputs": [
    {
     "data": {
      "text/html": [
       "<div>\n",
       "<style scoped>\n",
       "    .dataframe tbody tr th:only-of-type {\n",
       "        vertical-align: middle;\n",
       "    }\n",
       "\n",
       "    .dataframe tbody tr th {\n",
       "        vertical-align: top;\n",
       "    }\n",
       "\n",
       "    .dataframe thead th {\n",
       "        text-align: right;\n",
       "    }\n",
       "</style>\n",
       "<table border=\"1\" class=\"dataframe\">\n",
       "  <thead>\n",
       "    <tr style=\"text-align: right;\">\n",
       "      <th></th>\n",
       "      <th>group_A</th>\n",
       "      <th>group_B</th>\n",
       "      <th>group_C</th>\n",
       "    </tr>\n",
       "  </thead>\n",
       "  <tbody>\n",
       "    <tr>\n",
       "      <th>0</th>\n",
       "      <td>19</td>\n",
       "      <td>36</td>\n",
       "      <td>31</td>\n",
       "    </tr>\n",
       "    <tr>\n",
       "      <th>1</th>\n",
       "      <td>15</td>\n",
       "      <td>36</td>\n",
       "      <td>34</td>\n",
       "    </tr>\n",
       "    <tr>\n",
       "      <th>2</th>\n",
       "      <td>12</td>\n",
       "      <td>43</td>\n",
       "      <td>36</td>\n",
       "    </tr>\n",
       "    <tr>\n",
       "      <th>3</th>\n",
       "      <td>49</td>\n",
       "      <td>41</td>\n",
       "      <td>35</td>\n",
       "    </tr>\n",
       "    <tr>\n",
       "      <th>4</th>\n",
       "      <td>24</td>\n",
       "      <td>41</td>\n",
       "      <td>34</td>\n",
       "    </tr>\n",
       "  </tbody>\n",
       "</table>\n",
       "</div>"
      ],
      "text/plain": [
       "   group_A  group_B  group_C\n",
       "0       19       36       31\n",
       "1       15       36       34\n",
       "2       12       43       36\n",
       "3       49       41       35\n",
       "4       24       41       34"
      ]
     },
     "execution_count": 105,
     "metadata": {},
     "output_type": "execute_result"
    }
   ],
   "source": [
    "ABC.head()"
   ]
  },
  {
   "cell_type": "code",
   "execution_count": 75,
   "id": "7d10f8cc-16f2-4a4c-ab11-e997e07e2ae3",
   "metadata": {},
   "outputs": [
    {
     "data": {
      "text/plain": [
       "ShapiroResult(statistic=np.float64(0.959272736372697), pvalue=np.float64(0.5294243831615408))"
      ]
     },
     "execution_count": 75,
     "metadata": {},
     "output_type": "execute_result"
    }
   ],
   "source": [
    "#Normality Assumption\n",
    "from scipy.stats import shapiro\n",
    "shapiro(ABC.group_A)"
   ]
  },
  {
   "cell_type": "code",
   "execution_count": 115,
   "id": "a6309da7-5884-4812-913d-10649136f8d6",
   "metadata": {},
   "outputs": [
    {
     "data": {
      "text/plain": [
       "ShapiroResult(statistic=np.float64(0.9721767456365942), pvalue=np.float64(0.8000258828220166))"
      ]
     },
     "execution_count": 115,
     "metadata": {},
     "output_type": "execute_result"
    }
   ],
   "source": [
    "shapiro(ABC.group_B)"
   ]
  },
  {
   "cell_type": "code",
   "execution_count": 111,
   "id": "8f6bbd0f-700a-47e7-a715-2ded8f7363e6",
   "metadata": {},
   "outputs": [
    {
     "data": {
      "text/plain": [
       "ShapiroResult(statistic=np.float64(0.941147962635303), pvalue=np.float64(0.2520424344997825))"
      ]
     },
     "execution_count": 111,
     "metadata": {},
     "output_type": "execute_result"
    }
   ],
   "source": [
    "shapiro(ABC.group_C)"
   ]
  },
  {
   "cell_type": "code",
   "execution_count": 116,
   "id": "c495855e-2262-445a-b6c8-3ad8596fcf2c",
   "metadata": {},
   "outputs": [
    {
     "data": {
      "text/plain": [
       "LeveneResult(statistic=np.float64(2.905581395348836), pvalue=np.float64(0.06286134024650653))"
      ]
     },
     "execution_count": 116,
     "metadata": {},
     "output_type": "execute_result"
    }
   ],
   "source": [
    "#Variance Homogenity Assumption\n",
    "from scipy.stats import levene\n",
    "levene(ABC.group_A, ABC.group_B, ABC.group_C)"
   ]
  },
  {
   "cell_type": "code",
   "execution_count": 119,
   "id": "73cf06f3-1f14-4c94-b655-1e44bf6546eb",
   "metadata": {},
   "outputs": [],
   "source": [
    "#hypothesis test\n",
    "from scipy.stats import f_oneway\n",
    "p = f_oneway(ABC.group_A, ABC.group_B, ABC.group_C)"
   ]
  },
  {
   "cell_type": "code",
   "execution_count": 121,
   "id": "8df6173c-912d-41f5-a59f-2b696a3862f1",
   "metadata": {},
   "outputs": [
    {
     "name": "stdout",
     "output_type": "stream",
     "text": [
      "p = 0.00005\n"
     ]
    }
   ],
   "source": [
    "print(\"p = {:.5f}\".format(p[1]))"
   ]
  },
  {
   "cell_type": "code",
   "execution_count": 124,
   "id": "985f31da-95a7-43a9-97ab-28a6d338d18f",
   "metadata": {},
   "outputs": [
    {
     "data": {
      "text/plain": [
       "<Axes: >"
      ]
     },
     "execution_count": 124,
     "metadata": {},
     "output_type": "execute_result"
    },
    {
     "data": {
      "image/png": "[encoded data removed]",
      "text/plain": [
       "<Figure size 640x480 with 1 Axes>"
      ]
     },
     "metadata": {},
     "output_type": "display_data"
    }
   ],
   "source": [
    "import seaborn as sns\n",
    "sns.boxplot(ABC)"
   ]
  },
  {
   "cell_type": "code",
   "execution_count": 125,
   "id": "5775c5db-416f-42b6-bda2-168a3956748b",
   "metadata": {},
   "outputs": [
    {
     "data": {
      "text/html": [
       "<div>\n",
       "<style scoped>\n",
       "    .dataframe tbody tr th:only-of-type {\n",
       "        vertical-align: middle;\n",
       "    }\n",
       "\n",
       "    .dataframe tbody tr th {\n",
       "        vertical-align: top;\n",
       "    }\n",
       "\n",
       "    .dataframe thead th {\n",
       "        text-align: right;\n",
       "    }\n",
       "</style>\n",
       "<table border=\"1\" class=\"dataframe\">\n",
       "  <thead>\n",
       "    <tr style=\"text-align: right;\">\n",
       "      <th></th>\n",
       "      <th>count</th>\n",
       "      <th>mean</th>\n",
       "      <th>std</th>\n",
       "      <th>min</th>\n",
       "      <th>25%</th>\n",
       "      <th>50%</th>\n",
       "      <th>75%</th>\n",
       "      <th>max</th>\n",
       "    </tr>\n",
       "  </thead>\n",
       "  <tbody>\n",
       "    <tr>\n",
       "      <th>group_A</th>\n",
       "      <td>20.0</td>\n",
       "      <td>25.45</td>\n",
       "      <td>9.046517</td>\n",
       "      <td>12.0</td>\n",
       "      <td>18.75</td>\n",
       "      <td>24.5</td>\n",
       "      <td>30.75</td>\n",
       "      <td>49.0</td>\n",
       "    </tr>\n",
       "    <tr>\n",
       "      <th>group_B</th>\n",
       "      <td>20.0</td>\n",
       "      <td>39.15</td>\n",
       "      <td>4.637093</td>\n",
       "      <td>32.0</td>\n",
       "      <td>35.75</td>\n",
       "      <td>39.0</td>\n",
       "      <td>43.00</td>\n",
       "      <td>49.0</td>\n",
       "    </tr>\n",
       "    <tr>\n",
       "      <th>group_C</th>\n",
       "      <td>20.0</td>\n",
       "      <td>32.20</td>\n",
       "      <td>11.678140</td>\n",
       "      <td>7.0</td>\n",
       "      <td>28.75</td>\n",
       "      <td>33.5</td>\n",
       "      <td>38.00</td>\n",
       "      <td>55.0</td>\n",
       "    </tr>\n",
       "  </tbody>\n",
       "</table>\n",
       "</div>"
      ],
      "text/plain": [
       "         count   mean        std   min    25%   50%    75%   max\n",
       "group_A   20.0  25.45   9.046517  12.0  18.75  24.5  30.75  49.0\n",
       "group_B   20.0  39.15   4.637093  32.0  35.75  39.0  43.00  49.0\n",
       "group_C   20.0  32.20  11.678140   7.0  28.75  33.5  38.00  55.0"
      ]
     },
     "execution_count": 125,
     "metadata": {},
     "output_type": "execute_result"
    }
   ],
   "source": [
    "ABC.describe().T"
   ]
  },
  {
   "cell_type": "code",
   "execution_count": 128,
   "id": "5dec142c-5c80-48d8-9bf4-5eaa7fd8ecfc",
   "metadata": {},
   "outputs": [],
   "source": [
    "#Nonparametric Hypothesis Test\n",
    "from scipy.stats import kruskal\n",
    "pv = kruskal(ABC.group_A, ABC.group_B, ABC.group_C)"
   ]
  },
  {
   "cell_type": "code",
   "execution_count": 129,
   "id": "8c35e6b8-835f-46d4-99a5-d1d2b92b968a",
   "metadata": {},
   "outputs": [
    {
     "name": "stdout",
     "output_type": "stream",
     "text": [
      "p = 0.00001\n"
     ]
    }
   ],
   "source": [
    "print(\"p = {:.5f}\".format(pv[1]))"
   ]
  },
  {
   "cell_type": "code",
   "execution_count": null,
   "id": "a7aa535d-8d6b-4ad6-99e7-db33ca5bc042",
   "metadata": {},
   "outputs": [],
   "source": []
  }
 ],
 "metadata": {
  "kernelspec": {
   "display_name": "Python [conda env:base] *",
   "language": "python",
   "name": "conda-base-py"
  },
  "language_info": {
   "codemirror_mode": {
    "name": "ipython",
    "version": 3
   },
   "file_extension": ".py",
   "mimetype": "text/x-python",
   "name": "python",
   "nbconvert_exporter": "python",
   "pygments_lexer": "ipython3",
   "version": "3.13.5"
  }
 },
 "nbformat": 4,
 "nbformat_minor": 5
}

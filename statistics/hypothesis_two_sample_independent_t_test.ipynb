{
 "cells": [
  {
   "cell_type": "markdown",
   "id": "25b92df8-0f43-403f-bf19-3a60e1d6c130",
   "metadata": {},
   "source": [
    "# 2️⃣  Two-Sample Independent t-Test | Independent Samples t-Test\n",
    "This hypothesis is used to test the comparison between the averages of two independent groups.\n",
    "\n",
    "**Hypotheses**\n",
    "\n",
    "$H0 : \\mu_1 = \\mu_2 \\quad|\\quad H1 : \\mu_1 \\neq \\mu_2$\n",
    "\n",
    "$H0 : \\mu_1 >= \\mu_2 \\quad |\\quad H_1 : \\mu_1 < \\mu_2$\n",
    "\n",
    "$H0 : \\mu_1 <= \\mu_2 \\quad |\\quad H_1 : \\mu_1 > \\mu_2$\n",
    "\n",
    "\n",
    "**Test Statistics (three cases):**\n",
    "\n",
    "1. **Equal variances, equal sample sizes ($n_1 = n_2$):**\n",
    "\n",
    "   $t = \\frac{\\bar{X}_1 - \\bar{X}_2}{s_p \\sqrt{\\frac{2}{n}}}$\n",
    "\n",
    "\n",
    "   with the pooled variance estimate:  \n",
    "   $s_p = \\sqrt{\\frac{s_1^2 + s_2^2}{2}}$\n",
    "\n",
    "3. **Equal variances, unequal sample sizes ($n_1 \\neq n_2$):**\n",
    "\n",
    "   $t = \\frac{\\bar{X}_1 - \\bar{X}_2}{s_p \\sqrt{\\frac{1}{n_1} + \\frac{1}{n_2}}}$\n",
    "\n",
    "   with the pooled variance estimate:  \n",
    "   $s_p = \\sqrt{\\frac{(n_1 - 1)s_1^2 + (n_2 - 1)s_2^2}{n_1 + n_2 - 2}}$\n",
    "\n",
    "4. **Unequal variances (Welch’s t-test):**\n",
    "\n",
    "   $t = \\frac{\\bar{X}_1 - \\bar{X}_2}{\\sqrt{\\frac{s_1^2}{n_1} + \\frac{s_2^2}{n_2}}}$\n",
    "\n",
    "\n",
    "- $\\bar{X}_1, \\bar{X}_2$: Sample means  \n",
    "- $s_1^2, s_2^2$: Sample variances  \n",
    "- $n_1, n_2$: Sample sizes  \n",
    "- $s_p^2$: Pooled variance estimate  \n",
    "\n",
    "**Assumptions:**\n",
    "- Normality: Each group is approximately normally distributed.    \n",
    "- Homogeneity of variances: Required for pooled $t$-test (cases 1 and 2).  \n",
    "  - If this assumption is violated → use Welch’s test (case 3).  \n",
    "\n",
    "---\n"
   ]
  },
  {
   "cell_type": "markdown",
   "id": "3ed50a39-bce1-4dbc-a31d-174633238ae6",
   "metadata": {},
   "source": [
    "**Problem**: A system has been integrated with machine learning. The system before machine learning is A, and the new system is B. They want us to test whether there is a revenue difference between systems A and B after the prediction is generated."
   ]
  },
  {
   "cell_type": "markdown",
   "id": "f374c57b-6dc9-4162-bec4-9cca84c7f01e",
   "metadata": {},
   "source": [
    "#### » Import required data liblaries and create arrays to simulate groups"
   ]
  },
  {
   "cell_type": "code",
   "execution_count": 82,
   "id": "f3b86142-52b1-4f85-a847-890619712441",
   "metadata": {},
   "outputs": [],
   "source": [
    "import pandas as pd\n",
    "import numpy as np\n",
    "group_A = pd.DataFrame(np.random.randint(19,36,30))\n",
    "group_B = pd.DataFrame(np.random.randint(19,40,30))"
   ]
  },
  {
   "cell_type": "markdown",
   "id": "f8109950-5b72-4821-a4ab-f878d1dde3e5",
   "metadata": {},
   "source": [
    "### ! Data is generally provided in two types:"
   ]
  },
  {
   "cell_type": "markdown",
   "id": "d7df12c6-756b-43d6-af18-2516e7d83ac3",
   "metadata": {},
   "source": [
    "#### Data Type 1"
   ]
  },
  {
   "cell_type": "code",
   "execution_count": 83,
   "id": "b51d378b-b12a-4373-9713-7e28db67969a",
   "metadata": {},
   "outputs": [
    {
     "data": {
      "text/html": [
       "<div>\n",
       "<style scoped>\n",
       "    .dataframe tbody tr th:only-of-type {\n",
       "        vertical-align: middle;\n",
       "    }\n",
       "\n",
       "    .dataframe tbody tr th {\n",
       "        vertical-align: top;\n",
       "    }\n",
       "\n",
       "    .dataframe thead th {\n",
       "        text-align: right;\n",
       "    }\n",
       "</style>\n",
       "<table border=\"1\" class=\"dataframe\">\n",
       "  <thead>\n",
       "    <tr style=\"text-align: right;\">\n",
       "      <th></th>\n",
       "      <th>A</th>\n",
       "      <th>B</th>\n",
       "    </tr>\n",
       "  </thead>\n",
       "  <tbody>\n",
       "    <tr>\n",
       "      <th>0</th>\n",
       "      <td>27</td>\n",
       "      <td>30</td>\n",
       "    </tr>\n",
       "    <tr>\n",
       "      <th>1</th>\n",
       "      <td>33</td>\n",
       "      <td>32</td>\n",
       "    </tr>\n",
       "    <tr>\n",
       "      <th>2</th>\n",
       "      <td>30</td>\n",
       "      <td>32</td>\n",
       "    </tr>\n",
       "    <tr>\n",
       "      <th>3</th>\n",
       "      <td>27</td>\n",
       "      <td>19</td>\n",
       "    </tr>\n",
       "    <tr>\n",
       "      <th>4</th>\n",
       "      <td>21</td>\n",
       "      <td>35</td>\n",
       "    </tr>\n",
       "  </tbody>\n",
       "</table>\n",
       "</div>"
      ],
      "text/plain": [
       "    A   B\n",
       "0  27  30\n",
       "1  33  32\n",
       "2  30  32\n",
       "3  27  19\n",
       "4  21  35"
      ]
     },
     "execution_count": 83,
     "metadata": {},
     "output_type": "execute_result"
    }
   ],
   "source": [
    "groups = pd.concat([group_A, group_B], axis=1)\n",
    "groups.columns = [\"A\",\"B\"]\n",
    "groups.head()"
   ]
  },
  {
   "cell_type": "markdown",
   "id": "54ca17a5-9506-432a-92e3-69634122bb44",
   "metadata": {},
   "source": [
    "#### Data Type 2"
   ]
  },
  {
   "cell_type": "code",
   "execution_count": 84,
   "id": "92572dc3-333c-4ddf-b005-efd362aaa5f8",
   "metadata": {},
   "outputs": [
    {
     "data": {
      "text/html": [
       "<div>\n",
       "<style scoped>\n",
       "    .dataframe tbody tr th:only-of-type {\n",
       "        vertical-align: middle;\n",
       "    }\n",
       "\n",
       "    .dataframe tbody tr th {\n",
       "        vertical-align: top;\n",
       "    }\n",
       "\n",
       "    .dataframe thead th {\n",
       "        text-align: right;\n",
       "    }\n",
       "</style>\n",
       "<table border=\"1\" class=\"dataframe\">\n",
       "  <thead>\n",
       "    <tr style=\"text-align: right;\">\n",
       "      <th></th>\n",
       "      <th>income</th>\n",
       "      <th>group</th>\n",
       "    </tr>\n",
       "  </thead>\n",
       "  <tbody>\n",
       "    <tr>\n",
       "      <th>0</th>\n",
       "      <td>27</td>\n",
       "      <td>A</td>\n",
       "    </tr>\n",
       "    <tr>\n",
       "      <th>1</th>\n",
       "      <td>33</td>\n",
       "      <td>A</td>\n",
       "    </tr>\n",
       "    <tr>\n",
       "      <th>2</th>\n",
       "      <td>30</td>\n",
       "      <td>A</td>\n",
       "    </tr>\n",
       "    <tr>\n",
       "      <th>3</th>\n",
       "      <td>27</td>\n",
       "      <td>A</td>\n",
       "    </tr>\n",
       "    <tr>\n",
       "      <th>4</th>\n",
       "      <td>21</td>\n",
       "      <td>A</td>\n",
       "    </tr>\n",
       "  </tbody>\n",
       "</table>\n",
       "</div>"
      ],
      "text/plain": [
       "   income group\n",
       "0      27     A\n",
       "1      33     A\n",
       "2      30     A\n",
       "3      27     A\n",
       "4      21     A"
      ]
     },
     "execution_count": 84,
     "metadata": {},
     "output_type": "execute_result"
    }
   ],
   "source": [
    "groupA = pd.DataFrame(np.arange(len(group_A)))\n",
    "groupA[groupA.columns] = \"A\"\n",
    "A = pd.concat([group_A, groupA],axis=1)\n",
    "\n",
    "groupB = pd.DataFrame(np.arange(len(group_B)))\n",
    "groupB[groupB.columns] = \"B\"\n",
    "B = pd.concat([group_B, groupB],axis=1)\n",
    "\n",
    "AB = pd.concat([A,B])\n",
    "AB.columns = [\"income\", \"group\"]\n",
    "AB.head()"
   ]
  },
  {
   "cell_type": "code",
   "execution_count": 85,
   "id": "ddb54c99-aaf1-485a-9e44-90ad32ab7c95",
   "metadata": {},
   "outputs": [
    {
     "data": {
      "text/html": [
       "<div>\n",
       "<style scoped>\n",
       "    .dataframe tbody tr th:only-of-type {\n",
       "        vertical-align: middle;\n",
       "    }\n",
       "\n",
       "    .dataframe tbody tr th {\n",
       "        vertical-align: top;\n",
       "    }\n",
       "\n",
       "    .dataframe thead th {\n",
       "        text-align: right;\n",
       "    }\n",
       "</style>\n",
       "<table border=\"1\" class=\"dataframe\">\n",
       "  <thead>\n",
       "    <tr style=\"text-align: right;\">\n",
       "      <th></th>\n",
       "      <th>income</th>\n",
       "      <th>group</th>\n",
       "    </tr>\n",
       "  </thead>\n",
       "  <tbody>\n",
       "    <tr>\n",
       "      <th>25</th>\n",
       "      <td>32</td>\n",
       "      <td>B</td>\n",
       "    </tr>\n",
       "    <tr>\n",
       "      <th>26</th>\n",
       "      <td>22</td>\n",
       "      <td>B</td>\n",
       "    </tr>\n",
       "    <tr>\n",
       "      <th>27</th>\n",
       "      <td>34</td>\n",
       "      <td>B</td>\n",
       "    </tr>\n",
       "    <tr>\n",
       "      <th>28</th>\n",
       "      <td>33</td>\n",
       "      <td>B</td>\n",
       "    </tr>\n",
       "    <tr>\n",
       "      <th>29</th>\n",
       "      <td>26</td>\n",
       "      <td>B</td>\n",
       "    </tr>\n",
       "  </tbody>\n",
       "</table>\n",
       "</div>"
      ],
      "text/plain": [
       "    income group\n",
       "25      32     B\n",
       "26      22     B\n",
       "27      34     B\n",
       "28      33     B\n",
       "29      26     B"
      ]
     },
     "execution_count": 85,
     "metadata": {},
     "output_type": "execute_result"
    }
   ],
   "source": [
    "AB.tail()"
   ]
  },
  {
   "cell_type": "markdown",
   "id": "b12310a0-4c5c-4417-a7b9-0a7d398e4289",
   "metadata": {},
   "source": [
    "#### » Visualize the data with boxplot to see the overall observation"
   ]
  },
  {
   "cell_type": "code",
   "execution_count": 86,
   "id": "f919f889-202b-4065-949d-0bf63921b707",
   "metadata": {},
   "outputs": [
    {
     "data": {
      "text/plain": [
       "<Axes: >"
      ]
     },
     "execution_count": 86,
     "metadata": {},
     "output_type": "execute_result"
    },
    {
     "data": {
      "image/png": "[encoded data removed]",
      "text/plain": [
       "<Figure size 640x480 with 1 Axes>"
      ]
     },
     "metadata": {},
     "output_type": "display_data"
    }
   ],
   "source": [
    "import seaborn as sns\n",
    "sns.boxplot(groups)"
   ]
  },
  {
   "cell_type": "markdown",
   "id": "897f7903-d1e2-4abc-b1b5-30edd0cd38b7",
   "metadata": {},
   "source": [
    "### Normality Assumption\n",
    "##### H0: There is no difference between the sample distribution and the theoretical normal distribution.(Normally distributed)\n",
    "##### H1: There is \""
   ]
  },
  {
   "cell_type": "code",
   "execution_count": 87,
   "id": "71d1d90b-f46d-45cb-bcfa-8dc758fbd5b9",
   "metadata": {},
   "outputs": [
    {
     "data": {
      "text/plain": [
       "ShapiroResult(statistic=np.float64(0.9429535878105091), pvalue=np.float64(0.10925541383560197))"
      ]
     },
     "execution_count": 87,
     "metadata": {},
     "output_type": "execute_result"
    }
   ],
   "source": [
    "from scipy.stats import shapiro\n",
    "shapiro(groups.A)"
   ]
  },
  {
   "cell_type": "code",
   "execution_count": 88,
   "id": "8e41ef48-dde4-4064-ac03-9f751d4fd7e2",
   "metadata": {},
   "outputs": [
    {
     "data": {
      "text/plain": [
       "ShapiroResult(statistic=np.float64(0.9677906692362914), pvalue=np.float64(0.480629509405764))"
      ]
     },
     "execution_count": 88,
     "metadata": {},
     "output_type": "execute_result"
    }
   ],
   "source": [
    "shapiro(groups.B)"
   ]
  },
  {
   "cell_type": "markdown",
   "id": "8500b6af-a1af-4dca-9ffa-1af93ba3a215",
   "metadata": {},
   "source": [
    "Based on the results above, both A and B group's p values are greater than 0.05 so H0 can not rejected. All groups distributed normally, the assumption has been confirmed."
   ]
  },
  {
   "cell_type": "markdown",
   "id": "91159945-5603-45e1-a2f8-84246ab4fc45",
   "metadata": {},
   "source": [
    "### Variance Homogenity Assumption\n",
    "##### H0: Variances are homogen\n",
    "##### H1: Variances is not homogen"
   ]
  },
  {
   "cell_type": "code",
   "execution_count": 89,
   "id": "dd8fd51e-4985-4ded-9958-30727a30d97c",
   "metadata": {},
   "outputs": [
    {
     "data": {
      "text/plain": [
       "LeveneResult(statistic=np.float64(0.018068535825545205), pvalue=np.float64(0.8935364274167643))"
      ]
     },
     "execution_count": 89,
     "metadata": {},
     "output_type": "execute_result"
    }
   ],
   "source": [
    "from scipy.stats import levene\n",
    "levene(groups.A, groups.B)"
   ]
  },
  {
   "cell_type": "markdown",
   "id": "d20cfe93-3739-45bd-9e42-62ab73d9932b",
   "metadata": {},
   "source": [
    "Based on the results above, since the pvalue is greater than 0.05, H0 can not rejected. The assumption has been confirmed."
   ]
  },
  {
   "cell_type": "markdown",
   "id": "5c0f73ad-e6f0-4b55-ba65-5cf053458a23",
   "metadata": {},
   "source": [
    "### Hypothesis Test\n",
    "##### $H0 : \\mu_1 = \\mu_2$ (There is no difference between old system(A) and new system(B))\n",
    "##### $H1 : \\mu_1 \\neq \\mu_2$ (There is ..)"
   ]
  },
  {
   "cell_type": "code",
   "execution_count": 90,
   "id": "e8450a86-3615-4ef6-a899-6d689d1c623a",
   "metadata": {},
   "outputs": [
    {
     "data": {
      "text/plain": [
       "TtestResult(statistic=np.float64(-2.4256037230694862), pvalue=np.float64(0.018415473346688513), df=np.float64(58.0))"
      ]
     },
     "execution_count": 90,
     "metadata": {},
     "output_type": "execute_result"
    }
   ],
   "source": [
    "from scipy.stats import ttest_ind\n",
    "ttest_ind(groups[\"A\"], groups[\"B\"], equal_var=True)"
   ]
  },
  {
   "cell_type": "markdown",
   "id": "68166371-0f85-4fc6-875d-45f2ac2f1611",
   "metadata": {},
   "source": [
    "Based on the results above, since the pvalue lower than 0.05, H0 is rejected and thats mean There is the difference between systems and we can say that the new system(B) is more useful by looking the boxplot graphs because on that graph the B's box is higher."
   ]
  },
  {
   "cell_type": "markdown",
   "id": "df84a2c3-0dd0-4695-bc64-87ada0b003a2",
   "metadata": {},
   "source": [
    "### ! If assumptions hadn't been confirmed, Non-parametric Two Sample Independent Test would have been used. "
   ]
  },
  {
   "cell_type": "markdown",
   "id": "167cf5af-cfa8-48ee-a150-c5ed80a9a0fb",
   "metadata": {},
   "source": [
    "#### » Import \"mannwhitneyu\" which used for a non-parametric two sample independent test"
   ]
  },
  {
   "cell_type": "code",
   "execution_count": 91,
   "id": "39390bee-0ce7-4736-9a8e-d06362881c8f",
   "metadata": {},
   "outputs": [
    {
     "data": {
      "text/plain": [
       "MannwhitneyuResult(statistic=np.float64(291.5), pvalue=np.float64(0.01920599030707209))"
      ]
     },
     "execution_count": 91,
     "metadata": {},
     "output_type": "execute_result"
    }
   ],
   "source": [
    "from scipy.stats import mannwhitneyu\n",
    "mannwhitneyu(groups[\"A\"], groups[\"B\"])"
   ]
  }
 ],
 "metadata": {
  "kernelspec": {
   "display_name": "Python [conda env:base] *",
   "language": "python",
   "name": "conda-base-py"
  },
  "language_info": {
   "codemirror_mode": {
    "name": "ipython",
    "version": 3
   },
   "file_extension": ".py",
   "mimetype": "text/x-python",
   "name": "python",
   "nbconvert_exporter": "python",
   "pygments_lexer": "ipython3",
   "version": "3.13.5"
  }
 },
 "nbformat": 4,
 "nbformat_minor": 5
}

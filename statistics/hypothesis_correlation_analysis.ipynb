{
 "cells": [
  {
   "cell_type": "markdown",
   "id": "8e4107b6-d995-46d3-8b9e-b6f39c7877be",
   "metadata": {},
   "source": [
    "# 🍩 Correlation Analysis\n",
    "This hypothesis is used to test whether there is a correlation between variables and to determine the direction and strength of the relationship.\n",
    "\n",
    "**Hypotheses**\n",
    "\n",
    "$H_0 : \\rho = 0$ (no linear correlation in the population)  \n",
    "$H_1 : \\rho \\neq 0$ (a linear correlation exists)  \n",
    "\n",
    "**Test Statistic**\n",
    "  \n",
    "$t = \\frac{r \\sqrt{n-2}}{\\sqrt{1 - r^2}}$\n",
    "\n",
    "where correlation coefficient (sample):\n",
    "\n",
    "$r = \\frac{\\sum_{i=1}^{n} (X_i - \\bar{X})(Y_i - \\bar{Y})}{\\sqrt{\\sum_{i=1}^{n} (X_i - \\bar{X})^2 \\; \\sum_{i=1}^{n} (Y_i - \\bar{Y})^2}}$\n",
    "\n",
    "- $r$: Sample correlation coefficient  \n",
    "- $\\rho$: Population correlation coefficient  \n",
    "- $n$: Sample size  \n",
    "- $\\bar{X}, \\bar{Y}$: Sample means of $X$ and $Y$  \n",
    "- $t$: Test statistic for significance of correlation  \n",
    "\n",
    "**Assumptions:**\n",
    "- Both $X$ and $Y$ are continuous and approximately normally distributed.\n",
    "    - If this assumption holds → use Pearson correlation coefficient\n",
    "    - If not → use Spearman rank correlation coefficient (non-parametric alternative)\n",
    "\n",
    "---\n"
   ]
  },
  {
   "attachments": {},
   "cell_type": "markdown",
   "id": "6d2e3a23-8abf-4382-bf49-cd81dcbba189",
   "metadata": {},
   "source": [
    "![graph.png](correlation.jpg)"
   ]
  },
  {
   "cell_type": "markdown",
   "id": "35908f6e-c04d-493f-ab7f-009ef5636947",
   "metadata": {},
   "source": [
    "**Problem**: Test whether there is a correlation between the tips and total bill in the \"tips\" dataset."
   ]
  },
  {
   "cell_type": "markdown",
   "id": "5a74309d-cc61-49e2-b11e-63e416884e94",
   "metadata": {},
   "source": [
    "#### » Import the \"seaborn\" to load tips dataset"
   ]
  },
  {
   "cell_type": "code",
   "execution_count": 2,
   "id": "7f2336fb-3d21-4f51-ae6a-474f10da53e0",
   "metadata": {},
   "outputs": [
    {
     "data": {
      "text/html": [
       "<div>\n",
       "<style scoped>\n",
       "    .dataframe tbody tr th:only-of-type {\n",
       "        vertical-align: middle;\n",
       "    }\n",
       "\n",
       "    .dataframe tbody tr th {\n",
       "        vertical-align: top;\n",
       "    }\n",
       "\n",
       "    .dataframe thead th {\n",
       "        text-align: right;\n",
       "    }\n",
       "</style>\n",
       "<table border=\"1\" class=\"dataframe\">\n",
       "  <thead>\n",
       "    <tr style=\"text-align: right;\">\n",
       "      <th></th>\n",
       "      <th>total_bill</th>\n",
       "      <th>tip</th>\n",
       "      <th>sex</th>\n",
       "      <th>smoker</th>\n",
       "      <th>day</th>\n",
       "      <th>time</th>\n",
       "      <th>size</th>\n",
       "    </tr>\n",
       "  </thead>\n",
       "  <tbody>\n",
       "    <tr>\n",
       "      <th>0</th>\n",
       "      <td>16.99</td>\n",
       "      <td>1.01</td>\n",
       "      <td>Female</td>\n",
       "      <td>No</td>\n",
       "      <td>Sun</td>\n",
       "      <td>Dinner</td>\n",
       "      <td>2</td>\n",
       "    </tr>\n",
       "    <tr>\n",
       "      <th>1</th>\n",
       "      <td>10.34</td>\n",
       "      <td>1.66</td>\n",
       "      <td>Male</td>\n",
       "      <td>No</td>\n",
       "      <td>Sun</td>\n",
       "      <td>Dinner</td>\n",
       "      <td>3</td>\n",
       "    </tr>\n",
       "    <tr>\n",
       "      <th>2</th>\n",
       "      <td>21.01</td>\n",
       "      <td>3.50</td>\n",
       "      <td>Male</td>\n",
       "      <td>No</td>\n",
       "      <td>Sun</td>\n",
       "      <td>Dinner</td>\n",
       "      <td>3</td>\n",
       "    </tr>\n",
       "    <tr>\n",
       "      <th>3</th>\n",
       "      <td>23.68</td>\n",
       "      <td>3.31</td>\n",
       "      <td>Male</td>\n",
       "      <td>No</td>\n",
       "      <td>Sun</td>\n",
       "      <td>Dinner</td>\n",
       "      <td>2</td>\n",
       "    </tr>\n",
       "    <tr>\n",
       "      <th>4</th>\n",
       "      <td>24.59</td>\n",
       "      <td>3.61</td>\n",
       "      <td>Female</td>\n",
       "      <td>No</td>\n",
       "      <td>Sun</td>\n",
       "      <td>Dinner</td>\n",
       "      <td>4</td>\n",
       "    </tr>\n",
       "  </tbody>\n",
       "</table>\n",
       "</div>"
      ],
      "text/plain": [
       "   total_bill   tip     sex smoker  day    time  size\n",
       "0       16.99  1.01  Female     No  Sun  Dinner     2\n",
       "1       10.34  1.66    Male     No  Sun  Dinner     3\n",
       "2       21.01  3.50    Male     No  Sun  Dinner     3\n",
       "3       23.68  3.31    Male     No  Sun  Dinner     2\n",
       "4       24.59  3.61  Female     No  Sun  Dinner     4"
      ]
     },
     "execution_count": 2,
     "metadata": {},
     "output_type": "execute_result"
    }
   ],
   "source": [
    "import seaborn as sns\n",
    "tips = sns.load_dataset(\"tips\")\n",
    "tips.head()"
   ]
  },
  {
   "cell_type": "markdown",
   "id": "cd2ceaab-5d1a-480c-9d17-a34cada271ff",
   "metadata": {},
   "source": [
    "#### » Remove the ‘tip’ column from the “total_bill” column, because it has already been added to the “total_bill” column"
   ]
  },
  {
   "cell_type": "code",
   "execution_count": 3,
   "id": "a96a1674-28a0-426d-8202-10d148093a9e",
   "metadata": {},
   "outputs": [
    {
     "data": {
      "text/html": [
       "<div>\n",
       "<style scoped>\n",
       "    .dataframe tbody tr th:only-of-type {\n",
       "        vertical-align: middle;\n",
       "    }\n",
       "\n",
       "    .dataframe tbody tr th {\n",
       "        vertical-align: top;\n",
       "    }\n",
       "\n",
       "    .dataframe thead th {\n",
       "        text-align: right;\n",
       "    }\n",
       "</style>\n",
       "<table border=\"1\" class=\"dataframe\">\n",
       "  <thead>\n",
       "    <tr style=\"text-align: right;\">\n",
       "      <th></th>\n",
       "      <th>total_bill</th>\n",
       "      <th>tip</th>\n",
       "      <th>sex</th>\n",
       "      <th>smoker</th>\n",
       "      <th>day</th>\n",
       "      <th>time</th>\n",
       "      <th>size</th>\n",
       "    </tr>\n",
       "  </thead>\n",
       "  <tbody>\n",
       "    <tr>\n",
       "      <th>0</th>\n",
       "      <td>15.98</td>\n",
       "      <td>1.01</td>\n",
       "      <td>Female</td>\n",
       "      <td>No</td>\n",
       "      <td>Sun</td>\n",
       "      <td>Dinner</td>\n",
       "      <td>2</td>\n",
       "    </tr>\n",
       "    <tr>\n",
       "      <th>1</th>\n",
       "      <td>8.68</td>\n",
       "      <td>1.66</td>\n",
       "      <td>Male</td>\n",
       "      <td>No</td>\n",
       "      <td>Sun</td>\n",
       "      <td>Dinner</td>\n",
       "      <td>3</td>\n",
       "    </tr>\n",
       "    <tr>\n",
       "      <th>2</th>\n",
       "      <td>17.51</td>\n",
       "      <td>3.50</td>\n",
       "      <td>Male</td>\n",
       "      <td>No</td>\n",
       "      <td>Sun</td>\n",
       "      <td>Dinner</td>\n",
       "      <td>3</td>\n",
       "    </tr>\n",
       "    <tr>\n",
       "      <th>3</th>\n",
       "      <td>20.37</td>\n",
       "      <td>3.31</td>\n",
       "      <td>Male</td>\n",
       "      <td>No</td>\n",
       "      <td>Sun</td>\n",
       "      <td>Dinner</td>\n",
       "      <td>2</td>\n",
       "    </tr>\n",
       "    <tr>\n",
       "      <th>4</th>\n",
       "      <td>20.98</td>\n",
       "      <td>3.61</td>\n",
       "      <td>Female</td>\n",
       "      <td>No</td>\n",
       "      <td>Sun</td>\n",
       "      <td>Dinner</td>\n",
       "      <td>4</td>\n",
       "    </tr>\n",
       "  </tbody>\n",
       "</table>\n",
       "</div>"
      ],
      "text/plain": [
       "   total_bill   tip     sex smoker  day    time  size\n",
       "0       15.98  1.01  Female     No  Sun  Dinner     2\n",
       "1        8.68  1.66    Male     No  Sun  Dinner     3\n",
       "2       17.51  3.50    Male     No  Sun  Dinner     3\n",
       "3       20.37  3.31    Male     No  Sun  Dinner     2\n",
       "4       20.98  3.61  Female     No  Sun  Dinner     4"
      ]
     },
     "execution_count": 3,
     "metadata": {},
     "output_type": "execute_result"
    }
   ],
   "source": [
    "tips[\"total_bill\"] -= tips[\"tip\"]\n",
    "tips.head()"
   ]
  },
  {
   "cell_type": "markdown",
   "id": "05bd9906-5f4d-4e49-bdbd-32868a136857",
   "metadata": {},
   "source": [
    "#### » Draw a \"scatter\" to observe the overall correlation between tips and total bill amount"
   ]
  },
  {
   "cell_type": "code",
   "execution_count": 4,
   "id": "9768545b-9d6e-46fe-ada9-a09b2ae68140",
   "metadata": {},
   "outputs": [
    {
     "data": {
      "text/plain": [
       "<Axes: xlabel='tip', ylabel='total_bill'>"
      ]
     },
     "execution_count": 4,
     "metadata": {},
     "output_type": "execute_result"
    },
    {
     "data": {
      "image/png": "[encoded data removed]",
      "text/plain": [
       "<Figure size 640x480 with 1 Axes>"
      ]
     },
     "metadata": {},
     "output_type": "display_data"
    }
   ],
   "source": [
    "tips.plot.scatter(\"tip\",\"total_bill\")"
   ]
  },
  {
   "cell_type": "markdown",
   "id": "e04d8122-e384-4e15-9ab0-aa880957e252",
   "metadata": {},
   "source": [
    "### Normality Assumption\n",
    "##### H0: There is no difference between the sample distribution and the theoretical normal distribution.(Normally distributed)\n",
    "##### H1: There is difference \""
   ]
  },
  {
   "cell_type": "code",
   "execution_count": 7,
   "id": "7c015f4a-ee02-4b6f-9032-6b8702ee2d42",
   "metadata": {},
   "outputs": [
    {
     "data": {
      "text/plain": [
       "ShapiroResult(statistic=np.float64(0.8978110496018736), pvalue=np.float64(8.200360128656659e-12))"
      ]
     },
     "execution_count": 7,
     "metadata": {},
     "output_type": "execute_result"
    }
   ],
   "source": [
    "from scipy.stats import shapiro\n",
    "shapiro(tips[\"tip\"])"
   ]
  },
  {
   "cell_type": "code",
   "execution_count": 11,
   "id": "59ff15a9-78cc-46f3-a48d-040bd7c40ac3",
   "metadata": {},
   "outputs": [
    {
     "name": "stdout",
     "output_type": "stream",
     "text": [
      "p = 0.000000000008200\n"
     ]
    }
   ],
   "source": [
    "p1 = shapiro(tips[\"tip\"])\n",
    "print(\"p = {:.15f}\".format(p1[1]))"
   ]
  },
  {
   "cell_type": "code",
   "execution_count": 12,
   "id": "13978322-3068-4602-9091-05e834a147af",
   "metadata": {},
   "outputs": [
    {
     "name": "stdout",
     "output_type": "stream",
     "text": [
      "p = 0.000000000110594\n"
     ]
    }
   ],
   "source": [
    "p1 = shapiro(tips[\"total_bill\"])\n",
    "print(\"p = {:.15f}\".format(p1[1]))"
   ]
  },
  {
   "cell_type": "markdown",
   "id": "9dbd7952-5c66-419d-89e1-88ca10cf0af0",
   "metadata": {},
   "source": [
    "Since both p-values are less than 0.05, H0 is rejected. This means that the data does not follow a normal distribution, and the normality assumption is not confirmed."
   ]
  },
  {
   "cell_type": "markdown",
   "id": "2755fb7b-8855-4051-8d81-506168cc75fc",
   "metadata": {},
   "source": [
    "### Hypothesis Test\n",
    "$H_0 : \\rho = 0$ (no linear correlation in the population)  \n",
    "$H_1 : \\rho \\neq 0$ (a linear correlation exists) \n",
    "\n",
    "There is two way to test: Pearson and Spearman"
   ]
  },
  {
   "cell_type": "markdown",
   "id": "1585125b-84f2-403f-835a-325eeac9aaf3",
   "metadata": {},
   "source": [
    "#### Pearson Correlation Coefficient (Parametric Method)"
   ]
  },
  {
   "cell_type": "code",
   "execution_count": 14,
   "id": "4c3e4d20-544c-4b29-8760-281e61bd1736",
   "metadata": {},
   "outputs": [
    {
     "data": {
      "text/plain": [
       "np.float64(0.5766634471096374)"
      ]
     },
     "execution_count": 14,
     "metadata": {},
     "output_type": "execute_result"
    }
   ],
   "source": [
    "tips[\"tip\"].corr(tips[\"total_bill\"])"
   ]
  },
  {
   "cell_type": "markdown",
   "id": "7066330c-f0d5-4e4e-a963-d8ecbbd181ca",
   "metadata": {},
   "source": [
    "The result indicates a moderately positive correlation(≈0.6)."
   ]
  },
  {
   "cell_type": "markdown",
   "id": "98e1b926-b8d5-4939-99d4-677b3315fa4c",
   "metadata": {},
   "source": [
    "##### Pearson Correlation Significance Test"
   ]
  },
  {
   "cell_type": "code",
   "execution_count": 27,
   "id": "0540bad7-3775-4a4c-8694-1ec569a3a4b7",
   "metadata": {},
   "outputs": [
    {
     "name": "stdout",
     "output_type": "stream",
     "text": [
      "Correlation Coefficient = 0.5767 , p = 0.0000\n"
     ]
    }
   ],
   "source": [
    "from scipy.stats import pearsonr\n",
    "pval = pearsonr(tips[\"tip\"], tips[\"total_bill\"])\n",
    "print(\"Correlation Coefficient = {:.4f} , p = {:.4f}\".format(pval[0],pval[1]))"
   ]
  },
  {
   "cell_type": "markdown",
   "id": "a02d2b41-b63b-4719-a936-dccd88e91089",
   "metadata": {},
   "source": [
    "Since p-value is less than 0.05, H0 is rejected. This indicates that there is a linear correlation between the variables and it is a positive(≈0.58) correlation. "
   ]
  },
  {
   "cell_type": "markdown",
   "id": "2e6100de-b101-48c2-8a38-ef25abe35b8b",
   "metadata": {},
   "source": [
    "### ! Since the normality assumption is not confirmed, Spearman method should be used."
   ]
  },
  {
   "cell_type": "markdown",
   "id": "8150f34c-f859-4a25-9d33-a394c138a5af",
   "metadata": {},
   "source": [
    "#### Spearman Rank Correlation Coefficient (Non-parametric Method)"
   ]
  },
  {
   "cell_type": "code",
   "execution_count": 15,
   "id": "ffc318af-5d9e-4135-bf8a-92cd19d88fd7",
   "metadata": {},
   "outputs": [
    {
     "data": {
      "text/plain": [
       "np.float64(0.593691939408997)"
      ]
     },
     "execution_count": 15,
     "metadata": {},
     "output_type": "execute_result"
    }
   ],
   "source": [
    "tips[\"tip\"].corr(tips[\"total_bill\"], method=\"spearman\")"
   ]
  },
  {
   "cell_type": "markdown",
   "id": "ce5c4190-341b-4f95-84e1-a5ceee195cae",
   "metadata": {},
   "source": [
    "The result indicates a moderately positive correlation(≈0.6)."
   ]
  },
  {
   "cell_type": "markdown",
   "id": "36f1e3f8-4426-4818-8352-2647cc68aba1",
   "metadata": {},
   "source": [
    "##### Spearman Correlation Significance Test"
   ]
  },
  {
   "cell_type": "code",
   "execution_count": 30,
   "id": "6750e6e8-9415-4974-b346-b3403dd0994f",
   "metadata": {},
   "outputs": [
    {
     "name": "stdout",
     "output_type": "stream",
     "text": [
      "Correlation Coefficient = 0.5937 , p = 0.00000\n"
     ]
    }
   ],
   "source": [
    "from scipy.stats import spearmanr\n",
    "pv = spearmanr(tips[\"tip\"], tips[\"total_bill\"])\n",
    "print(\"Correlation Coefficient = {:.4f} , p = {:.5f}\".format(pv[0],pv[1]))"
   ]
  },
  {
   "cell_type": "markdown",
   "id": "fd48cbea-a239-4519-9675-3f0a3dbe0166",
   "metadata": {},
   "source": [
    "Since p-value is less than 0.05, H0 is rejected. This indicates that there is a linear correlation between the variables and it is a positive(≈0.59) correlation. "
   ]
  },
  {
   "cell_type": "markdown",
   "id": "e3e161d8-323c-4a4b-b7cc-0f5b0779327d",
   "metadata": {},
   "source": [
    "##### Bonus Correlation Significance Test"
   ]
  },
  {
   "cell_type": "code",
   "execution_count": 33,
   "id": "59398720-08e3-470a-8112-8024234d6d87",
   "metadata": {},
   "outputs": [
    {
     "name": "stdout",
     "output_type": "stream",
     "text": [
      "Correlation Coefficient = 0.4401 , p = 0.00000\n"
     ]
    }
   ],
   "source": [
    "from scipy.stats import kendalltau\n",
    "pv2 = kendalltau(tips[\"tip\"], tips[\"total_bill\"])\n",
    "print(\"Correlation Coefficient = {:.4f} , p = {:.5f}\".format(pv2[0],pv2[1]))"
   ]
  },
  {
   "cell_type": "markdown",
   "id": "35cf6b56-349c-4e52-85b9-0d8f3773f803",
   "metadata": {},
   "source": [
    "Since p-value is less than 0.05, H0 is rejected. This indicates that there is a linear correlation between the variables and it is a positive(≈0.59) correlation. "
   ]
  }
 ],
 "metadata": {
  "kernelspec": {
   "display_name": "Python [conda env:base] *",
   "language": "python",
   "name": "conda-base-py"
  },
  "language_info": {
   "codemirror_mode": {
    "name": "ipython",
    "version": 3
   },
   "file_extension": ".py",
   "mimetype": "text/x-python",
   "name": "python",
   "nbconvert_exporter": "python",
   "pygments_lexer": "ipython3",
   "version": "3.13.5"
  }
 },
 "nbformat": 4,
 "nbformat_minor": 5
}

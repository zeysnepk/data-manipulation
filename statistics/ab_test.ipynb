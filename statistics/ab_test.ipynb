{
 "cells": [
  {
   "cell_type": "code",
   "execution_count": 3,
   "id": "8dbbdec7-a4c5-4757-9797-3698beaea5b2",
   "metadata": {},
   "outputs": [],
   "source": [
    "from statsmodels.stats.proportion import proportions_ztest\n",
    "import numpy as np"
   ]
  },
  {
   "cell_type": "code",
   "execution_count": 4,
   "id": "019e8708-6bc8-4e41-8868-f140e2eb3932",
   "metadata": {},
   "outputs": [],
   "source": [
    "number_success = np.array([300,250])\n",
    "number_observation = np.array([1000,1100])"
   ]
  },
  {
   "cell_type": "code",
   "execution_count": 6,
   "id": "20cba25c-ac75-47e1-85c5-6f85b36add49",
   "metadata": {},
   "outputs": [
    {
     "data": {
      "text/plain": [
       "(np.float64(3.7857863233209255), np.float64(0.00015322329577722207))"
      ]
     },
     "execution_count": 6,
     "metadata": {},
     "output_type": "execute_result"
    }
   ],
   "source": [
    "proportions_ztest(count=number_success, nobs=number_observation)"
   ]
  },
  {
   "cell_type": "code",
   "execution_count": 7,
   "id": "c02d7495-66a9-4fd9-b9ab-352282fb6610",
   "metadata": {},
   "outputs": [],
   "source": [
    "#since pvalue 0.05, Ho cannot be rejected"
   ]
  }
 ],
 "metadata": {
  "kernelspec": {
   "display_name": "Python [conda env:base] *",
   "language": "python",
   "name": "conda-base-py"
  },
  "language_info": {
   "codemirror_mode": {
    "name": "ipython",
    "version": 3
   },
   "file_extension": ".py",
   "mimetype": "text/x-python",
   "name": "python",
   "nbconvert_exporter": "python",
   "pygments_lexer": "ipython3",
   "version": "3.13.5"
  }
 },
 "nbformat": 4,
 "nbformat_minor": 5
}

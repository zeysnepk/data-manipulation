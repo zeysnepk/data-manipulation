{
 "cells": [
  {
   "cell_type": "markdown",
   "id": "6753efe6-2101-4c6a-835c-133b661013a5",
   "metadata": {},
   "source": [
    "# 🐿️ One Sample Proportion Test\n",
    "This hypothesis is used to test the proportional expression.\n",
    "\n",
    "**Hypotheses**\n",
    "\n",
    "$H0 : P = P_0 \\quad|\\quad H1 : P \\neq P_0$\n",
    "\n",
    "$H0 : P >= P_0 \\quad |\\quad H_1 : P < P_0$\n",
    "\n",
    "$H0 : P <= P_0 \\quad |\\quad H_1 : P > P_0$\n",
    "\n",
    "\n",
    "**Test Statistic:**\n",
    "  \n",
    "$z = \\frac{\\hat{p} - p_0}{\\sqrt{\\frac{p_0(1 - p_0)}{n}}}$\n",
    "\n",
    "- $\\hat{p} = \\frac{x}{n}$: Sample proportion ($x$ = number of successes, $n$ = sample size)  \n",
    "- $p_0$: Hypothesized population proportion  \n",
    "- $n$: Sample size  \n",
    "- $z$: Test statistic, approximately standard normal under $H_0$  \n",
    "\n",
    "**Assumptions:**\n",
    "- $n$ > 30\n",
    "\n",
    "---\n"
   ]
  },
  {
   "cell_type": "markdown",
   "id": "a175d6b5-b8bf-4e9b-ae86-1aa122fad7de",
   "metadata": {},
   "source": [
    "**Problem**: An ad's conversion rate is expressed as 0.125. However, when revenues are checked, the values do not match, so they want us to verify this value. They have collected a sample of 500 people who clicked on the ad, and only 40 of them logged into the system and made a purchase. The conversion rate in this sample is 40/500 = 0.08. Therefore, please verify the stated conversion rate (0.125)."
   ]
  },
  {
   "cell_type": "markdown",
   "id": "7b3201b6-d978-4282-84e6-257b4ff18727",
   "metadata": {},
   "source": [
    "#### » Import \"statsmodels\" to use \"proportion_ztest\""
   ]
  },
  {
   "cell_type": "code",
   "execution_count": 4,
   "id": "cde0370e-ddd5-4394-ad68-a64a2f69561d",
   "metadata": {},
   "outputs": [],
   "source": [
    "from statsmodels.stats.proportion import proportions_ztest"
   ]
  },
  {
   "cell_type": "markdown",
   "id": "88324e8a-5abb-4a26-874c-2936e2ba9c48",
   "metadata": {},
   "source": [
    "#### » Assign the variables of the sample(count and nobs) also the conversion rate value"
   ]
  },
  {
   "cell_type": "code",
   "execution_count": 6,
   "id": "d6a5b3f5-d176-48a2-8307-6dc2603d7ef8",
   "metadata": {},
   "outputs": [],
   "source": [
    "count = 40     # number of people who logged and made purchase of the sample\n",
    "nobs  = 500    # number of people who clicked on the ad\n",
    "val   = 0.125  # conversion rate to test"
   ]
  },
  {
   "cell_type": "markdown",
   "id": "cab9a05d-29c2-46c7-bca8-0c5219e6e8bf",
   "metadata": {},
   "source": [
    "#### » Enter the variables into the function to calculate the test statistic and p-value."
   ]
  },
  {
   "cell_type": "code",
   "execution_count": 7,
   "id": "18620a3f-1174-4760-9d8f-905c24a1955c",
   "metadata": {},
   "outputs": [
    {
     "data": {
      "text/plain": [
       "(np.float64(-3.7090151628513017), np.float64(0.00020806696898459793))"
      ]
     },
     "execution_count": 7,
     "metadata": {},
     "output_type": "execute_result"
    }
   ],
   "source": [
    "proportions_ztest(count,nobs,val)"
   ]
  },
  {
   "cell_type": "markdown",
   "id": "c6e1bbaa-97d1-41ff-9b9f-955d0d9afcda",
   "metadata": {},
   "source": [
    "##### we can say that since p value(0.000208..) < 0.05, hypothesis(val=0.125) is rejected so the conversion rate is different from 0.125"
   ]
  }
 ],
 "metadata": {
  "kernelspec": {
   "display_name": "Python [conda env:base] *",
   "language": "python",
   "name": "conda-base-py"
  },
  "language_info": {
   "codemirror_mode": {
    "name": "ipython",
    "version": 3
   },
   "file_extension": ".py",
   "mimetype": "text/x-python",
   "name": "python",
   "nbconvert_exporter": "python",
   "pygments_lexer": "ipython3",
   "version": "3.13.5"
  }
 },
 "nbformat": 4,
 "nbformat_minor": 5
}

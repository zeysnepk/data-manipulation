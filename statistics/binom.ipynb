{
 "cells": [
  {
   "cell_type": "markdown",
   "id": "1004e648-e935-4e7d-a630-2e77848a4044",
   "metadata": {},
   "source": [
    "# 🧩 Binomial Distribution\n",
    "It is used for the probability of success of n independent experimental outcomes.\n",
    "\n",
    "$P(X = k) = \\binom{n}{k} p^k (1-p)^{n-k}, \\quad \\text{where } k = 0,1,2,\\dots,n$\n",
    "\n",
    "- $n$ : number of trials\n",
    "- $k$ : number of successes\n",
    "- $p$ : probability of success\n",
    "- $X$ : random variable which has binomial distribution  \n",
    "- $\\binom{n}{k}$ : Combination, probability of selecting $k$ successes from $n$ trials\n",
    "\n",
    "**Expected Value (Mean)**\n",
    "\n",
    "$E[X] = n \\cdot p$\n",
    "\n",
    "**Variance**\n",
    "\n",
    "$\\sigma^2 = Var(X) = n \\cdot p \\cdot (1-p)$\n",
    "\n",
    "---"
   ]
  },
  {
   "cell_type": "markdown",
   "id": "8d09de61-76aa-45bd-8b3d-beab3a0d8d8d",
   "metadata": {},
   "source": [
    "**Problem**: There is an advertisement and the click-through rate probability value is 0.01. Based on this value, what are the probabilities of 1,5,10 clicks when 100 people see the advertisement?  "
   ]
  },
  {
   "cell_type": "markdown",
   "id": "c705a1d7-7372-4889-abc1-27c5f307c5a3",
   "metadata": {},
   "source": [
    "#### » Import \"binom\" from \"scipy\" library"
   ]
  },
  {
   "cell_type": "code",
   "execution_count": 1,
   "id": "80062a52-959e-408b-9f1f-fd2ae6c9340a",
   "metadata": {},
   "outputs": [],
   "source": [
    "from scipy.stats import binom"
   ]
  },
  {
   "cell_type": "markdown",
   "id": "fdbf5911-36a8-4635-bb44-ec3c7ee39dbe",
   "metadata": {},
   "source": [
    "#### » Assign n and p values then create binom module with using them"
   ]
  },
  {
   "cell_type": "code",
   "execution_count": 2,
   "id": "130bd2af-5a59-4ce3-a8e7-ab6e404b386d",
   "metadata": {},
   "outputs": [],
   "source": [
    "p = 0.01 # probability of success\n",
    "n = 100 # number of attemps\n",
    "binom = binom(n,p)"
   ]
  },
  {
   "cell_type": "markdown",
   "id": "53682fb0-a5b6-4b2b-b821-29b148e0773e",
   "metadata": {},
   "source": [
    "#### » 1 out of 100 binom probability(x=1)"
   ]
  },
  {
   "cell_type": "code",
   "execution_count": 5,
   "id": "b0ca33a9-a1e2-42bb-8040-20037bea133f",
   "metadata": {},
   "outputs": [
    {
     "data": {
      "text/plain": [
       "np.float64(0.3697296376497269)"
      ]
     },
     "execution_count": 5,
     "metadata": {},
     "output_type": "execute_result"
    }
   ],
   "source": [
    "binom.pmf(1) # pmf -> probability mass function"
   ]
  },
  {
   "cell_type": "markdown",
   "id": "797dc00f-aaaa-42fe-b257-6690dcee435c",
   "metadata": {},
   "source": [
    "#### » 5 out of 100 binom probability(x=5)"
   ]
  },
  {
   "cell_type": "code",
   "execution_count": 7,
   "id": "c8b8f185-bc5c-49ee-b099-1639d5bca6c6",
   "metadata": {},
   "outputs": [
    {
     "data": {
      "text/plain": [
       "np.float64(0.002897787123761479)"
      ]
     },
     "execution_count": 7,
     "metadata": {},
     "output_type": "execute_result"
    }
   ],
   "source": [
    "binom.pmf(5) "
   ]
  },
  {
   "cell_type": "markdown",
   "id": "28f1892b-a85b-42e7-9c22-16e328701522",
   "metadata": {},
   "source": [
    "#### » 10 out of 100 binom probability(x=10)"
   ]
  },
  {
   "cell_type": "code",
   "execution_count": 8,
   "id": "531e51df-5768-4913-99d0-c32e0bc740b3",
   "metadata": {},
   "outputs": [
    {
     "data": {
      "text/plain": [
       "np.float64(7.006035693977195e-08)"
      ]
     },
     "execution_count": 8,
     "metadata": {},
     "output_type": "execute_result"
    }
   ],
   "source": [
    "binom.pmf(10) "
   ]
  }
 ],
 "metadata": {
  "kernelspec": {
   "display_name": "Python [conda env:base] *",
   "language": "python",
   "name": "conda-base-py"
  },
  "language_info": {
   "codemirror_mode": {
    "name": "ipython",
    "version": 3
   },
   "file_extension": ".py",
   "mimetype": "text/x-python",
   "name": "python",
   "nbconvert_exporter": "python",
   "pygments_lexer": "ipython3",
   "version": "3.13.5"
  }
 },
 "nbformat": 4,
 "nbformat_minor": 5
}

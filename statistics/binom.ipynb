{
 "cells": [
  {
   "cell_type": "code",
   "execution_count": 3,
   "id": "80062a52-959e-408b-9f1f-fd2ae6c9340a",
   "metadata": {},
   "outputs": [],
   "source": [
    "import numpy as np\n",
    "from scipy.stats import binom"
   ]
  },
  {
   "cell_type": "code",
   "execution_count": 4,
   "id": "130bd2af-5a59-4ce3-a8e7-ab6e404b386d",
   "metadata": {},
   "outputs": [],
   "source": [
    "p = 0.01 #probability of success\n",
    "n = 100 #number of attemps\n",
    "binom = binom(n,p)"
   ]
  },
  {
   "cell_type": "code",
   "execution_count": 6,
   "id": "b0ca33a9-a1e2-42bb-8040-20037bea133f",
   "metadata": {},
   "outputs": [
    {
     "data": {
      "text/plain": [
       "np.float64(0.3697296376497269)"
      ]
     },
     "execution_count": 6,
     "metadata": {},
     "output_type": "execute_result"
    }
   ],
   "source": [
    "binom.pmf(1) #1 out of 100 binom probability(x=1)"
   ]
  },
  {
   "cell_type": "code",
   "execution_count": 7,
   "id": "c8b8f185-bc5c-49ee-b099-1639d5bca6c6",
   "metadata": {},
   "outputs": [
    {
     "data": {
      "text/plain": [
       "np.float64(0.002897787123761479)"
      ]
     },
     "execution_count": 7,
     "metadata": {},
     "output_type": "execute_result"
    }
   ],
   "source": [
    "binom.pmf(5) #5 out of 100 binom probability(x=5)"
   ]
  },
  {
   "cell_type": "code",
   "execution_count": 8,
   "id": "531e51df-5768-4913-99d0-c32e0bc740b3",
   "metadata": {},
   "outputs": [
    {
     "data": {
      "text/plain": [
       "np.float64(7.006035693977195e-08)"
      ]
     },
     "execution_count": 8,
     "metadata": {},
     "output_type": "execute_result"
    }
   ],
   "source": [
    "binom.pmf(10) #10 out of 100 binom probability(x=10)"
   ]
  },
  {
   "cell_type": "code",
   "execution_count": null,
   "id": "90d1b2b6-5b99-4adf-aedb-cd8be4b01477",
   "metadata": {},
   "outputs": [],
   "source": []
  }
 ],
 "metadata": {
  "kernelspec": {
   "display_name": "Python [conda env:base] *",
   "language": "python",
   "name": "conda-base-py"
  },
  "language_info": {
   "codemirror_mode": {
    "name": "ipython",
    "version": 3
   },
   "file_extension": ".py",
   "mimetype": "text/x-python",
   "name": "python",
   "nbconvert_exporter": "python",
   "pygments_lexer": "ipython3",
   "version": "3.13.5"
  }
 },
 "nbformat": 4,
 "nbformat_minor": 5
}

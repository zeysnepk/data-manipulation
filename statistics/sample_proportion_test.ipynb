{
 "cells": [
  {
   "cell_type": "code",
   "execution_count": 3,
   "id": "cde0370e-ddd5-4394-ad68-a64a2f69561d",
   "metadata": {},
   "outputs": [],
   "source": [
    "from statsmodels.stats.proportion import proportions_ztest"
   ]
  },
  {
   "cell_type": "code",
   "execution_count": 4,
   "id": "d6a5b3f5-d176-48a2-8307-6dc2603d7ef8",
   "metadata": {},
   "outputs": [],
   "source": [
    "count=40\n",
    "nobs=500\n",
    "val=0.125"
   ]
  },
  {
   "cell_type": "code",
   "execution_count": 5,
   "id": "18620a3f-1174-4760-9d8f-905c24a1955c",
   "metadata": {},
   "outputs": [
    {
     "data": {
      "text/plain": [
       "(np.float64(-3.7090151628513017), np.float64(0.00020806696898459793))"
      ]
     },
     "execution_count": 5,
     "metadata": {},
     "output_type": "execute_result"
    }
   ],
   "source": [
    "proportions_ztest(count,nobs,val)"
   ]
  },
  {
   "cell_type": "code",
   "execution_count": null,
   "id": "265a4c69-10dd-40d8-a471-e43ec733c425",
   "metadata": {},
   "outputs": [],
   "source": [
    "#we can say that since p value(0.000208..) < 0.05, hypothesis(val=0.125) is rejected"
   ]
  }
 ],
 "metadata": {
  "kernelspec": {
   "display_name": "Python [conda env:base] *",
   "language": "python",
   "name": "conda-base-py"
  },
  "language_info": {
   "codemirror_mode": {
    "name": "ipython",
    "version": 3
   },
   "file_extension": ".py",
   "mimetype": "text/x-python",
   "name": "python",
   "nbconvert_exporter": "python",
   "pygments_lexer": "ipython3",
   "version": "3.13.5"
  }
 },
 "nbformat": 4,
 "nbformat_minor": 5
}
